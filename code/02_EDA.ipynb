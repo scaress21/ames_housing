{
 "cells": [
  {
   "cell_type": "markdown",
   "metadata": {},
   "source": [
    "# Ames Housing Data and Kaggle Challenge\n",
    "\n",
    "### Part 2: EDA\n",
    "\n"
   ]
  },
  {
   "cell_type": "markdown",
   "metadata": {},
   "source": [
    "#### Outside Research\n",
    "To gain a better understanding about the housing market and the city of Ames, I utilized the resources below:\n",
    "<br><br>[Wikipedia](https://en.wikipedia.org/wiki/Ames,_Iowa)\n",
    "- Ames, Iowa is home to Iowa State University. \n",
    "- The university makes up about half of the city's population and is the biggest employer. \n",
    "- The city has received accolades such as CNN Money's \"Best Places To Live\" and Bloomberg's \"Cities That Have Done the Best Since the Recession\"\n",
    "\n",
    "<br>[Maximum Exposure Real Estate](https://www.maxrealestateexposure.com/appraisers-look-real-estate-appraisal/)\n",
    "- This article highlights some the factors appraisers take into account when evaluating a house. Some factors include the condition of the exterior and interior, the size, and any improvements.\n",
    "\n",
    "<br>[Ames Data Documentation](http://jse.amstat.org/v19n3/decock/DataDocumentation.txt)\n",
    "- This is the data documentation that accompanies this dataset. It goes through each feature and gives an explanation of the value."
   ]
  },
  {
   "cell_type": "markdown",
   "metadata": {},
   "source": [
    "Now that I have a stronger background in housing data and a better understanding of each datatype in this set, it's time to do some exploratory analysis of the data."
   ]
  },
  {
   "cell_type": "code",
   "execution_count": 1,
   "metadata": {},
   "outputs": [],
   "source": [
    "import numpy as np\n",
    "import pandas as pd\n",
    "import matplotlib.pyplot as plt\n",
    "import seaborn as sns"
   ]
  },
  {
   "cell_type": "markdown",
   "metadata": {},
   "source": [
    "## Loading my cleaned CSV"
   ]
  },
  {
   "cell_type": "code",
   "execution_count": 2,
   "metadata": {},
   "outputs": [],
   "source": [
    "ames = pd.read_csv('../datasets/ames_housing_cleaned.csv')"
   ]
  },
  {
   "cell_type": "code",
   "execution_count": 3,
   "metadata": {},
   "outputs": [
    {
     "data": {
      "text/html": [
       "<div>\n",
       "<style scoped>\n",
       "    .dataframe tbody tr th:only-of-type {\n",
       "        vertical-align: middle;\n",
       "    }\n",
       "\n",
       "    .dataframe tbody tr th {\n",
       "        vertical-align: top;\n",
       "    }\n",
       "\n",
       "    .dataframe thead th {\n",
       "        text-align: right;\n",
       "    }\n",
       "</style>\n",
       "<table border=\"1\" class=\"dataframe\">\n",
       "  <thead>\n",
       "    <tr style=\"text-align: right;\">\n",
       "      <th></th>\n",
       "      <th>id</th>\n",
       "      <th>pid</th>\n",
       "      <th>ms_subclass</th>\n",
       "      <th>ms_zoning</th>\n",
       "      <th>lot_area</th>\n",
       "      <th>street</th>\n",
       "      <th>lot_shape</th>\n",
       "      <th>land_contour</th>\n",
       "      <th>utilities</th>\n",
       "      <th>lot_config</th>\n",
       "      <th>...</th>\n",
       "      <th>open_porch_sf</th>\n",
       "      <th>enclosed_porch</th>\n",
       "      <th>3ssn_porch</th>\n",
       "      <th>screen_porch</th>\n",
       "      <th>pool_area</th>\n",
       "      <th>misc_val</th>\n",
       "      <th>mo_sold</th>\n",
       "      <th>yr_sold</th>\n",
       "      <th>sale_type</th>\n",
       "      <th>saleprice</th>\n",
       "    </tr>\n",
       "  </thead>\n",
       "  <tbody>\n",
       "    <tr>\n",
       "      <th>0</th>\n",
       "      <td>109</td>\n",
       "      <td>533352170</td>\n",
       "      <td>60</td>\n",
       "      <td>RL</td>\n",
       "      <td>13517</td>\n",
       "      <td>Pave</td>\n",
       "      <td>IR1</td>\n",
       "      <td>Lvl</td>\n",
       "      <td>AllPub</td>\n",
       "      <td>CulDSac</td>\n",
       "      <td>...</td>\n",
       "      <td>44</td>\n",
       "      <td>0</td>\n",
       "      <td>0</td>\n",
       "      <td>0</td>\n",
       "      <td>0</td>\n",
       "      <td>0</td>\n",
       "      <td>3</td>\n",
       "      <td>2010</td>\n",
       "      <td>WD</td>\n",
       "      <td>130500</td>\n",
       "    </tr>\n",
       "    <tr>\n",
       "      <th>1</th>\n",
       "      <td>544</td>\n",
       "      <td>531379050</td>\n",
       "      <td>60</td>\n",
       "      <td>RL</td>\n",
       "      <td>11492</td>\n",
       "      <td>Pave</td>\n",
       "      <td>IR1</td>\n",
       "      <td>Lvl</td>\n",
       "      <td>AllPub</td>\n",
       "      <td>CulDSac</td>\n",
       "      <td>...</td>\n",
       "      <td>74</td>\n",
       "      <td>0</td>\n",
       "      <td>0</td>\n",
       "      <td>0</td>\n",
       "      <td>0</td>\n",
       "      <td>0</td>\n",
       "      <td>4</td>\n",
       "      <td>2009</td>\n",
       "      <td>WD</td>\n",
       "      <td>220000</td>\n",
       "    </tr>\n",
       "    <tr>\n",
       "      <th>2</th>\n",
       "      <td>153</td>\n",
       "      <td>535304180</td>\n",
       "      <td>20</td>\n",
       "      <td>RL</td>\n",
       "      <td>7922</td>\n",
       "      <td>Pave</td>\n",
       "      <td>Reg</td>\n",
       "      <td>Lvl</td>\n",
       "      <td>AllPub</td>\n",
       "      <td>Inside</td>\n",
       "      <td>...</td>\n",
       "      <td>52</td>\n",
       "      <td>0</td>\n",
       "      <td>0</td>\n",
       "      <td>0</td>\n",
       "      <td>0</td>\n",
       "      <td>0</td>\n",
       "      <td>1</td>\n",
       "      <td>2010</td>\n",
       "      <td>WD</td>\n",
       "      <td>109000</td>\n",
       "    </tr>\n",
       "    <tr>\n",
       "      <th>3</th>\n",
       "      <td>318</td>\n",
       "      <td>916386060</td>\n",
       "      <td>60</td>\n",
       "      <td>RL</td>\n",
       "      <td>9802</td>\n",
       "      <td>Pave</td>\n",
       "      <td>Reg</td>\n",
       "      <td>Lvl</td>\n",
       "      <td>AllPub</td>\n",
       "      <td>Inside</td>\n",
       "      <td>...</td>\n",
       "      <td>0</td>\n",
       "      <td>0</td>\n",
       "      <td>0</td>\n",
       "      <td>0</td>\n",
       "      <td>0</td>\n",
       "      <td>0</td>\n",
       "      <td>4</td>\n",
       "      <td>2010</td>\n",
       "      <td>WD</td>\n",
       "      <td>174000</td>\n",
       "    </tr>\n",
       "    <tr>\n",
       "      <th>4</th>\n",
       "      <td>255</td>\n",
       "      <td>906425045</td>\n",
       "      <td>50</td>\n",
       "      <td>RL</td>\n",
       "      <td>14235</td>\n",
       "      <td>Pave</td>\n",
       "      <td>IR1</td>\n",
       "      <td>Lvl</td>\n",
       "      <td>AllPub</td>\n",
       "      <td>Inside</td>\n",
       "      <td>...</td>\n",
       "      <td>59</td>\n",
       "      <td>0</td>\n",
       "      <td>0</td>\n",
       "      <td>0</td>\n",
       "      <td>0</td>\n",
       "      <td>0</td>\n",
       "      <td>3</td>\n",
       "      <td>2010</td>\n",
       "      <td>WD</td>\n",
       "      <td>138500</td>\n",
       "    </tr>\n",
       "  </tbody>\n",
       "</table>\n",
       "<p>5 rows × 70 columns</p>\n",
       "</div>"
      ],
      "text/plain": [
       "    id        pid  ms_subclass ms_zoning  lot_area street lot_shape  \\\n",
       "0  109  533352170           60        RL     13517   Pave       IR1   \n",
       "1  544  531379050           60        RL     11492   Pave       IR1   \n",
       "2  153  535304180           20        RL      7922   Pave       Reg   \n",
       "3  318  916386060           60        RL      9802   Pave       Reg   \n",
       "4  255  906425045           50        RL     14235   Pave       IR1   \n",
       "\n",
       "  land_contour utilities lot_config  ... open_porch_sf enclosed_porch  \\\n",
       "0          Lvl    AllPub    CulDSac  ...            44              0   \n",
       "1          Lvl    AllPub    CulDSac  ...            74              0   \n",
       "2          Lvl    AllPub     Inside  ...            52              0   \n",
       "3          Lvl    AllPub     Inside  ...             0              0   \n",
       "4          Lvl    AllPub     Inside  ...            59              0   \n",
       "\n",
       "  3ssn_porch screen_porch pool_area misc_val  mo_sold  yr_sold  sale_type  \\\n",
       "0          0            0         0        0        3     2010        WD    \n",
       "1          0            0         0        0        4     2009        WD    \n",
       "2          0            0         0        0        1     2010        WD    \n",
       "3          0            0         0        0        4     2010        WD    \n",
       "4          0            0         0        0        3     2010        WD    \n",
       "\n",
       "   saleprice  \n",
       "0     130500  \n",
       "1     220000  \n",
       "2     109000  \n",
       "3     174000  \n",
       "4     138500  \n",
       "\n",
       "[5 rows x 70 columns]"
      ]
     },
     "execution_count": 3,
     "metadata": {},
     "output_type": "execute_result"
    }
   ],
   "source": [
    "ames.head()"
   ]
  },
  {
   "cell_type": "code",
   "execution_count": 4,
   "metadata": {},
   "outputs": [
    {
     "data": {
      "text/plain": [
       "(1969, 70)"
      ]
     },
     "execution_count": 4,
     "metadata": {},
     "output_type": "execute_result"
    }
   ],
   "source": [
    "ames.shape"
   ]
  },
  {
   "cell_type": "code",
   "execution_count": 5,
   "metadata": {},
   "outputs": [
    {
     "data": {
      "text/html": [
       "<div>\n",
       "<style scoped>\n",
       "    .dataframe tbody tr th:only-of-type {\n",
       "        vertical-align: middle;\n",
       "    }\n",
       "\n",
       "    .dataframe tbody tr th {\n",
       "        vertical-align: top;\n",
       "    }\n",
       "\n",
       "    .dataframe thead th {\n",
       "        text-align: right;\n",
       "    }\n",
       "</style>\n",
       "<table border=\"1\" class=\"dataframe\">\n",
       "  <thead>\n",
       "    <tr style=\"text-align: right;\">\n",
       "      <th></th>\n",
       "      <th>id</th>\n",
       "      <th>pid</th>\n",
       "      <th>ms_subclass</th>\n",
       "      <th>lot_area</th>\n",
       "      <th>overall_qual</th>\n",
       "      <th>overall_cond</th>\n",
       "      <th>year_built</th>\n",
       "      <th>year_remod/add</th>\n",
       "      <th>mas_vnr_area</th>\n",
       "      <th>bsmtfin_sf_1</th>\n",
       "      <th>...</th>\n",
       "      <th>wood_deck_sf</th>\n",
       "      <th>open_porch_sf</th>\n",
       "      <th>enclosed_porch</th>\n",
       "      <th>3ssn_porch</th>\n",
       "      <th>screen_porch</th>\n",
       "      <th>pool_area</th>\n",
       "      <th>misc_val</th>\n",
       "      <th>mo_sold</th>\n",
       "      <th>yr_sold</th>\n",
       "      <th>saleprice</th>\n",
       "    </tr>\n",
       "  </thead>\n",
       "  <tbody>\n",
       "    <tr>\n",
       "      <th>count</th>\n",
       "      <td>1969.000000</td>\n",
       "      <td>1.969000e+03</td>\n",
       "      <td>1969.000000</td>\n",
       "      <td>1969.000000</td>\n",
       "      <td>1969.000000</td>\n",
       "      <td>1969.000000</td>\n",
       "      <td>1969.000000</td>\n",
       "      <td>1969.000000</td>\n",
       "      <td>1969.000000</td>\n",
       "      <td>1969.000000</td>\n",
       "      <td>...</td>\n",
       "      <td>1969.000000</td>\n",
       "      <td>1969.000000</td>\n",
       "      <td>1969.000000</td>\n",
       "      <td>1969.000000</td>\n",
       "      <td>1969.000000</td>\n",
       "      <td>1969.000000</td>\n",
       "      <td>1969.000000</td>\n",
       "      <td>1969.000000</td>\n",
       "      <td>1969.000000</td>\n",
       "      <td>1969.000000</td>\n",
       "    </tr>\n",
       "    <tr>\n",
       "      <th>mean</th>\n",
       "      <td>1472.252920</td>\n",
       "      <td>7.125659e+08</td>\n",
       "      <td>57.079736</td>\n",
       "      <td>10005.619604</td>\n",
       "      <td>6.154901</td>\n",
       "      <td>5.583545</td>\n",
       "      <td>1971.814627</td>\n",
       "      <td>1984.434738</td>\n",
       "      <td>101.750127</td>\n",
       "      <td>454.235145</td>\n",
       "      <td>...</td>\n",
       "      <td>95.962925</td>\n",
       "      <td>47.868969</td>\n",
       "      <td>22.295582</td>\n",
       "      <td>2.699340</td>\n",
       "      <td>16.864906</td>\n",
       "      <td>2.212798</td>\n",
       "      <td>51.385983</td>\n",
       "      <td>6.212291</td>\n",
       "      <td>2007.776028</td>\n",
       "      <td>182892.861859</td>\n",
       "    </tr>\n",
       "    <tr>\n",
       "      <th>std</th>\n",
       "      <td>844.676789</td>\n",
       "      <td>1.886729e+08</td>\n",
       "      <td>43.009018</td>\n",
       "      <td>6710.225845</td>\n",
       "      <td>1.385860</td>\n",
       "      <td>1.105352</td>\n",
       "      <td>30.227788</td>\n",
       "      <td>20.860671</td>\n",
       "      <td>176.432970</td>\n",
       "      <td>461.013988</td>\n",
       "      <td>...</td>\n",
       "      <td>129.593082</td>\n",
       "      <td>66.291746</td>\n",
       "      <td>59.698778</td>\n",
       "      <td>25.744208</td>\n",
       "      <td>57.797094</td>\n",
       "      <td>36.444159</td>\n",
       "      <td>579.720224</td>\n",
       "      <td>2.747621</td>\n",
       "      <td>1.313282</td>\n",
       "      <td>78938.334289</td>\n",
       "    </tr>\n",
       "    <tr>\n",
       "      <th>min</th>\n",
       "      <td>1.000000</td>\n",
       "      <td>5.263011e+08</td>\n",
       "      <td>20.000000</td>\n",
       "      <td>1300.000000</td>\n",
       "      <td>1.000000</td>\n",
       "      <td>1.000000</td>\n",
       "      <td>1872.000000</td>\n",
       "      <td>1950.000000</td>\n",
       "      <td>0.000000</td>\n",
       "      <td>0.000000</td>\n",
       "      <td>...</td>\n",
       "      <td>0.000000</td>\n",
       "      <td>0.000000</td>\n",
       "      <td>0.000000</td>\n",
       "      <td>0.000000</td>\n",
       "      <td>0.000000</td>\n",
       "      <td>0.000000</td>\n",
       "      <td>0.000000</td>\n",
       "      <td>1.000000</td>\n",
       "      <td>2006.000000</td>\n",
       "      <td>12789.000000</td>\n",
       "    </tr>\n",
       "    <tr>\n",
       "      <th>25%</th>\n",
       "      <td>747.000000</td>\n",
       "      <td>5.284562e+08</td>\n",
       "      <td>20.000000</td>\n",
       "      <td>7500.000000</td>\n",
       "      <td>5.000000</td>\n",
       "      <td>5.000000</td>\n",
       "      <td>1954.000000</td>\n",
       "      <td>1965.000000</td>\n",
       "      <td>0.000000</td>\n",
       "      <td>0.000000</td>\n",
       "      <td>...</td>\n",
       "      <td>0.000000</td>\n",
       "      <td>0.000000</td>\n",
       "      <td>0.000000</td>\n",
       "      <td>0.000000</td>\n",
       "      <td>0.000000</td>\n",
       "      <td>0.000000</td>\n",
       "      <td>0.000000</td>\n",
       "      <td>4.000000</td>\n",
       "      <td>2007.000000</td>\n",
       "      <td>130000.000000</td>\n",
       "    </tr>\n",
       "    <tr>\n",
       "      <th>50%</th>\n",
       "      <td>1481.000000</td>\n",
       "      <td>5.354521e+08</td>\n",
       "      <td>50.000000</td>\n",
       "      <td>9405.000000</td>\n",
       "      <td>6.000000</td>\n",
       "      <td>5.000000</td>\n",
       "      <td>1975.000000</td>\n",
       "      <td>1993.000000</td>\n",
       "      <td>0.000000</td>\n",
       "      <td>384.000000</td>\n",
       "      <td>...</td>\n",
       "      <td>0.000000</td>\n",
       "      <td>28.000000</td>\n",
       "      <td>0.000000</td>\n",
       "      <td>0.000000</td>\n",
       "      <td>0.000000</td>\n",
       "      <td>0.000000</td>\n",
       "      <td>0.000000</td>\n",
       "      <td>6.000000</td>\n",
       "      <td>2008.000000</td>\n",
       "      <td>163500.000000</td>\n",
       "    </tr>\n",
       "    <tr>\n",
       "      <th>75%</th>\n",
       "      <td>2194.000000</td>\n",
       "      <td>9.071751e+08</td>\n",
       "      <td>70.000000</td>\n",
       "      <td>11492.000000</td>\n",
       "      <td>7.000000</td>\n",
       "      <td>6.000000</td>\n",
       "      <td>2001.000000</td>\n",
       "      <td>2004.000000</td>\n",
       "      <td>164.000000</td>\n",
       "      <td>741.000000</td>\n",
       "      <td>...</td>\n",
       "      <td>168.000000</td>\n",
       "      <td>70.000000</td>\n",
       "      <td>0.000000</td>\n",
       "      <td>0.000000</td>\n",
       "      <td>0.000000</td>\n",
       "      <td>0.000000</td>\n",
       "      <td>0.000000</td>\n",
       "      <td>8.000000</td>\n",
       "      <td>2009.000000</td>\n",
       "      <td>214900.000000</td>\n",
       "    </tr>\n",
       "    <tr>\n",
       "      <th>max</th>\n",
       "      <td>2930.000000</td>\n",
       "      <td>9.241520e+08</td>\n",
       "      <td>190.000000</td>\n",
       "      <td>159000.000000</td>\n",
       "      <td>10.000000</td>\n",
       "      <td>9.000000</td>\n",
       "      <td>2010.000000</td>\n",
       "      <td>2010.000000</td>\n",
       "      <td>1600.000000</td>\n",
       "      <td>5644.000000</td>\n",
       "      <td>...</td>\n",
       "      <td>1424.000000</td>\n",
       "      <td>547.000000</td>\n",
       "      <td>432.000000</td>\n",
       "      <td>508.000000</td>\n",
       "      <td>490.000000</td>\n",
       "      <td>800.000000</td>\n",
       "      <td>17000.000000</td>\n",
       "      <td>12.000000</td>\n",
       "      <td>2010.000000</td>\n",
       "      <td>611657.000000</td>\n",
       "    </tr>\n",
       "  </tbody>\n",
       "</table>\n",
       "<p>8 rows × 37 columns</p>\n",
       "</div>"
      ],
      "text/plain": [
       "                id           pid  ms_subclass       lot_area  overall_qual  \\\n",
       "count  1969.000000  1.969000e+03  1969.000000    1969.000000   1969.000000   \n",
       "mean   1472.252920  7.125659e+08    57.079736   10005.619604      6.154901   \n",
       "std     844.676789  1.886729e+08    43.009018    6710.225845      1.385860   \n",
       "min       1.000000  5.263011e+08    20.000000    1300.000000      1.000000   \n",
       "25%     747.000000  5.284562e+08    20.000000    7500.000000      5.000000   \n",
       "50%    1481.000000  5.354521e+08    50.000000    9405.000000      6.000000   \n",
       "75%    2194.000000  9.071751e+08    70.000000   11492.000000      7.000000   \n",
       "max    2930.000000  9.241520e+08   190.000000  159000.000000     10.000000   \n",
       "\n",
       "       overall_cond   year_built  year_remod/add  mas_vnr_area  bsmtfin_sf_1  \\\n",
       "count   1969.000000  1969.000000     1969.000000   1969.000000   1969.000000   \n",
       "mean       5.583545  1971.814627     1984.434738    101.750127    454.235145   \n",
       "std        1.105352    30.227788       20.860671    176.432970    461.013988   \n",
       "min        1.000000  1872.000000     1950.000000      0.000000      0.000000   \n",
       "25%        5.000000  1954.000000     1965.000000      0.000000      0.000000   \n",
       "50%        5.000000  1975.000000     1993.000000      0.000000    384.000000   \n",
       "75%        6.000000  2001.000000     2004.000000    164.000000    741.000000   \n",
       "max        9.000000  2010.000000     2010.000000   1600.000000   5644.000000   \n",
       "\n",
       "       ...  wood_deck_sf  open_porch_sf  enclosed_porch   3ssn_porch  \\\n",
       "count  ...   1969.000000    1969.000000     1969.000000  1969.000000   \n",
       "mean   ...     95.962925      47.868969       22.295582     2.699340   \n",
       "std    ...    129.593082      66.291746       59.698778    25.744208   \n",
       "min    ...      0.000000       0.000000        0.000000     0.000000   \n",
       "25%    ...      0.000000       0.000000        0.000000     0.000000   \n",
       "50%    ...      0.000000      28.000000        0.000000     0.000000   \n",
       "75%    ...    168.000000      70.000000        0.000000     0.000000   \n",
       "max    ...   1424.000000     547.000000      432.000000   508.000000   \n",
       "\n",
       "       screen_porch    pool_area      misc_val      mo_sold      yr_sold  \\\n",
       "count   1969.000000  1969.000000   1969.000000  1969.000000  1969.000000   \n",
       "mean      16.864906     2.212798     51.385983     6.212291  2007.776028   \n",
       "std       57.797094    36.444159    579.720224     2.747621     1.313282   \n",
       "min        0.000000     0.000000      0.000000     1.000000  2006.000000   \n",
       "25%        0.000000     0.000000      0.000000     4.000000  2007.000000   \n",
       "50%        0.000000     0.000000      0.000000     6.000000  2008.000000   \n",
       "75%        0.000000     0.000000      0.000000     8.000000  2009.000000   \n",
       "max      490.000000   800.000000  17000.000000    12.000000  2010.000000   \n",
       "\n",
       "           saleprice  \n",
       "count    1969.000000  \n",
       "mean   182892.861859  \n",
       "std     78938.334289  \n",
       "min     12789.000000  \n",
       "25%    130000.000000  \n",
       "50%    163500.000000  \n",
       "75%    214900.000000  \n",
       "max    611657.000000  \n",
       "\n",
       "[8 rows x 37 columns]"
      ]
     },
     "execution_count": 5,
     "metadata": {},
     "output_type": "execute_result"
    }
   ],
   "source": [
    "ames.describe()"
   ]
  },
  {
   "cell_type": "markdown",
   "metadata": {},
   "source": [
    "Making sure I don't have any missing values:"
   ]
  },
  {
   "cell_type": "code",
   "execution_count": 6,
   "metadata": {},
   "outputs": [
    {
     "data": {
      "text/plain": [
       "0"
      ]
     },
     "execution_count": 6,
     "metadata": {},
     "output_type": "execute_result"
    }
   ],
   "source": [
    "sum(ames.isna().sum())"
   ]
  },
  {
   "cell_type": "markdown",
   "metadata": {},
   "source": [
    "Now that everything has imported correctly, it's time to do some prelim analysis on the data."
   ]
  },
  {
   "cell_type": "markdown",
   "metadata": {},
   "source": [
    "## EDA - Heatmap"
   ]
  },
  {
   "cell_type": "markdown",
   "metadata": {},
   "source": [
    "First, I'll create a correlation matrix and heatmap to see what relationships are particularly strong."
   ]
  },
  {
   "cell_type": "code",
   "execution_count": 7,
   "metadata": {},
   "outputs": [],
   "source": [
    "corr_matrix = ames.corr().sort_values('saleprice')"
   ]
  },
  {
   "cell_type": "code",
   "execution_count": 8,
   "metadata": {},
   "outputs": [
    {
     "data": {
      "text/plain": [
       "pid               -0.248731\n",
       "enclosed_porch    -0.138529\n",
       "overall_cond      -0.114526\n",
       "kitchen_abvgr     -0.091696\n",
       "ms_subclass       -0.087351\n",
       "id                -0.055485\n",
       "bsmt_half_bath    -0.051117\n",
       "low_qual_fin_sf   -0.041789\n",
       "yr_sold           -0.009412\n",
       "misc_val          -0.003469\n",
       "bsmtfin_sf_2       0.010424\n",
       "mo_sold            0.023693\n",
       "pool_area          0.029059\n",
       "3ssn_porch         0.048058\n",
       "bedroom_abvgr      0.129777\n",
       "screen_porch       0.138853\n",
       "bsmt_unf_sf        0.162273\n",
       "2nd_flr_sf         0.245407\n",
       "bsmt_full_bath     0.269767\n",
       "half_bath          0.272200\n",
       "lot_area           0.308461\n",
       "open_porch_sf      0.320772\n",
       "wood_deck_sf       0.322905\n",
       "bsmtfin_sf_1       0.410969\n",
       "fireplaces         0.463573\n",
       "mas_vnr_area       0.510360\n",
       "totrms_abvgrd      0.513530\n",
       "year_remod/add     0.541540\n",
       "full_bath          0.548034\n",
       "year_built         0.567785\n",
       "total_bsmt_sf      0.629267\n",
       "1st_flr_sf         0.630052\n",
       "garage_area        0.651016\n",
       "garage_cars        0.651497\n",
       "gr_liv_area        0.700919\n",
       "overall_qual       0.797646\n",
       "saleprice          1.000000\n",
       "Name: saleprice, dtype: float64"
      ]
     },
     "execution_count": 8,
     "metadata": {},
     "output_type": "execute_result"
    }
   ],
   "source": [
    "corr_matrix['saleprice']"
   ]
  },
  {
   "cell_type": "markdown",
   "metadata": {},
   "source": [
    "Given the correlations above, I'm going to create a heatmap that only looks at variables that have above .5 or below -.5 correlation with the price of the home."
   ]
  },
  {
   "cell_type": "code",
   "execution_count": 9,
   "metadata": {},
   "outputs": [],
   "source": [
    "sig_corr = (corr_matrix['saleprice'] > .5) |(corr_matrix['saleprice'] < -.5)"
   ]
  },
  {
   "cell_type": "code",
   "execution_count": 10,
   "metadata": {},
   "outputs": [
    {
     "data": {
      "text/plain": [
       "pid                False\n",
       "enclosed_porch     False\n",
       "overall_cond       False\n",
       "kitchen_abvgr      False\n",
       "ms_subclass        False\n",
       "id                 False\n",
       "bsmt_half_bath     False\n",
       "low_qual_fin_sf    False\n",
       "yr_sold            False\n",
       "misc_val           False\n",
       "bsmtfin_sf_2       False\n",
       "mo_sold            False\n",
       "pool_area          False\n",
       "3ssn_porch         False\n",
       "bedroom_abvgr      False\n",
       "screen_porch       False\n",
       "bsmt_unf_sf        False\n",
       "2nd_flr_sf         False\n",
       "bsmt_full_bath     False\n",
       "half_bath          False\n",
       "lot_area           False\n",
       "open_porch_sf      False\n",
       "wood_deck_sf       False\n",
       "bsmtfin_sf_1       False\n",
       "fireplaces         False\n",
       "mas_vnr_area        True\n",
       "totrms_abvgrd       True\n",
       "year_remod/add      True\n",
       "full_bath           True\n",
       "year_built          True\n",
       "total_bsmt_sf       True\n",
       "1st_flr_sf          True\n",
       "garage_area         True\n",
       "garage_cars         True\n",
       "gr_liv_area         True\n",
       "overall_qual        True\n",
       "saleprice           True\n",
       "Name: saleprice, dtype: bool"
      ]
     },
     "execution_count": 10,
     "metadata": {},
     "output_type": "execute_result"
    }
   ],
   "source": [
    "sig_corr"
   ]
  },
  {
   "cell_type": "code",
   "execution_count": 11,
   "metadata": {},
   "outputs": [
    {
     "data": {
      "text/html": [
       "<div>\n",
       "<style scoped>\n",
       "    .dataframe tbody tr th:only-of-type {\n",
       "        vertical-align: middle;\n",
       "    }\n",
       "\n",
       "    .dataframe tbody tr th {\n",
       "        vertical-align: top;\n",
       "    }\n",
       "\n",
       "    .dataframe thead th {\n",
       "        text-align: right;\n",
       "    }\n",
       "</style>\n",
       "<table border=\"1\" class=\"dataframe\">\n",
       "  <thead>\n",
       "    <tr style=\"text-align: right;\">\n",
       "      <th></th>\n",
       "      <th>id</th>\n",
       "      <th>pid</th>\n",
       "      <th>ms_subclass</th>\n",
       "      <th>lot_area</th>\n",
       "      <th>overall_qual</th>\n",
       "      <th>overall_cond</th>\n",
       "      <th>year_built</th>\n",
       "      <th>year_remod/add</th>\n",
       "      <th>mas_vnr_area</th>\n",
       "      <th>bsmtfin_sf_1</th>\n",
       "      <th>...</th>\n",
       "      <th>wood_deck_sf</th>\n",
       "      <th>open_porch_sf</th>\n",
       "      <th>enclosed_porch</th>\n",
       "      <th>3ssn_porch</th>\n",
       "      <th>screen_porch</th>\n",
       "      <th>pool_area</th>\n",
       "      <th>misc_val</th>\n",
       "      <th>mo_sold</th>\n",
       "      <th>yr_sold</th>\n",
       "      <th>saleprice</th>\n",
       "    </tr>\n",
       "  </thead>\n",
       "  <tbody>\n",
       "    <tr>\n",
       "      <th>mas_vnr_area</th>\n",
       "      <td>-0.035078</td>\n",
       "      <td>-0.246443</td>\n",
       "      <td>-0.003411</td>\n",
       "      <td>0.178884</td>\n",
       "      <td>0.437791</td>\n",
       "      <td>-0.143702</td>\n",
       "      <td>0.325600</td>\n",
       "      <td>0.203938</td>\n",
       "      <td>1.000000</td>\n",
       "      <td>0.316267</td>\n",
       "      <td>...</td>\n",
       "      <td>0.160167</td>\n",
       "      <td>0.162344</td>\n",
       "      <td>-0.109864</td>\n",
       "      <td>0.010016</td>\n",
       "      <td>0.084163</td>\n",
       "      <td>0.016943</td>\n",
       "      <td>0.081746</td>\n",
       "      <td>-0.002418</td>\n",
       "      <td>-0.018803</td>\n",
       "      <td>0.510360</td>\n",
       "    </tr>\n",
       "    <tr>\n",
       "      <th>totrms_abvgrd</th>\n",
       "      <td>-0.003713</td>\n",
       "      <td>-0.092947</td>\n",
       "      <td>0.025550</td>\n",
       "      <td>0.234203</td>\n",
       "      <td>0.395007</td>\n",
       "      <td>-0.100488</td>\n",
       "      <td>0.135342</td>\n",
       "      <td>0.202478</td>\n",
       "      <td>0.279911</td>\n",
       "      <td>0.058197</td>\n",
       "      <td>...</td>\n",
       "      <td>0.180864</td>\n",
       "      <td>0.225786</td>\n",
       "      <td>0.004516</td>\n",
       "      <td>-0.008295</td>\n",
       "      <td>0.047779</td>\n",
       "      <td>0.065710</td>\n",
       "      <td>0.102455</td>\n",
       "      <td>0.058179</td>\n",
       "      <td>-0.029339</td>\n",
       "      <td>0.513530</td>\n",
       "    </tr>\n",
       "    <tr>\n",
       "      <th>year_remod/add</th>\n",
       "      <td>-0.085820</td>\n",
       "      <td>-0.169791</td>\n",
       "      <td>0.046141</td>\n",
       "      <td>0.057871</td>\n",
       "      <td>0.572608</td>\n",
       "      <td>0.026234</td>\n",
       "      <td>0.629406</td>\n",
       "      <td>1.000000</td>\n",
       "      <td>0.203938</td>\n",
       "      <td>0.152865</td>\n",
       "      <td>...</td>\n",
       "      <td>0.215322</td>\n",
       "      <td>0.258408</td>\n",
       "      <td>-0.242618</td>\n",
       "      <td>0.040376</td>\n",
       "      <td>-0.045232</td>\n",
       "      <td>-0.013392</td>\n",
       "      <td>0.003441</td>\n",
       "      <td>0.006084</td>\n",
       "      <td>0.039891</td>\n",
       "      <td>0.541540</td>\n",
       "    </tr>\n",
       "    <tr>\n",
       "      <th>full_bath</th>\n",
       "      <td>-0.058867</td>\n",
       "      <td>-0.178200</td>\n",
       "      <td>0.133802</td>\n",
       "      <td>0.127133</td>\n",
       "      <td>0.536383</td>\n",
       "      <td>-0.219353</td>\n",
       "      <td>0.481858</td>\n",
       "      <td>0.480964</td>\n",
       "      <td>0.242166</td>\n",
       "      <td>0.080791</td>\n",
       "      <td>...</td>\n",
       "      <td>0.185935</td>\n",
       "      <td>0.247656</td>\n",
       "      <td>-0.129908</td>\n",
       "      <td>0.029815</td>\n",
       "      <td>-0.005309</td>\n",
       "      <td>0.020319</td>\n",
       "      <td>0.002296</td>\n",
       "      <td>0.045453</td>\n",
       "      <td>0.006188</td>\n",
       "      <td>0.548034</td>\n",
       "    </tr>\n",
       "    <tr>\n",
       "      <th>year_built</th>\n",
       "      <td>-0.065617</td>\n",
       "      <td>-0.344994</td>\n",
       "      <td>0.039544</td>\n",
       "      <td>0.047161</td>\n",
       "      <td>0.600656</td>\n",
       "      <td>-0.383573</td>\n",
       "      <td>1.000000</td>\n",
       "      <td>0.629406</td>\n",
       "      <td>0.325600</td>\n",
       "      <td>0.272391</td>\n",
       "      <td>...</td>\n",
       "      <td>0.219397</td>\n",
       "      <td>0.205048</td>\n",
       "      <td>-0.384187</td>\n",
       "      <td>0.016046</td>\n",
       "      <td>-0.036636</td>\n",
       "      <td>0.008648</td>\n",
       "      <td>0.005013</td>\n",
       "      <td>-0.016797</td>\n",
       "      <td>-0.001264</td>\n",
       "      <td>0.567785</td>\n",
       "    </tr>\n",
       "    <tr>\n",
       "      <th>total_bsmt_sf</th>\n",
       "      <td>-0.038580</td>\n",
       "      <td>-0.193507</td>\n",
       "      <td>-0.240968</td>\n",
       "      <td>0.327102</td>\n",
       "      <td>0.516366</td>\n",
       "      <td>-0.206005</td>\n",
       "      <td>0.412614</td>\n",
       "      <td>0.282247</td>\n",
       "      <td>0.415140</td>\n",
       "      <td>0.525891</td>\n",
       "      <td>...</td>\n",
       "      <td>0.217314</td>\n",
       "      <td>0.257761</td>\n",
       "      <td>-0.089660</td>\n",
       "      <td>0.059676</td>\n",
       "      <td>0.081006</td>\n",
       "      <td>0.087543</td>\n",
       "      <td>0.144008</td>\n",
       "      <td>-0.004320</td>\n",
       "      <td>-0.000091</td>\n",
       "      <td>0.629267</td>\n",
       "    </tr>\n",
       "    <tr>\n",
       "      <th>1st_flr_sf</th>\n",
       "      <td>-0.030703</td>\n",
       "      <td>-0.156929</td>\n",
       "      <td>-0.247643</td>\n",
       "      <td>0.367446</td>\n",
       "      <td>0.498058</td>\n",
       "      <td>-0.162469</td>\n",
       "      <td>0.332764</td>\n",
       "      <td>0.251367</td>\n",
       "      <td>0.402634</td>\n",
       "      <td>0.475852</td>\n",
       "      <td>...</td>\n",
       "      <td>0.233890</td>\n",
       "      <td>0.242067</td>\n",
       "      <td>-0.049693</td>\n",
       "      <td>0.069106</td>\n",
       "      <td>0.090820</td>\n",
       "      <td>0.124471</td>\n",
       "      <td>0.150587</td>\n",
       "      <td>0.022147</td>\n",
       "      <td>-0.001365</td>\n",
       "      <td>0.630052</td>\n",
       "    </tr>\n",
       "    <tr>\n",
       "      <th>garage_area</th>\n",
       "      <td>-0.044478</td>\n",
       "      <td>-0.194996</td>\n",
       "      <td>-0.106435</td>\n",
       "      <td>0.262778</td>\n",
       "      <td>0.569528</td>\n",
       "      <td>-0.152851</td>\n",
       "      <td>0.488097</td>\n",
       "      <td>0.397660</td>\n",
       "      <td>0.384791</td>\n",
       "      <td>0.329226</td>\n",
       "      <td>...</td>\n",
       "      <td>0.242097</td>\n",
       "      <td>0.237409</td>\n",
       "      <td>-0.110374</td>\n",
       "      <td>0.044258</td>\n",
       "      <td>0.071948</td>\n",
       "      <td>0.028663</td>\n",
       "      <td>0.041025</td>\n",
       "      <td>0.002789</td>\n",
       "      <td>-0.003315</td>\n",
       "      <td>0.651016</td>\n",
       "    </tr>\n",
       "    <tr>\n",
       "      <th>garage_cars</th>\n",
       "      <td>-0.049239</td>\n",
       "      <td>-0.222513</td>\n",
       "      <td>-0.048483</td>\n",
       "      <td>0.212682</td>\n",
       "      <td>0.597672</td>\n",
       "      <td>-0.181396</td>\n",
       "      <td>0.545316</td>\n",
       "      <td>0.444428</td>\n",
       "      <td>0.362354</td>\n",
       "      <td>0.256515</td>\n",
       "      <td>...</td>\n",
       "      <td>0.238550</td>\n",
       "      <td>0.206697</td>\n",
       "      <td>-0.136437</td>\n",
       "      <td>0.028439</td>\n",
       "      <td>0.054370</td>\n",
       "      <td>0.000138</td>\n",
       "      <td>0.009458</td>\n",
       "      <td>0.015390</td>\n",
       "      <td>-0.008806</td>\n",
       "      <td>0.651497</td>\n",
       "    </tr>\n",
       "    <tr>\n",
       "      <th>gr_liv_area</th>\n",
       "      <td>-0.024961</td>\n",
       "      <td>-0.118252</td>\n",
       "      <td>0.067234</td>\n",
       "      <td>0.319781</td>\n",
       "      <td>0.575738</td>\n",
       "      <td>-0.122764</td>\n",
       "      <td>0.255746</td>\n",
       "      <td>0.317959</td>\n",
       "      <td>0.392846</td>\n",
       "      <td>0.213520</td>\n",
       "      <td>...</td>\n",
       "      <td>0.268948</td>\n",
       "      <td>0.335579</td>\n",
       "      <td>-0.010104</td>\n",
       "      <td>0.024559</td>\n",
       "      <td>0.106241</td>\n",
       "      <td>0.113751</td>\n",
       "      <td>0.119561</td>\n",
       "      <td>0.051306</td>\n",
       "      <td>-0.015917</td>\n",
       "      <td>0.700919</td>\n",
       "    </tr>\n",
       "    <tr>\n",
       "      <th>overall_qual</th>\n",
       "      <td>-0.061664</td>\n",
       "      <td>-0.258629</td>\n",
       "      <td>0.036877</td>\n",
       "      <td>0.128297</td>\n",
       "      <td>1.000000</td>\n",
       "      <td>-0.115096</td>\n",
       "      <td>0.600656</td>\n",
       "      <td>0.572608</td>\n",
       "      <td>0.437791</td>\n",
       "      <td>0.254865</td>\n",
       "      <td>...</td>\n",
       "      <td>0.253738</td>\n",
       "      <td>0.304614</td>\n",
       "      <td>-0.158697</td>\n",
       "      <td>0.030317</td>\n",
       "      <td>0.048214</td>\n",
       "      <td>0.022980</td>\n",
       "      <td>0.026461</td>\n",
       "      <td>0.006572</td>\n",
       "      <td>-0.009685</td>\n",
       "      <td>0.797646</td>\n",
       "    </tr>\n",
       "    <tr>\n",
       "      <th>saleprice</th>\n",
       "      <td>-0.055485</td>\n",
       "      <td>-0.248731</td>\n",
       "      <td>-0.087351</td>\n",
       "      <td>0.308461</td>\n",
       "      <td>0.797646</td>\n",
       "      <td>-0.114526</td>\n",
       "      <td>0.567785</td>\n",
       "      <td>0.541540</td>\n",
       "      <td>0.510360</td>\n",
       "      <td>0.410969</td>\n",
       "      <td>...</td>\n",
       "      <td>0.322905</td>\n",
       "      <td>0.320772</td>\n",
       "      <td>-0.138529</td>\n",
       "      <td>0.048058</td>\n",
       "      <td>0.138853</td>\n",
       "      <td>0.029059</td>\n",
       "      <td>-0.003469</td>\n",
       "      <td>0.023693</td>\n",
       "      <td>-0.009412</td>\n",
       "      <td>1.000000</td>\n",
       "    </tr>\n",
       "  </tbody>\n",
       "</table>\n",
       "<p>12 rows × 37 columns</p>\n",
       "</div>"
      ],
      "text/plain": [
       "                      id       pid  ms_subclass  lot_area  overall_qual  \\\n",
       "mas_vnr_area   -0.035078 -0.246443    -0.003411  0.178884      0.437791   \n",
       "totrms_abvgrd  -0.003713 -0.092947     0.025550  0.234203      0.395007   \n",
       "year_remod/add -0.085820 -0.169791     0.046141  0.057871      0.572608   \n",
       "full_bath      -0.058867 -0.178200     0.133802  0.127133      0.536383   \n",
       "year_built     -0.065617 -0.344994     0.039544  0.047161      0.600656   \n",
       "total_bsmt_sf  -0.038580 -0.193507    -0.240968  0.327102      0.516366   \n",
       "1st_flr_sf     -0.030703 -0.156929    -0.247643  0.367446      0.498058   \n",
       "garage_area    -0.044478 -0.194996    -0.106435  0.262778      0.569528   \n",
       "garage_cars    -0.049239 -0.222513    -0.048483  0.212682      0.597672   \n",
       "gr_liv_area    -0.024961 -0.118252     0.067234  0.319781      0.575738   \n",
       "overall_qual   -0.061664 -0.258629     0.036877  0.128297      1.000000   \n",
       "saleprice      -0.055485 -0.248731    -0.087351  0.308461      0.797646   \n",
       "\n",
       "                overall_cond  year_built  year_remod/add  mas_vnr_area  \\\n",
       "mas_vnr_area       -0.143702    0.325600        0.203938      1.000000   \n",
       "totrms_abvgrd      -0.100488    0.135342        0.202478      0.279911   \n",
       "year_remod/add      0.026234    0.629406        1.000000      0.203938   \n",
       "full_bath          -0.219353    0.481858        0.480964      0.242166   \n",
       "year_built         -0.383573    1.000000        0.629406      0.325600   \n",
       "total_bsmt_sf      -0.206005    0.412614        0.282247      0.415140   \n",
       "1st_flr_sf         -0.162469    0.332764        0.251367      0.402634   \n",
       "garage_area        -0.152851    0.488097        0.397660      0.384791   \n",
       "garage_cars        -0.181396    0.545316        0.444428      0.362354   \n",
       "gr_liv_area        -0.122764    0.255746        0.317959      0.392846   \n",
       "overall_qual       -0.115096    0.600656        0.572608      0.437791   \n",
       "saleprice          -0.114526    0.567785        0.541540      0.510360   \n",
       "\n",
       "                bsmtfin_sf_1  ...  wood_deck_sf  open_porch_sf  \\\n",
       "mas_vnr_area        0.316267  ...      0.160167       0.162344   \n",
       "totrms_abvgrd       0.058197  ...      0.180864       0.225786   \n",
       "year_remod/add      0.152865  ...      0.215322       0.258408   \n",
       "full_bath           0.080791  ...      0.185935       0.247656   \n",
       "year_built          0.272391  ...      0.219397       0.205048   \n",
       "total_bsmt_sf       0.525891  ...      0.217314       0.257761   \n",
       "1st_flr_sf          0.475852  ...      0.233890       0.242067   \n",
       "garage_area         0.329226  ...      0.242097       0.237409   \n",
       "garage_cars         0.256515  ...      0.238550       0.206697   \n",
       "gr_liv_area         0.213520  ...      0.268948       0.335579   \n",
       "overall_qual        0.254865  ...      0.253738       0.304614   \n",
       "saleprice           0.410969  ...      0.322905       0.320772   \n",
       "\n",
       "                enclosed_porch  3ssn_porch  screen_porch  pool_area  misc_val  \\\n",
       "mas_vnr_area         -0.109864    0.010016      0.084163   0.016943  0.081746   \n",
       "totrms_abvgrd         0.004516   -0.008295      0.047779   0.065710  0.102455   \n",
       "year_remod/add       -0.242618    0.040376     -0.045232  -0.013392  0.003441   \n",
       "full_bath            -0.129908    0.029815     -0.005309   0.020319  0.002296   \n",
       "year_built           -0.384187    0.016046     -0.036636   0.008648  0.005013   \n",
       "total_bsmt_sf        -0.089660    0.059676      0.081006   0.087543  0.144008   \n",
       "1st_flr_sf           -0.049693    0.069106      0.090820   0.124471  0.150587   \n",
       "garage_area          -0.110374    0.044258      0.071948   0.028663  0.041025   \n",
       "garage_cars          -0.136437    0.028439      0.054370   0.000138  0.009458   \n",
       "gr_liv_area          -0.010104    0.024559      0.106241   0.113751  0.119561   \n",
       "overall_qual         -0.158697    0.030317      0.048214   0.022980  0.026461   \n",
       "saleprice            -0.138529    0.048058      0.138853   0.029059 -0.003469   \n",
       "\n",
       "                 mo_sold   yr_sold  saleprice  \n",
       "mas_vnr_area   -0.002418 -0.018803   0.510360  \n",
       "totrms_abvgrd   0.058179 -0.029339   0.513530  \n",
       "year_remod/add  0.006084  0.039891   0.541540  \n",
       "full_bath       0.045453  0.006188   0.548034  \n",
       "year_built     -0.016797 -0.001264   0.567785  \n",
       "total_bsmt_sf  -0.004320 -0.000091   0.629267  \n",
       "1st_flr_sf      0.022147 -0.001365   0.630052  \n",
       "garage_area     0.002789 -0.003315   0.651016  \n",
       "garage_cars     0.015390 -0.008806   0.651497  \n",
       "gr_liv_area     0.051306 -0.015917   0.700919  \n",
       "overall_qual    0.006572 -0.009685   0.797646  \n",
       "saleprice       0.023693 -0.009412   1.000000  \n",
       "\n",
       "[12 rows x 37 columns]"
      ]
     },
     "execution_count": 11,
     "metadata": {},
     "output_type": "execute_result"
    }
   ],
   "source": [
    "corr_matrix[sig_corr]"
   ]
  },
  {
   "cell_type": "code",
   "execution_count": 12,
   "metadata": {},
   "outputs": [
    {
     "data": {
      "image/png": "[encoded data removed]",
      "text/plain": [
       "<Figure size 720x432 with 2 Axes>"
      ]
     },
     "metadata": {
      "needs_background": "light"
     },
     "output_type": "display_data"
    }
   ],
   "source": [
    "plt.figure(figsize=(10,6))\n",
    "sns.heatmap(corr_matrix[sig_corr][['saleprice']], annot=True,cmap='viridis', vmin=-1, vmax=1)\n",
    "plt.savefig('../plots/heatmap.png', dpi=235)"
   ]
  },
  {
   "cell_type": "markdown",
   "metadata": {},
   "source": [
    "This correlation only looks at the variables that have a strong positive (above .5) or a strong negative (less than -.5) correlation with the sale price. In the aspects I looked at, there were actually no variables with correlation to prices under -.5. \n",
    "The heatmap above highlights several independent variables that could be strong predictors of the sale price: overall_qual, gr_liv_area, garage_cars, garage_area, 1st_flr_sf. I'll make sure to try these out in my model."
   ]
  },
  {
   "cell_type": "markdown",
   "metadata": {},
   "source": [
    "## EDA - Barcharts"
   ]
  },
  {
   "cell_type": "markdown",
   "metadata": {},
   "source": [
    "Now to take a look at some of the categorial data, I'm going to create several barcharts that compare different categories to see if any of them lean one way or another for the price."
   ]
  },
  {
   "cell_type": "markdown",
   "metadata": {},
   "source": [
    "1. Price vs Zone"
   ]
  },
  {
   "cell_type": "code",
   "execution_count": 13,
   "metadata": {},
   "outputs": [],
   "source": [
    "x_mszone = sorted(set(ames['ms_zoning']))"
   ]
  },
  {
   "cell_type": "code",
   "execution_count": 14,
   "metadata": {},
   "outputs": [
    {
     "name": "stdout",
     "output_type": "stream",
     "text": [
      "['C (all)', 'FV', 'RH', 'RL', 'RM']\n"
     ]
    }
   ],
   "source": [
    "print(x_mszone)"
   ]
  },
  {
   "cell_type": "code",
   "execution_count": 15,
   "metadata": {},
   "outputs": [],
   "source": [
    "y_mszone = ames.groupby(ames['ms_zoning'])['saleprice'].mean()"
   ]
  },
  {
   "cell_type": "code",
   "execution_count": 16,
   "metadata": {},
   "outputs": [
    {
     "name": "stdout",
     "output_type": "stream",
     "text": [
      "ms_zoning\n",
      "C (all)     79473.222222\n",
      "FV         218634.172043\n",
      "RH         148859.571429\n",
      "RL         192848.652570\n",
      "RM         129837.576547\n",
      "Name: saleprice, dtype: float64\n"
     ]
    }
   ],
   "source": [
    "print(y_mszone)"
   ]
  },
  {
   "cell_type": "code",
   "execution_count": 17,
   "metadata": {},
   "outputs": [
    {
     "data": {
      "text/plain": [
       "Text(0, 0.5, 'Average Home Price')"
      ]
     },
     "execution_count": 17,
     "metadata": {},
     "output_type": "execute_result"
    },
    {
     "data": {
      "image/png": "[encoded data removed]",
      "text/plain": [
       "<Figure size 432x288 with 1 Axes>"
      ]
     },
     "metadata": {
      "needs_background": "light"
     },
     "output_type": "display_data"
    }
   ],
   "source": [
    "plt.bar(x_mszone, y_mszone)\n",
    "plt.title('Average Home Price by Zone')\n",
    "plt.xlabel('Zone')\n",
    "plt.ylabel('Average Home Price')"
   ]
  },
  {
   "cell_type": "markdown",
   "metadata": {},
   "source": [
    "This barchart shows the difference in average home price by zone. There does seem to be some variation between categories that would be useful to capture in the model, particularly between C(all) and FV."
   ]
  },
  {
   "cell_type": "markdown",
   "metadata": {},
   "source": [
    "2. Price vs Building Type"
   ]
  },
  {
   "cell_type": "code",
   "execution_count": 18,
   "metadata": {},
   "outputs": [
    {
     "name": "stdout",
     "output_type": "stream",
     "text": [
      "['1Fam', '2fmCon', 'Duplex', 'Twnhs', 'TwnhsE'] bldg_type\n",
      "1Fam      186121.105904\n",
      "2fmCon    125114.204545\n",
      "Duplex    151622.745455\n",
      "Twnhs     133100.000000\n",
      "TwnhsE    198043.620253\n",
      "Name: saleprice, dtype: float64\n"
     ]
    },
    {
     "data": {
      "text/plain": [
       "Text(0, 0.5, 'Average Home Price')"
      ]
     },
     "execution_count": 18,
     "metadata": {},
     "output_type": "execute_result"
    },
    {
     "data": {
      "image/png": "[encoded data removed]",
      "text/plain": [
       "<Figure size 432x288 with 1 Axes>"
      ]
     },
     "metadata": {
      "needs_background": "light"
     },
     "output_type": "display_data"
    }
   ],
   "source": [
    "x_bldtype = sorted(set(ames['bldg_type']))\n",
    "y_bldtype = ames.groupby(ames['bldg_type'])['saleprice'].mean()\n",
    "print(x_bldtype, y_bldtype)\n",
    "plt.bar(x_bldtype, y_bldtype)\n",
    "plt.title('Average Home Price by Building Type')\n",
    "plt.xlabel('Building Type')\n",
    "plt.ylabel('Average Home Price')"
   ]
  },
  {
   "cell_type": "markdown",
   "metadata": {},
   "source": [
    "Similar to the one above, this graphs looks at the average home price across the different types of buildings. This could also be a good category to dummy out for my model because there is variance."
   ]
  },
  {
   "cell_type": "markdown",
   "metadata": {},
   "source": [
    "3. Price vs House Style"
   ]
  },
  {
   "cell_type": "code",
   "execution_count": 19,
   "metadata": {},
   "outputs": [
    {
     "name": "stdout",
     "output_type": "stream",
     "text": [
      "['1.5Fin', '1.5Unf', '1Story', '2.5Fin', '2.5Unf', '2Story', 'SFoyer', 'SLvl'] house_style\n",
      "1.5Fin    137155.511737\n",
      "1.5Unf    112466.666667\n",
      "1Story    182195.931275\n",
      "2.5Fin    243666.666667\n",
      "2.5Unf    191785.714286\n",
      "2Story    207179.939446\n",
      "SFoyer    148340.734694\n",
      "SLvl      166257.043011\n",
      "Name: saleprice, dtype: float64\n"
     ]
    },
    {
     "data": {
      "text/plain": [
       "Text(0, 0.5, 'Average Home Price')"
      ]
     },
     "execution_count": 19,
     "metadata": {},
     "output_type": "execute_result"
    },
    {
     "data": {
      "image/png": "[encoded data removed]",
      "text/plain": [
       "<Figure size 432x288 with 1 Axes>"
      ]
     },
     "metadata": {
      "needs_background": "light"
     },
     "output_type": "display_data"
    }
   ],
   "source": [
    "x_house = sorted(set(ames['house_style']))\n",
    "y_house = ames.groupby(ames['house_style'])['saleprice'].mean()\n",
    "print(x_house, y_house)\n",
    "plt.bar(x_house, y_house)\n",
    "plt.title('Average Home Price by House Style')\n",
    "plt.xlabel('House Style')\n",
    "plt.ylabel('Average Home Price')"
   ]
  },
  {
   "cell_type": "markdown",
   "metadata": {},
   "source": [
    "Another plot to show the average home price for a certain category. In this case, it looks like homes that are 2.5 stories and finished have the higest average while those that are 1.5  stories and unfinished have the lowest. This difference in price would be great to capture in my model."
   ]
  },
  {
   "cell_type": "markdown",
   "metadata": {},
   "source": [
    "4. Price vs Functional Category"
   ]
  },
  {
   "cell_type": "code",
   "execution_count": 20,
   "metadata": {},
   "outputs": [
    {
     "name": "stdout",
     "output_type": "stream",
     "text": [
      "['Maj1', 'Maj2', 'Min1', 'Min2', 'Mod', 'Sal', 'Sev', 'Typ'] functional\n",
      "Maj1    159695.454545\n",
      "Maj2     90333.333333\n",
      "Min1    160066.447368\n",
      "Min2    156943.243243\n",
      "Mod     165839.272727\n",
      "Sal      50000.000000\n",
      "Sev      95750.000000\n",
      "Typ     184685.748380\n",
      "Name: saleprice, dtype: float64\n"
     ]
    },
    {
     "data": {
      "text/plain": [
       "Text(0, 0.5, 'Average Home Price')"
      ]
     },
     "execution_count": 20,
     "metadata": {},
     "output_type": "execute_result"
    },
    {
     "data": {
      "image/png": "[encoded data removed]",
      "text/plain": [
       "<Figure size 432x288 with 1 Axes>"
      ]
     },
     "metadata": {
      "needs_background": "light"
     },
     "output_type": "display_data"
    }
   ],
   "source": [
    "x_func = sorted(set(ames['functional']))\n",
    "y_func = ames.groupby(ames['functional'])['saleprice'].mean()\n",
    "print(x_func, y_func)\n",
    "plt.bar(x_func, y_func)\n",
    "plt.title('Average Home Price by Funcational Category')\n",
    "plt.xlabel('Functional Category')\n",
    "plt.ylabel('Average Home Price')"
   ]
  },
  {
   "cell_type": "markdown",
   "metadata": {},
   "source": [
    "The barchart above shows that many of the categories have similar average prices but a few are much lower such as \"Sal\" and \"Maj 2\". This could be a good indication of price to include via dummy categories."
   ]
  },
  {
   "cell_type": "markdown",
   "metadata": {},
   "source": [
    "### Quality and Conditions\n",
    "A few catagories are paired with quality and condition, in the barcharts below I'll explore what the distinction is."
   ]
  },
  {
   "cell_type": "markdown",
   "metadata": {},
   "source": [
    "Exterior Quality and Condition"
   ]
  },
  {
   "cell_type": "code",
   "execution_count": 21,
   "metadata": {},
   "outputs": [
    {
     "name": "stdout",
     "output_type": "stream",
     "text": [
      "['Ex', 'Fa', 'Gd', 'TA'] exter_qual\n",
      "Ex    373328.562500\n",
      "Fa     98627.545455\n",
      "Gd    231064.853731\n",
      "TA    144750.628237\n",
      "Name: saleprice, dtype: float64\n",
      "['Ex', 'Fa', 'Gd', 'Po', 'TA'] exter_cond\n",
      "Ex    236263.857143\n",
      "Fa    106987.545455\n",
      "Gd    168587.089202\n",
      "Po     76500.000000\n",
      "TA    186484.269953\n",
      "Name: saleprice, dtype: float64\n"
     ]
    },
    {
     "data": {
      "text/plain": [
       "Text(0, 0.5, 'Average Home Price')"
      ]
     },
     "execution_count": 21,
     "metadata": {},
     "output_type": "execute_result"
    },
    {
     "data": {
      "image/png": "[encoded data removed]",
      "text/plain": [
       "<Figure size 1152x288 with 2 Axes>"
      ]
     },
     "metadata": {
      "needs_background": "light"
     },
     "output_type": "display_data"
    }
   ],
   "source": [
    "plt.figure(figsize=(16,4))\n",
    "\n",
    "plt.subplot(1, 2, 1)\n",
    "x_extq = sorted(set(ames['exter_qual']))\n",
    "y_extq = ames.groupby(ames['exter_qual'])['saleprice'].mean()\n",
    "print(x_extq, y_extq)\n",
    "plt.bar(x_extq, y_extq)\n",
    "plt.title('Exterior Quality')\n",
    "plt.xlabel('Quality')\n",
    "plt.ylabel('Average Home Price')\n",
    "\n",
    "plt.subplot(1, 2, 2)\n",
    "x_cond = sorted(set(ames['exter_cond']))\n",
    "y_cond = ames.groupby(ames['exter_cond'])['saleprice'].mean()\n",
    "print(x_cond, y_cond)\n",
    "plt.bar(x_cond, y_cond)\n",
    "plt.title('Exterior Condition')\n",
    "plt.title('Exterior Quality')\n",
    "plt.xlabel('Condition')\n",
    "plt.ylabel('Average Home Price')"
   ]
  },
  {
   "cell_type": "markdown",
   "metadata": {},
   "source": [
    "Upon comparing the quality and condition categories, it looks like they are on the same scale. Per the data documentation, their definition vary slightly but it looks like quality has more variance in average price than condition. Because of this big difference, I'm going to include this in my model as well."
   ]
  },
  {
   "cell_type": "markdown",
   "metadata": {},
   "source": [
    "Basement Quality and Condition"
   ]
  },
  {
   "cell_type": "code",
   "execution_count": 22,
   "metadata": {},
   "outputs": [
    {
     "name": "stdout",
     "output_type": "stream",
     "text": [
      "['Ex', 'Fa', 'Gd', 'Po', 'TA'] bsmt_qual\n",
      "Ex    330190.689266\n",
      "Fa    107752.166667\n",
      "Gd    202543.221302\n",
      "Po     89000.000000\n",
      "TA    139920.023702\n",
      "Name: saleprice, dtype: float64\n",
      "['Ex', 'Fa', 'Gd', 'Po', 'TA'] bsmt_cond\n",
      "Ex    195000.000000\n",
      "Fa    118629.076923\n",
      "Gd    219901.954023\n",
      "Po    124063.200000\n",
      "TA    183564.604201\n",
      "Name: saleprice, dtype: float64\n"
     ]
    },
    {
     "data": {
      "text/plain": [
       "Text(0, 0.5, 'Average Home Price')"
      ]
     },
     "execution_count": 22,
     "metadata": {},
     "output_type": "execute_result"
    },
    {
     "data": {
      "image/png": "[encoded data removed]",
      "text/plain": [
       "<Figure size 1152x288 with 2 Axes>"
      ]
     },
     "metadata": {
      "needs_background": "light"
     },
     "output_type": "display_data"
    }
   ],
   "source": [
    "plt.figure(figsize=(16,4))\n",
    "\n",
    "plt.subplot(1, 2, 1)\n",
    "x_baseq = sorted(set(ames['bsmt_qual']))\n",
    "y_baseq = ames.groupby(ames['bsmt_qual'])['saleprice'].mean()\n",
    "print(x_baseq, y_baseq)\n",
    "plt.bar(x_baseq, y_baseq)\n",
    "plt.title('Basement Quality')\n",
    "plt.xlabel('Quality')\n",
    "plt.ylabel('Average Home Price')\n",
    "\n",
    "\n",
    "plt.subplot(1, 2, 2)\n",
    "x_basec = sorted(set(ames['bsmt_cond']))\n",
    "y_basec = ames.groupby(ames['bsmt_cond'])['saleprice'].mean()\n",
    "print(x_basec, y_basec)\n",
    "plt.bar(x_basec, y_basec)\n",
    "plt.title('Basement Condition')\n",
    "plt.xlabel('Condition')\n",
    "plt.ylabel('Average Home Price')"
   ]
  },
  {
   "cell_type": "markdown",
   "metadata": {},
   "source": [
    "The same results are evident here: quality has more variance than condition for basements."
   ]
  },
  {
   "cell_type": "markdown",
   "metadata": {},
   "source": [
    "Overall Quality and Condition"
   ]
  },
  {
   "cell_type": "code",
   "execution_count": 23,
   "metadata": {},
   "outputs": [
    {
     "name": "stdout",
     "output_type": "stream",
     "text": [
      "[1, 2, 3, 4, 5, 6, 7, 8, 9, 10] overall_qual\n",
      "1      61000.000000\n",
      "2      45020.000000\n",
      "3      76022.619048\n",
      "4     109479.014085\n",
      "5     134988.059150\n",
      "6     162863.810379\n",
      "7     203525.840095\n",
      "8     271443.729167\n",
      "9     370197.376623\n",
      "10    415232.772727\n",
      "Name: saleprice, dtype: float64\n",
      "[1, 2, 3, 4, 5, 6, 7, 8, 9] overall_cond\n",
      "1     59625.000000\n",
      "2     65657.800000\n",
      "3     99131.806452\n",
      "4    118392.770492\n",
      "5    208885.193548\n",
      "6    149259.505556\n",
      "7    156146.996183\n",
      "8    155913.366337\n",
      "9    198177.586207\n",
      "Name: saleprice, dtype: float64\n"
     ]
    },
    {
     "data": {
      "text/plain": [
       "Text(0, 0.5, 'Average Home Price')"
      ]
     },
     "execution_count": 23,
     "metadata": {},
     "output_type": "execute_result"
    },
    {
     "data": {
      "image/png": "[encoded data removed]",
      "text/plain": [
       "<Figure size 1152x288 with 2 Axes>"
      ]
     },
     "metadata": {
      "needs_background": "light"
     },
     "output_type": "display_data"
    }
   ],
   "source": [
    "plt.figure(figsize=(16,4))\n",
    "\n",
    "plt.subplot(1, 2, 1)\n",
    "x_qual = sorted(set(ames['overall_qual']))\n",
    "y_qual = ames.groupby(ames['overall_qual'])['saleprice'].mean()\n",
    "print(x_qual, y_qual)\n",
    "plt.bar(x_qual, y_qual)\n",
    "plt.title('Overall Quality')\n",
    "plt.xlabel('Quality')\n",
    "plt.ylabel('Average Home Price')\n",
    "\n",
    "plt.subplot(1, 2, 2)\n",
    "x_condi = sorted(set(ames['overall_cond']))\n",
    "y_condi = ames.groupby(ames['overall_cond'])['saleprice'].mean()\n",
    "print(x_condi, y_condi)\n",
    "plt.bar(x_condi, y_condi)\n",
    "plt.title('Overall Condition')\n",
    "plt.xlabel('Condition')\n",
    "plt.ylabel('Average Home Price')"
   ]
  },
  {
   "cell_type": "markdown",
   "metadata": {},
   "source": [
    "Overall quality vs condition definitely showcases the distinction between the two. There's definitely a stronger linear relationship between price and quality than price and condition. This also makes sense because overall quality had the highest correlation of any variable with price."
   ]
  },
  {
   "cell_type": "markdown",
   "metadata": {},
   "source": [
    "Kitchen Quality"
   ]
  },
  {
   "cell_type": "code",
   "execution_count": 24,
   "metadata": {},
   "outputs": [
    {
     "name": "stdout",
     "output_type": "stream",
     "text": [
      "['Ex', 'Fa', 'Gd', 'TA'] kitchen_qual\n",
      "Ex    336499.643836\n",
      "Fa    107367.690476\n",
      "Gd    212072.396154\n",
      "TA    140920.264735\n",
      "Name: saleprice, dtype: float64\n"
     ]
    },
    {
     "data": {
      "text/plain": [
       "Text(0, 0.5, 'Average Home Price')"
      ]
     },
     "execution_count": 24,
     "metadata": {},
     "output_type": "execute_result"
    },
    {
     "data": {
      "image/png": "[encoded data removed]",
      "text/plain": [
       "<Figure size 432x288 with 1 Axes>"
      ]
     },
     "metadata": {
      "needs_background": "light"
     },
     "output_type": "display_data"
    }
   ],
   "source": [
    "x_kqual = sorted(set(ames['kitchen_qual']))\n",
    "y_kqual = ames.groupby(ames['kitchen_qual'])['saleprice'].mean()\n",
    "print(x_kqual, y_kqual)\n",
    "plt.bar(x_kqual, y_kqual)\n",
    "plt.title('Kitchen Quality')\n",
    "plt.xlabel('Quality')\n",
    "plt.ylabel('Average Home Price')"
   ]
  },
  {
   "cell_type": "markdown",
   "metadata": {},
   "source": [
    "Finally, the kitchen category had no column for condition, just quality. In the chart above we can see that having an excellent kitchen has the potential to really impact the price over a typical or fair kitchen."
   ]
  },
  {
   "cell_type": "markdown",
   "metadata": {},
   "source": [
    "## EDA: Scatterplots"
   ]
  },
  {
   "cell_type": "markdown",
   "metadata": {},
   "source": [
    "Now I'm going to use scatter plots to examine if there's a relationship between some of the numerical data and sale price."
   ]
  },
  {
   "cell_type": "markdown",
   "metadata": {},
   "source": [
    "Pool Area"
   ]
  },
  {
   "cell_type": "code",
   "execution_count": 25,
   "metadata": {},
   "outputs": [
    {
     "data": {
      "text/plain": [
       "Text(0, 0.5, 'Sale Price')"
      ]
     },
     "execution_count": 25,
     "metadata": {},
     "output_type": "execute_result"
    },
    {
     "data": {
      "image/png": "[encoded data removed]",
      "text/plain": [
       "<Figure size 432x288 with 1 Axes>"
      ]
     },
     "metadata": {
      "needs_background": "light"
     },
     "output_type": "display_data"
    }
   ],
   "source": [
    "plt.scatter(ames['pool_area'], ames['saleprice'])\n",
    "plt.title('Pool Area vs Sale Price')\n",
    "plt.xlabel('Pool Area')\n",
    "plt.ylabel('Sale Price')"
   ]
  },
  {
   "cell_type": "markdown",
   "metadata": {},
   "source": [
    "The vast majority of houses don't have a pool (aka 0 sq ft for pool area). For those that do have a pool, there doesn't seem to be a correlation between pool area and sale price."
   ]
  },
  {
   "cell_type": "markdown",
   "metadata": {},
   "source": [
    "Year Built"
   ]
  },
  {
   "cell_type": "code",
   "execution_count": 26,
   "metadata": {},
   "outputs": [
    {
     "data": {
      "text/plain": [
       "Text(0, 0.5, 'Sale Price')"
      ]
     },
     "execution_count": 26,
     "metadata": {},
     "output_type": "execute_result"
    },
    {
     "data": {
      "image/png": "[encoded data removed]",
      "text/plain": [
       "<Figure size 432x288 with 1 Axes>"
      ]
     },
     "metadata": {
      "needs_background": "light"
     },
     "output_type": "display_data"
    }
   ],
   "source": [
    "plt.scatter(ames['year_built'], ames['saleprice'])\n",
    "plt.title('Year Built vs Sale Price')\n",
    "plt.xlabel('Year Built')\n",
    "plt.ylabel('Sale Price')"
   ]
  },
  {
   "cell_type": "markdown",
   "metadata": {},
   "source": [
    "Per the scatter plot above, the year the house was build seems to have somewhat strong relationship with the sale price."
   ]
  },
  {
   "cell_type": "markdown",
   "metadata": {},
   "source": [
    "Below, I'm engineering a simple feature to see if remodeling has a impact on the house. I subtracting the columns as houses with no remodel will come out at zero."
   ]
  },
  {
   "cell_type": "code",
   "execution_count": 27,
   "metadata": {},
   "outputs": [],
   "source": [
    "ames['remodel'] = ames['year_remod/add'] - ames['year_built']"
   ]
  },
  {
   "cell_type": "code",
   "execution_count": 28,
   "metadata": {},
   "outputs": [
    {
     "data": {
      "text/plain": [
       "Text(0, 0.5, 'Sale Price')"
      ]
     },
     "execution_count": 28,
     "metadata": {},
     "output_type": "execute_result"
    },
    {
     "data": {
      "image/png": "[encoded data removed]",
      "text/plain": [
       "<Figure size 432x288 with 1 Axes>"
      ]
     },
     "metadata": {
      "needs_background": "light"
     },
     "output_type": "display_data"
    }
   ],
   "source": [
    "plt.scatter(ames['remodel'], ames['saleprice'])\n",
    "plt.title('Remodeled vs Sale Price')\n",
    "plt.xlabel('Remodeled')\n",
    "plt.ylabel('Sale Price')"
   ]
  },
  {
   "cell_type": "markdown",
   "metadata": {},
   "source": [
    "As we can see, there are some houses that have not been remodeled that are at both ends of the spectrum in terms of price. From there, the older the remodel gets, the more the price decreases."
   ]
  },
  {
   "cell_type": "code",
   "execution_count": 29,
   "metadata": {},
   "outputs": [
    {
     "data": {
      "text/plain": [
       "Text(0, 0.5, 'Sale Price')"
      ]
     },
     "execution_count": 29,
     "metadata": {},
     "output_type": "execute_result"
    },
    {
     "data": {
      "image/png": "[encoded data removed]",
      "text/plain": [
       "<Figure size 1152x288 with 2 Axes>"
      ]
     },
     "metadata": {
      "needs_background": "light"
     },
     "output_type": "display_data"
    }
   ],
   "source": [
    "plt.figure(figsize=(16,4))\n",
    "plt.subplot(121)\n",
    "plt.scatter(ames['low_qual_fin_sf'], ames['saleprice'])\n",
    "plt.title('Low Qual Fin SF vs Sale Price')\n",
    "plt.xlabel('Low Qual Fin SF')\n",
    "plt.ylabel('Sale Price')\n",
    "\n",
    "plt.subplot(122)\n",
    "plt.scatter(ames['gr_liv_area'], ames['saleprice'])\n",
    "plt.title('Above Grade Living Area vs Sale Price')\n",
    "plt.xlabel('Above Grade Living Area')\n",
    "plt.ylabel('Sale Price')"
   ]
  },
  {
   "cell_type": "code",
   "execution_count": 30,
   "metadata": {
    "scrolled": true
   },
   "outputs": [
    {
     "data": {
      "text/plain": [
       "Text(0, 0.5, 'Sale Price')"
      ]
     },
     "execution_count": 30,
     "metadata": {},
     "output_type": "execute_result"
    },
    {
     "data": {
      "image/png": "[encoded data removed]",
      "text/plain": [
       "<Figure size 432x288 with 1 Axes>"
      ]
     },
     "metadata": {
      "needs_background": "light"
     },
     "output_type": "display_data"
    }
   ],
   "source": [
    "plt.scatter(ames['yr_sold'], ames['saleprice'])\n",
    "plt.title('Year Sold Area vs Sale Price')\n",
    "plt.xlabel('Year Sold')\n",
    "plt.ylabel('Sale Price')"
   ]
  },
  {
   "cell_type": "markdown",
   "metadata": {},
   "source": [
    "The year sold on it's own doesn't have much of a correlation with price."
   ]
  },
  {
   "cell_type": "markdown",
   "metadata": {},
   "source": [
    "After doing all the analysis and visulation above, I have a strong idea of what features I want to start working with for my model. In the next notebook, I start to build those out. As I create new iterations of the model, I will perform some additional EDA but that is all in the context of my modeling notebook."
   ]
  }
 ],
 "metadata": {
  "kernelspec": {
   "display_name": "Python 3",
   "language": "python",
   "name": "python3"
  },
  "language_info": {
   "codemirror_mode": {
    "name": "ipython",
    "version": 3
   },
   "file_extension": ".py",
   "mimetype": "text/x-python",
   "name": "python",
   "nbconvert_exporter": "python",
   "pygments_lexer": "ipython3",
   "version": "3.7.6"
  }
 },
 "nbformat": 4,
 "nbformat_minor": 4
}
