{
 "cells": [
  {
   "cell_type": "markdown",
   "metadata": {},
   "source": [
    "# Ames Housing Data and Kaggle Challenge\n",
    "### Part 4: Kaggle Submission\n",
    "\n"
   ]
  },
  {
   "cell_type": "code",
   "execution_count": 1,
   "metadata": {},
   "outputs": [],
   "source": [
    "import pandas as pd\n",
    "import numpy as np\n",
    "import seaborn as sns\n",
    "from sklearn.model_selection import train_test_split, cross_val_score\n",
    "from sklearn.linear_model import LinearRegression\n",
    "from sklearn.preprocessing import StandardScaler, PolynomialFeatures\n",
    "import matplotlib.pyplot as plt\n",
    "from sklearn import metrics\n",
    "import pickle"
   ]
  },
  {
   "cell_type": "markdown",
   "metadata": {},
   "source": [
    "## First Submission: Model 4"
   ]
  },
  {
   "cell_type": "markdown",
   "metadata": {},
   "source": [
    "Import and clean the Kaggle test data"
   ]
  },
  {
   "cell_type": "code",
   "execution_count": 2,
   "metadata": {},
   "outputs": [],
   "source": [
    "kaggle = pd.read_csv('../datasets/test.csv')"
   ]
  },
  {
   "cell_type": "code",
   "execution_count": 3,
   "metadata": {},
   "outputs": [
    {
     "data": {
      "text/html": [
       "<div>\n",
       "<style scoped>\n",
       "    .dataframe tbody tr th:only-of-type {\n",
       "        vertical-align: middle;\n",
       "    }\n",
       "\n",
       "    .dataframe tbody tr th {\n",
       "        vertical-align: top;\n",
       "    }\n",
       "\n",
       "    .dataframe thead th {\n",
       "        text-align: right;\n",
       "    }\n",
       "</style>\n",
       "<table border=\"1\" class=\"dataframe\">\n",
       "  <thead>\n",
       "    <tr style=\"text-align: right;\">\n",
       "      <th></th>\n",
       "      <th>Id</th>\n",
       "      <th>PID</th>\n",
       "      <th>MS SubClass</th>\n",
       "      <th>MS Zoning</th>\n",
       "      <th>Lot Frontage</th>\n",
       "      <th>Lot Area</th>\n",
       "      <th>Street</th>\n",
       "      <th>Alley</th>\n",
       "      <th>Lot Shape</th>\n",
       "      <th>Land Contour</th>\n",
       "      <th>...</th>\n",
       "      <th>3Ssn Porch</th>\n",
       "      <th>Screen Porch</th>\n",
       "      <th>Pool Area</th>\n",
       "      <th>Pool QC</th>\n",
       "      <th>Fence</th>\n",
       "      <th>Misc Feature</th>\n",
       "      <th>Misc Val</th>\n",
       "      <th>Mo Sold</th>\n",
       "      <th>Yr Sold</th>\n",
       "      <th>Sale Type</th>\n",
       "    </tr>\n",
       "  </thead>\n",
       "  <tbody>\n",
       "    <tr>\n",
       "      <th>0</th>\n",
       "      <td>2658</td>\n",
       "      <td>902301120</td>\n",
       "      <td>190</td>\n",
       "      <td>RM</td>\n",
       "      <td>69.0</td>\n",
       "      <td>9142</td>\n",
       "      <td>Pave</td>\n",
       "      <td>Grvl</td>\n",
       "      <td>Reg</td>\n",
       "      <td>Lvl</td>\n",
       "      <td>...</td>\n",
       "      <td>0</td>\n",
       "      <td>0</td>\n",
       "      <td>0</td>\n",
       "      <td>NaN</td>\n",
       "      <td>NaN</td>\n",
       "      <td>NaN</td>\n",
       "      <td>0</td>\n",
       "      <td>4</td>\n",
       "      <td>2006</td>\n",
       "      <td>WD</td>\n",
       "    </tr>\n",
       "    <tr>\n",
       "      <th>1</th>\n",
       "      <td>2718</td>\n",
       "      <td>905108090</td>\n",
       "      <td>90</td>\n",
       "      <td>RL</td>\n",
       "      <td>NaN</td>\n",
       "      <td>9662</td>\n",
       "      <td>Pave</td>\n",
       "      <td>NaN</td>\n",
       "      <td>IR1</td>\n",
       "      <td>Lvl</td>\n",
       "      <td>...</td>\n",
       "      <td>0</td>\n",
       "      <td>0</td>\n",
       "      <td>0</td>\n",
       "      <td>NaN</td>\n",
       "      <td>NaN</td>\n",
       "      <td>NaN</td>\n",
       "      <td>0</td>\n",
       "      <td>8</td>\n",
       "      <td>2006</td>\n",
       "      <td>WD</td>\n",
       "    </tr>\n",
       "    <tr>\n",
       "      <th>2</th>\n",
       "      <td>2414</td>\n",
       "      <td>528218130</td>\n",
       "      <td>60</td>\n",
       "      <td>RL</td>\n",
       "      <td>58.0</td>\n",
       "      <td>17104</td>\n",
       "      <td>Pave</td>\n",
       "      <td>NaN</td>\n",
       "      <td>IR1</td>\n",
       "      <td>Lvl</td>\n",
       "      <td>...</td>\n",
       "      <td>0</td>\n",
       "      <td>0</td>\n",
       "      <td>0</td>\n",
       "      <td>NaN</td>\n",
       "      <td>NaN</td>\n",
       "      <td>NaN</td>\n",
       "      <td>0</td>\n",
       "      <td>9</td>\n",
       "      <td>2006</td>\n",
       "      <td>New</td>\n",
       "    </tr>\n",
       "    <tr>\n",
       "      <th>3</th>\n",
       "      <td>1989</td>\n",
       "      <td>902207150</td>\n",
       "      <td>30</td>\n",
       "      <td>RM</td>\n",
       "      <td>60.0</td>\n",
       "      <td>8520</td>\n",
       "      <td>Pave</td>\n",
       "      <td>NaN</td>\n",
       "      <td>Reg</td>\n",
       "      <td>Lvl</td>\n",
       "      <td>...</td>\n",
       "      <td>0</td>\n",
       "      <td>0</td>\n",
       "      <td>0</td>\n",
       "      <td>NaN</td>\n",
       "      <td>NaN</td>\n",
       "      <td>NaN</td>\n",
       "      <td>0</td>\n",
       "      <td>7</td>\n",
       "      <td>2007</td>\n",
       "      <td>WD</td>\n",
       "    </tr>\n",
       "    <tr>\n",
       "      <th>4</th>\n",
       "      <td>625</td>\n",
       "      <td>535105100</td>\n",
       "      <td>20</td>\n",
       "      <td>RL</td>\n",
       "      <td>NaN</td>\n",
       "      <td>9500</td>\n",
       "      <td>Pave</td>\n",
       "      <td>NaN</td>\n",
       "      <td>IR1</td>\n",
       "      <td>Lvl</td>\n",
       "      <td>...</td>\n",
       "      <td>0</td>\n",
       "      <td>185</td>\n",
       "      <td>0</td>\n",
       "      <td>NaN</td>\n",
       "      <td>NaN</td>\n",
       "      <td>NaN</td>\n",
       "      <td>0</td>\n",
       "      <td>7</td>\n",
       "      <td>2009</td>\n",
       "      <td>WD</td>\n",
       "    </tr>\n",
       "  </tbody>\n",
       "</table>\n",
       "<p>5 rows × 80 columns</p>\n",
       "</div>"
      ],
      "text/plain": [
       "     Id        PID  MS SubClass MS Zoning  Lot Frontage  Lot Area Street  \\\n",
       "0  2658  902301120          190        RM          69.0      9142   Pave   \n",
       "1  2718  905108090           90        RL           NaN      9662   Pave   \n",
       "2  2414  528218130           60        RL          58.0     17104   Pave   \n",
       "3  1989  902207150           30        RM          60.0      8520   Pave   \n",
       "4   625  535105100           20        RL           NaN      9500   Pave   \n",
       "\n",
       "  Alley Lot Shape Land Contour  ... 3Ssn Porch Screen Porch Pool Area Pool QC  \\\n",
       "0  Grvl       Reg          Lvl  ...          0            0         0     NaN   \n",
       "1   NaN       IR1          Lvl  ...          0            0         0     NaN   \n",
       "2   NaN       IR1          Lvl  ...          0            0         0     NaN   \n",
       "3   NaN       Reg          Lvl  ...          0            0         0     NaN   \n",
       "4   NaN       IR1          Lvl  ...          0          185         0     NaN   \n",
       "\n",
       "  Fence Misc Feature Misc Val Mo Sold  Yr Sold  Sale Type  \n",
       "0   NaN          NaN        0       4     2006        WD   \n",
       "1   NaN          NaN        0       8     2006        WD   \n",
       "2   NaN          NaN        0       9     2006        New  \n",
       "3   NaN          NaN        0       7     2007        WD   \n",
       "4   NaN          NaN        0       7     2009        WD   \n",
       "\n",
       "[5 rows x 80 columns]"
      ]
     },
     "execution_count": 3,
     "metadata": {},
     "output_type": "execute_result"
    }
   ],
   "source": [
    "kaggle.head()"
   ]
  },
  {
   "cell_type": "code",
   "execution_count": 4,
   "metadata": {},
   "outputs": [
    {
     "data": {
      "text/plain": [
       "(878, 80)"
      ]
     },
     "execution_count": 4,
     "metadata": {},
     "output_type": "execute_result"
    }
   ],
   "source": [
    "kaggle.shape"
   ]
  },
  {
   "cell_type": "code",
   "execution_count": 5,
   "metadata": {},
   "outputs": [
    {
     "data": {
      "text/plain": [
       "Pool QC           874\n",
       "Misc Feature      837\n",
       "Alley             820\n",
       "Fence             706\n",
       "Fireplace Qu      422\n",
       "Lot Frontage      160\n",
       "Garage Cond        45\n",
       "Garage Qual        45\n",
       "Garage Yr Blt      45\n",
       "Garage Finish      45\n",
       "Garage Type        44\n",
       "Bsmt Exposure      25\n",
       "BsmtFin Type 1     25\n",
       "Bsmt Qual          25\n",
       "BsmtFin Type 2     25\n",
       "dtype: int64"
      ]
     },
     "execution_count": 5,
     "metadata": {},
     "output_type": "execute_result"
    }
   ],
   "source": [
    "kaggle.isnull().sum().sort_values(ascending=False).head(15)"
   ]
  },
  {
   "cell_type": "markdown",
   "metadata": {},
   "source": [
    "Rename the columns to be lowercase and underscores:"
   ]
  },
  {
   "cell_type": "code",
   "execution_count": 6,
   "metadata": {},
   "outputs": [],
   "source": [
    "def rename_column(col):\n",
    "    col = col.lower().replace(' ', '_')\n",
    "    return col"
   ]
  },
  {
   "cell_type": "code",
   "execution_count": 7,
   "metadata": {},
   "outputs": [],
   "source": [
    "kaggle.columns = kaggle.columns.map(rename_column)"
   ]
  },
  {
   "cell_type": "code",
   "execution_count": 8,
   "metadata": {},
   "outputs": [
    {
     "data": {
      "text/html": [
       "<div>\n",
       "<style scoped>\n",
       "    .dataframe tbody tr th:only-of-type {\n",
       "        vertical-align: middle;\n",
       "    }\n",
       "\n",
       "    .dataframe tbody tr th {\n",
       "        vertical-align: top;\n",
       "    }\n",
       "\n",
       "    .dataframe thead th {\n",
       "        text-align: right;\n",
       "    }\n",
       "</style>\n",
       "<table border=\"1\" class=\"dataframe\">\n",
       "  <thead>\n",
       "    <tr style=\"text-align: right;\">\n",
       "      <th></th>\n",
       "      <th>id</th>\n",
       "      <th>pid</th>\n",
       "      <th>ms_subclass</th>\n",
       "      <th>ms_zoning</th>\n",
       "      <th>lot_frontage</th>\n",
       "      <th>lot_area</th>\n",
       "      <th>street</th>\n",
       "      <th>alley</th>\n",
       "      <th>lot_shape</th>\n",
       "      <th>land_contour</th>\n",
       "      <th>...</th>\n",
       "      <th>3ssn_porch</th>\n",
       "      <th>screen_porch</th>\n",
       "      <th>pool_area</th>\n",
       "      <th>pool_qc</th>\n",
       "      <th>fence</th>\n",
       "      <th>misc_feature</th>\n",
       "      <th>misc_val</th>\n",
       "      <th>mo_sold</th>\n",
       "      <th>yr_sold</th>\n",
       "      <th>sale_type</th>\n",
       "    </tr>\n",
       "  </thead>\n",
       "  <tbody>\n",
       "    <tr>\n",
       "      <th>0</th>\n",
       "      <td>2658</td>\n",
       "      <td>902301120</td>\n",
       "      <td>190</td>\n",
       "      <td>RM</td>\n",
       "      <td>69.0</td>\n",
       "      <td>9142</td>\n",
       "      <td>Pave</td>\n",
       "      <td>Grvl</td>\n",
       "      <td>Reg</td>\n",
       "      <td>Lvl</td>\n",
       "      <td>...</td>\n",
       "      <td>0</td>\n",
       "      <td>0</td>\n",
       "      <td>0</td>\n",
       "      <td>NaN</td>\n",
       "      <td>NaN</td>\n",
       "      <td>NaN</td>\n",
       "      <td>0</td>\n",
       "      <td>4</td>\n",
       "      <td>2006</td>\n",
       "      <td>WD</td>\n",
       "    </tr>\n",
       "    <tr>\n",
       "      <th>1</th>\n",
       "      <td>2718</td>\n",
       "      <td>905108090</td>\n",
       "      <td>90</td>\n",
       "      <td>RL</td>\n",
       "      <td>NaN</td>\n",
       "      <td>9662</td>\n",
       "      <td>Pave</td>\n",
       "      <td>NaN</td>\n",
       "      <td>IR1</td>\n",
       "      <td>Lvl</td>\n",
       "      <td>...</td>\n",
       "      <td>0</td>\n",
       "      <td>0</td>\n",
       "      <td>0</td>\n",
       "      <td>NaN</td>\n",
       "      <td>NaN</td>\n",
       "      <td>NaN</td>\n",
       "      <td>0</td>\n",
       "      <td>8</td>\n",
       "      <td>2006</td>\n",
       "      <td>WD</td>\n",
       "    </tr>\n",
       "  </tbody>\n",
       "</table>\n",
       "<p>2 rows × 80 columns</p>\n",
       "</div>"
      ],
      "text/plain": [
       "     id        pid  ms_subclass ms_zoning  lot_frontage  lot_area street  \\\n",
       "0  2658  902301120          190        RM          69.0      9142   Pave   \n",
       "1  2718  905108090           90        RL           NaN      9662   Pave   \n",
       "\n",
       "  alley lot_shape land_contour  ... 3ssn_porch screen_porch pool_area pool_qc  \\\n",
       "0  Grvl       Reg          Lvl  ...          0            0         0     NaN   \n",
       "1   NaN       IR1          Lvl  ...          0            0         0     NaN   \n",
       "\n",
       "  fence misc_feature misc_val mo_sold  yr_sold  sale_type  \n",
       "0   NaN          NaN        0       4     2006        WD   \n",
       "1   NaN          NaN        0       8     2006        WD   \n",
       "\n",
       "[2 rows x 80 columns]"
      ]
     },
     "execution_count": 8,
     "metadata": {},
     "output_type": "execute_result"
    }
   ],
   "source": [
    "kaggle.head(2)"
   ]
  },
  {
   "cell_type": "code",
   "execution_count": 9,
   "metadata": {},
   "outputs": [],
   "source": [
    "to_drop = ['pool_qc', 'misc_feature', 'alley', 'fence', 'fireplace_qu', 'lot_frontage', 'garage_yr_blt', 'garage_finish', 'garage_qual', 'garage_cond', 'garage_type']"
   ]
  },
  {
   "cell_type": "code",
   "execution_count": 10,
   "metadata": {},
   "outputs": [],
   "source": [
    "kaggle.drop(columns= to_drop, inplace=True)"
   ]
  },
  {
   "cell_type": "code",
   "execution_count": 11,
   "metadata": {},
   "outputs": [
    {
     "data": {
      "text/plain": [
       "(878, 69)"
      ]
     },
     "execution_count": 11,
     "metadata": {},
     "output_type": "execute_result"
    }
   ],
   "source": [
    "kaggle.shape"
   ]
  },
  {
   "cell_type": "markdown",
   "metadata": {},
   "source": [
    "Saving the cleaned test set:"
   ]
  },
  {
   "cell_type": "code",
   "execution_count": 12,
   "metadata": {},
   "outputs": [],
   "source": [
    "kaggle.to_csv('../datasets/kaggle_test_cleaned.csv', index = False)"
   ]
  },
  {
   "cell_type": "markdown",
   "metadata": {},
   "source": [
    "Transform my data to include the features needed"
   ]
  },
  {
   "cell_type": "markdown",
   "metadata": {},
   "source": [
    "Combining all the bathroom columns:"
   ]
  },
  {
   "cell_type": "code",
   "execution_count": 13,
   "metadata": {},
   "outputs": [],
   "source": [
    "kaggle['total_bath'] = kaggle['bsmt_full_bath'] + (kaggle['bsmt_half_bath'] *.5) + kaggle['full_bath'] + (kaggle['half_bath'] *.5)\n"
   ]
  },
  {
   "cell_type": "markdown",
   "metadata": {},
   "source": [
    "Copying over my dictionary of average price by city:"
   ]
  },
  {
   "cell_type": "code",
   "execution_count": 14,
   "metadata": {},
   "outputs": [],
   "source": [
    "neighb_dict = {'Blmngtn': 2.0, 'Blueste': 1.45, 'BrDale': 1.03, 'BrkSide': 1.29, 'ClearCr': 2.21, 'CollgCr': 2.02, 'Crawfor': 2.06, 'Edwards': 1.32, 'Gilbert': 1.89, 'Greens': 1.89, 'GrnHill': 3.3, 'IDOTRR': 1.04, 'Landmrk': 1.37, 'MeadowV': 1.0, 'Mitchel': 1.71, 'NAmes': 1.48, 'NPkVill': 1.4, 'NWAmes': 1.95, 'NoRidge': 3.16, 'NridgHt': 3.22, 'OldTown': 1.26, 'SWISU': 1.35, 'Sawyer': 1.39, 'SawyerW': 1.92, 'Somerst': 2.27, 'StoneBr': 3.3, 'Timber': 2.4, 'Veenker': 2.54}"
   ]
  },
  {
   "cell_type": "code",
   "execution_count": 15,
   "metadata": {},
   "outputs": [],
   "source": [
    "kaggle['neighborhood_avg'] = kaggle['neighborhood'].apply(lambda x: neighb_dict[x])"
   ]
  },
  {
   "cell_type": "markdown",
   "metadata": {},
   "source": [
    "Creating a column that looks at the ratio of bed to bath:"
   ]
  },
  {
   "cell_type": "code",
   "execution_count": 16,
   "metadata": {
    "scrolled": true
   },
   "outputs": [],
   "source": [
    "kaggle['Bed_bath_ratio'] = kaggle['bedroom_abvgr'] / kaggle['total_bath']"
   ]
  },
  {
   "cell_type": "markdown",
   "metadata": {},
   "source": [
    "Getting dummies:"
   ]
  },
  {
   "cell_type": "code",
   "execution_count": 17,
   "metadata": {},
   "outputs": [],
   "source": [
    "house_style = pd.get_dummies(kaggle['house_style'], drop_first=True, prefix='style')\n",
    "ext_qual = pd.get_dummies(kaggle['exter_qual'], drop_first=True, prefix='ext')\n",
    "base_qual = pd.get_dummies(kaggle['bsmt_qual'], drop_first=True, prefix='base')\n",
    "kitch_qual = pd.get_dummies(kaggle['kitchen_qual'], drop_first=True, prefix='kitch')\n",
    "kitch_qual.drop(columns=['kitch_Po'], inplace=True)\n",
    "ms_zone = pd.get_dummies(kaggle['ms_zoning'], drop_first=True, prefix='zone')\n",
    "ms_zone.drop(columns=['zone_I (all)'], inplace=True)"
   ]
  },
  {
   "cell_type": "code",
   "execution_count": 18,
   "metadata": {},
   "outputs": [
    {
     "data": {
      "text/html": [
       "<div>\n",
       "<style scoped>\n",
       "    .dataframe tbody tr th:only-of-type {\n",
       "        vertical-align: middle;\n",
       "    }\n",
       "\n",
       "    .dataframe tbody tr th {\n",
       "        vertical-align: top;\n",
       "    }\n",
       "\n",
       "    .dataframe thead th {\n",
       "        text-align: right;\n",
       "    }\n",
       "</style>\n",
       "<table border=\"1\" class=\"dataframe\">\n",
       "  <thead>\n",
       "    <tr style=\"text-align: right;\">\n",
       "      <th></th>\n",
       "      <th>zone_FV</th>\n",
       "      <th>zone_RH</th>\n",
       "      <th>zone_RL</th>\n",
       "      <th>zone_RM</th>\n",
       "    </tr>\n",
       "  </thead>\n",
       "  <tbody>\n",
       "    <tr>\n",
       "      <th>0</th>\n",
       "      <td>0</td>\n",
       "      <td>0</td>\n",
       "      <td>0</td>\n",
       "      <td>1</td>\n",
       "    </tr>\n",
       "    <tr>\n",
       "      <th>1</th>\n",
       "      <td>0</td>\n",
       "      <td>0</td>\n",
       "      <td>1</td>\n",
       "      <td>0</td>\n",
       "    </tr>\n",
       "    <tr>\n",
       "      <th>2</th>\n",
       "      <td>0</td>\n",
       "      <td>0</td>\n",
       "      <td>1</td>\n",
       "      <td>0</td>\n",
       "    </tr>\n",
       "    <tr>\n",
       "      <th>3</th>\n",
       "      <td>0</td>\n",
       "      <td>0</td>\n",
       "      <td>0</td>\n",
       "      <td>1</td>\n",
       "    </tr>\n",
       "    <tr>\n",
       "      <th>4</th>\n",
       "      <td>0</td>\n",
       "      <td>0</td>\n",
       "      <td>1</td>\n",
       "      <td>0</td>\n",
       "    </tr>\n",
       "    <tr>\n",
       "      <th>...</th>\n",
       "      <td>...</td>\n",
       "      <td>...</td>\n",
       "      <td>...</td>\n",
       "      <td>...</td>\n",
       "    </tr>\n",
       "    <tr>\n",
       "      <th>873</th>\n",
       "      <td>0</td>\n",
       "      <td>0</td>\n",
       "      <td>1</td>\n",
       "      <td>0</td>\n",
       "    </tr>\n",
       "    <tr>\n",
       "      <th>874</th>\n",
       "      <td>0</td>\n",
       "      <td>0</td>\n",
       "      <td>1</td>\n",
       "      <td>0</td>\n",
       "    </tr>\n",
       "    <tr>\n",
       "      <th>875</th>\n",
       "      <td>0</td>\n",
       "      <td>0</td>\n",
       "      <td>1</td>\n",
       "      <td>0</td>\n",
       "    </tr>\n",
       "    <tr>\n",
       "      <th>876</th>\n",
       "      <td>0</td>\n",
       "      <td>0</td>\n",
       "      <td>1</td>\n",
       "      <td>0</td>\n",
       "    </tr>\n",
       "    <tr>\n",
       "      <th>877</th>\n",
       "      <td>0</td>\n",
       "      <td>0</td>\n",
       "      <td>1</td>\n",
       "      <td>0</td>\n",
       "    </tr>\n",
       "  </tbody>\n",
       "</table>\n",
       "<p>878 rows × 4 columns</p>\n",
       "</div>"
      ],
      "text/plain": [
       "     zone_FV  zone_RH  zone_RL  zone_RM\n",
       "0          0        0        0        1\n",
       "1          0        0        1        0\n",
       "2          0        0        1        0\n",
       "3          0        0        0        1\n",
       "4          0        0        1        0\n",
       "..       ...      ...      ...      ...\n",
       "873        0        0        1        0\n",
       "874        0        0        1        0\n",
       "875        0        0        1        0\n",
       "876        0        0        1        0\n",
       "877        0        0        1        0\n",
       "\n",
       "[878 rows x 4 columns]"
      ]
     },
     "execution_count": 18,
     "metadata": {},
     "output_type": "execute_result"
    }
   ],
   "source": [
    "ms_zone"
   ]
  },
  {
   "cell_type": "code",
   "execution_count": 19,
   "metadata": {},
   "outputs": [],
   "source": [
    "kaggle = pd.concat([kaggle, house_style, ext_qual, base_qual, kitch_qual, ms_zone], axis=1)"
   ]
  },
  {
   "cell_type": "code",
   "execution_count": 20,
   "metadata": {},
   "outputs": [
    {
     "data": {
      "text/html": [
       "<div>\n",
       "<style scoped>\n",
       "    .dataframe tbody tr th:only-of-type {\n",
       "        vertical-align: middle;\n",
       "    }\n",
       "\n",
       "    .dataframe tbody tr th {\n",
       "        vertical-align: top;\n",
       "    }\n",
       "\n",
       "    .dataframe thead th {\n",
       "        text-align: right;\n",
       "    }\n",
       "</style>\n",
       "<table border=\"1\" class=\"dataframe\">\n",
       "  <thead>\n",
       "    <tr style=\"text-align: right;\">\n",
       "      <th></th>\n",
       "      <th>id</th>\n",
       "      <th>pid</th>\n",
       "      <th>ms_subclass</th>\n",
       "      <th>ms_zoning</th>\n",
       "      <th>lot_area</th>\n",
       "      <th>street</th>\n",
       "      <th>lot_shape</th>\n",
       "      <th>land_contour</th>\n",
       "      <th>utilities</th>\n",
       "      <th>lot_config</th>\n",
       "      <th>...</th>\n",
       "      <th>base_Gd</th>\n",
       "      <th>base_Po</th>\n",
       "      <th>base_TA</th>\n",
       "      <th>kitch_Fa</th>\n",
       "      <th>kitch_Gd</th>\n",
       "      <th>kitch_TA</th>\n",
       "      <th>zone_FV</th>\n",
       "      <th>zone_RH</th>\n",
       "      <th>zone_RL</th>\n",
       "      <th>zone_RM</th>\n",
       "    </tr>\n",
       "  </thead>\n",
       "  <tbody>\n",
       "    <tr>\n",
       "      <th>0</th>\n",
       "      <td>2658</td>\n",
       "      <td>902301120</td>\n",
       "      <td>190</td>\n",
       "      <td>RM</td>\n",
       "      <td>9142</td>\n",
       "      <td>Pave</td>\n",
       "      <td>Reg</td>\n",
       "      <td>Lvl</td>\n",
       "      <td>AllPub</td>\n",
       "      <td>Inside</td>\n",
       "      <td>...</td>\n",
       "      <td>0</td>\n",
       "      <td>0</td>\n",
       "      <td>0</td>\n",
       "      <td>1</td>\n",
       "      <td>0</td>\n",
       "      <td>0</td>\n",
       "      <td>0</td>\n",
       "      <td>0</td>\n",
       "      <td>0</td>\n",
       "      <td>1</td>\n",
       "    </tr>\n",
       "    <tr>\n",
       "      <th>1</th>\n",
       "      <td>2718</td>\n",
       "      <td>905108090</td>\n",
       "      <td>90</td>\n",
       "      <td>RL</td>\n",
       "      <td>9662</td>\n",
       "      <td>Pave</td>\n",
       "      <td>IR1</td>\n",
       "      <td>Lvl</td>\n",
       "      <td>AllPub</td>\n",
       "      <td>Inside</td>\n",
       "      <td>...</td>\n",
       "      <td>1</td>\n",
       "      <td>0</td>\n",
       "      <td>0</td>\n",
       "      <td>0</td>\n",
       "      <td>0</td>\n",
       "      <td>1</td>\n",
       "      <td>0</td>\n",
       "      <td>0</td>\n",
       "      <td>1</td>\n",
       "      <td>0</td>\n",
       "    </tr>\n",
       "    <tr>\n",
       "      <th>2</th>\n",
       "      <td>2414</td>\n",
       "      <td>528218130</td>\n",
       "      <td>60</td>\n",
       "      <td>RL</td>\n",
       "      <td>17104</td>\n",
       "      <td>Pave</td>\n",
       "      <td>IR1</td>\n",
       "      <td>Lvl</td>\n",
       "      <td>AllPub</td>\n",
       "      <td>Inside</td>\n",
       "      <td>...</td>\n",
       "      <td>1</td>\n",
       "      <td>0</td>\n",
       "      <td>0</td>\n",
       "      <td>0</td>\n",
       "      <td>1</td>\n",
       "      <td>0</td>\n",
       "      <td>0</td>\n",
       "      <td>0</td>\n",
       "      <td>1</td>\n",
       "      <td>0</td>\n",
       "    </tr>\n",
       "    <tr>\n",
       "      <th>3</th>\n",
       "      <td>1989</td>\n",
       "      <td>902207150</td>\n",
       "      <td>30</td>\n",
       "      <td>RM</td>\n",
       "      <td>8520</td>\n",
       "      <td>Pave</td>\n",
       "      <td>Reg</td>\n",
       "      <td>Lvl</td>\n",
       "      <td>AllPub</td>\n",
       "      <td>Inside</td>\n",
       "      <td>...</td>\n",
       "      <td>0</td>\n",
       "      <td>0</td>\n",
       "      <td>1</td>\n",
       "      <td>0</td>\n",
       "      <td>0</td>\n",
       "      <td>1</td>\n",
       "      <td>0</td>\n",
       "      <td>0</td>\n",
       "      <td>0</td>\n",
       "      <td>1</td>\n",
       "    </tr>\n",
       "    <tr>\n",
       "      <th>4</th>\n",
       "      <td>625</td>\n",
       "      <td>535105100</td>\n",
       "      <td>20</td>\n",
       "      <td>RL</td>\n",
       "      <td>9500</td>\n",
       "      <td>Pave</td>\n",
       "      <td>IR1</td>\n",
       "      <td>Lvl</td>\n",
       "      <td>AllPub</td>\n",
       "      <td>Inside</td>\n",
       "      <td>...</td>\n",
       "      <td>1</td>\n",
       "      <td>0</td>\n",
       "      <td>0</td>\n",
       "      <td>0</td>\n",
       "      <td>0</td>\n",
       "      <td>1</td>\n",
       "      <td>0</td>\n",
       "      <td>0</td>\n",
       "      <td>1</td>\n",
       "      <td>0</td>\n",
       "    </tr>\n",
       "    <tr>\n",
       "      <th>...</th>\n",
       "      <td>...</td>\n",
       "      <td>...</td>\n",
       "      <td>...</td>\n",
       "      <td>...</td>\n",
       "      <td>...</td>\n",
       "      <td>...</td>\n",
       "      <td>...</td>\n",
       "      <td>...</td>\n",
       "      <td>...</td>\n",
       "      <td>...</td>\n",
       "      <td>...</td>\n",
       "      <td>...</td>\n",
       "      <td>...</td>\n",
       "      <td>...</td>\n",
       "      <td>...</td>\n",
       "      <td>...</td>\n",
       "      <td>...</td>\n",
       "      <td>...</td>\n",
       "      <td>...</td>\n",
       "      <td>...</td>\n",
       "      <td>...</td>\n",
       "    </tr>\n",
       "    <tr>\n",
       "      <th>873</th>\n",
       "      <td>1662</td>\n",
       "      <td>527377110</td>\n",
       "      <td>60</td>\n",
       "      <td>RL</td>\n",
       "      <td>8000</td>\n",
       "      <td>Pave</td>\n",
       "      <td>Reg</td>\n",
       "      <td>Lvl</td>\n",
       "      <td>AllPub</td>\n",
       "      <td>Inside</td>\n",
       "      <td>...</td>\n",
       "      <td>0</td>\n",
       "      <td>0</td>\n",
       "      <td>1</td>\n",
       "      <td>0</td>\n",
       "      <td>0</td>\n",
       "      <td>1</td>\n",
       "      <td>0</td>\n",
       "      <td>0</td>\n",
       "      <td>1</td>\n",
       "      <td>0</td>\n",
       "    </tr>\n",
       "    <tr>\n",
       "      <th>874</th>\n",
       "      <td>1234</td>\n",
       "      <td>535126140</td>\n",
       "      <td>60</td>\n",
       "      <td>RL</td>\n",
       "      <td>14670</td>\n",
       "      <td>Pave</td>\n",
       "      <td>Reg</td>\n",
       "      <td>Lvl</td>\n",
       "      <td>AllPub</td>\n",
       "      <td>Inside</td>\n",
       "      <td>...</td>\n",
       "      <td>0</td>\n",
       "      <td>0</td>\n",
       "      <td>1</td>\n",
       "      <td>0</td>\n",
       "      <td>1</td>\n",
       "      <td>0</td>\n",
       "      <td>0</td>\n",
       "      <td>0</td>\n",
       "      <td>1</td>\n",
       "      <td>0</td>\n",
       "    </tr>\n",
       "    <tr>\n",
       "      <th>875</th>\n",
       "      <td>1373</td>\n",
       "      <td>904100040</td>\n",
       "      <td>20</td>\n",
       "      <td>RL</td>\n",
       "      <td>8250</td>\n",
       "      <td>Pave</td>\n",
       "      <td>Reg</td>\n",
       "      <td>Lvl</td>\n",
       "      <td>AllPub</td>\n",
       "      <td>Inside</td>\n",
       "      <td>...</td>\n",
       "      <td>0</td>\n",
       "      <td>0</td>\n",
       "      <td>1</td>\n",
       "      <td>0</td>\n",
       "      <td>0</td>\n",
       "      <td>1</td>\n",
       "      <td>0</td>\n",
       "      <td>0</td>\n",
       "      <td>1</td>\n",
       "      <td>0</td>\n",
       "    </tr>\n",
       "    <tr>\n",
       "      <th>876</th>\n",
       "      <td>1672</td>\n",
       "      <td>527425140</td>\n",
       "      <td>20</td>\n",
       "      <td>RL</td>\n",
       "      <td>9000</td>\n",
       "      <td>Pave</td>\n",
       "      <td>Reg</td>\n",
       "      <td>Lvl</td>\n",
       "      <td>AllPub</td>\n",
       "      <td>FR2</td>\n",
       "      <td>...</td>\n",
       "      <td>0</td>\n",
       "      <td>0</td>\n",
       "      <td>1</td>\n",
       "      <td>0</td>\n",
       "      <td>0</td>\n",
       "      <td>1</td>\n",
       "      <td>0</td>\n",
       "      <td>0</td>\n",
       "      <td>1</td>\n",
       "      <td>0</td>\n",
       "    </tr>\n",
       "    <tr>\n",
       "      <th>877</th>\n",
       "      <td>1939</td>\n",
       "      <td>535327160</td>\n",
       "      <td>20</td>\n",
       "      <td>RL</td>\n",
       "      <td>8400</td>\n",
       "      <td>Pave</td>\n",
       "      <td>Reg</td>\n",
       "      <td>Lvl</td>\n",
       "      <td>AllPub</td>\n",
       "      <td>Corner</td>\n",
       "      <td>...</td>\n",
       "      <td>0</td>\n",
       "      <td>0</td>\n",
       "      <td>1</td>\n",
       "      <td>0</td>\n",
       "      <td>0</td>\n",
       "      <td>1</td>\n",
       "      <td>0</td>\n",
       "      <td>0</td>\n",
       "      <td>1</td>\n",
       "      <td>0</td>\n",
       "    </tr>\n",
       "  </tbody>\n",
       "</table>\n",
       "<p>878 rows × 93 columns</p>\n",
       "</div>"
      ],
      "text/plain": [
       "       id        pid  ms_subclass ms_zoning  lot_area street lot_shape  \\\n",
       "0    2658  902301120          190        RM      9142   Pave       Reg   \n",
       "1    2718  905108090           90        RL      9662   Pave       IR1   \n",
       "2    2414  528218130           60        RL     17104   Pave       IR1   \n",
       "3    1989  902207150           30        RM      8520   Pave       Reg   \n",
       "4     625  535105100           20        RL      9500   Pave       IR1   \n",
       "..    ...        ...          ...       ...       ...    ...       ...   \n",
       "873  1662  527377110           60        RL      8000   Pave       Reg   \n",
       "874  1234  535126140           60        RL     14670   Pave       Reg   \n",
       "875  1373  904100040           20        RL      8250   Pave       Reg   \n",
       "876  1672  527425140           20        RL      9000   Pave       Reg   \n",
       "877  1939  535327160           20        RL      8400   Pave       Reg   \n",
       "\n",
       "    land_contour utilities lot_config  ... base_Gd base_Po base_TA kitch_Fa  \\\n",
       "0            Lvl    AllPub     Inside  ...       0       0       0        1   \n",
       "1            Lvl    AllPub     Inside  ...       1       0       0        0   \n",
       "2            Lvl    AllPub     Inside  ...       1       0       0        0   \n",
       "3            Lvl    AllPub     Inside  ...       0       0       1        0   \n",
       "4            Lvl    AllPub     Inside  ...       1       0       0        0   \n",
       "..           ...       ...        ...  ...     ...     ...     ...      ...   \n",
       "873          Lvl    AllPub     Inside  ...       0       0       1        0   \n",
       "874          Lvl    AllPub     Inside  ...       0       0       1        0   \n",
       "875          Lvl    AllPub     Inside  ...       0       0       1        0   \n",
       "876          Lvl    AllPub        FR2  ...       0       0       1        0   \n",
       "877          Lvl    AllPub     Corner  ...       0       0       1        0   \n",
       "\n",
       "    kitch_Gd kitch_TA  zone_FV  zone_RH  zone_RL  zone_RM  \n",
       "0          0        0        0        0        0        1  \n",
       "1          0        1        0        0        1        0  \n",
       "2          1        0        0        0        1        0  \n",
       "3          0        1        0        0        0        1  \n",
       "4          0        1        0        0        1        0  \n",
       "..       ...      ...      ...      ...      ...      ...  \n",
       "873        0        1        0        0        1        0  \n",
       "874        1        0        0        0        1        0  \n",
       "875        0        1        0        0        1        0  \n",
       "876        0        1        0        0        1        0  \n",
       "877        0        1        0        0        1        0  \n",
       "\n",
       "[878 rows x 93 columns]"
      ]
     },
     "execution_count": 20,
     "metadata": {},
     "output_type": "execute_result"
    }
   ],
   "source": [
    "kaggle"
   ]
  },
  {
   "cell_type": "code",
   "execution_count": 21,
   "metadata": {},
   "outputs": [
    {
     "data": {
      "text/plain": [
       "bsmtfin_type_2    25\n",
       "bsmt_qual         25\n",
       "bsmt_cond         25\n",
       "bsmt_exposure     25\n",
       "bsmtfin_type_1    25\n",
       "mas_vnr_type       1\n",
       "mas_vnr_area       1\n",
       "electrical         1\n",
       "bsmtfin_sf_1       0\n",
       "exter_qual         0\n",
       "dtype: int64"
      ]
     },
     "execution_count": 21,
     "metadata": {},
     "output_type": "execute_result"
    }
   ],
   "source": [
    "kaggle.isnull().sum().sort_values(ascending=False).head(10)"
   ]
  },
  {
   "cell_type": "markdown",
   "metadata": {},
   "source": [
    "Copying over the features:"
   ]
  },
  {
   "cell_type": "code",
   "execution_count": 22,
   "metadata": {},
   "outputs": [],
   "source": [
    "features_1 = ['overall_qual', 'gr_liv_area', 'garage_cars', 'garage_area', '1st_flr_sf', 'total_bsmt_sf', 'year_built', 'total_bath', 'year_remod/add', 'totrms_abvgrd', 'mas_vnr_area']\n",
    "features_2 = features_1 + ['neighborhood_avg', 'Bed_bath_ratio']\n",
    "features_3 = features_2 + list(house_style.columns) + list(ext_qual.columns) + list(base_qual.columns) + list(kitch_qual.columns) + list(ms_zone.columns) "
   ]
  },
  {
   "cell_type": "code",
   "execution_count": 23,
   "metadata": {},
   "outputs": [],
   "source": [
    "kaggle['overall_qual'] = kaggle['overall_qual'].map(np.log)\n",
    "\n",
    "features_4 = features_2 + list(house_style.columns) + list(ext_qual.columns) + list(base_qual.columns) + list(kitch_qual.columns) + list(ms_zone.columns)"
   ]
  },
  {
   "cell_type": "code",
   "execution_count": 24,
   "metadata": {},
   "outputs": [
    {
     "data": {
      "text/plain": [
       "overall_qual        0\n",
       "gr_liv_area         0\n",
       "garage_cars         0\n",
       "garage_area         0\n",
       "1st_flr_sf          0\n",
       "total_bsmt_sf       0\n",
       "year_built          0\n",
       "total_bath          0\n",
       "year_remod/add      0\n",
       "totrms_abvgrd       0\n",
       "mas_vnr_area        1\n",
       "neighborhood_avg    0\n",
       "Bed_bath_ratio      0\n",
       "style_1.5Unf        0\n",
       "style_1Story        0\n",
       "style_2.5Fin        0\n",
       "style_2.5Unf        0\n",
       "style_2Story        0\n",
       "style_SFoyer        0\n",
       "style_SLvl          0\n",
       "ext_Fa              0\n",
       "ext_Gd              0\n",
       "ext_TA              0\n",
       "base_Fa             0\n",
       "base_Gd             0\n",
       "base_Po             0\n",
       "base_TA             0\n",
       "kitch_Fa            0\n",
       "kitch_Gd            0\n",
       "kitch_TA            0\n",
       "zone_FV             0\n",
       "zone_RH             0\n",
       "zone_RL             0\n",
       "zone_RM             0\n",
       "dtype: int64"
      ]
     },
     "execution_count": 24,
     "metadata": {},
     "output_type": "execute_result"
    }
   ],
   "source": [
    "kaggle[features_4].isnull().sum()"
   ]
  },
  {
   "cell_type": "markdown",
   "metadata": {},
   "source": [
    "Looks like there's some missing values for the features I use so I'll have to impute those values:"
   ]
  },
  {
   "cell_type": "code",
   "execution_count": 25,
   "metadata": {},
   "outputs": [
    {
     "data": {
      "text/plain": [
       "865    CollgCr\n",
       "Name: neighborhood, dtype: object"
      ]
     },
     "execution_count": 25,
     "metadata": {},
     "output_type": "execute_result"
    }
   ],
   "source": [
    "kaggle[kaggle['mas_vnr_area'].isnull()]['neighborhood']"
   ]
  },
  {
   "cell_type": "code",
   "execution_count": 26,
   "metadata": {},
   "outputs": [
    {
     "data": {
      "text/plain": [
       "neighborhood\n",
       "Blmngtn     40.833333\n",
       "Blueste      0.000000\n",
       "BrDale     321.272727\n",
       "BrkSide     22.281250\n",
       "ClearCr     92.941176\n",
       "CollgCr    115.011628\n",
       "Crawfor    152.656250\n",
       "Edwards     32.380000\n",
       "Gilbert     40.734694\n",
       "Greens       0.000000\n",
       "IDOTRR       0.000000\n",
       "MeadowV      0.000000\n",
       "Mitchel     51.500000\n",
       "NAmes       89.300752\n",
       "NPkVill      0.000000\n",
       "NWAmes     148.454545\n",
       "NoRidge    533.913043\n",
       "NridgHt    324.886364\n",
       "OldTown     26.552632\n",
       "SWISU        5.500000\n",
       "Sawyer      46.500000\n",
       "SawyerW     53.052632\n",
       "Somerst    149.500000\n",
       "StoneBr    174.461538\n",
       "Timber     200.000000\n",
       "Veenker    178.571429\n",
       "Name: mas_vnr_area, dtype: float64"
      ]
     },
     "execution_count": 26,
     "metadata": {},
     "output_type": "execute_result"
    }
   ],
   "source": [
    "kaggle.groupby(kaggle['neighborhood'])['mas_vnr_area'].mean()"
   ]
  },
  {
   "cell_type": "code",
   "execution_count": 27,
   "metadata": {},
   "outputs": [],
   "source": [
    "kaggle.loc[865, 'mas_vnr_area'] =  115"
   ]
  },
  {
   "cell_type": "code",
   "execution_count": 28,
   "metadata": {},
   "outputs": [
    {
     "data": {
      "text/plain": [
       "115.0"
      ]
     },
     "execution_count": 28,
     "metadata": {},
     "output_type": "execute_result"
    }
   ],
   "source": [
    "kaggle.loc[865, 'mas_vnr_area']"
   ]
  },
  {
   "cell_type": "code",
   "execution_count": 29,
   "metadata": {},
   "outputs": [],
   "source": [
    "X = kaggle[features_4]"
   ]
  },
  {
   "cell_type": "code",
   "execution_count": 30,
   "metadata": {},
   "outputs": [
    {
     "data": {
      "text/html": [
       "<div>\n",
       "<style scoped>\n",
       "    .dataframe tbody tr th:only-of-type {\n",
       "        vertical-align: middle;\n",
       "    }\n",
       "\n",
       "    .dataframe tbody tr th {\n",
       "        vertical-align: top;\n",
       "    }\n",
       "\n",
       "    .dataframe thead th {\n",
       "        text-align: right;\n",
       "    }\n",
       "</style>\n",
       "<table border=\"1\" class=\"dataframe\">\n",
       "  <thead>\n",
       "    <tr style=\"text-align: right;\">\n",
       "      <th></th>\n",
       "      <th>overall_qual</th>\n",
       "      <th>gr_liv_area</th>\n",
       "      <th>garage_cars</th>\n",
       "      <th>garage_area</th>\n",
       "      <th>1st_flr_sf</th>\n",
       "      <th>total_bsmt_sf</th>\n",
       "      <th>year_built</th>\n",
       "      <th>total_bath</th>\n",
       "      <th>year_remod/add</th>\n",
       "      <th>totrms_abvgrd</th>\n",
       "      <th>...</th>\n",
       "      <th>base_Gd</th>\n",
       "      <th>base_Po</th>\n",
       "      <th>base_TA</th>\n",
       "      <th>kitch_Fa</th>\n",
       "      <th>kitch_Gd</th>\n",
       "      <th>kitch_TA</th>\n",
       "      <th>zone_FV</th>\n",
       "      <th>zone_RH</th>\n",
       "      <th>zone_RL</th>\n",
       "      <th>zone_RM</th>\n",
       "    </tr>\n",
       "  </thead>\n",
       "  <tbody>\n",
       "    <tr>\n",
       "      <th>0</th>\n",
       "      <td>1.791759</td>\n",
       "      <td>1928</td>\n",
       "      <td>1</td>\n",
       "      <td>440</td>\n",
       "      <td>908</td>\n",
       "      <td>1020</td>\n",
       "      <td>1910</td>\n",
       "      <td>2.0</td>\n",
       "      <td>1950</td>\n",
       "      <td>9</td>\n",
       "      <td>...</td>\n",
       "      <td>0</td>\n",
       "      <td>0</td>\n",
       "      <td>0</td>\n",
       "      <td>1</td>\n",
       "      <td>0</td>\n",
       "      <td>0</td>\n",
       "      <td>0</td>\n",
       "      <td>0</td>\n",
       "      <td>0</td>\n",
       "      <td>1</td>\n",
       "    </tr>\n",
       "    <tr>\n",
       "      <th>1</th>\n",
       "      <td>1.609438</td>\n",
       "      <td>1967</td>\n",
       "      <td>2</td>\n",
       "      <td>580</td>\n",
       "      <td>1967</td>\n",
       "      <td>1967</td>\n",
       "      <td>1977</td>\n",
       "      <td>2.0</td>\n",
       "      <td>1977</td>\n",
       "      <td>10</td>\n",
       "      <td>...</td>\n",
       "      <td>1</td>\n",
       "      <td>0</td>\n",
       "      <td>0</td>\n",
       "      <td>0</td>\n",
       "      <td>0</td>\n",
       "      <td>1</td>\n",
       "      <td>0</td>\n",
       "      <td>0</td>\n",
       "      <td>1</td>\n",
       "      <td>0</td>\n",
       "    </tr>\n",
       "    <tr>\n",
       "      <th>2</th>\n",
       "      <td>1.945910</td>\n",
       "      <td>1496</td>\n",
       "      <td>2</td>\n",
       "      <td>426</td>\n",
       "      <td>664</td>\n",
       "      <td>654</td>\n",
       "      <td>2006</td>\n",
       "      <td>3.5</td>\n",
       "      <td>2006</td>\n",
       "      <td>7</td>\n",
       "      <td>...</td>\n",
       "      <td>1</td>\n",
       "      <td>0</td>\n",
       "      <td>0</td>\n",
       "      <td>0</td>\n",
       "      <td>1</td>\n",
       "      <td>0</td>\n",
       "      <td>0</td>\n",
       "      <td>0</td>\n",
       "      <td>1</td>\n",
       "      <td>0</td>\n",
       "    </tr>\n",
       "    <tr>\n",
       "      <th>3</th>\n",
       "      <td>1.609438</td>\n",
       "      <td>968</td>\n",
       "      <td>2</td>\n",
       "      <td>480</td>\n",
       "      <td>968</td>\n",
       "      <td>968</td>\n",
       "      <td>1923</td>\n",
       "      <td>1.0</td>\n",
       "      <td>2006</td>\n",
       "      <td>5</td>\n",
       "      <td>...</td>\n",
       "      <td>0</td>\n",
       "      <td>0</td>\n",
       "      <td>1</td>\n",
       "      <td>0</td>\n",
       "      <td>0</td>\n",
       "      <td>1</td>\n",
       "      <td>0</td>\n",
       "      <td>0</td>\n",
       "      <td>0</td>\n",
       "      <td>1</td>\n",
       "    </tr>\n",
       "    <tr>\n",
       "      <th>4</th>\n",
       "      <td>1.791759</td>\n",
       "      <td>1394</td>\n",
       "      <td>2</td>\n",
       "      <td>514</td>\n",
       "      <td>1394</td>\n",
       "      <td>1394</td>\n",
       "      <td>1963</td>\n",
       "      <td>2.5</td>\n",
       "      <td>1963</td>\n",
       "      <td>6</td>\n",
       "      <td>...</td>\n",
       "      <td>1</td>\n",
       "      <td>0</td>\n",
       "      <td>0</td>\n",
       "      <td>0</td>\n",
       "      <td>0</td>\n",
       "      <td>1</td>\n",
       "      <td>0</td>\n",
       "      <td>0</td>\n",
       "      <td>1</td>\n",
       "      <td>0</td>\n",
       "    </tr>\n",
       "    <tr>\n",
       "      <th>...</th>\n",
       "      <td>...</td>\n",
       "      <td>...</td>\n",
       "      <td>...</td>\n",
       "      <td>...</td>\n",
       "      <td>...</td>\n",
       "      <td>...</td>\n",
       "      <td>...</td>\n",
       "      <td>...</td>\n",
       "      <td>...</td>\n",
       "      <td>...</td>\n",
       "      <td>...</td>\n",
       "      <td>...</td>\n",
       "      <td>...</td>\n",
       "      <td>...</td>\n",
       "      <td>...</td>\n",
       "      <td>...</td>\n",
       "      <td>...</td>\n",
       "      <td>...</td>\n",
       "      <td>...</td>\n",
       "      <td>...</td>\n",
       "      <td>...</td>\n",
       "    </tr>\n",
       "    <tr>\n",
       "      <th>873</th>\n",
       "      <td>1.791759</td>\n",
       "      <td>1877</td>\n",
       "      <td>2</td>\n",
       "      <td>488</td>\n",
       "      <td>1084</td>\n",
       "      <td>1084</td>\n",
       "      <td>1974</td>\n",
       "      <td>3.5</td>\n",
       "      <td>1974</td>\n",
       "      <td>8</td>\n",
       "      <td>...</td>\n",
       "      <td>0</td>\n",
       "      <td>0</td>\n",
       "      <td>1</td>\n",
       "      <td>0</td>\n",
       "      <td>0</td>\n",
       "      <td>1</td>\n",
       "      <td>0</td>\n",
       "      <td>0</td>\n",
       "      <td>1</td>\n",
       "      <td>0</td>\n",
       "    </tr>\n",
       "    <tr>\n",
       "      <th>874</th>\n",
       "      <td>1.791759</td>\n",
       "      <td>1988</td>\n",
       "      <td>2</td>\n",
       "      <td>480</td>\n",
       "      <td>1104</td>\n",
       "      <td>1104</td>\n",
       "      <td>1966</td>\n",
       "      <td>2.5</td>\n",
       "      <td>1999</td>\n",
       "      <td>9</td>\n",
       "      <td>...</td>\n",
       "      <td>0</td>\n",
       "      <td>0</td>\n",
       "      <td>1</td>\n",
       "      <td>0</td>\n",
       "      <td>1</td>\n",
       "      <td>0</td>\n",
       "      <td>0</td>\n",
       "      <td>0</td>\n",
       "      <td>1</td>\n",
       "      <td>0</td>\n",
       "    </tr>\n",
       "    <tr>\n",
       "      <th>875</th>\n",
       "      <td>1.609438</td>\n",
       "      <td>1211</td>\n",
       "      <td>1</td>\n",
       "      <td>322</td>\n",
       "      <td>1211</td>\n",
       "      <td>952</td>\n",
       "      <td>1968</td>\n",
       "      <td>1.0</td>\n",
       "      <td>1968</td>\n",
       "      <td>5</td>\n",
       "      <td>...</td>\n",
       "      <td>0</td>\n",
       "      <td>0</td>\n",
       "      <td>1</td>\n",
       "      <td>0</td>\n",
       "      <td>0</td>\n",
       "      <td>1</td>\n",
       "      <td>0</td>\n",
       "      <td>0</td>\n",
       "      <td>1</td>\n",
       "      <td>0</td>\n",
       "    </tr>\n",
       "    <tr>\n",
       "      <th>876</th>\n",
       "      <td>1.386294</td>\n",
       "      <td>864</td>\n",
       "      <td>2</td>\n",
       "      <td>528</td>\n",
       "      <td>864</td>\n",
       "      <td>864</td>\n",
       "      <td>1971</td>\n",
       "      <td>1.0</td>\n",
       "      <td>1971</td>\n",
       "      <td>5</td>\n",
       "      <td>...</td>\n",
       "      <td>0</td>\n",
       "      <td>0</td>\n",
       "      <td>1</td>\n",
       "      <td>0</td>\n",
       "      <td>0</td>\n",
       "      <td>1</td>\n",
       "      <td>0</td>\n",
       "      <td>0</td>\n",
       "      <td>1</td>\n",
       "      <td>0</td>\n",
       "    </tr>\n",
       "    <tr>\n",
       "      <th>877</th>\n",
       "      <td>1.609438</td>\n",
       "      <td>925</td>\n",
       "      <td>1</td>\n",
       "      <td>390</td>\n",
       "      <td>925</td>\n",
       "      <td>923</td>\n",
       "      <td>1955</td>\n",
       "      <td>2.0</td>\n",
       "      <td>1955</td>\n",
       "      <td>5</td>\n",
       "      <td>...</td>\n",
       "      <td>0</td>\n",
       "      <td>0</td>\n",
       "      <td>1</td>\n",
       "      <td>0</td>\n",
       "      <td>0</td>\n",
       "      <td>1</td>\n",
       "      <td>0</td>\n",
       "      <td>0</td>\n",
       "      <td>1</td>\n",
       "      <td>0</td>\n",
       "    </tr>\n",
       "  </tbody>\n",
       "</table>\n",
       "<p>878 rows × 34 columns</p>\n",
       "</div>"
      ],
      "text/plain": [
       "     overall_qual  gr_liv_area  garage_cars  garage_area  1st_flr_sf  \\\n",
       "0        1.791759         1928            1          440         908   \n",
       "1        1.609438         1967            2          580        1967   \n",
       "2        1.945910         1496            2          426         664   \n",
       "3        1.609438          968            2          480         968   \n",
       "4        1.791759         1394            2          514        1394   \n",
       "..            ...          ...          ...          ...         ...   \n",
       "873      1.791759         1877            2          488        1084   \n",
       "874      1.791759         1988            2          480        1104   \n",
       "875      1.609438         1211            1          322        1211   \n",
       "876      1.386294          864            2          528         864   \n",
       "877      1.609438          925            1          390         925   \n",
       "\n",
       "     total_bsmt_sf  year_built  total_bath  year_remod/add  totrms_abvgrd  \\\n",
       "0             1020        1910         2.0            1950              9   \n",
       "1             1967        1977         2.0            1977             10   \n",
       "2              654        2006         3.5            2006              7   \n",
       "3              968        1923         1.0            2006              5   \n",
       "4             1394        1963         2.5            1963              6   \n",
       "..             ...         ...         ...             ...            ...   \n",
       "873           1084        1974         3.5            1974              8   \n",
       "874           1104        1966         2.5            1999              9   \n",
       "875            952        1968         1.0            1968              5   \n",
       "876            864        1971         1.0            1971              5   \n",
       "877            923        1955         2.0            1955              5   \n",
       "\n",
       "     ...  base_Gd  base_Po  base_TA  kitch_Fa  kitch_Gd  kitch_TA  zone_FV  \\\n",
       "0    ...        0        0        0         1         0         0        0   \n",
       "1    ...        1        0        0         0         0         1        0   \n",
       "2    ...        1        0        0         0         1         0        0   \n",
       "3    ...        0        0        1         0         0         1        0   \n",
       "4    ...        1        0        0         0         0         1        0   \n",
       "..   ...      ...      ...      ...       ...       ...       ...      ...   \n",
       "873  ...        0        0        1         0         0         1        0   \n",
       "874  ...        0        0        1         0         1         0        0   \n",
       "875  ...        0        0        1         0         0         1        0   \n",
       "876  ...        0        0        1         0         0         1        0   \n",
       "877  ...        0        0        1         0         0         1        0   \n",
       "\n",
       "     zone_RH  zone_RL  zone_RM  \n",
       "0          0        0        1  \n",
       "1          0        1        0  \n",
       "2          0        1        0  \n",
       "3          0        0        1  \n",
       "4          0        1        0  \n",
       "..       ...      ...      ...  \n",
       "873        0        1        0  \n",
       "874        0        1        0  \n",
       "875        0        1        0  \n",
       "876        0        1        0  \n",
       "877        0        1        0  \n",
       "\n",
       "[878 rows x 34 columns]"
      ]
     },
     "execution_count": 30,
     "metadata": {},
     "output_type": "execute_result"
    }
   ],
   "source": [
    "X"
   ]
  },
  {
   "cell_type": "markdown",
   "metadata": {},
   "source": [
    "Import my model"
   ]
  },
  {
   "cell_type": "code",
   "execution_count": 31,
   "metadata": {},
   "outputs": [],
   "source": [
    "model_4 = pickle.load(open('../model/linear_model_4.pkl', 'rb'))"
   ]
  },
  {
   "cell_type": "markdown",
   "metadata": {},
   "source": [
    "Make predictions"
   ]
  },
  {
   "cell_type": "code",
   "execution_count": 32,
   "metadata": {},
   "outputs": [],
   "source": [
    "logged_prediction = model_4.predict(X)"
   ]
  },
  {
   "cell_type": "code",
   "execution_count": 33,
   "metadata": {},
   "outputs": [],
   "source": [
    "final_predictions = np.exp(logged_prediction)"
   ]
  },
  {
   "cell_type": "markdown",
   "metadata": {},
   "source": [
    "Add predictions to dataframe:"
   ]
  },
  {
   "cell_type": "code",
   "execution_count": 34,
   "metadata": {},
   "outputs": [],
   "source": [
    "kaggle['SalePrice'] = final_predictions"
   ]
  },
  {
   "cell_type": "code",
   "execution_count": 35,
   "metadata": {},
   "outputs": [
    {
     "data": {
      "text/html": [
       "<div>\n",
       "<style scoped>\n",
       "    .dataframe tbody tr th:only-of-type {\n",
       "        vertical-align: middle;\n",
       "    }\n",
       "\n",
       "    .dataframe tbody tr th {\n",
       "        vertical-align: top;\n",
       "    }\n",
       "\n",
       "    .dataframe thead th {\n",
       "        text-align: right;\n",
       "    }\n",
       "</style>\n",
       "<table border=\"1\" class=\"dataframe\">\n",
       "  <thead>\n",
       "    <tr style=\"text-align: right;\">\n",
       "      <th></th>\n",
       "      <th>id</th>\n",
       "      <th>pid</th>\n",
       "      <th>ms_subclass</th>\n",
       "      <th>ms_zoning</th>\n",
       "      <th>lot_area</th>\n",
       "      <th>street</th>\n",
       "      <th>lot_shape</th>\n",
       "      <th>land_contour</th>\n",
       "      <th>utilities</th>\n",
       "      <th>lot_config</th>\n",
       "      <th>...</th>\n",
       "      <th>base_Po</th>\n",
       "      <th>base_TA</th>\n",
       "      <th>kitch_Fa</th>\n",
       "      <th>kitch_Gd</th>\n",
       "      <th>kitch_TA</th>\n",
       "      <th>zone_FV</th>\n",
       "      <th>zone_RH</th>\n",
       "      <th>zone_RL</th>\n",
       "      <th>zone_RM</th>\n",
       "      <th>SalePrice</th>\n",
       "    </tr>\n",
       "  </thead>\n",
       "  <tbody>\n",
       "    <tr>\n",
       "      <th>873</th>\n",
       "      <td>1662</td>\n",
       "      <td>527377110</td>\n",
       "      <td>60</td>\n",
       "      <td>RL</td>\n",
       "      <td>8000</td>\n",
       "      <td>Pave</td>\n",
       "      <td>Reg</td>\n",
       "      <td>Lvl</td>\n",
       "      <td>AllPub</td>\n",
       "      <td>Inside</td>\n",
       "      <td>...</td>\n",
       "      <td>0</td>\n",
       "      <td>1</td>\n",
       "      <td>0</td>\n",
       "      <td>0</td>\n",
       "      <td>1</td>\n",
       "      <td>0</td>\n",
       "      <td>0</td>\n",
       "      <td>1</td>\n",
       "      <td>0</td>\n",
       "      <td>186854.743609</td>\n",
       "    </tr>\n",
       "    <tr>\n",
       "      <th>874</th>\n",
       "      <td>1234</td>\n",
       "      <td>535126140</td>\n",
       "      <td>60</td>\n",
       "      <td>RL</td>\n",
       "      <td>14670</td>\n",
       "      <td>Pave</td>\n",
       "      <td>Reg</td>\n",
       "      <td>Lvl</td>\n",
       "      <td>AllPub</td>\n",
       "      <td>Inside</td>\n",
       "      <td>...</td>\n",
       "      <td>0</td>\n",
       "      <td>1</td>\n",
       "      <td>0</td>\n",
       "      <td>1</td>\n",
       "      <td>0</td>\n",
       "      <td>0</td>\n",
       "      <td>0</td>\n",
       "      <td>1</td>\n",
       "      <td>0</td>\n",
       "      <td>184148.427483</td>\n",
       "    </tr>\n",
       "    <tr>\n",
       "      <th>875</th>\n",
       "      <td>1373</td>\n",
       "      <td>904100040</td>\n",
       "      <td>20</td>\n",
       "      <td>RL</td>\n",
       "      <td>8250</td>\n",
       "      <td>Pave</td>\n",
       "      <td>Reg</td>\n",
       "      <td>Lvl</td>\n",
       "      <td>AllPub</td>\n",
       "      <td>Inside</td>\n",
       "      <td>...</td>\n",
       "      <td>0</td>\n",
       "      <td>1</td>\n",
       "      <td>0</td>\n",
       "      <td>0</td>\n",
       "      <td>1</td>\n",
       "      <td>0</td>\n",
       "      <td>0</td>\n",
       "      <td>1</td>\n",
       "      <td>0</td>\n",
       "      <td>125828.274034</td>\n",
       "    </tr>\n",
       "    <tr>\n",
       "      <th>876</th>\n",
       "      <td>1672</td>\n",
       "      <td>527425140</td>\n",
       "      <td>20</td>\n",
       "      <td>RL</td>\n",
       "      <td>9000</td>\n",
       "      <td>Pave</td>\n",
       "      <td>Reg</td>\n",
       "      <td>Lvl</td>\n",
       "      <td>AllPub</td>\n",
       "      <td>FR2</td>\n",
       "      <td>...</td>\n",
       "      <td>0</td>\n",
       "      <td>1</td>\n",
       "      <td>0</td>\n",
       "      <td>0</td>\n",
       "      <td>1</td>\n",
       "      <td>0</td>\n",
       "      <td>0</td>\n",
       "      <td>1</td>\n",
       "      <td>0</td>\n",
       "      <td>112615.740774</td>\n",
       "    </tr>\n",
       "    <tr>\n",
       "      <th>877</th>\n",
       "      <td>1939</td>\n",
       "      <td>535327160</td>\n",
       "      <td>20</td>\n",
       "      <td>RL</td>\n",
       "      <td>8400</td>\n",
       "      <td>Pave</td>\n",
       "      <td>Reg</td>\n",
       "      <td>Lvl</td>\n",
       "      <td>AllPub</td>\n",
       "      <td>Corner</td>\n",
       "      <td>...</td>\n",
       "      <td>0</td>\n",
       "      <td>1</td>\n",
       "      <td>0</td>\n",
       "      <td>0</td>\n",
       "      <td>1</td>\n",
       "      <td>0</td>\n",
       "      <td>0</td>\n",
       "      <td>1</td>\n",
       "      <td>0</td>\n",
       "      <td>120934.216372</td>\n",
       "    </tr>\n",
       "  </tbody>\n",
       "</table>\n",
       "<p>5 rows × 94 columns</p>\n",
       "</div>"
      ],
      "text/plain": [
       "       id        pid  ms_subclass ms_zoning  lot_area street lot_shape  \\\n",
       "873  1662  527377110           60        RL      8000   Pave       Reg   \n",
       "874  1234  535126140           60        RL     14670   Pave       Reg   \n",
       "875  1373  904100040           20        RL      8250   Pave       Reg   \n",
       "876  1672  527425140           20        RL      9000   Pave       Reg   \n",
       "877  1939  535327160           20        RL      8400   Pave       Reg   \n",
       "\n",
       "    land_contour utilities lot_config  ... base_Po base_TA kitch_Fa kitch_Gd  \\\n",
       "873          Lvl    AllPub     Inside  ...       0       1        0        0   \n",
       "874          Lvl    AllPub     Inside  ...       0       1        0        1   \n",
       "875          Lvl    AllPub     Inside  ...       0       1        0        0   \n",
       "876          Lvl    AllPub        FR2  ...       0       1        0        0   \n",
       "877          Lvl    AllPub     Corner  ...       0       1        0        0   \n",
       "\n",
       "    kitch_TA zone_FV  zone_RH  zone_RL  zone_RM      SalePrice  \n",
       "873        1       0        0        1        0  186854.743609  \n",
       "874        0       0        0        1        0  184148.427483  \n",
       "875        1       0        0        1        0  125828.274034  \n",
       "876        1       0        0        1        0  112615.740774  \n",
       "877        1       0        0        1        0  120934.216372  \n",
       "\n",
       "[5 rows x 94 columns]"
      ]
     },
     "execution_count": 35,
     "metadata": {},
     "output_type": "execute_result"
    }
   ],
   "source": [
    "kaggle.tail()"
   ]
  },
  {
   "cell_type": "code",
   "execution_count": 36,
   "metadata": {},
   "outputs": [
    {
     "data": {
      "text/plain": [
       "0"
      ]
     },
     "execution_count": 36,
     "metadata": {},
     "output_type": "execute_result"
    }
   ],
   "source": [
    "kaggle['SalePrice'].isnull().sum()"
   ]
  },
  {
   "cell_type": "markdown",
   "metadata": {},
   "source": [
    "Save predictions as csv"
   ]
  },
  {
   "cell_type": "code",
   "execution_count": 37,
   "metadata": {},
   "outputs": [],
   "source": [
    "kaggle.rename(columns={'id':'Id'}, inplace=True)"
   ]
  },
  {
   "cell_type": "code",
   "execution_count": 38,
   "metadata": {
    "scrolled": true
   },
   "outputs": [],
   "source": [
    "submission1 = pd.DataFrame(kaggle[['Id','SalePrice']])\n",
    "submission1 = submission1.sort_values('Id')"
   ]
  },
  {
   "cell_type": "code",
   "execution_count": 39,
   "metadata": {},
   "outputs": [
    {
     "data": {
      "text/plain": [
       "(878, 2)"
      ]
     },
     "execution_count": 39,
     "metadata": {},
     "output_type": "execute_result"
    }
   ],
   "source": [
    "submission1.shape"
   ]
  },
  {
   "cell_type": "code",
   "execution_count": 40,
   "metadata": {},
   "outputs": [],
   "source": [
    "submission1.to_csv('../datasets/submission1_caress.csv', index = False)"
   ]
  },
  {
   "cell_type": "markdown",
   "metadata": {},
   "source": [
    "## Second Submission: Model 5"
   ]
  },
  {
   "cell_type": "markdown",
   "metadata": {},
   "source": [
    "First, I'll need to add the features I engineered for this model:\n",
    "- bed_bath\n",
    "- gr_liv_area_log\n",
    "- built/remodel\n",
    "- only_full_bath\n",
    "- lot_area_log"
   ]
  },
  {
   "cell_type": "code",
   "execution_count": 41,
   "metadata": {},
   "outputs": [],
   "source": [
    "kaggle['bed_bath'] = kaggle['bedroom_abvgr'] * kaggle['total_bath']"
   ]
  },
  {
   "cell_type": "code",
   "execution_count": 42,
   "metadata": {},
   "outputs": [],
   "source": [
    "kaggle['gr_liv_area_log'] = np.log(kaggle['gr_liv_area'])"
   ]
  },
  {
   "cell_type": "code",
   "execution_count": 43,
   "metadata": {},
   "outputs": [],
   "source": [
    "kaggle['built/remodel'] = kaggle['year_built'] * kaggle['year_remod/add']**2"
   ]
  },
  {
   "cell_type": "code",
   "execution_count": 44,
   "metadata": {},
   "outputs": [],
   "source": [
    "kaggle['only_full_bath'] = kaggle['bsmt_full_bath'] + kaggle['full_bath']\n"
   ]
  },
  {
   "cell_type": "code",
   "execution_count": 45,
   "metadata": {},
   "outputs": [],
   "source": [
    "kaggle['lot_area_log'] = (np.log((kaggle['lot_area'])))*kaggle['gr_liv_area']"
   ]
  },
  {
   "cell_type": "code",
   "execution_count": 46,
   "metadata": {},
   "outputs": [],
   "source": [
    "features_5 = ['overall_qual',\n",
    " 'garage_area',\n",
    " 'mas_vnr_area',\n",
    " 'neighborhood_avg',\n",
    " 'ext_Fa',\n",
    " 'ext_Gd',\n",
    " 'ext_TA',\n",
    " 'base_Fa',\n",
    " 'base_Gd',\n",
    " 'base_TA',\n",
    " 'kitch_Fa',\n",
    " 'kitch_Gd',\n",
    " 'kitch_TA',\n",
    " 'bed_bath', \n",
    " 'gr_liv_area_log',\n",
    "'built/remodel', \n",
    "'only_full_bath',\n",
    "  'lot_area_log',\n",
    "'year_remod/add']"
   ]
  },
  {
   "cell_type": "markdown",
   "metadata": {},
   "source": [
    "Import Model 5:"
   ]
  },
  {
   "cell_type": "code",
   "execution_count": 47,
   "metadata": {},
   "outputs": [],
   "source": [
    "model_5 = pickle.load(open('../model/linear_model_5.pkl', 'rb'))"
   ]
  },
  {
   "cell_type": "markdown",
   "metadata": {},
   "source": [
    "Make predictions:"
   ]
  },
  {
   "cell_type": "code",
   "execution_count": 48,
   "metadata": {},
   "outputs": [],
   "source": [
    "X_5 = kaggle[features_5]"
   ]
  },
  {
   "cell_type": "code",
   "execution_count": 49,
   "metadata": {},
   "outputs": [],
   "source": [
    "logged_prediction_5 = model_5.predict(X_5)"
   ]
  },
  {
   "cell_type": "code",
   "execution_count": 50,
   "metadata": {},
   "outputs": [],
   "source": [
    "final_predictions_5 = np.exp(logged_prediction_5)"
   ]
  },
  {
   "cell_type": "markdown",
   "metadata": {},
   "source": [
    "Add predictions to dataframe:"
   ]
  },
  {
   "cell_type": "code",
   "execution_count": 51,
   "metadata": {},
   "outputs": [],
   "source": [
    "kaggle['SalePrice'] = final_predictions_5"
   ]
  },
  {
   "cell_type": "code",
   "execution_count": 52,
   "metadata": {},
   "outputs": [
    {
     "data": {
      "text/html": [
       "<div>\n",
       "<style scoped>\n",
       "    .dataframe tbody tr th:only-of-type {\n",
       "        vertical-align: middle;\n",
       "    }\n",
       "\n",
       "    .dataframe tbody tr th {\n",
       "        vertical-align: top;\n",
       "    }\n",
       "\n",
       "    .dataframe thead th {\n",
       "        text-align: right;\n",
       "    }\n",
       "</style>\n",
       "<table border=\"1\" class=\"dataframe\">\n",
       "  <thead>\n",
       "    <tr style=\"text-align: right;\">\n",
       "      <th></th>\n",
       "      <th>Id</th>\n",
       "      <th>pid</th>\n",
       "      <th>ms_subclass</th>\n",
       "      <th>ms_zoning</th>\n",
       "      <th>lot_area</th>\n",
       "      <th>street</th>\n",
       "      <th>lot_shape</th>\n",
       "      <th>land_contour</th>\n",
       "      <th>utilities</th>\n",
       "      <th>lot_config</th>\n",
       "      <th>...</th>\n",
       "      <th>zone_FV</th>\n",
       "      <th>zone_RH</th>\n",
       "      <th>zone_RL</th>\n",
       "      <th>zone_RM</th>\n",
       "      <th>SalePrice</th>\n",
       "      <th>bed_bath</th>\n",
       "      <th>gr_liv_area_log</th>\n",
       "      <th>built/remodel</th>\n",
       "      <th>only_full_bath</th>\n",
       "      <th>lot_area_log</th>\n",
       "    </tr>\n",
       "  </thead>\n",
       "  <tbody>\n",
       "    <tr>\n",
       "      <th>0</th>\n",
       "      <td>2658</td>\n",
       "      <td>902301120</td>\n",
       "      <td>190</td>\n",
       "      <td>RM</td>\n",
       "      <td>9142</td>\n",
       "      <td>Pave</td>\n",
       "      <td>Reg</td>\n",
       "      <td>Lvl</td>\n",
       "      <td>AllPub</td>\n",
       "      <td>Inside</td>\n",
       "      <td>...</td>\n",
       "      <td>0</td>\n",
       "      <td>0</td>\n",
       "      <td>0</td>\n",
       "      <td>1</td>\n",
       "      <td>137078.407379</td>\n",
       "      <td>8.0</td>\n",
       "      <td>7.564238</td>\n",
       "      <td>7262775000</td>\n",
       "      <td>2</td>\n",
       "      <td>17584.583237</td>\n",
       "    </tr>\n",
       "    <tr>\n",
       "      <th>1</th>\n",
       "      <td>2718</td>\n",
       "      <td>905108090</td>\n",
       "      <td>90</td>\n",
       "      <td>RL</td>\n",
       "      <td>9662</td>\n",
       "      <td>Pave</td>\n",
       "      <td>IR1</td>\n",
       "      <td>Lvl</td>\n",
       "      <td>AllPub</td>\n",
       "      <td>Inside</td>\n",
       "      <td>...</td>\n",
       "      <td>0</td>\n",
       "      <td>0</td>\n",
       "      <td>1</td>\n",
       "      <td>0</td>\n",
       "      <td>159505.803972</td>\n",
       "      <td>12.0</td>\n",
       "      <td>7.584265</td>\n",
       "      <td>7727161833</td>\n",
       "      <td>2</td>\n",
       "      <td>18049.105344</td>\n",
       "    </tr>\n",
       "    <tr>\n",
       "      <th>2</th>\n",
       "      <td>2414</td>\n",
       "      <td>528218130</td>\n",
       "      <td>60</td>\n",
       "      <td>RL</td>\n",
       "      <td>17104</td>\n",
       "      <td>Pave</td>\n",
       "      <td>IR1</td>\n",
       "      <td>Lvl</td>\n",
       "      <td>AllPub</td>\n",
       "      <td>Inside</td>\n",
       "      <td>...</td>\n",
       "      <td>0</td>\n",
       "      <td>0</td>\n",
       "      <td>1</td>\n",
       "      <td>0</td>\n",
       "      <td>202714.765609</td>\n",
       "      <td>10.5</td>\n",
       "      <td>7.310550</td>\n",
       "      <td>8072216216</td>\n",
       "      <td>3</td>\n",
       "      <td>14581.613179</td>\n",
       "    </tr>\n",
       "    <tr>\n",
       "      <th>3</th>\n",
       "      <td>1989</td>\n",
       "      <td>902207150</td>\n",
       "      <td>30</td>\n",
       "      <td>RM</td>\n",
       "      <td>8520</td>\n",
       "      <td>Pave</td>\n",
       "      <td>Reg</td>\n",
       "      <td>Lvl</td>\n",
       "      <td>AllPub</td>\n",
       "      <td>Inside</td>\n",
       "      <td>...</td>\n",
       "      <td>0</td>\n",
       "      <td>0</td>\n",
       "      <td>0</td>\n",
       "      <td>1</td>\n",
       "      <td>113778.956871</td>\n",
       "      <td>2.0</td>\n",
       "      <td>6.875232</td>\n",
       "      <td>7738221228</td>\n",
       "      <td>1</td>\n",
       "      <td>8760.566128</td>\n",
       "    </tr>\n",
       "    <tr>\n",
       "      <th>4</th>\n",
       "      <td>625</td>\n",
       "      <td>535105100</td>\n",
       "      <td>20</td>\n",
       "      <td>RL</td>\n",
       "      <td>9500</td>\n",
       "      <td>Pave</td>\n",
       "      <td>IR1</td>\n",
       "      <td>Lvl</td>\n",
       "      <td>AllPub</td>\n",
       "      <td>Inside</td>\n",
       "      <td>...</td>\n",
       "      <td>0</td>\n",
       "      <td>0</td>\n",
       "      <td>1</td>\n",
       "      <td>0</td>\n",
       "      <td>145100.872791</td>\n",
       "      <td>7.5</td>\n",
       "      <td>7.239933</td>\n",
       "      <td>7564163347</td>\n",
       "      <td>2</td>\n",
       "      <td>12767.711626</td>\n",
       "    </tr>\n",
       "  </tbody>\n",
       "</table>\n",
       "<p>5 rows × 99 columns</p>\n",
       "</div>"
      ],
      "text/plain": [
       "     Id        pid  ms_subclass ms_zoning  lot_area street lot_shape  \\\n",
       "0  2658  902301120          190        RM      9142   Pave       Reg   \n",
       "1  2718  905108090           90        RL      9662   Pave       IR1   \n",
       "2  2414  528218130           60        RL     17104   Pave       IR1   \n",
       "3  1989  902207150           30        RM      8520   Pave       Reg   \n",
       "4   625  535105100           20        RL      9500   Pave       IR1   \n",
       "\n",
       "  land_contour utilities lot_config  ... zone_FV zone_RH zone_RL zone_RM  \\\n",
       "0          Lvl    AllPub     Inside  ...       0       0       0       1   \n",
       "1          Lvl    AllPub     Inside  ...       0       0       1       0   \n",
       "2          Lvl    AllPub     Inside  ...       0       0       1       0   \n",
       "3          Lvl    AllPub     Inside  ...       0       0       0       1   \n",
       "4          Lvl    AllPub     Inside  ...       0       0       1       0   \n",
       "\n",
       "       SalePrice bed_bath  gr_liv_area_log  built/remodel  only_full_bath  \\\n",
       "0  137078.407379      8.0         7.564238     7262775000               2   \n",
       "1  159505.803972     12.0         7.584265     7727161833               2   \n",
       "2  202714.765609     10.5         7.310550     8072216216               3   \n",
       "3  113778.956871      2.0         6.875232     7738221228               1   \n",
       "4  145100.872791      7.5         7.239933     7564163347               2   \n",
       "\n",
       "   lot_area_log  \n",
       "0  17584.583237  \n",
       "1  18049.105344  \n",
       "2  14581.613179  \n",
       "3   8760.566128  \n",
       "4  12767.711626  \n",
       "\n",
       "[5 rows x 99 columns]"
      ]
     },
     "execution_count": 52,
     "metadata": {},
     "output_type": "execute_result"
    }
   ],
   "source": [
    "kaggle.head()"
   ]
  },
  {
   "cell_type": "code",
   "execution_count": 53,
   "metadata": {},
   "outputs": [],
   "source": [
    "kaggle.rename(columns={'id':'Id'}, inplace=True)"
   ]
  },
  {
   "cell_type": "markdown",
   "metadata": {},
   "source": [
    "Save for Kaggle submission:"
   ]
  },
  {
   "cell_type": "code",
   "execution_count": 54,
   "metadata": {},
   "outputs": [],
   "source": [
    "submission2 = pd.DataFrame(kaggle[['Id','SalePrice']])\n",
    "submission2 = submission2.sort_values('Id')"
   ]
  },
  {
   "cell_type": "code",
   "execution_count": 55,
   "metadata": {},
   "outputs": [],
   "source": [
    "submission2.to_csv('../datasets/submission2_caress.csv', index = False)"
   ]
  },
  {
   "cell_type": "markdown",
   "metadata": {},
   "source": [
    "## Third Submission"
   ]
  },
  {
   "cell_type": "markdown",
   "metadata": {},
   "source": [
    "First, I'll need to add the features I engineered/dummied for this model:\n",
    "- condition2_avg\n",
    "- exterior_avg\n",
    "- paved driveway\n",
    "- central air\n",
    "- heat\n",
    "- heat_qc\n",
    "- porch/deck"
   ]
  },
  {
   "cell_type": "code",
   "execution_count": 56,
   "metadata": {},
   "outputs": [],
   "source": [
    "cond_dict = {'Artery': 1.19, 'Feedr': 1.29, 'Norm': 1.83, 'PosA': 3.91, 'PosN': 3.96, 'RRAe': 1.9, 'RRAn': 1.37, 'RRNn': 0.97}"
   ]
  },
  {
   "cell_type": "code",
   "execution_count": 57,
   "metadata": {},
   "outputs": [],
   "source": [
    "kaggle['condition2_avg'] = kaggle['condition_2'].apply(lambda x: cond_dict[x])"
   ]
  },
  {
   "cell_type": "code",
   "execution_count": 58,
   "metadata": {},
   "outputs": [
    {
     "data": {
      "text/plain": [
       "VinylSd    302\n",
       "Wd Sdng    144\n",
       "HdBoard    142\n",
       "MetalSd    119\n",
       "Plywood     69\n",
       "CemntBd     35\n",
       "BrkFace     24\n",
       "Stucco      16\n",
       "AsbShng     11\n",
       "WdShing     11\n",
       "BrkComm      3\n",
       "AsphShn      1\n",
       "PreCast      1\n",
       "Name: exterior_1st, dtype: int64"
      ]
     },
     "execution_count": 58,
     "metadata": {},
     "output_type": "execute_result"
    }
   ],
   "source": [
    "kaggle['exterior_1st'].value_counts()"
   ]
  },
  {
   "cell_type": "code",
   "execution_count": 59,
   "metadata": {},
   "outputs": [],
   "source": [
    "ext_dict = {'PreCast': 1, 'AsbShng': 1.08, 'AsphShn': 0.82, 'BrkComm': 1.31, 'BrkFace': 2.0, 'CBlock': 1.05, 'CemntBd': 2.44, 'HdBoard': 1.61, 'ImStucc': 2.62, 'MetalSd': 1.56, 'Plywood': 1.71, 'Stone': 2.58, 'Stucco': 1.43, 'VinylSd': 2.19, 'Wd Sdng': 1.44, 'WdShing': 1.56}"
   ]
  },
  {
   "cell_type": "code",
   "execution_count": 60,
   "metadata": {},
   "outputs": [],
   "source": [
    "kaggle['exterior_avg'] = kaggle['exterior_1st'].apply(lambda x: ext_dict[x])"
   ]
  },
  {
   "cell_type": "code",
   "execution_count": 61,
   "metadata": {},
   "outputs": [],
   "source": [
    "kaggle['porch/deck'] = (np.log(1 + kaggle['wood_deck_sf'] + kaggle['open_porch_sf'] + kaggle['enclosed_porch'] + kaggle['3ssn_porch'] + kaggle['screen_porch']))**2\n",
    "\n",
    "\n",
    "\n",
    "\n",
    "\n"
   ]
  },
  {
   "cell_type": "code",
   "execution_count": 62,
   "metadata": {},
   "outputs": [],
   "source": [
    "cent_air = pd.get_dummies(kaggle['central_air'], drop_first=True, prefix='CA')"
   ]
  },
  {
   "cell_type": "code",
   "execution_count": 63,
   "metadata": {},
   "outputs": [],
   "source": [
    "heat_dummy = pd.get_dummies(kaggle['heating'], drop_first=True, prefix='heat')"
   ]
  },
  {
   "cell_type": "code",
   "execution_count": 64,
   "metadata": {},
   "outputs": [],
   "source": [
    "heat_qc = pd.get_dummies(kaggle['heating_qc'], drop_first=True, prefix='heatqc')"
   ]
  },
  {
   "cell_type": "code",
   "execution_count": 65,
   "metadata": {},
   "outputs": [],
   "source": [
    "drive = pd.get_dummies(kaggle['paved_drive'], drop_first=True, prefix='drive')"
   ]
  },
  {
   "cell_type": "code",
   "execution_count": 66,
   "metadata": {},
   "outputs": [],
   "source": [
    "kaggle = pd.concat([kaggle, cent_air, heat_dummy, heat_qc, drive], axis=1)"
   ]
  },
  {
   "cell_type": "code",
   "execution_count": 67,
   "metadata": {},
   "outputs": [],
   "source": [
    "features_6 = ['overall_qual',\n",
    " 'garage_area',\n",
    " 'mas_vnr_area',\n",
    " 'neighborhood_avg',\n",
    " 'ext_Fa',\n",
    " 'ext_Gd',\n",
    " 'ext_TA',\n",
    " 'base_Fa',\n",
    " 'base_Gd',\n",
    " 'base_TA',\n",
    " 'kitch_Fa',\n",
    " 'kitch_Gd',\n",
    " 'kitch_TA',\n",
    " 'bed_bath',\n",
    " 'gr_liv_area_log',\n",
    " 'built/remodel',\n",
    " 'only_full_bath',\n",
    " 'lot_area_log',\n",
    " 'year_remod/add',\n",
    " 'exterior_avg',\n",
    "'porch/deck',\n",
    " 'drive_Y',\n",
    " 'CA_Y',\n",
    " 'heat_Grav',\n",
    " 'heatqc_TA']"
   ]
  },
  {
   "cell_type": "code",
   "execution_count": 68,
   "metadata": {},
   "outputs": [],
   "source": [
    "model_6 = pickle.load(open('../model/model_6.pkl', 'rb'))"
   ]
  },
  {
   "cell_type": "code",
   "execution_count": 69,
   "metadata": {},
   "outputs": [],
   "source": [
    "X_6 = kaggle[features_6]"
   ]
  },
  {
   "cell_type": "code",
   "execution_count": 70,
   "metadata": {},
   "outputs": [],
   "source": [
    "logged_prediction_6 = model_6.predict(X_6)"
   ]
  },
  {
   "cell_type": "code",
   "execution_count": 71,
   "metadata": {},
   "outputs": [
    {
     "data": {
      "text/plain": [
       "11.811583378902778"
      ]
     },
     "execution_count": 71,
     "metadata": {},
     "output_type": "execute_result"
    }
   ],
   "source": [
    "logged_prediction_6[0]"
   ]
  },
  {
   "cell_type": "code",
   "execution_count": 72,
   "metadata": {},
   "outputs": [],
   "source": [
    "final_predictions_6 = np.exp(logged_prediction_6)"
   ]
  },
  {
   "cell_type": "code",
   "execution_count": 73,
   "metadata": {},
   "outputs": [],
   "source": [
    "kaggle['SalePrice'] = final_predictions_6"
   ]
  },
  {
   "cell_type": "code",
   "execution_count": 74,
   "metadata": {},
   "outputs": [
    {
     "data": {
      "text/plain": [
       "0    134804.839601\n",
       "1    159739.721289\n",
       "2    202476.486191\n",
       "3    109005.098156\n",
       "4    151824.879351\n",
       "Name: SalePrice, dtype: float64"
      ]
     },
     "execution_count": 74,
     "metadata": {},
     "output_type": "execute_result"
    }
   ],
   "source": [
    "kaggle['SalePrice'].head()"
   ]
  },
  {
   "cell_type": "code",
   "execution_count": 75,
   "metadata": {},
   "outputs": [],
   "source": [
    "kaggle.rename(columns={'id':'Id'}, inplace=True)"
   ]
  },
  {
   "cell_type": "code",
   "execution_count": 76,
   "metadata": {},
   "outputs": [],
   "source": [
    "submission3 = pd.DataFrame(kaggle[['Id','SalePrice']])\n",
    "submission3 = submission3.sort_values('Id')"
   ]
  },
  {
   "cell_type": "code",
   "execution_count": 77,
   "metadata": {},
   "outputs": [],
   "source": [
    "submission3.to_csv('../datasets/submission5_caress.csv', index = False)"
   ]
  },
  {
   "cell_type": "markdown",
   "metadata": {},
   "source": [
    "## Fourth Submission "
   ]
  },
  {
   "cell_type": "markdown",
   "metadata": {},
   "source": [
    "First, I'll need to engineer a few more columns to get all of the features below:"
   ]
  },
  {
   "cell_type": "code",
   "execution_count": 78,
   "metadata": {},
   "outputs": [],
   "source": [
    "features_7 = ['overall_qual',\n",
    " 'garage_area',\n",
    " 'mas_vnr_area',\n",
    " 'neighborhood_avg',\n",
    " 'bed_bath',\n",
    " 'gr_liv_area',\n",
    " 'built/remodel',\n",
    " 'lot_area_log',\n",
    "'porch/deck',\n",
    " 'kitchen_score',\n",
    "'basement_score',\n",
    "'ext_score',\n",
    "'bsmtfin_sf_1',\n",
    "'total_bsmt_sf',\n",
    "'overall_cond',      \n",
    "'lot_area',    \n",
    "'contour_score', \n",
    "'roof_score', \n",
    "'found_score',         \n",
    "'cond2_score',\n",
    "'fire',\n",
    "'sale_score' ,\n",
    "             ]"
   ]
  },
  {
   "cell_type": "code",
   "execution_count": 79,
   "metadata": {},
   "outputs": [],
   "source": [
    "kitchens = list(kaggle['kitchen_qual'].unique())\n",
    "kitchens = sorted(kitchens)"
   ]
  },
  {
   "cell_type": "code",
   "execution_count": 80,
   "metadata": {},
   "outputs": [
    {
     "name": "stdout",
     "output_type": "stream",
     "text": [
      "['Ex', 'Fa', 'Gd', 'Po', 'TA']\n"
     ]
    }
   ],
   "source": [
    "print(kitchens)"
   ]
  },
  {
   "cell_type": "code",
   "execution_count": 81,
   "metadata": {},
   "outputs": [],
   "source": [
    "kitchen_list = [5, 2, 4,1, 3]"
   ]
  },
  {
   "cell_type": "code",
   "execution_count": 82,
   "metadata": {},
   "outputs": [
    {
     "name": "stdout",
     "output_type": "stream",
     "text": [
      "{'Ex': 5, 'Fa': 2, 'Gd': 4, 'Po': 1, 'TA': 3}\n"
     ]
    }
   ],
   "source": [
    "kitchen_dict = {kitchen : num \n",
    "               for(kitchen, num) in zip(kitchens, kitchen_list)}\n",
    "print(kitchen_dict)"
   ]
  },
  {
   "cell_type": "code",
   "execution_count": 83,
   "metadata": {},
   "outputs": [],
   "source": [
    "kaggle['kitchen_score'] = kaggle['kitchen_qual'].apply(lambda x: kitchen_dict[x])"
   ]
  },
  {
   "cell_type": "code",
   "execution_count": 84,
   "metadata": {},
   "outputs": [],
   "source": [
    "basements = list(kaggle['bsmt_qual'].unique())"
   ]
  },
  {
   "cell_type": "code",
   "execution_count": 85,
   "metadata": {},
   "outputs": [
    {
     "name": "stdout",
     "output_type": "stream",
     "text": [
      "['Fa', 'Gd', 'TA', 'Ex', nan, 'Po']\n"
     ]
    }
   ],
   "source": [
    "print(basements)"
   ]
  },
  {
   "cell_type": "code",
   "execution_count": 86,
   "metadata": {},
   "outputs": [],
   "source": [
    "bsmt_list = [2, 4, 3, 5, 0, 1]"
   ]
  },
  {
   "cell_type": "code",
   "execution_count": 87,
   "metadata": {},
   "outputs": [
    {
     "name": "stdout",
     "output_type": "stream",
     "text": [
      "{'Fa': 2, 'Gd': 4, 'TA': 3, 'Ex': 5, nan: 0, 'Po': 1}\n"
     ]
    }
   ],
   "source": [
    "bsmt_dict = {basement : num \n",
    "               for(basement, num) in zip(basements, bsmt_list)}\n",
    "print(bsmt_dict)"
   ]
  },
  {
   "cell_type": "code",
   "execution_count": 88,
   "metadata": {},
   "outputs": [],
   "source": [
    "kaggle['basement_score'] = kaggle['bsmt_qual'].apply(lambda x: bsmt_dict[x])"
   ]
  },
  {
   "cell_type": "code",
   "execution_count": 89,
   "metadata": {},
   "outputs": [],
   "source": [
    "exts = list(kaggle['exter_qual'].unique())\n",
    "exts = sorted(exts)"
   ]
  },
  {
   "cell_type": "code",
   "execution_count": 90,
   "metadata": {},
   "outputs": [
    {
     "name": "stdout",
     "output_type": "stream",
     "text": [
      "['Ex', 'Fa', 'Gd', 'TA']\n"
     ]
    }
   ],
   "source": [
    "print(exts)"
   ]
  },
  {
   "cell_type": "code",
   "execution_count": 91,
   "metadata": {},
   "outputs": [],
   "source": [
    "ext_list = [5, 2, 4, 3]"
   ]
  },
  {
   "cell_type": "code",
   "execution_count": 92,
   "metadata": {},
   "outputs": [
    {
     "name": "stdout",
     "output_type": "stream",
     "text": [
      "{'Ex': 5, 'Fa': 2, 'Gd': 4, 'TA': 3}\n"
     ]
    }
   ],
   "source": [
    "ext_dict = {ext : num \n",
    "               for(ext, num) in zip(exts, ext_list)}\n",
    "print(ext_dict)"
   ]
  },
  {
   "cell_type": "code",
   "execution_count": 93,
   "metadata": {},
   "outputs": [],
   "source": [
    "kaggle['ext_score'] = kaggle['exter_qual'].apply(lambda x: ext_dict[x])"
   ]
  },
  {
   "cell_type": "code",
   "execution_count": 94,
   "metadata": {},
   "outputs": [],
   "source": [
    "lot_dict = {'FR2':1.7, 'Inside': 1.7, 'Corner':1.8, 'FR3': 2.3, 'CulDSac':2.3 }\n",
    "kaggle['lot_config_score'] = kaggle['lot_config'].apply(lambda x: lot_dict[x])\n",
    "\n",
    "uti_dict = {'NoSewr':0, 'AllPub':1 }\n",
    "kaggle['utilities_score'] = kaggle['utilities'].apply(lambda x: uti_dict[x])\n",
    "\n",
    "land_dict = {'Bnk': 1.4, 'Lvl': 1.8, 'Low':2, 'HLS': 2.6 }\n",
    "kaggle['contour_score'] = kaggle['land_contour'].apply(lambda x: land_dict[x])\n",
    "\n",
    "roof_dict = {'Gambrel': 1.3, 'Mansard': 1.5, 'Gable': 1.7, 'Flat': 1.9, 'Shed': 2, 'Hip': 2.3}\n",
    "kaggle['roof_score'] = kaggle['roof_style'].apply(lambda x: roof_dict[x])\n",
    "\n",
    "found_dict = {'BrkTil': 1.3, 'Stone': 1.4, 'CBlock': 1.4, 'Wood': 1.7, 'PConc': 2.3, 'Slab':1}\n",
    "kaggle['found_score'] = kaggle['foundation'].apply(lambda x: found_dict[x])\n",
    "\n",
    "elc_dict = {'Mix': .5, 'FuseP': .5, 'FuseF': 1, 'FuseA': 1, 'SBrkr': 2, np.nan:0}\n",
    "kaggle['elec_score'] = kaggle['electrical'].apply(lambda x: elc_dict[x])\n",
    "\n",
    "street_dict = {'Grvl': 0, 'Pave': 1}\n",
    "kaggle['street_score'] = kaggle['street'].apply(lambda x: street_dict[x])\n",
    "\n",
    "cond2_dict = {'RRNn': .9, 'Artery': 1.2, 'Feedr': 1.3, 'RRAn': 1.3, 'Norm': 1.8, 'RRAe': 1.9, 'PosA': 3.9, 'PosN': 3.9}\n",
    "kaggle['cond2_score'] = kaggle['condition_2'].apply(lambda x: cond2_dict[x])\n",
    "\n",
    "mas_dict = {'BrkCmn': 1.5, 'None':1.5, 'BrkFace':2, 'Stone': 2.6, 'CBlock':1, np.nan:0}\n",
    "kaggle['mas_score'] = kaggle['mas_vnr_type'].apply(lambda x: mas_dict[x])\n",
    "\n",
    "fire_dict = {0:0, 1:1, 2:1, 3:1, 4:1}\n",
    "kaggle['fire'] = kaggle['fireplaces'].apply(lambda x: fire_dict[x])\n",
    "\n",
    "saletype_dict = {'ConLw': 1.2, 'Oth': 1.2, 'COD': 1.3, 'ConLD': 1.4, \n",
    "                 'WD ': 1.7, 'CWD': 1.8, 'ConLI': 2, 'Con': 2.4, 'New': 2.8, 'VWD':1.7}\n",
    "kaggle['sale_score'] = kaggle['sale_type'].apply(lambda x: saletype_dict[x])\n",
    "\n",
    "bldg_dict = {'2fmCon':1.2, 'Twnhs':1.3, 'Duplex': 1.5, '1Fam': 1.8, 'TwnhsE': 1.9}\n",
    "kaggle['bldg_score'] = kaggle['bldg_type'].apply(lambda x: bldg_dict[x])\n",
    "\n"
   ]
  },
  {
   "cell_type": "markdown",
   "metadata": {},
   "source": [
    "Load my model:"
   ]
  },
  {
   "cell_type": "code",
   "execution_count": 95,
   "metadata": {},
   "outputs": [],
   "source": [
    "model_7 = pickle.load(open('../model/linear_model_7.pkl', 'rb'))"
   ]
  },
  {
   "cell_type": "code",
   "execution_count": 96,
   "metadata": {},
   "outputs": [],
   "source": [
    "X_7 = kaggle[features_7]"
   ]
  },
  {
   "cell_type": "markdown",
   "metadata": {},
   "source": [
    "Make predictions:"
   ]
  },
  {
   "cell_type": "code",
   "execution_count": 97,
   "metadata": {},
   "outputs": [],
   "source": [
    "logged_prediction_7 = model_7.predict(X_7)"
   ]
  },
  {
   "cell_type": "code",
   "execution_count": 98,
   "metadata": {},
   "outputs": [],
   "source": [
    "final_predictions_7 = np.exp(logged_prediction_7)"
   ]
  },
  {
   "cell_type": "markdown",
   "metadata": {},
   "source": [
    "Add predictions to dataframe:"
   ]
  },
  {
   "cell_type": "code",
   "execution_count": 99,
   "metadata": {},
   "outputs": [],
   "source": [
    "kaggle['SalePrice'] = final_predictions_7"
   ]
  },
  {
   "cell_type": "code",
   "execution_count": 100,
   "metadata": {},
   "outputs": [
    {
     "data": {
      "text/plain": [
       "0    143750.524481\n",
       "1    161719.442248\n",
       "2    210380.216557\n",
       "3    119973.004940\n",
       "4    159832.233454\n",
       "Name: SalePrice, dtype: float64"
      ]
     },
     "execution_count": 100,
     "metadata": {},
     "output_type": "execute_result"
    }
   ],
   "source": [
    "kaggle['SalePrice'].head()"
   ]
  },
  {
   "cell_type": "code",
   "execution_count": 101,
   "metadata": {},
   "outputs": [],
   "source": [
    "kaggle.rename(columns={'id':'Id'}, inplace=True)"
   ]
  },
  {
   "cell_type": "markdown",
   "metadata": {},
   "source": [
    "Save as Kaggle submission:"
   ]
  },
  {
   "cell_type": "code",
   "execution_count": 102,
   "metadata": {},
   "outputs": [],
   "source": [
    "submission4 = pd.DataFrame(kaggle[['Id','SalePrice']])\n",
    "submission4 = submission4.sort_values('Id')"
   ]
  },
  {
   "cell_type": "code",
   "execution_count": 103,
   "metadata": {},
   "outputs": [],
   "source": [
    "submission4.to_csv('../datasets/submission8_caress.csv', index = False)"
   ]
  }
 ],
 "metadata": {
  "kernelspec": {
   "display_name": "Python 3",
   "language": "python",
   "name": "python3"
  },
  "language_info": {
   "codemirror_mode": {
    "name": "ipython",
    "version": 3
   },
   "file_extension": ".py",
   "mimetype": "text/x-python",
   "name": "python",
   "nbconvert_exporter": "python",
   "pygments_lexer": "ipython3",
   "version": "3.7.6"
  }
 },
 "nbformat": 4,
 "nbformat_minor": 4
}
