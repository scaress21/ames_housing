{
 "cells": [
  {
   "cell_type": "markdown",
   "metadata": {},
   "source": [
    "# Ames Housing Data and Kaggle Challenge\n",
    "\n",
    "### Part 3A: MLR\n",
    "\n",
    "For this section, I am going to try several models that increase in complexity. These are all models that I created to eventually submit to Kaggle so the goal was minimizing the RSME. The model I used to create my presentation is in the notebook \"05.Presentation Model and Plots' where the goal was more interpretation focused.\n",
    "<br>\n",
    "<br>[Model #1](#Model-1) only with numerical data that is strongly correlated with the price\n",
    "<br>[Model #2](#Model-2) with a few dummies and interactions\n",
    "<br>[Model #3](#Model-3) with a few more dummies and interactions\n",
    "<br>[Model #4](#Model-4) with log (1st submission to Kaggle)\n",
    "<br>[Model #5](#Model-5) with a few more interactions and log (2nd submission to Kaggle)\n",
    "<br>[Model #6](#Model-6) with a few more interactions and log (3rd submission to Kaggle)\n",
    "<br>[Model #7](#Model-7) attempt to get back to the basics (4th submission to Kaggle)\n",
    "\n",
    "NOTE: For pretty much all of these models, I engineered several features that I have since removed because they showed no significance (i.e. p-value was above .05). Since they weren't in use, I have removed some those features to clean up the notebook but wanted to leave this note as that trial and error was part of my process."
   ]
  },
  {
   "cell_type": "markdown",
   "metadata": {},
   "source": [
    "First, I'll import all the neccessary packages:"
   ]
  },
  {
   "cell_type": "code",
   "execution_count": 1,
   "metadata": {},
   "outputs": [],
   "source": [
    "import pandas as pd\n",
    "import numpy as np\n",
    "import seaborn as sns\n",
    "from sklearn.model_selection import train_test_split, cross_val_score\n",
    "from sklearn.linear_model import LinearRegression\n",
    "from sklearn.preprocessing import StandardScaler, PolynomialFeatures\n",
    "import matplotlib.pyplot as plt\n",
    "from sklearn import metrics\n",
    "import pickle\n",
    "import statsmodels.api as sm"
   ]
  },
  {
   "cell_type": "markdown",
   "metadata": {},
   "source": [
    "I'm also creating a custom functin that finds metrics so I can quickly evaluate each version on my model:"
   ]
  },
  {
   "cell_type": "code",
   "execution_count": 2,
   "metadata": {},
   "outputs": [],
   "source": [
    "def find_metrics(xtrain, ytrain, xtest, ytest, model, model_pred):\n",
    "    mean_2_error = metrics.mean_squared_error(ytrain, model_pred)\n",
    "    mean_ab_error = metrics.mean_absolute_error(ytrain, model_pred)\n",
    "    rmse = mean_2_error **.5\n",
    "    r2_test = model.score(xtrain, ytrain)\n",
    "    r2_train = model.score(xtest, ytest)\n",
    "    r2_cv = cross_val_score(model, xtrain, ytrain).mean()\n",
    "    return f'MSE: {mean_2_error}, RMSE: {rmse}, MAE : {mean_ab_error}, R2-Train : {r2_test}, R2-Test: {r2_train}, R2 Cross Val: {r2_cv}' "
   ]
  },
  {
   "cell_type": "code",
   "execution_count": 3,
   "metadata": {},
   "outputs": [],
   "source": [
    "def find_metrics_2(xtrain, ytrain, xtest, ytest, model, model_pred):\n",
    "    mean_2_error = metrics.mean_squared_error(ytrain, model_pred)\n",
    "    mean_ab_error = metrics.mean_absolute_error(ytrain, model_pred)\n",
    "    rmse = mean_2_error **.5\n",
    "    return f'MSE: {mean_2_error}, RMSE: {rmse}, MAE : {mean_ab_error}' "
   ]
  },
  {
   "cell_type": "markdown",
   "metadata": {},
   "source": [
    "Reading in my data:"
   ]
  },
  {
   "cell_type": "code",
   "execution_count": 4,
   "metadata": {},
   "outputs": [],
   "source": [
    "ames = pd.read_csv('../datasets/ames_housing_cleaned.csv')"
   ]
  },
  {
   "cell_type": "code",
   "execution_count": 5,
   "metadata": {},
   "outputs": [
    {
     "data": {
      "text/html": [
       "<div>\n",
       "<style scoped>\n",
       "    .dataframe tbody tr th:only-of-type {\n",
       "        vertical-align: middle;\n",
       "    }\n",
       "\n",
       "    .dataframe tbody tr th {\n",
       "        vertical-align: top;\n",
       "    }\n",
       "\n",
       "    .dataframe thead th {\n",
       "        text-align: right;\n",
       "    }\n",
       "</style>\n",
       "<table border=\"1\" class=\"dataframe\">\n",
       "  <thead>\n",
       "    <tr style=\"text-align: right;\">\n",
       "      <th></th>\n",
       "      <th>id</th>\n",
       "      <th>pid</th>\n",
       "      <th>ms_subclass</th>\n",
       "      <th>ms_zoning</th>\n",
       "      <th>lot_area</th>\n",
       "      <th>street</th>\n",
       "      <th>lot_shape</th>\n",
       "      <th>land_contour</th>\n",
       "      <th>utilities</th>\n",
       "      <th>lot_config</th>\n",
       "      <th>...</th>\n",
       "      <th>open_porch_sf</th>\n",
       "      <th>enclosed_porch</th>\n",
       "      <th>3ssn_porch</th>\n",
       "      <th>screen_porch</th>\n",
       "      <th>pool_area</th>\n",
       "      <th>misc_val</th>\n",
       "      <th>mo_sold</th>\n",
       "      <th>yr_sold</th>\n",
       "      <th>sale_type</th>\n",
       "      <th>saleprice</th>\n",
       "    </tr>\n",
       "  </thead>\n",
       "  <tbody>\n",
       "    <tr>\n",
       "      <th>0</th>\n",
       "      <td>109</td>\n",
       "      <td>533352170</td>\n",
       "      <td>60</td>\n",
       "      <td>RL</td>\n",
       "      <td>13517</td>\n",
       "      <td>Pave</td>\n",
       "      <td>IR1</td>\n",
       "      <td>Lvl</td>\n",
       "      <td>AllPub</td>\n",
       "      <td>CulDSac</td>\n",
       "      <td>...</td>\n",
       "      <td>44</td>\n",
       "      <td>0</td>\n",
       "      <td>0</td>\n",
       "      <td>0</td>\n",
       "      <td>0</td>\n",
       "      <td>0</td>\n",
       "      <td>3</td>\n",
       "      <td>2010</td>\n",
       "      <td>WD</td>\n",
       "      <td>130500</td>\n",
       "    </tr>\n",
       "    <tr>\n",
       "      <th>1</th>\n",
       "      <td>544</td>\n",
       "      <td>531379050</td>\n",
       "      <td>60</td>\n",
       "      <td>RL</td>\n",
       "      <td>11492</td>\n",
       "      <td>Pave</td>\n",
       "      <td>IR1</td>\n",
       "      <td>Lvl</td>\n",
       "      <td>AllPub</td>\n",
       "      <td>CulDSac</td>\n",
       "      <td>...</td>\n",
       "      <td>74</td>\n",
       "      <td>0</td>\n",
       "      <td>0</td>\n",
       "      <td>0</td>\n",
       "      <td>0</td>\n",
       "      <td>0</td>\n",
       "      <td>4</td>\n",
       "      <td>2009</td>\n",
       "      <td>WD</td>\n",
       "      <td>220000</td>\n",
       "    </tr>\n",
       "    <tr>\n",
       "      <th>2</th>\n",
       "      <td>153</td>\n",
       "      <td>535304180</td>\n",
       "      <td>20</td>\n",
       "      <td>RL</td>\n",
       "      <td>7922</td>\n",
       "      <td>Pave</td>\n",
       "      <td>Reg</td>\n",
       "      <td>Lvl</td>\n",
       "      <td>AllPub</td>\n",
       "      <td>Inside</td>\n",
       "      <td>...</td>\n",
       "      <td>52</td>\n",
       "      <td>0</td>\n",
       "      <td>0</td>\n",
       "      <td>0</td>\n",
       "      <td>0</td>\n",
       "      <td>0</td>\n",
       "      <td>1</td>\n",
       "      <td>2010</td>\n",
       "      <td>WD</td>\n",
       "      <td>109000</td>\n",
       "    </tr>\n",
       "    <tr>\n",
       "      <th>3</th>\n",
       "      <td>318</td>\n",
       "      <td>916386060</td>\n",
       "      <td>60</td>\n",
       "      <td>RL</td>\n",
       "      <td>9802</td>\n",
       "      <td>Pave</td>\n",
       "      <td>Reg</td>\n",
       "      <td>Lvl</td>\n",
       "      <td>AllPub</td>\n",
       "      <td>Inside</td>\n",
       "      <td>...</td>\n",
       "      <td>0</td>\n",
       "      <td>0</td>\n",
       "      <td>0</td>\n",
       "      <td>0</td>\n",
       "      <td>0</td>\n",
       "      <td>0</td>\n",
       "      <td>4</td>\n",
       "      <td>2010</td>\n",
       "      <td>WD</td>\n",
       "      <td>174000</td>\n",
       "    </tr>\n",
       "    <tr>\n",
       "      <th>4</th>\n",
       "      <td>255</td>\n",
       "      <td>906425045</td>\n",
       "      <td>50</td>\n",
       "      <td>RL</td>\n",
       "      <td>14235</td>\n",
       "      <td>Pave</td>\n",
       "      <td>IR1</td>\n",
       "      <td>Lvl</td>\n",
       "      <td>AllPub</td>\n",
       "      <td>Inside</td>\n",
       "      <td>...</td>\n",
       "      <td>59</td>\n",
       "      <td>0</td>\n",
       "      <td>0</td>\n",
       "      <td>0</td>\n",
       "      <td>0</td>\n",
       "      <td>0</td>\n",
       "      <td>3</td>\n",
       "      <td>2010</td>\n",
       "      <td>WD</td>\n",
       "      <td>138500</td>\n",
       "    </tr>\n",
       "  </tbody>\n",
       "</table>\n",
       "<p>5 rows × 70 columns</p>\n",
       "</div>"
      ],
      "text/plain": [
       "    id        pid  ms_subclass ms_zoning  lot_area street lot_shape  \\\n",
       "0  109  533352170           60        RL     13517   Pave       IR1   \n",
       "1  544  531379050           60        RL     11492   Pave       IR1   \n",
       "2  153  535304180           20        RL      7922   Pave       Reg   \n",
       "3  318  916386060           60        RL      9802   Pave       Reg   \n",
       "4  255  906425045           50        RL     14235   Pave       IR1   \n",
       "\n",
       "  land_contour utilities lot_config  ... open_porch_sf enclosed_porch  \\\n",
       "0          Lvl    AllPub    CulDSac  ...            44              0   \n",
       "1          Lvl    AllPub    CulDSac  ...            74              0   \n",
       "2          Lvl    AllPub     Inside  ...            52              0   \n",
       "3          Lvl    AllPub     Inside  ...             0              0   \n",
       "4          Lvl    AllPub     Inside  ...            59              0   \n",
       "\n",
       "  3ssn_porch screen_porch pool_area misc_val  mo_sold  yr_sold  sale_type  \\\n",
       "0          0            0         0        0        3     2010        WD    \n",
       "1          0            0         0        0        4     2009        WD    \n",
       "2          0            0         0        0        1     2010        WD    \n",
       "3          0            0         0        0        4     2010        WD    \n",
       "4          0            0         0        0        3     2010        WD    \n",
       "\n",
       "   saleprice  \n",
       "0     130500  \n",
       "1     220000  \n",
       "2     109000  \n",
       "3     174000  \n",
       "4     138500  \n",
       "\n",
       "[5 rows x 70 columns]"
      ]
     },
     "execution_count": 5,
     "metadata": {},
     "output_type": "execute_result"
    }
   ],
   "source": [
    "ames.head()"
   ]
  },
  {
   "cell_type": "markdown",
   "metadata": {},
   "source": [
    "# Model 1"
   ]
  },
  {
   "cell_type": "markdown",
   "metadata": {},
   "source": [
    "For my first model, I'm going to engineer one really simple feature which combines all the different types of bathrooms into a total count:"
   ]
  },
  {
   "cell_type": "code",
   "execution_count": 6,
   "metadata": {},
   "outputs": [],
   "source": [
    "ames['total_bath'] = ames['bsmt_full_bath'] + (ames['bsmt_half_bath'] *.5) + ames['full_bath'] + (ames['half_bath'] *.5)\n"
   ]
  },
  {
   "cell_type": "code",
   "execution_count": 7,
   "metadata": {},
   "outputs": [
    {
     "data": {
      "text/html": [
       "<div>\n",
       "<style scoped>\n",
       "    .dataframe tbody tr th:only-of-type {\n",
       "        vertical-align: middle;\n",
       "    }\n",
       "\n",
       "    .dataframe tbody tr th {\n",
       "        vertical-align: top;\n",
       "    }\n",
       "\n",
       "    .dataframe thead th {\n",
       "        text-align: right;\n",
       "    }\n",
       "</style>\n",
       "<table border=\"1\" class=\"dataframe\">\n",
       "  <thead>\n",
       "    <tr style=\"text-align: right;\">\n",
       "      <th></th>\n",
       "      <th>id</th>\n",
       "      <th>pid</th>\n",
       "      <th>ms_subclass</th>\n",
       "      <th>ms_zoning</th>\n",
       "      <th>lot_area</th>\n",
       "      <th>street</th>\n",
       "      <th>lot_shape</th>\n",
       "      <th>land_contour</th>\n",
       "      <th>utilities</th>\n",
       "      <th>lot_config</th>\n",
       "      <th>...</th>\n",
       "      <th>enclosed_porch</th>\n",
       "      <th>3ssn_porch</th>\n",
       "      <th>screen_porch</th>\n",
       "      <th>pool_area</th>\n",
       "      <th>misc_val</th>\n",
       "      <th>mo_sold</th>\n",
       "      <th>yr_sold</th>\n",
       "      <th>sale_type</th>\n",
       "      <th>saleprice</th>\n",
       "      <th>total_bath</th>\n",
       "    </tr>\n",
       "  </thead>\n",
       "  <tbody>\n",
       "    <tr>\n",
       "      <th>0</th>\n",
       "      <td>109</td>\n",
       "      <td>533352170</td>\n",
       "      <td>60</td>\n",
       "      <td>RL</td>\n",
       "      <td>13517</td>\n",
       "      <td>Pave</td>\n",
       "      <td>IR1</td>\n",
       "      <td>Lvl</td>\n",
       "      <td>AllPub</td>\n",
       "      <td>CulDSac</td>\n",
       "      <td>...</td>\n",
       "      <td>0</td>\n",
       "      <td>0</td>\n",
       "      <td>0</td>\n",
       "      <td>0</td>\n",
       "      <td>0</td>\n",
       "      <td>3</td>\n",
       "      <td>2010</td>\n",
       "      <td>WD</td>\n",
       "      <td>130500</td>\n",
       "      <td>2.5</td>\n",
       "    </tr>\n",
       "    <tr>\n",
       "      <th>1</th>\n",
       "      <td>544</td>\n",
       "      <td>531379050</td>\n",
       "      <td>60</td>\n",
       "      <td>RL</td>\n",
       "      <td>11492</td>\n",
       "      <td>Pave</td>\n",
       "      <td>IR1</td>\n",
       "      <td>Lvl</td>\n",
       "      <td>AllPub</td>\n",
       "      <td>CulDSac</td>\n",
       "      <td>...</td>\n",
       "      <td>0</td>\n",
       "      <td>0</td>\n",
       "      <td>0</td>\n",
       "      <td>0</td>\n",
       "      <td>0</td>\n",
       "      <td>4</td>\n",
       "      <td>2009</td>\n",
       "      <td>WD</td>\n",
       "      <td>220000</td>\n",
       "      <td>3.5</td>\n",
       "    </tr>\n",
       "    <tr>\n",
       "      <th>2</th>\n",
       "      <td>153</td>\n",
       "      <td>535304180</td>\n",
       "      <td>20</td>\n",
       "      <td>RL</td>\n",
       "      <td>7922</td>\n",
       "      <td>Pave</td>\n",
       "      <td>Reg</td>\n",
       "      <td>Lvl</td>\n",
       "      <td>AllPub</td>\n",
       "      <td>Inside</td>\n",
       "      <td>...</td>\n",
       "      <td>0</td>\n",
       "      <td>0</td>\n",
       "      <td>0</td>\n",
       "      <td>0</td>\n",
       "      <td>0</td>\n",
       "      <td>1</td>\n",
       "      <td>2010</td>\n",
       "      <td>WD</td>\n",
       "      <td>109000</td>\n",
       "      <td>2.0</td>\n",
       "    </tr>\n",
       "    <tr>\n",
       "      <th>3</th>\n",
       "      <td>318</td>\n",
       "      <td>916386060</td>\n",
       "      <td>60</td>\n",
       "      <td>RL</td>\n",
       "      <td>9802</td>\n",
       "      <td>Pave</td>\n",
       "      <td>Reg</td>\n",
       "      <td>Lvl</td>\n",
       "      <td>AllPub</td>\n",
       "      <td>Inside</td>\n",
       "      <td>...</td>\n",
       "      <td>0</td>\n",
       "      <td>0</td>\n",
       "      <td>0</td>\n",
       "      <td>0</td>\n",
       "      <td>0</td>\n",
       "      <td>4</td>\n",
       "      <td>2010</td>\n",
       "      <td>WD</td>\n",
       "      <td>174000</td>\n",
       "      <td>2.5</td>\n",
       "    </tr>\n",
       "    <tr>\n",
       "      <th>4</th>\n",
       "      <td>255</td>\n",
       "      <td>906425045</td>\n",
       "      <td>50</td>\n",
       "      <td>RL</td>\n",
       "      <td>14235</td>\n",
       "      <td>Pave</td>\n",
       "      <td>IR1</td>\n",
       "      <td>Lvl</td>\n",
       "      <td>AllPub</td>\n",
       "      <td>Inside</td>\n",
       "      <td>...</td>\n",
       "      <td>0</td>\n",
       "      <td>0</td>\n",
       "      <td>0</td>\n",
       "      <td>0</td>\n",
       "      <td>0</td>\n",
       "      <td>3</td>\n",
       "      <td>2010</td>\n",
       "      <td>WD</td>\n",
       "      <td>138500</td>\n",
       "      <td>2.0</td>\n",
       "    </tr>\n",
       "  </tbody>\n",
       "</table>\n",
       "<p>5 rows × 71 columns</p>\n",
       "</div>"
      ],
      "text/plain": [
       "    id        pid  ms_subclass ms_zoning  lot_area street lot_shape  \\\n",
       "0  109  533352170           60        RL     13517   Pave       IR1   \n",
       "1  544  531379050           60        RL     11492   Pave       IR1   \n",
       "2  153  535304180           20        RL      7922   Pave       Reg   \n",
       "3  318  916386060           60        RL      9802   Pave       Reg   \n",
       "4  255  906425045           50        RL     14235   Pave       IR1   \n",
       "\n",
       "  land_contour utilities lot_config  ... enclosed_porch 3ssn_porch  \\\n",
       "0          Lvl    AllPub    CulDSac  ...              0          0   \n",
       "1          Lvl    AllPub    CulDSac  ...              0          0   \n",
       "2          Lvl    AllPub     Inside  ...              0          0   \n",
       "3          Lvl    AllPub     Inside  ...              0          0   \n",
       "4          Lvl    AllPub     Inside  ...              0          0   \n",
       "\n",
       "  screen_porch pool_area misc_val mo_sold  yr_sold  sale_type  saleprice  \\\n",
       "0            0         0        0       3     2010        WD      130500   \n",
       "1            0         0        0       4     2009        WD      220000   \n",
       "2            0         0        0       1     2010        WD      109000   \n",
       "3            0         0        0       4     2010        WD      174000   \n",
       "4            0         0        0       3     2010        WD      138500   \n",
       "\n",
       "   total_bath  \n",
       "0         2.5  \n",
       "1         3.5  \n",
       "2         2.0  \n",
       "3         2.5  \n",
       "4         2.0  \n",
       "\n",
       "[5 rows x 71 columns]"
      ]
     },
     "execution_count": 7,
     "metadata": {},
     "output_type": "execute_result"
    }
   ],
   "source": [
    "ames.head()"
   ]
  },
  {
   "cell_type": "markdown",
   "metadata": {},
   "source": [
    "For the features on this model, I'm going to simply include columns that are already numeric, ordered, and showed a strong positive correlation with price in my EDA:"
   ]
  },
  {
   "cell_type": "markdown",
   "metadata": {},
   "source": [
    "Building Model #1:"
   ]
  },
  {
   "cell_type": "code",
   "execution_count": 8,
   "metadata": {},
   "outputs": [],
   "source": [
    "features_1 = ['overall_qual', 'gr_liv_area', 'garage_cars', 'garage_area', '1st_flr_sf', 'total_bsmt_sf', 'year_built', 'total_bath', 'year_remod/add', 'totrms_abvgrd', 'mas_vnr_area']"
   ]
  },
  {
   "cell_type": "code",
   "execution_count": 9,
   "metadata": {},
   "outputs": [],
   "source": [
    "X_1 = ames[features_1]\n",
    "y_1 = ames['saleprice']"
   ]
  },
  {
   "cell_type": "markdown",
   "metadata": {},
   "source": [
    "Dividing the data into train/test sets:"
   ]
  },
  {
   "cell_type": "code",
   "execution_count": 10,
   "metadata": {},
   "outputs": [],
   "source": [
    "X_1_train, X_1_test, y_1_train, y_1_test = train_test_split(X_1, y_1, random_state = 21)"
   ]
  },
  {
   "cell_type": "markdown",
   "metadata": {},
   "source": [
    "Instantiating and fitting my model:"
   ]
  },
  {
   "cell_type": "code",
   "execution_count": 11,
   "metadata": {},
   "outputs": [],
   "source": [
    "model_1 = LinearRegression()"
   ]
  },
  {
   "cell_type": "code",
   "execution_count": 12,
   "metadata": {},
   "outputs": [
    {
     "data": {
      "text/plain": [
       "LinearRegression(copy_X=True, fit_intercept=True, n_jobs=None, normalize=False)"
      ]
     },
     "execution_count": 12,
     "metadata": {},
     "output_type": "execute_result"
    }
   ],
   "source": [
    "model_1.fit(X_1_train, y_1_train)"
   ]
  },
  {
   "cell_type": "markdown",
   "metadata": {},
   "source": [
    "Making predictions and visualizing against the actual sale price:"
   ]
  },
  {
   "cell_type": "code",
   "execution_count": 13,
   "metadata": {},
   "outputs": [],
   "source": [
    "y_pred_1 = model_1.predict(X_1_train)"
   ]
  },
  {
   "cell_type": "code",
   "execution_count": 14,
   "metadata": {},
   "outputs": [
    {
     "data": {
      "text/plain": [
       "Text(0, 0.5, 'Actual Price')"
      ]
     },
     "execution_count": 14,
     "metadata": {},
     "output_type": "execute_result"
    },
    {
     "data": {
      "image/png": "[encoded data removed]",
      "text/plain": [
       "<Figure size 432x288 with 1 Axes>"
      ]
     },
     "metadata": {
      "needs_background": "light"
     },
     "output_type": "display_data"
    }
   ],
   "source": [
    "plt.scatter(y_pred_1, y_1_train)\n",
    "plt.title('Model 1: Predicted Price vs Actual Price')\n",
    "plt.xlabel('Predicted Price')\n",
    "plt.ylabel('Actual Price')"
   ]
  },
  {
   "cell_type": "markdown",
   "metadata": {},
   "source": [
    "Calculating the metrics on this model with my functions:"
   ]
  },
  {
   "cell_type": "code",
   "execution_count": 15,
   "metadata": {},
   "outputs": [
    {
     "data": {
      "text/plain": [
       "'MSE: 1332562809.029898, RMSE: 36504.28480370349, MAE : 23787.01882909565, R2-Train : 0.784796653563961, R2-Test: 0.8293117353837484, R2 Cross Val: 0.7662361185395674'"
      ]
     },
     "execution_count": 15,
     "metadata": {},
     "output_type": "execute_result"
    }
   ],
   "source": [
    "find_metrics(X_1_train, y_1_train, X_1_test, y_1_test, model_1, y_pred_1)"
   ]
  },
  {
   "cell_type": "markdown",
   "metadata": {},
   "source": [
    "**Model 1 Conclusion**:  The R2 scores of the train, test, and cross val are all relatively close. Because they aren't too far from each other, I think this is a solid place to start, these are the scores to beat in my next models."
   ]
  },
  {
   "cell_type": "markdown",
   "metadata": {},
   "source": [
    "## Model 2"
   ]
  },
  {
   "cell_type": "markdown",
   "metadata": {},
   "source": [
    "For the second model, I'm going to build on my previous model by including cateogorical data with dummies."
   ]
  },
  {
   "cell_type": "markdown",
   "metadata": {},
   "source": [
    "Because location is such an important part of real estate, I want to find a way to incorporate that into my model. To do this, I'm goign to incorporate Neighborhoods. Rather than create a separate dummy coulmn for each neighborhood, I'm going to create one column that has a dummy value related to the average home price in that area."
   ]
  },
  {
   "cell_type": "markdown",
   "metadata": {},
   "source": [
    "These are the averages I'll create my dummy values off of."
   ]
  },
  {
   "cell_type": "code",
   "execution_count": 16,
   "metadata": {},
   "outputs": [],
   "source": [
    "neighbor_avg = ames.groupby(ames['neighborhood'])['saleprice'].mean()"
   ]
  },
  {
   "cell_type": "code",
   "execution_count": 17,
   "metadata": {},
   "outputs": [
    {
     "name": "stdout",
     "output_type": "stream",
     "text": [
      "neighborhood\n",
      "Blmngtn    200417.681818\n",
      "Blueste    144566.666667\n",
      "BrDale     103371.052632\n",
      "BrkSide    128857.094595\n",
      "ClearCr    220684.615385\n",
      "CollgCr    202359.544944\n",
      "Crawfor    205976.600000\n",
      "Edwards    131576.503937\n",
      "Gilbert    188947.618182\n",
      "Greens     188666.666667\n",
      "GrnHill    330000.000000\n",
      "IDOTRR     104439.571429\n",
      "Landmrk    137000.000000\n",
      "MeadowV    100231.250000\n",
      "Mitchel    170645.512821\n",
      "NAmes      147701.682274\n",
      "NPkVill    140476.470588\n",
      "NWAmes     194619.022989\n",
      "NoRidge    316294.125000\n",
      "NridgHt    321783.966387\n",
      "OldTown    126439.158228\n",
      "SWISU      134758.875000\n",
      "Sawyer     138600.859813\n",
      "SawyerW    192210.750000\n",
      "Somerst    226654.567797\n",
      "StoneBr    329675.736842\n",
      "Timber     240492.872340\n",
      "Veenker    253570.588235\n",
      "Name: saleprice, dtype: float64\n"
     ]
    }
   ],
   "source": [
    "print(neighbor_avg)"
   ]
  },
  {
   "cell_type": "markdown",
   "metadata": {},
   "source": [
    "First, I'll need to generate a list of all the neighborhoods and sort it."
   ]
  },
  {
   "cell_type": "code",
   "execution_count": 18,
   "metadata": {},
   "outputs": [],
   "source": [
    "neighborhoods = list(ames['neighborhood'].unique())"
   ]
  },
  {
   "cell_type": "code",
   "execution_count": 19,
   "metadata": {},
   "outputs": [],
   "source": [
    "neighborhoods = sorted(neighborhoods)"
   ]
  },
  {
   "cell_type": "markdown",
   "metadata": {},
   "source": [
    "Next, I'll make a dictionary that contains each neighborhood paired with it's average."
   ]
  },
  {
   "cell_type": "code",
   "execution_count": 20,
   "metadata": {},
   "outputs": [],
   "source": [
    "neighb_dict = {neighborhood : round((avg/10_0000), 2) \n",
    "               for(neighborhood, avg) in zip(neighborhoods, neighbor_avg)}"
   ]
  },
  {
   "cell_type": "code",
   "execution_count": 21,
   "metadata": {},
   "outputs": [
    {
     "name": "stdout",
     "output_type": "stream",
     "text": [
      "{'Blmngtn': 2.0, 'Blueste': 1.45, 'BrDale': 1.03, 'BrkSide': 1.29, 'ClearCr': 2.21, 'CollgCr': 2.02, 'Crawfor': 2.06, 'Edwards': 1.32, 'Gilbert': 1.89, 'Greens': 1.89, 'GrnHill': 3.3, 'IDOTRR': 1.04, 'Landmrk': 1.37, 'MeadowV': 1.0, 'Mitchel': 1.71, 'NAmes': 1.48, 'NPkVill': 1.4, 'NWAmes': 1.95, 'NoRidge': 3.16, 'NridgHt': 3.22, 'OldTown': 1.26, 'SWISU': 1.35, 'Sawyer': 1.39, 'SawyerW': 1.92, 'Somerst': 2.27, 'StoneBr': 3.3, 'Timber': 2.4, 'Veenker': 2.54}\n"
     ]
    }
   ],
   "source": [
    "print(neighb_dict)"
   ]
  },
  {
   "cell_type": "markdown",
   "metadata": {},
   "source": [
    "Finally, I'll use a lambda function to add theses values in a new column called 'Neighborhood Average'."
   ]
  },
  {
   "cell_type": "code",
   "execution_count": 22,
   "metadata": {},
   "outputs": [],
   "source": [
    "#Adapted from Daniel Kim's potato example\n",
    "\n",
    "ames['neighborhood_avg'] = ames['neighborhood'].apply(lambda x: neighb_dict[x])"
   ]
  },
  {
   "cell_type": "markdown",
   "metadata": {},
   "source": [
    "Double checking that my column was added:"
   ]
  },
  {
   "cell_type": "code",
   "execution_count": 23,
   "metadata": {},
   "outputs": [
    {
     "data": {
      "text/html": [
       "<div>\n",
       "<style scoped>\n",
       "    .dataframe tbody tr th:only-of-type {\n",
       "        vertical-align: middle;\n",
       "    }\n",
       "\n",
       "    .dataframe tbody tr th {\n",
       "        vertical-align: top;\n",
       "    }\n",
       "\n",
       "    .dataframe thead th {\n",
       "        text-align: right;\n",
       "    }\n",
       "</style>\n",
       "<table border=\"1\" class=\"dataframe\">\n",
       "  <thead>\n",
       "    <tr style=\"text-align: right;\">\n",
       "      <th></th>\n",
       "      <th>id</th>\n",
       "      <th>pid</th>\n",
       "      <th>ms_subclass</th>\n",
       "      <th>ms_zoning</th>\n",
       "      <th>lot_area</th>\n",
       "      <th>street</th>\n",
       "      <th>lot_shape</th>\n",
       "      <th>land_contour</th>\n",
       "      <th>utilities</th>\n",
       "      <th>lot_config</th>\n",
       "      <th>...</th>\n",
       "      <th>3ssn_porch</th>\n",
       "      <th>screen_porch</th>\n",
       "      <th>pool_area</th>\n",
       "      <th>misc_val</th>\n",
       "      <th>mo_sold</th>\n",
       "      <th>yr_sold</th>\n",
       "      <th>sale_type</th>\n",
       "      <th>saleprice</th>\n",
       "      <th>total_bath</th>\n",
       "      <th>neighborhood_avg</th>\n",
       "    </tr>\n",
       "  </thead>\n",
       "  <tbody>\n",
       "    <tr>\n",
       "      <th>0</th>\n",
       "      <td>109</td>\n",
       "      <td>533352170</td>\n",
       "      <td>60</td>\n",
       "      <td>RL</td>\n",
       "      <td>13517</td>\n",
       "      <td>Pave</td>\n",
       "      <td>IR1</td>\n",
       "      <td>Lvl</td>\n",
       "      <td>AllPub</td>\n",
       "      <td>CulDSac</td>\n",
       "      <td>...</td>\n",
       "      <td>0</td>\n",
       "      <td>0</td>\n",
       "      <td>0</td>\n",
       "      <td>0</td>\n",
       "      <td>3</td>\n",
       "      <td>2010</td>\n",
       "      <td>WD</td>\n",
       "      <td>130500</td>\n",
       "      <td>2.5</td>\n",
       "      <td>1.39</td>\n",
       "    </tr>\n",
       "    <tr>\n",
       "      <th>1</th>\n",
       "      <td>544</td>\n",
       "      <td>531379050</td>\n",
       "      <td>60</td>\n",
       "      <td>RL</td>\n",
       "      <td>11492</td>\n",
       "      <td>Pave</td>\n",
       "      <td>IR1</td>\n",
       "      <td>Lvl</td>\n",
       "      <td>AllPub</td>\n",
       "      <td>CulDSac</td>\n",
       "      <td>...</td>\n",
       "      <td>0</td>\n",
       "      <td>0</td>\n",
       "      <td>0</td>\n",
       "      <td>0</td>\n",
       "      <td>4</td>\n",
       "      <td>2009</td>\n",
       "      <td>WD</td>\n",
       "      <td>220000</td>\n",
       "      <td>3.5</td>\n",
       "      <td>1.92</td>\n",
       "    </tr>\n",
       "    <tr>\n",
       "      <th>2</th>\n",
       "      <td>153</td>\n",
       "      <td>535304180</td>\n",
       "      <td>20</td>\n",
       "      <td>RL</td>\n",
       "      <td>7922</td>\n",
       "      <td>Pave</td>\n",
       "      <td>Reg</td>\n",
       "      <td>Lvl</td>\n",
       "      <td>AllPub</td>\n",
       "      <td>Inside</td>\n",
       "      <td>...</td>\n",
       "      <td>0</td>\n",
       "      <td>0</td>\n",
       "      <td>0</td>\n",
       "      <td>0</td>\n",
       "      <td>1</td>\n",
       "      <td>2010</td>\n",
       "      <td>WD</td>\n",
       "      <td>109000</td>\n",
       "      <td>2.0</td>\n",
       "      <td>1.48</td>\n",
       "    </tr>\n",
       "    <tr>\n",
       "      <th>3</th>\n",
       "      <td>318</td>\n",
       "      <td>916386060</td>\n",
       "      <td>60</td>\n",
       "      <td>RL</td>\n",
       "      <td>9802</td>\n",
       "      <td>Pave</td>\n",
       "      <td>Reg</td>\n",
       "      <td>Lvl</td>\n",
       "      <td>AllPub</td>\n",
       "      <td>Inside</td>\n",
       "      <td>...</td>\n",
       "      <td>0</td>\n",
       "      <td>0</td>\n",
       "      <td>0</td>\n",
       "      <td>0</td>\n",
       "      <td>4</td>\n",
       "      <td>2010</td>\n",
       "      <td>WD</td>\n",
       "      <td>174000</td>\n",
       "      <td>2.5</td>\n",
       "      <td>2.40</td>\n",
       "    </tr>\n",
       "    <tr>\n",
       "      <th>4</th>\n",
       "      <td>255</td>\n",
       "      <td>906425045</td>\n",
       "      <td>50</td>\n",
       "      <td>RL</td>\n",
       "      <td>14235</td>\n",
       "      <td>Pave</td>\n",
       "      <td>IR1</td>\n",
       "      <td>Lvl</td>\n",
       "      <td>AllPub</td>\n",
       "      <td>Inside</td>\n",
       "      <td>...</td>\n",
       "      <td>0</td>\n",
       "      <td>0</td>\n",
       "      <td>0</td>\n",
       "      <td>0</td>\n",
       "      <td>3</td>\n",
       "      <td>2010</td>\n",
       "      <td>WD</td>\n",
       "      <td>138500</td>\n",
       "      <td>2.0</td>\n",
       "      <td>1.92</td>\n",
       "    </tr>\n",
       "  </tbody>\n",
       "</table>\n",
       "<p>5 rows × 72 columns</p>\n",
       "</div>"
      ],
      "text/plain": [
       "    id        pid  ms_subclass ms_zoning  lot_area street lot_shape  \\\n",
       "0  109  533352170           60        RL     13517   Pave       IR1   \n",
       "1  544  531379050           60        RL     11492   Pave       IR1   \n",
       "2  153  535304180           20        RL      7922   Pave       Reg   \n",
       "3  318  916386060           60        RL      9802   Pave       Reg   \n",
       "4  255  906425045           50        RL     14235   Pave       IR1   \n",
       "\n",
       "  land_contour utilities lot_config  ... 3ssn_porch screen_porch pool_area  \\\n",
       "0          Lvl    AllPub    CulDSac  ...          0            0         0   \n",
       "1          Lvl    AllPub    CulDSac  ...          0            0         0   \n",
       "2          Lvl    AllPub     Inside  ...          0            0         0   \n",
       "3          Lvl    AllPub     Inside  ...          0            0         0   \n",
       "4          Lvl    AllPub     Inside  ...          0            0         0   \n",
       "\n",
       "  misc_val mo_sold yr_sold  sale_type  saleprice  total_bath  neighborhood_avg  \n",
       "0        0       3    2010        WD      130500         2.5              1.39  \n",
       "1        0       4    2009        WD      220000         3.5              1.92  \n",
       "2        0       1    2010        WD      109000         2.0              1.48  \n",
       "3        0       4    2010        WD      174000         2.5              2.40  \n",
       "4        0       3    2010        WD      138500         2.0              1.92  \n",
       "\n",
       "[5 rows x 72 columns]"
      ]
     },
     "execution_count": 23,
     "metadata": {},
     "output_type": "execute_result"
    }
   ],
   "source": [
    "ames.head()"
   ]
  },
  {
   "cell_type": "markdown",
   "metadata": {},
   "source": [
    "Next, I'm going to try a feature that takes the ratio of bedrooms to bathrooms:"
   ]
  },
  {
   "cell_type": "code",
   "execution_count": 24,
   "metadata": {},
   "outputs": [],
   "source": [
    "ames['Bed_bath_ratio'] = ames['bedroom_abvgr'] / ames['total_bath']"
   ]
  },
  {
   "cell_type": "markdown",
   "metadata": {},
   "source": [
    "I'm ready to create a second model with my newly engineered features:"
   ]
  },
  {
   "cell_type": "markdown",
   "metadata": {},
   "source": [
    "Building Model #2:"
   ]
  },
  {
   "cell_type": "code",
   "execution_count": 25,
   "metadata": {},
   "outputs": [],
   "source": [
    "features_2 = features_1 + ['neighborhood_avg', 'Bed_bath_ratio']"
   ]
  },
  {
   "cell_type": "code",
   "execution_count": 26,
   "metadata": {},
   "outputs": [],
   "source": [
    "X_2 = ames[features_2]\n",
    "y_2 = ames['saleprice']"
   ]
  },
  {
   "cell_type": "markdown",
   "metadata": {},
   "source": [
    "Again, I'll train test split the data:"
   ]
  },
  {
   "cell_type": "code",
   "execution_count": 27,
   "metadata": {},
   "outputs": [],
   "source": [
    "X_2_train, X_2_test, y_2_train, y_2_test = train_test_split(X_2, y_2, random_state = 21)"
   ]
  },
  {
   "cell_type": "markdown",
   "metadata": {},
   "source": [
    "Instantiating and fitting the model:"
   ]
  },
  {
   "cell_type": "code",
   "execution_count": 28,
   "metadata": {},
   "outputs": [],
   "source": [
    "model_2 = LinearRegression()"
   ]
  },
  {
   "cell_type": "code",
   "execution_count": 29,
   "metadata": {},
   "outputs": [
    {
     "data": {
      "text/plain": [
       "LinearRegression(copy_X=True, fit_intercept=True, n_jobs=None, normalize=False)"
      ]
     },
     "execution_count": 29,
     "metadata": {},
     "output_type": "execute_result"
    }
   ],
   "source": [
    "model_2.fit(X_2_train, y_2_train)"
   ]
  },
  {
   "cell_type": "markdown",
   "metadata": {},
   "source": [
    "Creating predictions and visualizing the comparision with actual price:"
   ]
  },
  {
   "cell_type": "code",
   "execution_count": 30,
   "metadata": {},
   "outputs": [],
   "source": [
    "y_pred_2 = model_2.predict(X_2_train)"
   ]
  },
  {
   "cell_type": "code",
   "execution_count": 31,
   "metadata": {},
   "outputs": [
    {
     "data": {
      "text/plain": [
       "Text(0, 0.5, 'Actual Price')"
      ]
     },
     "execution_count": 31,
     "metadata": {},
     "output_type": "execute_result"
    },
    {
     "data": {
      "image/png": "[encoded data removed]",
      "text/plain": [
       "<Figure size 432x288 with 1 Axes>"
      ]
     },
     "metadata": {
      "needs_background": "light"
     },
     "output_type": "display_data"
    }
   ],
   "source": [
    "plt.scatter(y_pred_2, y_2_train)\n",
    "plt.title('Model 2: Predicted Price vs Actual Price')\n",
    "plt.xlabel('Predicted Price')\n",
    "plt.ylabel('Actual Price')"
   ]
  },
  {
   "cell_type": "markdown",
   "metadata": {},
   "source": [
    "Again, I'll find the metrics:"
   ]
  },
  {
   "cell_type": "code",
   "execution_count": 32,
   "metadata": {},
   "outputs": [
    {
     "data": {
      "text/plain": [
       "'MSE: 1131292673.3406951, RMSE: 33634.69448858864, MAE : 21818.28110078169, R2-Train : 0.8173009426259411, R2-Test: 0.8329632261127264, R2 Cross Val: 0.801870476010586'"
      ]
     },
     "execution_count": 32,
     "metadata": {},
     "output_type": "execute_result"
    }
   ],
   "source": [
    "find_metrics(X_2_train, y_2_train, X_2_test, y_2_test, model_2, y_pred_2)"
   ]
  },
  {
   "cell_type": "markdown",
   "metadata": {},
   "source": [
    "For this model, I also wanted to see the coefficients of each of the features. Below I'm displaying my list of features and the coefficients:"
   ]
  },
  {
   "cell_type": "code",
   "execution_count": 33,
   "metadata": {},
   "outputs": [
    {
     "data": {
      "text/plain": [
       "['overall_qual',\n",
       " 'gr_liv_area',\n",
       " 'garage_cars',\n",
       " 'garage_area',\n",
       " '1st_flr_sf',\n",
       " 'total_bsmt_sf',\n",
       " 'year_built',\n",
       " 'total_bath',\n",
       " 'year_remod/add',\n",
       " 'totrms_abvgrd',\n",
       " 'mas_vnr_area',\n",
       " 'neighborhood_avg',\n",
       " 'Bed_bath_ratio']"
      ]
     },
     "execution_count": 33,
     "metadata": {},
     "output_type": "execute_result"
    }
   ],
   "source": [
    "features_2"
   ]
  },
  {
   "cell_type": "code",
   "execution_count": 34,
   "metadata": {},
   "outputs": [
    {
     "data": {
      "text/plain": [
       "array([ 1.55813992e+04,  2.78852006e+01, -1.27523324e+03,  4.31495452e+01,\n",
       "        2.01950953e+01,  3.47505597e+00, -1.30715520e+02,  9.64998127e+03,\n",
       "        2.86730595e+02,  4.84051107e+02,  3.62039763e+01,  3.91723192e+04,\n",
       "        1.97424242e+03])"
      ]
     },
     "execution_count": 34,
     "metadata": {},
     "output_type": "execute_result"
    }
   ],
   "source": [
    "model_2.coef_"
   ]
  },
  {
   "cell_type": "markdown",
   "metadata": {},
   "source": [
    "Based on the metrics and the coefficients, this model is definitely an improvement but there's still a lot of room for growth."
   ]
  },
  {
   "cell_type": "markdown",
   "metadata": {},
   "source": [
    "## Model 3"
   ]
  },
  {
   "cell_type": "markdown",
   "metadata": {},
   "source": [
    "For the third model, I'm going to include a lot of dummies from categories that I identified in my EDA:"
   ]
  },
  {
   "cell_type": "markdown",
   "metadata": {},
   "source": [
    "Creating a dummy for house style, exterior quality, basement quality, kitchen quality, and zone:"
   ]
  },
  {
   "cell_type": "code",
   "execution_count": 35,
   "metadata": {},
   "outputs": [],
   "source": [
    "house_style = pd.get_dummies(ames['house_style'], drop_first=True, prefix='style')\n",
    "house = list(house_style.columns)"
   ]
  },
  {
   "cell_type": "code",
   "execution_count": 36,
   "metadata": {},
   "outputs": [],
   "source": [
    "ext_qual = pd.get_dummies(ames['exter_qual'], drop_first=True, prefix='ext')"
   ]
  },
  {
   "cell_type": "code",
   "execution_count": 37,
   "metadata": {},
   "outputs": [],
   "source": [
    "base_qual = pd.get_dummies(ames['bsmt_qual'], drop_first=True, prefix='base')"
   ]
  },
  {
   "cell_type": "code",
   "execution_count": 38,
   "metadata": {},
   "outputs": [],
   "source": [
    "kitch_qual = pd.get_dummies(ames['kitchen_qual'], drop_first=True, prefix='kitch')"
   ]
  },
  {
   "cell_type": "code",
   "execution_count": 39,
   "metadata": {},
   "outputs": [],
   "source": [
    "ms_zone = pd.get_dummies(ames['ms_zoning'], drop_first=True, prefix='zone')"
   ]
  },
  {
   "cell_type": "markdown",
   "metadata": {},
   "source": [
    "Adding all of the above dummy columsn to my original dataframe:"
   ]
  },
  {
   "cell_type": "code",
   "execution_count": 40,
   "metadata": {},
   "outputs": [],
   "source": [
    "ames = pd.concat([ames, house_style, ext_qual, base_qual, kitch_qual, ms_zone], axis=1)"
   ]
  },
  {
   "cell_type": "markdown",
   "metadata": {},
   "source": [
    "Checking that they all were correctly added:"
   ]
  },
  {
   "cell_type": "code",
   "execution_count": 41,
   "metadata": {},
   "outputs": [
    {
     "data": {
      "text/html": [
       "<div>\n",
       "<style scoped>\n",
       "    .dataframe tbody tr th:only-of-type {\n",
       "        vertical-align: middle;\n",
       "    }\n",
       "\n",
       "    .dataframe tbody tr th {\n",
       "        vertical-align: top;\n",
       "    }\n",
       "\n",
       "    .dataframe thead th {\n",
       "        text-align: right;\n",
       "    }\n",
       "</style>\n",
       "<table border=\"1\" class=\"dataframe\">\n",
       "  <thead>\n",
       "    <tr style=\"text-align: right;\">\n",
       "      <th></th>\n",
       "      <th>id</th>\n",
       "      <th>pid</th>\n",
       "      <th>ms_subclass</th>\n",
       "      <th>ms_zoning</th>\n",
       "      <th>lot_area</th>\n",
       "      <th>street</th>\n",
       "      <th>lot_shape</th>\n",
       "      <th>land_contour</th>\n",
       "      <th>utilities</th>\n",
       "      <th>lot_config</th>\n",
       "      <th>...</th>\n",
       "      <th>base_Gd</th>\n",
       "      <th>base_Po</th>\n",
       "      <th>base_TA</th>\n",
       "      <th>kitch_Fa</th>\n",
       "      <th>kitch_Gd</th>\n",
       "      <th>kitch_TA</th>\n",
       "      <th>zone_FV</th>\n",
       "      <th>zone_RH</th>\n",
       "      <th>zone_RL</th>\n",
       "      <th>zone_RM</th>\n",
       "    </tr>\n",
       "  </thead>\n",
       "  <tbody>\n",
       "    <tr>\n",
       "      <th>0</th>\n",
       "      <td>109</td>\n",
       "      <td>533352170</td>\n",
       "      <td>60</td>\n",
       "      <td>RL</td>\n",
       "      <td>13517</td>\n",
       "      <td>Pave</td>\n",
       "      <td>IR1</td>\n",
       "      <td>Lvl</td>\n",
       "      <td>AllPub</td>\n",
       "      <td>CulDSac</td>\n",
       "      <td>...</td>\n",
       "      <td>0</td>\n",
       "      <td>0</td>\n",
       "      <td>1</td>\n",
       "      <td>0</td>\n",
       "      <td>1</td>\n",
       "      <td>0</td>\n",
       "      <td>0</td>\n",
       "      <td>0</td>\n",
       "      <td>1</td>\n",
       "      <td>0</td>\n",
       "    </tr>\n",
       "    <tr>\n",
       "      <th>1</th>\n",
       "      <td>544</td>\n",
       "      <td>531379050</td>\n",
       "      <td>60</td>\n",
       "      <td>RL</td>\n",
       "      <td>11492</td>\n",
       "      <td>Pave</td>\n",
       "      <td>IR1</td>\n",
       "      <td>Lvl</td>\n",
       "      <td>AllPub</td>\n",
       "      <td>CulDSac</td>\n",
       "      <td>...</td>\n",
       "      <td>1</td>\n",
       "      <td>0</td>\n",
       "      <td>0</td>\n",
       "      <td>0</td>\n",
       "      <td>1</td>\n",
       "      <td>0</td>\n",
       "      <td>0</td>\n",
       "      <td>0</td>\n",
       "      <td>1</td>\n",
       "      <td>0</td>\n",
       "    </tr>\n",
       "    <tr>\n",
       "      <th>2</th>\n",
       "      <td>153</td>\n",
       "      <td>535304180</td>\n",
       "      <td>20</td>\n",
       "      <td>RL</td>\n",
       "      <td>7922</td>\n",
       "      <td>Pave</td>\n",
       "      <td>Reg</td>\n",
       "      <td>Lvl</td>\n",
       "      <td>AllPub</td>\n",
       "      <td>Inside</td>\n",
       "      <td>...</td>\n",
       "      <td>0</td>\n",
       "      <td>0</td>\n",
       "      <td>1</td>\n",
       "      <td>0</td>\n",
       "      <td>1</td>\n",
       "      <td>0</td>\n",
       "      <td>0</td>\n",
       "      <td>0</td>\n",
       "      <td>1</td>\n",
       "      <td>0</td>\n",
       "    </tr>\n",
       "    <tr>\n",
       "      <th>3</th>\n",
       "      <td>318</td>\n",
       "      <td>916386060</td>\n",
       "      <td>60</td>\n",
       "      <td>RL</td>\n",
       "      <td>9802</td>\n",
       "      <td>Pave</td>\n",
       "      <td>Reg</td>\n",
       "      <td>Lvl</td>\n",
       "      <td>AllPub</td>\n",
       "      <td>Inside</td>\n",
       "      <td>...</td>\n",
       "      <td>1</td>\n",
       "      <td>0</td>\n",
       "      <td>0</td>\n",
       "      <td>0</td>\n",
       "      <td>0</td>\n",
       "      <td>1</td>\n",
       "      <td>0</td>\n",
       "      <td>0</td>\n",
       "      <td>1</td>\n",
       "      <td>0</td>\n",
       "    </tr>\n",
       "    <tr>\n",
       "      <th>4</th>\n",
       "      <td>255</td>\n",
       "      <td>906425045</td>\n",
       "      <td>50</td>\n",
       "      <td>RL</td>\n",
       "      <td>14235</td>\n",
       "      <td>Pave</td>\n",
       "      <td>IR1</td>\n",
       "      <td>Lvl</td>\n",
       "      <td>AllPub</td>\n",
       "      <td>Inside</td>\n",
       "      <td>...</td>\n",
       "      <td>0</td>\n",
       "      <td>0</td>\n",
       "      <td>0</td>\n",
       "      <td>0</td>\n",
       "      <td>0</td>\n",
       "      <td>1</td>\n",
       "      <td>0</td>\n",
       "      <td>0</td>\n",
       "      <td>1</td>\n",
       "      <td>0</td>\n",
       "    </tr>\n",
       "    <tr>\n",
       "      <th>...</th>\n",
       "      <td>...</td>\n",
       "      <td>...</td>\n",
       "      <td>...</td>\n",
       "      <td>...</td>\n",
       "      <td>...</td>\n",
       "      <td>...</td>\n",
       "      <td>...</td>\n",
       "      <td>...</td>\n",
       "      <td>...</td>\n",
       "      <td>...</td>\n",
       "      <td>...</td>\n",
       "      <td>...</td>\n",
       "      <td>...</td>\n",
       "      <td>...</td>\n",
       "      <td>...</td>\n",
       "      <td>...</td>\n",
       "      <td>...</td>\n",
       "      <td>...</td>\n",
       "      <td>...</td>\n",
       "      <td>...</td>\n",
       "      <td>...</td>\n",
       "    </tr>\n",
       "    <tr>\n",
       "      <th>1964</th>\n",
       "      <td>1587</td>\n",
       "      <td>921126030</td>\n",
       "      <td>20</td>\n",
       "      <td>RL</td>\n",
       "      <td>11449</td>\n",
       "      <td>Pave</td>\n",
       "      <td>IR1</td>\n",
       "      <td>HLS</td>\n",
       "      <td>AllPub</td>\n",
       "      <td>Inside</td>\n",
       "      <td>...</td>\n",
       "      <td>1</td>\n",
       "      <td>0</td>\n",
       "      <td>0</td>\n",
       "      <td>0</td>\n",
       "      <td>1</td>\n",
       "      <td>0</td>\n",
       "      <td>0</td>\n",
       "      <td>0</td>\n",
       "      <td>1</td>\n",
       "      <td>0</td>\n",
       "    </tr>\n",
       "    <tr>\n",
       "      <th>1965</th>\n",
       "      <td>785</td>\n",
       "      <td>905377130</td>\n",
       "      <td>30</td>\n",
       "      <td>RL</td>\n",
       "      <td>12342</td>\n",
       "      <td>Pave</td>\n",
       "      <td>IR1</td>\n",
       "      <td>Lvl</td>\n",
       "      <td>AllPub</td>\n",
       "      <td>Inside</td>\n",
       "      <td>...</td>\n",
       "      <td>0</td>\n",
       "      <td>0</td>\n",
       "      <td>1</td>\n",
       "      <td>0</td>\n",
       "      <td>0</td>\n",
       "      <td>1</td>\n",
       "      <td>0</td>\n",
       "      <td>0</td>\n",
       "      <td>1</td>\n",
       "      <td>0</td>\n",
       "    </tr>\n",
       "    <tr>\n",
       "      <th>1966</th>\n",
       "      <td>916</td>\n",
       "      <td>909253010</td>\n",
       "      <td>50</td>\n",
       "      <td>RL</td>\n",
       "      <td>7558</td>\n",
       "      <td>Pave</td>\n",
       "      <td>Reg</td>\n",
       "      <td>Bnk</td>\n",
       "      <td>AllPub</td>\n",
       "      <td>Inside</td>\n",
       "      <td>...</td>\n",
       "      <td>0</td>\n",
       "      <td>0</td>\n",
       "      <td>1</td>\n",
       "      <td>0</td>\n",
       "      <td>0</td>\n",
       "      <td>1</td>\n",
       "      <td>0</td>\n",
       "      <td>0</td>\n",
       "      <td>1</td>\n",
       "      <td>0</td>\n",
       "    </tr>\n",
       "    <tr>\n",
       "      <th>1967</th>\n",
       "      <td>639</td>\n",
       "      <td>535179160</td>\n",
       "      <td>20</td>\n",
       "      <td>RL</td>\n",
       "      <td>10400</td>\n",
       "      <td>Pave</td>\n",
       "      <td>Reg</td>\n",
       "      <td>Lvl</td>\n",
       "      <td>AllPub</td>\n",
       "      <td>Corner</td>\n",
       "      <td>...</td>\n",
       "      <td>0</td>\n",
       "      <td>0</td>\n",
       "      <td>1</td>\n",
       "      <td>0</td>\n",
       "      <td>0</td>\n",
       "      <td>1</td>\n",
       "      <td>0</td>\n",
       "      <td>0</td>\n",
       "      <td>1</td>\n",
       "      <td>0</td>\n",
       "    </tr>\n",
       "    <tr>\n",
       "      <th>1968</th>\n",
       "      <td>10</td>\n",
       "      <td>527162130</td>\n",
       "      <td>60</td>\n",
       "      <td>RL</td>\n",
       "      <td>7500</td>\n",
       "      <td>Pave</td>\n",
       "      <td>Reg</td>\n",
       "      <td>Lvl</td>\n",
       "      <td>AllPub</td>\n",
       "      <td>Inside</td>\n",
       "      <td>...</td>\n",
       "      <td>0</td>\n",
       "      <td>0</td>\n",
       "      <td>1</td>\n",
       "      <td>0</td>\n",
       "      <td>1</td>\n",
       "      <td>0</td>\n",
       "      <td>0</td>\n",
       "      <td>0</td>\n",
       "      <td>1</td>\n",
       "      <td>0</td>\n",
       "    </tr>\n",
       "  </tbody>\n",
       "</table>\n",
       "<p>1969 rows × 94 columns</p>\n",
       "</div>"
      ],
      "text/plain": [
       "        id        pid  ms_subclass ms_zoning  lot_area street lot_shape  \\\n",
       "0      109  533352170           60        RL     13517   Pave       IR1   \n",
       "1      544  531379050           60        RL     11492   Pave       IR1   \n",
       "2      153  535304180           20        RL      7922   Pave       Reg   \n",
       "3      318  916386060           60        RL      9802   Pave       Reg   \n",
       "4      255  906425045           50        RL     14235   Pave       IR1   \n",
       "...    ...        ...          ...       ...       ...    ...       ...   \n",
       "1964  1587  921126030           20        RL     11449   Pave       IR1   \n",
       "1965   785  905377130           30        RL     12342   Pave       IR1   \n",
       "1966   916  909253010           50        RL      7558   Pave       Reg   \n",
       "1967   639  535179160           20        RL     10400   Pave       Reg   \n",
       "1968    10  527162130           60        RL      7500   Pave       Reg   \n",
       "\n",
       "     land_contour utilities lot_config  ... base_Gd base_Po base_TA kitch_Fa  \\\n",
       "0             Lvl    AllPub    CulDSac  ...       0       0       1        0   \n",
       "1             Lvl    AllPub    CulDSac  ...       1       0       0        0   \n",
       "2             Lvl    AllPub     Inside  ...       0       0       1        0   \n",
       "3             Lvl    AllPub     Inside  ...       1       0       0        0   \n",
       "4             Lvl    AllPub     Inside  ...       0       0       0        0   \n",
       "...           ...       ...        ...  ...     ...     ...     ...      ...   \n",
       "1964          HLS    AllPub     Inside  ...       1       0       0        0   \n",
       "1965          Lvl    AllPub     Inside  ...       0       0       1        0   \n",
       "1966          Bnk    AllPub     Inside  ...       0       0       1        0   \n",
       "1967          Lvl    AllPub     Corner  ...       0       0       1        0   \n",
       "1968          Lvl    AllPub     Inside  ...       0       0       1        0   \n",
       "\n",
       "     kitch_Gd kitch_TA  zone_FV  zone_RH  zone_RL  zone_RM  \n",
       "0           1        0        0        0        1        0  \n",
       "1           1        0        0        0        1        0  \n",
       "2           1        0        0        0        1        0  \n",
       "3           0        1        0        0        1        0  \n",
       "4           0        1        0        0        1        0  \n",
       "...       ...      ...      ...      ...      ...      ...  \n",
       "1964        1        0        0        0        1        0  \n",
       "1965        0        1        0        0        1        0  \n",
       "1966        0        1        0        0        1        0  \n",
       "1967        0        1        0        0        1        0  \n",
       "1968        1        0        0        0        1        0  \n",
       "\n",
       "[1969 rows x 94 columns]"
      ]
     },
     "execution_count": 41,
     "metadata": {},
     "output_type": "execute_result"
    }
   ],
   "source": [
    "ames"
   ]
  },
  {
   "cell_type": "markdown",
   "metadata": {},
   "source": [
    "On to the third pass of my model. First, I'll set up the list of features which includes all the new dummy columns and train test split the data:"
   ]
  },
  {
   "cell_type": "markdown",
   "metadata": {},
   "source": [
    "Building Model #3:"
   ]
  },
  {
   "cell_type": "code",
   "execution_count": 42,
   "metadata": {},
   "outputs": [],
   "source": [
    "features_3 = features_2 + list(house_style.columns) + list(ext_qual.columns) + list(base_qual.columns) + list(kitch_qual.columns) + list(ms_zone.columns) \n",
    "X_3 = ames[features_3]\n",
    "y_3 = ames['saleprice']    \n",
    "X_3_train, X_3_test, y_3_train, y_3_test = train_test_split(X_3, y_3, random_state = 21)   \n",
    "     \n",
    "     \n",
    "     "
   ]
  },
  {
   "cell_type": "markdown",
   "metadata": {},
   "source": [
    "Instantiating and fitting the model:"
   ]
  },
  {
   "cell_type": "code",
   "execution_count": 43,
   "metadata": {},
   "outputs": [],
   "source": [
    "model_3 = LinearRegression()"
   ]
  },
  {
   "cell_type": "code",
   "execution_count": 44,
   "metadata": {},
   "outputs": [
    {
     "data": {
      "text/plain": [
       "LinearRegression(copy_X=True, fit_intercept=True, n_jobs=None, normalize=False)"
      ]
     },
     "execution_count": 44,
     "metadata": {},
     "output_type": "execute_result"
    }
   ],
   "source": [
    "model_3.fit(X_3_train, y_3_train)"
   ]
  },
  {
   "cell_type": "markdown",
   "metadata": {},
   "source": [
    "Creating predictions and visualizing them vs the actual price:"
   ]
  },
  {
   "cell_type": "code",
   "execution_count": 45,
   "metadata": {},
   "outputs": [],
   "source": [
    "y_pred_3 = model_3.predict(X_3_train)"
   ]
  },
  {
   "cell_type": "code",
   "execution_count": 46,
   "metadata": {},
   "outputs": [
    {
     "data": {
      "text/plain": [
       "Text(0, 0.5, 'Actual Price')"
      ]
     },
     "execution_count": 46,
     "metadata": {},
     "output_type": "execute_result"
    },
    {
     "data": {
      "image/png": "[encoded data removed]",
      "text/plain": [
       "<Figure size 432x288 with 1 Axes>"
      ]
     },
     "metadata": {
      "needs_background": "light"
     },
     "output_type": "display_data"
    }
   ],
   "source": [
    "plt.scatter(y_pred_3, y_3_train)\n",
    "plt.title('Model 3: Predicted Price vs Actual Price')\n",
    "plt.xlabel('Predicted Price')\n",
    "plt.ylabel('Actual Price')"
   ]
  },
  {
   "cell_type": "markdown",
   "metadata": {},
   "source": [
    "Scoring my model:"
   ]
  },
  {
   "cell_type": "code",
   "execution_count": 47,
   "metadata": {},
   "outputs": [
    {
     "data": {
      "text/plain": [
       "'MSE: 941173022.9768827, RMSE: 30678.543364652807, MAE : 19525.189053356124, R2-Train : 0.8480044747253607, R2-Test: 0.8601477280223075, R2 Cross Val: 0.8236602743948991'"
      ]
     },
     "execution_count": 47,
     "metadata": {},
     "output_type": "execute_result"
    }
   ],
   "source": [
    "find_metrics(X_3_train, y_3_train, X_3_test, y_3_test, model_3, y_pred_3)"
   ]
  },
  {
   "cell_type": "markdown",
   "metadata": {},
   "source": [
    "Another improvement! However, I have a few more methods I would like to try before submitting this to kaggle."
   ]
  },
  {
   "cell_type": "markdown",
   "metadata": {},
   "source": [
    "## Model 4"
   ]
  },
  {
   "cell_type": "markdown",
   "metadata": {},
   "source": [
    "In this fourth model, I'm going to implement the log for my target and overall quality which had the strongest correlation with price:"
   ]
  },
  {
   "cell_type": "markdown",
   "metadata": {},
   "source": [
    "Building Model #4:"
   ]
  },
  {
   "cell_type": "code",
   "execution_count": 48,
   "metadata": {},
   "outputs": [],
   "source": [
    "ames['overall_qual'] = ames['overall_qual'].map(np.log)\n",
    "\n",
    "features_4 = features_2 + list(house_style.columns) + list(ext_qual.columns) + list(base_qual.columns) + list(kitch_qual.columns) + list(ms_zone.columns) \n",
    "X_4 = ames[features_4]\n",
    "y_4 = ames['saleprice']    \n",
    "X_4_train, X_4_test, y_4_train, y_4_test = train_test_split(X_4, y_4, random_state = 21)"
   ]
  },
  {
   "cell_type": "markdown",
   "metadata": {},
   "source": [
    "Splitting the data:"
   ]
  },
  {
   "cell_type": "code",
   "execution_count": 49,
   "metadata": {},
   "outputs": [],
   "source": [
    "y_4_train_log = np.log(y_4_train)\n",
    "y_4_test_log = np.log(y_4_test)"
   ]
  },
  {
   "cell_type": "markdown",
   "metadata": {},
   "source": [
    "Instantiating and fitting the model:"
   ]
  },
  {
   "cell_type": "code",
   "execution_count": 50,
   "metadata": {},
   "outputs": [],
   "source": [
    "model_4 = LinearRegression()"
   ]
  },
  {
   "cell_type": "code",
   "execution_count": 51,
   "metadata": {},
   "outputs": [
    {
     "data": {
      "text/plain": [
       "LinearRegression(copy_X=True, fit_intercept=True, n_jobs=None, normalize=False)"
      ]
     },
     "execution_count": 51,
     "metadata": {},
     "output_type": "execute_result"
    }
   ],
   "source": [
    "model_4.fit(X_4_train, y_4_train_log)"
   ]
  },
  {
   "cell_type": "markdown",
   "metadata": {},
   "source": [
    "Creating and visualizing the predictions:"
   ]
  },
  {
   "cell_type": "code",
   "execution_count": 52,
   "metadata": {},
   "outputs": [],
   "source": [
    "y_pred_4_log = model_4.predict(X_4_train)\n",
    "y_pred_4 = np.exp(y_pred_4_log)"
   ]
  },
  {
   "cell_type": "code",
   "execution_count": 53,
   "metadata": {},
   "outputs": [
    {
     "data": {
      "text/plain": [
       "Text(0, 0.5, 'Actual Price')"
      ]
     },
     "execution_count": 53,
     "metadata": {},
     "output_type": "execute_result"
    },
    {
     "data": {
      "image/png": "[encoded data removed]",
      "text/plain": [
       "<Figure size 432x288 with 1 Axes>"
      ]
     },
     "metadata": {
      "needs_background": "light"
     },
     "output_type": "display_data"
    }
   ],
   "source": [
    "plt.scatter(y_pred_4, y_4_train)\n",
    "plt.title('Model 4: Predicted Price vs Actual Price')\n",
    "plt.xlabel('Predicted Price')\n",
    "plt.ylabel('Actual Price')"
   ]
  },
  {
   "cell_type": "markdown",
   "metadata": {},
   "source": [
    "Getting the metrics on this model:"
   ]
  },
  {
   "cell_type": "code",
   "execution_count": 54,
   "metadata": {},
   "outputs": [
    {
     "data": {
      "text/plain": [
       "'MSE: 1080995477.1378317, RMSE: 32878.49566415458, MAE : 18489.824098823843'"
      ]
     },
     "execution_count": 54,
     "metadata": {},
     "output_type": "execute_result"
    }
   ],
   "source": [
    "find_metrics_2(X_4_train, y_4_train, X_4_test, y_4_test, model_4, y_pred_4)"
   ]
  },
  {
   "cell_type": "markdown",
   "metadata": {},
   "source": [
    "**Note**: At this point, I notice my custom function was not built to handle scoring the models that used log on the target. I created a new function that just does the first three scores while I manually calculated the R2 scores below:"
   ]
  },
  {
   "cell_type": "code",
   "execution_count": 55,
   "metadata": {},
   "outputs": [
    {
     "data": {
      "text/plain": [
       "0.8602318546509328"
      ]
     },
     "execution_count": 55,
     "metadata": {},
     "output_type": "execute_result"
    }
   ],
   "source": [
    "model_4.score(X_4_train, y_4_train_log)"
   ]
  },
  {
   "cell_type": "code",
   "execution_count": 56,
   "metadata": {},
   "outputs": [
    {
     "data": {
      "text/plain": [
       "0.8393105243640239"
      ]
     },
     "execution_count": 56,
     "metadata": {},
     "output_type": "execute_result"
    }
   ],
   "source": [
    "model_4.score(X_4_test, y_4_test_log)"
   ]
  },
  {
   "cell_type": "markdown",
   "metadata": {},
   "source": [
    "Model 4 is the winner for now, it had a big improvement. Now on to pickling:"
   ]
  },
  {
   "cell_type": "code",
   "execution_count": 57,
   "metadata": {},
   "outputs": [],
   "source": [
    "pickle.dump(model_4, open('../model/linear_model_4.pkl', 'wb'))"
   ]
  },
  {
   "cell_type": "markdown",
   "metadata": {},
   "source": [
    "## Model 5"
   ]
  },
  {
   "cell_type": "markdown",
   "metadata": {},
   "source": [
    "I submitted Model 4 to Kaggle and it did fairly well. Now I'm going to focus on how I can improve that model by looking at the metrics and p-values:"
   ]
  },
  {
   "cell_type": "markdown",
   "metadata": {},
   "source": [
    "Using statsmodels to look at the p-values:"
   ]
  },
  {
   "cell_type": "code",
   "execution_count": 58,
   "metadata": {},
   "outputs": [
    {
     "data": {
      "text/html": [
       "<table class=\"simpletable\">\n",
       "<caption>OLS Regression Results</caption>\n",
       "<tr>\n",
       "  <th>Dep. Variable:</th>        <td>saleprice</td>    <th>  R-squared:         </th> <td>   0.851</td> \n",
       "</tr>\n",
       "<tr>\n",
       "  <th>Model:</th>                   <td>OLS</td>       <th>  Adj. R-squared:    </th> <td>   0.849</td> \n",
       "</tr>\n",
       "<tr>\n",
       "  <th>Method:</th>             <td>Least Squares</td>  <th>  F-statistic:       </th> <td>   325.2</td> \n",
       "</tr>\n",
       "<tr>\n",
       "  <th>Date:</th>             <td>Fri, 10 Apr 2020</td> <th>  Prob (F-statistic):</th>  <td>  0.00</td>  \n",
       "</tr>\n",
       "<tr>\n",
       "  <th>Time:</th>                 <td>19:31:26</td>     <th>  Log-Likelihood:    </th> <td> -23121.</td> \n",
       "</tr>\n",
       "<tr>\n",
       "  <th>No. Observations:</th>      <td>  1969</td>      <th>  AIC:               </th> <td>4.631e+04</td>\n",
       "</tr>\n",
       "<tr>\n",
       "  <th>Df Residuals:</th>          <td>  1934</td>      <th>  BIC:               </th> <td>4.651e+04</td>\n",
       "</tr>\n",
       "<tr>\n",
       "  <th>Df Model:</th>              <td>    34</td>      <th>                     </th>     <td> </td>    \n",
       "</tr>\n",
       "<tr>\n",
       "  <th>Covariance Type:</th>      <td>nonrobust</td>    <th>                     </th>     <td> </td>    \n",
       "</tr>\n",
       "</table>\n",
       "<table class=\"simpletable\">\n",
       "<tr>\n",
       "          <td></td>            <th>coef</th>     <th>std err</th>      <th>t</th>      <th>P>|t|</th>  <th>[0.025</th>    <th>0.975]</th>  \n",
       "</tr>\n",
       "<tr>\n",
       "  <th>const</th>            <td>-3.634e+05</td> <td> 1.24e+05</td> <td>   -2.923</td> <td> 0.004</td> <td>-6.07e+05</td> <td> -1.2e+05</td>\n",
       "</tr>\n",
       "<tr>\n",
       "  <th>overall_qual</th>     <td> 5.053e+04</td> <td> 5144.618</td> <td>    9.821</td> <td> 0.000</td> <td> 4.04e+04</td> <td> 6.06e+04</td>\n",
       "</tr>\n",
       "<tr>\n",
       "  <th>gr_liv_area</th>      <td>   52.2394</td> <td>    4.971</td> <td>   10.510</td> <td> 0.000</td> <td>   42.491</td> <td>   61.988</td>\n",
       "</tr>\n",
       "<tr>\n",
       "  <th>garage_cars</th>      <td> 4298.1061</td> <td> 2209.107</td> <td>    1.946</td> <td> 0.052</td> <td>  -34.375</td> <td> 8630.587</td>\n",
       "</tr>\n",
       "<tr>\n",
       "  <th>garage_area</th>      <td>   23.7488</td> <td>    7.636</td> <td>    3.110</td> <td> 0.002</td> <td>    8.772</td> <td>   38.725</td>\n",
       "</tr>\n",
       "<tr>\n",
       "  <th>1st_flr_sf</th>       <td>   -3.1901</td> <td>    6.467</td> <td>   -0.493</td> <td> 0.622</td> <td>  -15.874</td> <td>    9.493</td>\n",
       "</tr>\n",
       "<tr>\n",
       "  <th>total_bsmt_sf</th>    <td>    5.3141</td> <td>    4.163</td> <td>    1.276</td> <td> 0.202</td> <td>   -2.851</td> <td>   13.479</td>\n",
       "</tr>\n",
       "<tr>\n",
       "  <th>year_built</th>       <td>   -3.2462</td> <td>   47.643</td> <td>   -0.068</td> <td> 0.946</td> <td>  -96.684</td> <td>   90.192</td>\n",
       "</tr>\n",
       "<tr>\n",
       "  <th>total_bath</th>       <td> 9544.7371</td> <td> 1786.350</td> <td>    5.343</td> <td> 0.000</td> <td> 6041.363</td> <td>  1.3e+04</td>\n",
       "</tr>\n",
       "<tr>\n",
       "  <th>year_remod/add</th>   <td>  189.1201</td> <td>   50.591</td> <td>    3.738</td> <td> 0.000</td> <td>   89.902</td> <td>  288.338</td>\n",
       "</tr>\n",
       "<tr>\n",
       "  <th>totrms_abvgrd</th>    <td>-1291.6044</td> <td>  852.017</td> <td>   -1.516</td> <td> 0.130</td> <td>-2962.573</td> <td>  379.364</td>\n",
       "</tr>\n",
       "<tr>\n",
       "  <th>mas_vnr_area</th>     <td>   19.3887</td> <td>    4.847</td> <td>    4.000</td> <td> 0.000</td> <td>    9.882</td> <td>   28.895</td>\n",
       "</tr>\n",
       "<tr>\n",
       "  <th>neighborhood_avg</th> <td> 2.766e+04</td> <td> 2044.970</td> <td>   13.526</td> <td> 0.000</td> <td> 2.36e+04</td> <td> 3.17e+04</td>\n",
       "</tr>\n",
       "<tr>\n",
       "  <th>Bed_bath_ratio</th>   <td> 1959.1156</td> <td> 1859.406</td> <td>    1.054</td> <td> 0.292</td> <td>-1687.535</td> <td> 5605.766</td>\n",
       "</tr>\n",
       "<tr>\n",
       "  <th>style_1.5Unf</th>     <td> 1.787e+04</td> <td> 9468.457</td> <td>    1.887</td> <td> 0.059</td> <td> -701.366</td> <td> 3.64e+04</td>\n",
       "</tr>\n",
       "<tr>\n",
       "  <th>style_1Story</th>     <td> 9492.9510</td> <td> 3731.209</td> <td>    2.544</td> <td> 0.011</td> <td> 2175.336</td> <td> 1.68e+04</td>\n",
       "</tr>\n",
       "<tr>\n",
       "  <th>style_2.5Fin</th>     <td>-5564.4029</td> <td> 1.38e+04</td> <td>   -0.403</td> <td> 0.687</td> <td>-3.26e+04</td> <td> 2.15e+04</td>\n",
       "</tr>\n",
       "<tr>\n",
       "  <th>style_2.5Unf</th>     <td> 6490.8349</td> <td> 8819.946</td> <td>    0.736</td> <td> 0.462</td> <td>-1.08e+04</td> <td> 2.38e+04</td>\n",
       "</tr>\n",
       "<tr>\n",
       "  <th>style_2Story</th>     <td>-7324.4010</td> <td> 3074.944</td> <td>   -2.382</td> <td> 0.017</td> <td>-1.34e+04</td> <td>-1293.847</td>\n",
       "</tr>\n",
       "<tr>\n",
       "  <th>style_SFoyer</th>     <td> 1.472e+04</td> <td> 5829.271</td> <td>    2.526</td> <td> 0.012</td> <td> 3289.957</td> <td> 2.62e+04</td>\n",
       "</tr>\n",
       "<tr>\n",
       "  <th>style_SLvl</th>       <td> 4295.0805</td> <td> 4499.477</td> <td>    0.955</td> <td> 0.340</td> <td>-4529.255</td> <td> 1.31e+04</td>\n",
       "</tr>\n",
       "<tr>\n",
       "  <th>ext_Fa</th>           <td>-3.941e+04</td> <td> 8927.540</td> <td>   -4.414</td> <td> 0.000</td> <td>-5.69e+04</td> <td>-2.19e+04</td>\n",
       "</tr>\n",
       "<tr>\n",
       "  <th>ext_Gd</th>           <td>-3.057e+04</td> <td> 4745.079</td> <td>   -6.442</td> <td> 0.000</td> <td>-3.99e+04</td> <td>-2.13e+04</td>\n",
       "</tr>\n",
       "<tr>\n",
       "  <th>ext_TA</th>           <td>-3.628e+04</td> <td> 5343.030</td> <td>   -6.791</td> <td> 0.000</td> <td>-4.68e+04</td> <td>-2.58e+04</td>\n",
       "</tr>\n",
       "<tr>\n",
       "  <th>base_Fa</th>          <td>-2.789e+04</td> <td> 6004.795</td> <td>   -4.645</td> <td> 0.000</td> <td>-3.97e+04</td> <td>-1.61e+04</td>\n",
       "</tr>\n",
       "<tr>\n",
       "  <th>base_Gd</th>          <td>-2.633e+04</td> <td> 3317.267</td> <td>   -7.938</td> <td> 0.000</td> <td>-3.28e+04</td> <td>-1.98e+04</td>\n",
       "</tr>\n",
       "<tr>\n",
       "  <th>base_Po</th>          <td>-1.273e+04</td> <td> 3.22e+04</td> <td>   -0.396</td> <td> 0.693</td> <td>-7.59e+04</td> <td> 5.04e+04</td>\n",
       "</tr>\n",
       "<tr>\n",
       "  <th>base_TA</th>          <td>-2.367e+04</td> <td> 4086.383</td> <td>   -5.792</td> <td> 0.000</td> <td>-3.17e+04</td> <td>-1.57e+04</td>\n",
       "</tr>\n",
       "<tr>\n",
       "  <th>kitch_Fa</th>         <td>-3.893e+04</td> <td> 6475.056</td> <td>   -6.013</td> <td> 0.000</td> <td>-5.16e+04</td> <td>-2.62e+04</td>\n",
       "</tr>\n",
       "<tr>\n",
       "  <th>kitch_Gd</th>         <td>-3.073e+04</td> <td> 3633.699</td> <td>   -8.457</td> <td> 0.000</td> <td>-3.79e+04</td> <td>-2.36e+04</td>\n",
       "</tr>\n",
       "<tr>\n",
       "  <th>kitch_TA</th>         <td>-3.647e+04</td> <td> 4100.199</td> <td>   -8.895</td> <td> 0.000</td> <td>-4.45e+04</td> <td>-2.84e+04</td>\n",
       "</tr>\n",
       "<tr>\n",
       "  <th>zone_FV</th>          <td>-2297.4200</td> <td> 8734.131</td> <td>   -0.263</td> <td> 0.793</td> <td>-1.94e+04</td> <td> 1.48e+04</td>\n",
       "</tr>\n",
       "<tr>\n",
       "  <th>zone_RH</th>          <td>-4584.2426</td> <td> 1.13e+04</td> <td>   -0.405</td> <td> 0.686</td> <td>-2.68e+04</td> <td> 1.76e+04</td>\n",
       "</tr>\n",
       "<tr>\n",
       "  <th>zone_RL</th>          <td> 4358.7080</td> <td> 7996.189</td> <td>    0.545</td> <td> 0.586</td> <td>-1.13e+04</td> <td>    2e+04</td>\n",
       "</tr>\n",
       "<tr>\n",
       "  <th>zone_RM</th>          <td>-2033.1902</td> <td> 7989.306</td> <td>   -0.254</td> <td> 0.799</td> <td>-1.77e+04</td> <td> 1.36e+04</td>\n",
       "</tr>\n",
       "</table>\n",
       "<table class=\"simpletable\">\n",
       "<tr>\n",
       "  <th>Omnibus:</th>       <td>862.561</td> <th>  Durbin-Watson:     </th> <td>   1.993</td> \n",
       "</tr>\n",
       "<tr>\n",
       "  <th>Prob(Omnibus):</th> <td> 0.000</td>  <th>  Jarque-Bera (JB):  </th> <td>65226.988</td>\n",
       "</tr>\n",
       "<tr>\n",
       "  <th>Skew:</th>          <td>-1.175</td>  <th>  Prob(JB):          </th> <td>    0.00</td> \n",
       "</tr>\n",
       "<tr>\n",
       "  <th>Kurtosis:</th>      <td>31.098</td>  <th>  Cond. No.          </th> <td>6.49e+05</td> \n",
       "</tr>\n",
       "</table><br/><br/>Warnings:<br/>[1] Standard Errors assume that the covariance matrix of the errors is correctly specified.<br/>[2] The condition number is large, 6.49e+05. This might indicate that there are<br/>strong multicollinearity or other numerical problems."
      ],
      "text/plain": [
       "<class 'statsmodels.iolib.summary.Summary'>\n",
       "\"\"\"\n",
       "                            OLS Regression Results                            \n",
       "==============================================================================\n",
       "Dep. Variable:              saleprice   R-squared:                       0.851\n",
       "Model:                            OLS   Adj. R-squared:                  0.849\n",
       "Method:                 Least Squares   F-statistic:                     325.2\n",
       "Date:                Fri, 10 Apr 2020   Prob (F-statistic):               0.00\n",
       "Time:                        19:31:26   Log-Likelihood:                -23121.\n",
       "No. Observations:                1969   AIC:                         4.631e+04\n",
       "Df Residuals:                    1934   BIC:                         4.651e+04\n",
       "Df Model:                          34                                         \n",
       "Covariance Type:            nonrobust                                         \n",
       "====================================================================================\n",
       "                       coef    std err          t      P>|t|      [0.025      0.975]\n",
       "------------------------------------------------------------------------------------\n",
       "const            -3.634e+05   1.24e+05     -2.923      0.004   -6.07e+05    -1.2e+05\n",
       "overall_qual      5.053e+04   5144.618      9.821      0.000    4.04e+04    6.06e+04\n",
       "gr_liv_area         52.2394      4.971     10.510      0.000      42.491      61.988\n",
       "garage_cars       4298.1061   2209.107      1.946      0.052     -34.375    8630.587\n",
       "garage_area         23.7488      7.636      3.110      0.002       8.772      38.725\n",
       "1st_flr_sf          -3.1901      6.467     -0.493      0.622     -15.874       9.493\n",
       "total_bsmt_sf        5.3141      4.163      1.276      0.202      -2.851      13.479\n",
       "year_built          -3.2462     47.643     -0.068      0.946     -96.684      90.192\n",
       "total_bath        9544.7371   1786.350      5.343      0.000    6041.363     1.3e+04\n",
       "year_remod/add     189.1201     50.591      3.738      0.000      89.902     288.338\n",
       "totrms_abvgrd    -1291.6044    852.017     -1.516      0.130   -2962.573     379.364\n",
       "mas_vnr_area        19.3887      4.847      4.000      0.000       9.882      28.895\n",
       "neighborhood_avg  2.766e+04   2044.970     13.526      0.000    2.36e+04    3.17e+04\n",
       "Bed_bath_ratio    1959.1156   1859.406      1.054      0.292   -1687.535    5605.766\n",
       "style_1.5Unf      1.787e+04   9468.457      1.887      0.059    -701.366    3.64e+04\n",
       "style_1Story      9492.9510   3731.209      2.544      0.011    2175.336    1.68e+04\n",
       "style_2.5Fin     -5564.4029   1.38e+04     -0.403      0.687   -3.26e+04    2.15e+04\n",
       "style_2.5Unf      6490.8349   8819.946      0.736      0.462   -1.08e+04    2.38e+04\n",
       "style_2Story     -7324.4010   3074.944     -2.382      0.017   -1.34e+04   -1293.847\n",
       "style_SFoyer      1.472e+04   5829.271      2.526      0.012    3289.957    2.62e+04\n",
       "style_SLvl        4295.0805   4499.477      0.955      0.340   -4529.255    1.31e+04\n",
       "ext_Fa           -3.941e+04   8927.540     -4.414      0.000   -5.69e+04   -2.19e+04\n",
       "ext_Gd           -3.057e+04   4745.079     -6.442      0.000   -3.99e+04   -2.13e+04\n",
       "ext_TA           -3.628e+04   5343.030     -6.791      0.000   -4.68e+04   -2.58e+04\n",
       "base_Fa          -2.789e+04   6004.795     -4.645      0.000   -3.97e+04   -1.61e+04\n",
       "base_Gd          -2.633e+04   3317.267     -7.938      0.000   -3.28e+04   -1.98e+04\n",
       "base_Po          -1.273e+04   3.22e+04     -0.396      0.693   -7.59e+04    5.04e+04\n",
       "base_TA          -2.367e+04   4086.383     -5.792      0.000   -3.17e+04   -1.57e+04\n",
       "kitch_Fa         -3.893e+04   6475.056     -6.013      0.000   -5.16e+04   -2.62e+04\n",
       "kitch_Gd         -3.073e+04   3633.699     -8.457      0.000   -3.79e+04   -2.36e+04\n",
       "kitch_TA         -3.647e+04   4100.199     -8.895      0.000   -4.45e+04   -2.84e+04\n",
       "zone_FV          -2297.4200   8734.131     -0.263      0.793   -1.94e+04    1.48e+04\n",
       "zone_RH          -4584.2426   1.13e+04     -0.405      0.686   -2.68e+04    1.76e+04\n",
       "zone_RL           4358.7080   7996.189      0.545      0.586   -1.13e+04       2e+04\n",
       "zone_RM          -2033.1902   7989.306     -0.254      0.799   -1.77e+04    1.36e+04\n",
       "==============================================================================\n",
       "Omnibus:                      862.561   Durbin-Watson:                   1.993\n",
       "Prob(Omnibus):                  0.000   Jarque-Bera (JB):            65226.988\n",
       "Skew:                          -1.175   Prob(JB):                         0.00\n",
       "Kurtosis:                      31.098   Cond. No.                     6.49e+05\n",
       "==============================================================================\n",
       "\n",
       "Warnings:\n",
       "[1] Standard Errors assume that the covariance matrix of the errors is correctly specified.\n",
       "[2] The condition number is large, 6.49e+05. This might indicate that there are\n",
       "strong multicollinearity or other numerical problems.\n",
       "\"\"\""
      ]
     },
     "execution_count": 58,
     "metadata": {},
     "output_type": "execute_result"
    }
   ],
   "source": [
    "X_sm = ames[features_4]\n",
    "y_sm = ames['saleprice']  \n",
    "X_sm = sm.add_constant(X_sm)\n",
    "model = sm.OLS(y_sm, X_sm).fit()\n",
    "model.summary()"
   ]
  },
  {
   "cell_type": "markdown",
   "metadata": {},
   "source": [
    "According to the p-values above, the following features are not significant in predicting the home price:\n",
    "- 1st_flr_sf\n",
    "- total_bsmt_sf\n",
    "- year_built\n",
    "- totrms_abvgrd\n",
    "- Bed_bath_ratio \n",
    "- All of the MS Zone categories\n",
    "\n",
    "In my next pass of the model, I'm going to try removing these or see if there's another way to incorporate them by engineering the feature."
   ]
  },
  {
   "cell_type": "markdown",
   "metadata": {},
   "source": [
    "First, I'll do some more EDA to see what other features I should log or create interaction with:"
   ]
  },
  {
   "cell_type": "markdown",
   "metadata": {},
   "source": [
    "Instead of creating a ratio between beds/baths, I'll create an interaction term:"
   ]
  },
  {
   "cell_type": "code",
   "execution_count": 59,
   "metadata": {},
   "outputs": [],
   "source": [
    "ames['bed_bath'] = ames['bedroom_abvgr'] * ames['total_bath']"
   ]
  },
  {
   "cell_type": "code",
   "execution_count": 60,
   "metadata": {},
   "outputs": [
    {
     "data": {
      "text/plain": [
       "<matplotlib.collections.PathCollection at 0x1a1924a4d0>"
      ]
     },
     "execution_count": 60,
     "metadata": {},
     "output_type": "execute_result"
    },
    {
     "data": {
      "image/png": "[encoded data removed]",
      "text/plain": [
       "<Figure size 432x288 with 1 Axes>"
      ]
     },
     "metadata": {
      "needs_background": "light"
     },
     "output_type": "display_data"
    }
   ],
   "source": [
    "plt.scatter(ames['bed_bath'], ames['saleprice'])"
   ]
  },
  {
   "cell_type": "markdown",
   "metadata": {},
   "source": [
    "This seems to have a somewhat positive correlation although it isn't very linear. "
   ]
  },
  {
   "cell_type": "markdown",
   "metadata": {},
   "source": [
    "In the histograms below, I'm checking out the distribution of sale price and some of the independent variables to see if any are similar. Since I'm taking the log of the target (sale price), it might also be helpful to take the log variables with similar distributions."
   ]
  },
  {
   "cell_type": "code",
   "execution_count": 61,
   "metadata": {},
   "outputs": [
    {
     "data": {
      "text/plain": [
       "(array([ 34., 487., 805., 335., 163.,  77.,  40.,  15.,   6.,   7.]),\n",
       " array([ 12789. ,  72675.8, 132562.6, 192449.4, 252336.2, 312223. ,\n",
       "        372109.8, 431996.6, 491883.4, 551770.2, 611657. ]),\n",
       " <a list of 10 Patch objects>)"
      ]
     },
     "execution_count": 61,
     "metadata": {},
     "output_type": "execute_result"
    },
    {
     "data": {
      "image/png": "[encoded data removed]",
      "text/plain": [
       "<Figure size 432x288 with 1 Axes>"
      ]
     },
     "metadata": {
      "needs_background": "light"
     },
     "output_type": "display_data"
    }
   ],
   "source": [
    "plt.hist(ames['saleprice'])"
   ]
  },
  {
   "cell_type": "markdown",
   "metadata": {},
   "source": [
    "The sale price is definitely skewed to the left, I'll see if any others match this:"
   ]
  },
  {
   "cell_type": "code",
   "execution_count": 62,
   "metadata": {},
   "outputs": [
    {
     "data": {
      "text/plain": [
       "(array([  1.,   5.,  21., 142., 541., 501., 419., 240.,  77.,  22.]),\n",
       " array([ 1. ,  1.9,  2.8,  3.7,  4.6,  5.5,  6.4,  7.3,  8.2,  9.1, 10. ]),\n",
       " <a list of 10 Patch objects>)"
      ]
     },
     "execution_count": 62,
     "metadata": {},
     "output_type": "execute_result"
    },
    {
     "data": {
      "image/png": "[encoded data removed]",
      "text/plain": [
       "<Figure size 432x288 with 1 Axes>"
      ]
     },
     "metadata": {
      "needs_background": "light"
     },
     "output_type": "display_data"
    }
   ],
   "source": [
    "plt.hist(np.exp(ames['overall_qual']))"
   ]
  },
  {
   "cell_type": "markdown",
   "metadata": {},
   "source": [
    "The ditribution of overall quality if not very skewed."
   ]
  },
  {
   "cell_type": "code",
   "execution_count": 63,
   "metadata": {},
   "outputs": [
    {
     "data": {
      "text/plain": [
       "(array([219., 818., 666., 179.,  71.,  12.,   2.,   0.,   1.,   1.]),\n",
       " array([ 438. ,  958.4, 1478.8, 1999.2, 2519.6, 3040. , 3560.4, 4080.8,\n",
       "        4601.2, 5121.6, 5642. ]),\n",
       " <a list of 10 Patch objects>)"
      ]
     },
     "execution_count": 63,
     "metadata": {},
     "output_type": "execute_result"
    },
    {
     "data": {
      "image/png": "[encoded data removed]",
      "text/plain": [
       "<Figure size 432x288 with 1 Axes>"
      ]
     },
     "metadata": {
      "needs_background": "light"
     },
     "output_type": "display_data"
    }
   ],
   "source": [
    "plt.hist(ames['gr_liv_area'])"
   ]
  },
  {
   "cell_type": "markdown",
   "metadata": {},
   "source": [
    "The feature above has a similar skew to the price distribution, I'll also take the log of this feature:"
   ]
  },
  {
   "cell_type": "code",
   "execution_count": 64,
   "metadata": {},
   "outputs": [],
   "source": [
    "ames['gr_liv_area_log'] = np.log(ames['gr_liv_area'])"
   ]
  },
  {
   "cell_type": "code",
   "execution_count": 65,
   "metadata": {},
   "outputs": [
    {
     "data": {
      "text/plain": [
       "(array([104., 229., 385., 673., 322., 151.,  83.,  10.,   8.,   4.]),\n",
       " array([   0. ,  141.8,  283.6,  425.4,  567.2,  709. ,  850.8,  992.6,\n",
       "        1134.4, 1276.2, 1418. ]),\n",
       " <a list of 10 Patch objects>)"
      ]
     },
     "execution_count": 65,
     "metadata": {},
     "output_type": "execute_result"
    },
    {
     "data": {
      "image/png": "[encoded data removed]",
      "text/plain": [
       "<Figure size 432x288 with 1 Axes>"
      ]
     },
     "metadata": {
      "needs_background": "light"
     },
     "output_type": "display_data"
    }
   ],
   "source": [
    "plt.hist(ames['garage_area'])"
   ]
  },
  {
   "cell_type": "markdown",
   "metadata": {},
   "source": [
    "This distribution for the feature above doesn't match the sale price."
   ]
  },
  {
   "cell_type": "markdown",
   "metadata": {},
   "source": [
    "Now I'm going to create a few more scatterplots to see if there are any more relationships I can identify and add to my model."
   ]
  },
  {
   "cell_type": "code",
   "execution_count": 66,
   "metadata": {},
   "outputs": [
    {
     "data": {
      "text/plain": [
       "<matplotlib.collections.PathCollection at 0x1a292b6fd0>"
      ]
     },
     "execution_count": 66,
     "metadata": {},
     "output_type": "execute_result"
    },
    {
     "data": {
      "image/png": "[encoded data removed]",
      "text/plain": [
       "<Figure size 432x288 with 1 Axes>"
      ]
     },
     "metadata": {
      "needs_background": "light"
     },
     "output_type": "display_data"
    }
   ],
   "source": [
    "plt.scatter(((2014 - (ames['year_built'])))**.5, \n",
    "            ames['saleprice'])"
   ]
  },
  {
   "cell_type": "markdown",
   "metadata": {},
   "source": [
    "The plot above shows a negative correlation between the square root of the age of the house and price. Below, I'll create a new feature based off this finding:"
   ]
  },
  {
   "cell_type": "code",
   "execution_count": 67,
   "metadata": {},
   "outputs": [],
   "source": [
    "ames['age_root'] = np.log(2014 - (ames['year_built']))"
   ]
  },
  {
   "cell_type": "code",
   "execution_count": 68,
   "metadata": {},
   "outputs": [
    {
     "data": {
      "text/plain": [
       "<matplotlib.collections.PathCollection at 0x1a294373d0>"
      ]
     },
     "execution_count": 68,
     "metadata": {},
     "output_type": "execute_result"
    },
    {
     "data": {
      "image/png": "[encoded data removed]",
      "text/plain": [
       "<Figure size 432x288 with 1 Axes>"
      ]
     },
     "metadata": {
      "needs_background": "light"
     },
     "output_type": "display_data"
    }
   ],
   "source": [
    "plt.scatter((np.log((ames['lot_area'])))*ames['gr_liv_area'], ames['saleprice'])"
   ]
  },
  {
   "cell_type": "markdown",
   "metadata": {},
   "source": [
    "The scatter plot above shows a strong positive correlation between the log of the lot area times the living area and sale price. Below, I'll make this into a new feature on my dataframe:"
   ]
  },
  {
   "cell_type": "code",
   "execution_count": 69,
   "metadata": {},
   "outputs": [],
   "source": [
    "ames['lot_area_log'] = (np.log((ames['lot_area'])))*ames['gr_liv_area']"
   ]
  },
  {
   "cell_type": "markdown",
   "metadata": {},
   "source": [
    "Since half baths could be considered less valuable, I'm creating a new feature that only looks at the full bathrooms:"
   ]
  },
  {
   "cell_type": "code",
   "execution_count": 70,
   "metadata": {},
   "outputs": [],
   "source": [
    "ames['only_full_bath'] = ames['bsmt_full_bath'] + ames['full_bath']\n"
   ]
  },
  {
   "cell_type": "markdown",
   "metadata": {},
   "source": [
    "I'm also going to try creating a new feature that's the interaction between the year a home was buit and the year it was remodeled squared:"
   ]
  },
  {
   "cell_type": "code",
   "execution_count": 71,
   "metadata": {},
   "outputs": [],
   "source": [
    "ames['built/remodel'] = ames['year_built'] * ames['year_remod/add']**2"
   ]
  },
  {
   "cell_type": "markdown",
   "metadata": {},
   "source": [
    "Per the special notes in the data documentation, there was a recommendation to drop two homes that are outliers for square feet to improve the model:"
   ]
  },
  {
   "cell_type": "code",
   "execution_count": 72,
   "metadata": {},
   "outputs": [
    {
     "data": {
      "text/html": [
       "<div>\n",
       "<style scoped>\n",
       "    .dataframe tbody tr th:only-of-type {\n",
       "        vertical-align: middle;\n",
       "    }\n",
       "\n",
       "    .dataframe tbody tr th {\n",
       "        vertical-align: top;\n",
       "    }\n",
       "\n",
       "    .dataframe thead th {\n",
       "        text-align: right;\n",
       "    }\n",
       "</style>\n",
       "<table border=\"1\" class=\"dataframe\">\n",
       "  <thead>\n",
       "    <tr style=\"text-align: right;\">\n",
       "      <th></th>\n",
       "      <th>id</th>\n",
       "      <th>pid</th>\n",
       "      <th>ms_subclass</th>\n",
       "      <th>ms_zoning</th>\n",
       "      <th>lot_area</th>\n",
       "      <th>street</th>\n",
       "      <th>lot_shape</th>\n",
       "      <th>land_contour</th>\n",
       "      <th>utilities</th>\n",
       "      <th>lot_config</th>\n",
       "      <th>...</th>\n",
       "      <th>zone_FV</th>\n",
       "      <th>zone_RH</th>\n",
       "      <th>zone_RL</th>\n",
       "      <th>zone_RM</th>\n",
       "      <th>bed_bath</th>\n",
       "      <th>gr_liv_area_log</th>\n",
       "      <th>age_root</th>\n",
       "      <th>lot_area_log</th>\n",
       "      <th>only_full_bath</th>\n",
       "      <th>built/remodel</th>\n",
       "    </tr>\n",
       "  </thead>\n",
       "  <tbody>\n",
       "    <tr>\n",
       "      <th>921</th>\n",
       "      <td>1499</td>\n",
       "      <td>908154235</td>\n",
       "      <td>60</td>\n",
       "      <td>RL</td>\n",
       "      <td>63887</td>\n",
       "      <td>Pave</td>\n",
       "      <td>IR3</td>\n",
       "      <td>Bnk</td>\n",
       "      <td>AllPub</td>\n",
       "      <td>Corner</td>\n",
       "      <td>...</td>\n",
       "      <td>0</td>\n",
       "      <td>0</td>\n",
       "      <td>1</td>\n",
       "      <td>0</td>\n",
       "      <td>13.5</td>\n",
       "      <td>8.637994</td>\n",
       "      <td>1.791759</td>\n",
       "      <td>62428.003179</td>\n",
       "      <td>4.0</td>\n",
       "      <td>8096384512</td>\n",
       "    </tr>\n",
       "    <tr>\n",
       "      <th>1808</th>\n",
       "      <td>2181</td>\n",
       "      <td>908154195</td>\n",
       "      <td>20</td>\n",
       "      <td>RL</td>\n",
       "      <td>39290</td>\n",
       "      <td>Pave</td>\n",
       "      <td>IR1</td>\n",
       "      <td>Bnk</td>\n",
       "      <td>AllPub</td>\n",
       "      <td>Inside</td>\n",
       "      <td>...</td>\n",
       "      <td>0</td>\n",
       "      <td>0</td>\n",
       "      <td>1</td>\n",
       "      <td>0</td>\n",
       "      <td>8.0</td>\n",
       "      <td>8.536015</td>\n",
       "      <td>1.791759</td>\n",
       "      <td>53898.605467</td>\n",
       "      <td>3.0</td>\n",
       "      <td>8104450648</td>\n",
       "    </tr>\n",
       "  </tbody>\n",
       "</table>\n",
       "<p>2 rows × 100 columns</p>\n",
       "</div>"
      ],
      "text/plain": [
       "        id        pid  ms_subclass ms_zoning  lot_area street lot_shape  \\\n",
       "921   1499  908154235           60        RL     63887   Pave       IR3   \n",
       "1808  2181  908154195           20        RL     39290   Pave       IR1   \n",
       "\n",
       "     land_contour utilities lot_config  ... zone_FV zone_RH zone_RL zone_RM  \\\n",
       "921           Bnk    AllPub     Corner  ...       0       0       1       0   \n",
       "1808          Bnk    AllPub     Inside  ...       0       0       1       0   \n",
       "\n",
       "     bed_bath gr_liv_area_log  age_root  lot_area_log  only_full_bath  \\\n",
       "921      13.5        8.637994  1.791759  62428.003179             4.0   \n",
       "1808      8.0        8.536015  1.791759  53898.605467             3.0   \n",
       "\n",
       "      built/remodel  \n",
       "921      8096384512  \n",
       "1808     8104450648  \n",
       "\n",
       "[2 rows x 100 columns]"
      ]
     },
     "execution_count": 72,
     "metadata": {},
     "output_type": "execute_result"
    }
   ],
   "source": [
    "ames[ames['gr_liv_area'] > 5000]"
   ]
  },
  {
   "cell_type": "code",
   "execution_count": 73,
   "metadata": {},
   "outputs": [],
   "source": [
    "ames.drop(index = [921, 1808], inplace = True)"
   ]
  },
  {
   "cell_type": "markdown",
   "metadata": {},
   "source": [
    "Building Model #5:"
   ]
  },
  {
   "cell_type": "markdown",
   "metadata": {},
   "source": [
    "Setting the features and splitting the data:"
   ]
  },
  {
   "cell_type": "code",
   "execution_count": 74,
   "metadata": {},
   "outputs": [],
   "source": [
    "features_5 = ['overall_qual',\n",
    " 'garage_area',\n",
    " 'mas_vnr_area',\n",
    " 'neighborhood_avg',\n",
    " 'ext_Fa',\n",
    " 'ext_Gd',\n",
    " 'ext_TA',\n",
    " 'base_Fa',\n",
    " 'base_Gd',\n",
    " 'base_TA',\n",
    " 'kitch_Fa',\n",
    " 'kitch_Gd',\n",
    " 'kitch_TA',\n",
    " 'bed_bath', \n",
    " 'gr_liv_area_log',\n",
    "'built/remodel', \n",
    "'only_full_bath',\n",
    "  'lot_area_log',\n",
    "'year_remod/add']\n"
   ]
  },
  {
   "cell_type": "code",
   "execution_count": 75,
   "metadata": {},
   "outputs": [],
   "source": [
    "X_5 = ames[features_5]\n",
    "y_5 = ames['saleprice']    \n",
    "X_5_train, X_5_test, y_5_train, y_5_test = train_test_split(X_5, y_5, random_state = 21)"
   ]
  },
  {
   "cell_type": "markdown",
   "metadata": {},
   "source": [
    "Taking the log of the target:"
   ]
  },
  {
   "cell_type": "code",
   "execution_count": 76,
   "metadata": {},
   "outputs": [],
   "source": [
    "y_5_train_log = np.log(y_5_train)\n",
    "y_5_test_log = np.log(y_5_test)"
   ]
  },
  {
   "cell_type": "markdown",
   "metadata": {},
   "source": [
    "Instantiating and fitting the model:"
   ]
  },
  {
   "cell_type": "code",
   "execution_count": 77,
   "metadata": {},
   "outputs": [],
   "source": [
    "model_5 = LinearRegression()"
   ]
  },
  {
   "cell_type": "code",
   "execution_count": 78,
   "metadata": {},
   "outputs": [
    {
     "data": {
      "text/plain": [
       "LinearRegression(copy_X=True, fit_intercept=True, n_jobs=None, normalize=False)"
      ]
     },
     "execution_count": 78,
     "metadata": {},
     "output_type": "execute_result"
    }
   ],
   "source": [
    "model_5.fit(X_5_train, y_5_train_log)"
   ]
  },
  {
   "cell_type": "markdown",
   "metadata": {},
   "source": [
    "Creating and exponetiating the predictions, then creating a plot of the predictions:"
   ]
  },
  {
   "cell_type": "code",
   "execution_count": 79,
   "metadata": {},
   "outputs": [],
   "source": [
    "y_pred_5_log = model_5.predict(X_5_train)\n",
    "y_pred_5 = np.exp(y_pred_5_log)"
   ]
  },
  {
   "cell_type": "code",
   "execution_count": 80,
   "metadata": {},
   "outputs": [
    {
     "data": {
      "text/plain": [
       "Text(0, 0.5, 'Actual Price')"
      ]
     },
     "execution_count": 80,
     "metadata": {},
     "output_type": "execute_result"
    },
    {
     "data": {
      "image/png": "[encoded data removed]",
      "text/plain": [
       "<Figure size 432x288 with 1 Axes>"
      ]
     },
     "metadata": {
      "needs_background": "light"
     },
     "output_type": "display_data"
    }
   ],
   "source": [
    "plt.scatter(y_pred_5, y_5_train)\n",
    "plt.title('Model 5: Predicted Price vs Actual Price')\n",
    "plt.xlabel('Predicted Price')\n",
    "plt.ylabel('Actual Price')"
   ]
  },
  {
   "cell_type": "code",
   "execution_count": 81,
   "metadata": {},
   "outputs": [
    {
     "data": {
      "text/plain": [
       "'MSE: 579783744.1009636, RMSE: 24078.698970271704, MAE : 16825.619887442142'"
      ]
     },
     "execution_count": 81,
     "metadata": {},
     "output_type": "execute_result"
    }
   ],
   "source": [
    "find_metrics_2(X_5_train, y_5_train, X_5_test, y_5_test, model_5, y_pred_5)"
   ]
  },
  {
   "cell_type": "code",
   "execution_count": 82,
   "metadata": {},
   "outputs": [
    {
     "data": {
      "text/plain": [
       "0.8804830578171492"
      ]
     },
     "execution_count": 82,
     "metadata": {},
     "output_type": "execute_result"
    }
   ],
   "source": [
    "model_5.score(X_5_train, y_5_train_log)"
   ]
  },
  {
   "cell_type": "code",
   "execution_count": 83,
   "metadata": {},
   "outputs": [
    {
     "data": {
      "text/plain": [
       "0.8291221941059363"
      ]
     },
     "execution_count": 83,
     "metadata": {},
     "output_type": "execute_result"
    }
   ],
   "source": [
    "model_5.score(X_5_test, y_5_test_log)"
   ]
  },
  {
   "cell_type": "code",
   "execution_count": 84,
   "metadata": {},
   "outputs": [
    {
     "data": {
      "text/html": [
       "<table class=\"simpletable\">\n",
       "<caption>OLS Regression Results</caption>\n",
       "<tr>\n",
       "  <th>Dep. Variable:</th>        <td>saleprice</td>    <th>  R-squared:         </th> <td>   0.890</td> \n",
       "</tr>\n",
       "<tr>\n",
       "  <th>Model:</th>                   <td>OLS</td>       <th>  Adj. R-squared:    </th> <td>   0.889</td> \n",
       "</tr>\n",
       "<tr>\n",
       "  <th>Method:</th>             <td>Least Squares</td>  <th>  F-statistic:       </th> <td>   831.2</td> \n",
       "</tr>\n",
       "<tr>\n",
       "  <th>Date:</th>             <td>Fri, 10 Apr 2020</td> <th>  Prob (F-statistic):</th>  <td>  0.00</td>  \n",
       "</tr>\n",
       "<tr>\n",
       "  <th>Time:</th>                 <td>19:31:27</td>     <th>  Log-Likelihood:    </th> <td> -22799.</td> \n",
       "</tr>\n",
       "<tr>\n",
       "  <th>No. Observations:</th>      <td>  1967</td>      <th>  AIC:               </th> <td>4.564e+04</td>\n",
       "</tr>\n",
       "<tr>\n",
       "  <th>Df Residuals:</th>          <td>  1947</td>      <th>  BIC:               </th> <td>4.575e+04</td>\n",
       "</tr>\n",
       "<tr>\n",
       "  <th>Df Model:</th>              <td>    19</td>      <th>                     </th>     <td> </td>    \n",
       "</tr>\n",
       "<tr>\n",
       "  <th>Covariance Type:</th>      <td>nonrobust</td>    <th>                     </th>     <td> </td>    \n",
       "</tr>\n",
       "</table>\n",
       "<table class=\"simpletable\">\n",
       "<tr>\n",
       "          <td></td>            <th>coef</th>     <th>std err</th>      <th>t</th>      <th>P>|t|</th>  <th>[0.025</th>    <th>0.975]</th>  \n",
       "</tr>\n",
       "<tr>\n",
       "  <th>const</th>            <td> 8.605e+05</td> <td>  1.3e+05</td> <td>    6.603</td> <td> 0.000</td> <td> 6.05e+05</td> <td> 1.12e+06</td>\n",
       "</tr>\n",
       "<tr>\n",
       "  <th>overall_qual</th>     <td> 5.926e+04</td> <td> 4411.217</td> <td>   13.434</td> <td> 0.000</td> <td> 5.06e+04</td> <td> 6.79e+04</td>\n",
       "</tr>\n",
       "<tr>\n",
       "  <th>garage_area</th>      <td>   29.8309</td> <td>    3.745</td> <td>    7.966</td> <td> 0.000</td> <td>   22.487</td> <td>   37.175</td>\n",
       "</tr>\n",
       "<tr>\n",
       "  <th>mas_vnr_area</th>     <td>   22.9783</td> <td>    4.094</td> <td>    5.613</td> <td> 0.000</td> <td>   14.950</td> <td>   31.007</td>\n",
       "</tr>\n",
       "<tr>\n",
       "  <th>neighborhood_avg</th> <td> 1.629e+04</td> <td> 1723.058</td> <td>    9.453</td> <td> 0.000</td> <td> 1.29e+04</td> <td> 1.97e+04</td>\n",
       "</tr>\n",
       "<tr>\n",
       "  <th>ext_Fa</th>           <td>-4.455e+04</td> <td> 7519.967</td> <td>   -5.924</td> <td> 0.000</td> <td>-5.93e+04</td> <td>-2.98e+04</td>\n",
       "</tr>\n",
       "<tr>\n",
       "  <th>ext_Gd</th>           <td>-3.624e+04</td> <td> 4039.481</td> <td>   -8.970</td> <td> 0.000</td> <td>-4.42e+04</td> <td>-2.83e+04</td>\n",
       "</tr>\n",
       "<tr>\n",
       "  <th>ext_TA</th>           <td>-3.985e+04</td> <td> 4542.324</td> <td>   -8.772</td> <td> 0.000</td> <td>-4.88e+04</td> <td>-3.09e+04</td>\n",
       "</tr>\n",
       "<tr>\n",
       "  <th>base_Fa</th>          <td>-2.785e+04</td> <td> 5014.268</td> <td>   -5.554</td> <td> 0.000</td> <td>-3.77e+04</td> <td> -1.8e+04</td>\n",
       "</tr>\n",
       "<tr>\n",
       "  <th>base_Gd</th>          <td>-2.835e+04</td> <td> 2785.018</td> <td>  -10.180</td> <td> 0.000</td> <td>-3.38e+04</td> <td>-2.29e+04</td>\n",
       "</tr>\n",
       "<tr>\n",
       "  <th>base_TA</th>          <td>-2.332e+04</td> <td> 3379.611</td> <td>   -6.900</td> <td> 0.000</td> <td>-2.99e+04</td> <td>-1.67e+04</td>\n",
       "</tr>\n",
       "<tr>\n",
       "  <th>kitch_Fa</th>         <td>-3.521e+04</td> <td> 5533.501</td> <td>   -6.362</td> <td> 0.000</td> <td>-4.61e+04</td> <td>-2.44e+04</td>\n",
       "</tr>\n",
       "<tr>\n",
       "  <th>kitch_Gd</th>         <td>-2.717e+04</td> <td> 3108.076</td> <td>   -8.742</td> <td> 0.000</td> <td>-3.33e+04</td> <td>-2.11e+04</td>\n",
       "</tr>\n",
       "<tr>\n",
       "  <th>kitch_TA</th>         <td>-3.189e+04</td> <td> 3512.490</td> <td>   -9.080</td> <td> 0.000</td> <td>-3.88e+04</td> <td> -2.5e+04</td>\n",
       "</tr>\n",
       "<tr>\n",
       "  <th>bed_bath</th>         <td>-3022.7218</td> <td>  334.277</td> <td>   -9.043</td> <td> 0.000</td> <td>-3678.301</td> <td>-2367.143</td>\n",
       "</tr>\n",
       "<tr>\n",
       "  <th>gr_liv_area_log</th>  <td>-9.844e+04</td> <td> 7389.544</td> <td>  -13.322</td> <td> 0.000</td> <td>-1.13e+05</td> <td> -8.4e+04</td>\n",
       "</tr>\n",
       "<tr>\n",
       "  <th>built/remodel</th>    <td> 7.156e-05</td> <td> 9.47e-06</td> <td>    7.554</td> <td> 0.000</td> <td>  5.3e-05</td> <td> 9.01e-05</td>\n",
       "</tr>\n",
       "<tr>\n",
       "  <th>only_full_bath</th>   <td> 1.557e+04</td> <td> 1328.347</td> <td>   11.719</td> <td> 0.000</td> <td>  1.3e+04</td> <td> 1.82e+04</td>\n",
       "</tr>\n",
       "<tr>\n",
       "  <th>lot_area_log</th>     <td>   12.9711</td> <td>    0.506</td> <td>   25.629</td> <td> 0.000</td> <td>   11.978</td> <td>   13.964</td>\n",
       "</tr>\n",
       "<tr>\n",
       "  <th>year_remod/add</th>   <td> -388.9880</td> <td>   91.019</td> <td>   -4.274</td> <td> 0.000</td> <td> -567.492</td> <td> -210.484</td>\n",
       "</tr>\n",
       "</table>\n",
       "<table class=\"simpletable\">\n",
       "<tr>\n",
       "  <th>Omnibus:</th>       <td>330.324</td> <th>  Durbin-Watson:     </th> <td>   1.994</td>\n",
       "</tr>\n",
       "<tr>\n",
       "  <th>Prob(Omnibus):</th> <td> 0.000</td>  <th>  Jarque-Bera (JB):  </th> <td>4924.036</td>\n",
       "</tr>\n",
       "<tr>\n",
       "  <th>Skew:</th>          <td> 0.292</td>  <th>  Prob(JB):          </th> <td>    0.00</td>\n",
       "</tr>\n",
       "<tr>\n",
       "  <th>Kurtosis:</th>      <td>10.729</td>  <th>  Cond. No.          </th> <td>1.71e+12</td>\n",
       "</tr>\n",
       "</table><br/><br/>Warnings:<br/>[1] Standard Errors assume that the covariance matrix of the errors is correctly specified.<br/>[2] The condition number is large, 1.71e+12. This might indicate that there are<br/>strong multicollinearity or other numerical problems."
      ],
      "text/plain": [
       "<class 'statsmodels.iolib.summary.Summary'>\n",
       "\"\"\"\n",
       "                            OLS Regression Results                            \n",
       "==============================================================================\n",
       "Dep. Variable:              saleprice   R-squared:                       0.890\n",
       "Model:                            OLS   Adj. R-squared:                  0.889\n",
       "Method:                 Least Squares   F-statistic:                     831.2\n",
       "Date:                Fri, 10 Apr 2020   Prob (F-statistic):               0.00\n",
       "Time:                        19:31:27   Log-Likelihood:                -22799.\n",
       "No. Observations:                1967   AIC:                         4.564e+04\n",
       "Df Residuals:                    1947   BIC:                         4.575e+04\n",
       "Df Model:                          19                                         \n",
       "Covariance Type:            nonrobust                                         \n",
       "====================================================================================\n",
       "                       coef    std err          t      P>|t|      [0.025      0.975]\n",
       "------------------------------------------------------------------------------------\n",
       "const             8.605e+05    1.3e+05      6.603      0.000    6.05e+05    1.12e+06\n",
       "overall_qual      5.926e+04   4411.217     13.434      0.000    5.06e+04    6.79e+04\n",
       "garage_area         29.8309      3.745      7.966      0.000      22.487      37.175\n",
       "mas_vnr_area        22.9783      4.094      5.613      0.000      14.950      31.007\n",
       "neighborhood_avg  1.629e+04   1723.058      9.453      0.000    1.29e+04    1.97e+04\n",
       "ext_Fa           -4.455e+04   7519.967     -5.924      0.000   -5.93e+04   -2.98e+04\n",
       "ext_Gd           -3.624e+04   4039.481     -8.970      0.000   -4.42e+04   -2.83e+04\n",
       "ext_TA           -3.985e+04   4542.324     -8.772      0.000   -4.88e+04   -3.09e+04\n",
       "base_Fa          -2.785e+04   5014.268     -5.554      0.000   -3.77e+04    -1.8e+04\n",
       "base_Gd          -2.835e+04   2785.018    -10.180      0.000   -3.38e+04   -2.29e+04\n",
       "base_TA          -2.332e+04   3379.611     -6.900      0.000   -2.99e+04   -1.67e+04\n",
       "kitch_Fa         -3.521e+04   5533.501     -6.362      0.000   -4.61e+04   -2.44e+04\n",
       "kitch_Gd         -2.717e+04   3108.076     -8.742      0.000   -3.33e+04   -2.11e+04\n",
       "kitch_TA         -3.189e+04   3512.490     -9.080      0.000   -3.88e+04    -2.5e+04\n",
       "bed_bath         -3022.7218    334.277     -9.043      0.000   -3678.301   -2367.143\n",
       "gr_liv_area_log  -9.844e+04   7389.544    -13.322      0.000   -1.13e+05    -8.4e+04\n",
       "built/remodel     7.156e-05   9.47e-06      7.554      0.000     5.3e-05    9.01e-05\n",
       "only_full_bath    1.557e+04   1328.347     11.719      0.000     1.3e+04    1.82e+04\n",
       "lot_area_log        12.9711      0.506     25.629      0.000      11.978      13.964\n",
       "year_remod/add    -388.9880     91.019     -4.274      0.000    -567.492    -210.484\n",
       "==============================================================================\n",
       "Omnibus:                      330.324   Durbin-Watson:                   1.994\n",
       "Prob(Omnibus):                  0.000   Jarque-Bera (JB):             4924.036\n",
       "Skew:                           0.292   Prob(JB):                         0.00\n",
       "Kurtosis:                      10.729   Cond. No.                     1.71e+12\n",
       "==============================================================================\n",
       "\n",
       "Warnings:\n",
       "[1] Standard Errors assume that the covariance matrix of the errors is correctly specified.\n",
       "[2] The condition number is large, 1.71e+12. This might indicate that there are\n",
       "strong multicollinearity or other numerical problems.\n",
       "\"\"\""
      ]
     },
     "execution_count": 84,
     "metadata": {},
     "output_type": "execute_result"
    }
   ],
   "source": [
    "X_sm_2 = ames[features_5]\n",
    "y_sm_2 = ames['saleprice']  \n",
    "X_sm_2 = sm.add_constant(X_sm_2)\n",
    "model_sm_2 = sm.OLS(y_sm_2, X_sm_2).fit()\n",
    "model_sm_2.summary()"
   ]
  },
  {
   "cell_type": "markdown",
   "metadata": {},
   "source": [
    "Based off the RMSE, R2, and p-values, this model looks to be an improvement. I'll pickle it and try it out on Kaggle:"
   ]
  },
  {
   "cell_type": "code",
   "execution_count": 85,
   "metadata": {},
   "outputs": [],
   "source": [
    "pickle.dump(model_5, open('../model/linear_model_5.pkl', 'wb'))"
   ]
  },
  {
   "cell_type": "markdown",
   "metadata": {},
   "source": [
    "## Model 6"
   ]
  },
  {
   "cell_type": "markdown",
   "metadata": {},
   "source": [
    "I have a decent score on Kaggle but now I want to just mess around and see what other features I can add to jump the RMSE."
   ]
  },
  {
   "cell_type": "markdown",
   "metadata": {},
   "source": [
    "Here are the features from model 5:"
   ]
  },
  {
   "cell_type": "code",
   "execution_count": 86,
   "metadata": {},
   "outputs": [
    {
     "name": "stdout",
     "output_type": "stream",
     "text": [
      "['overall_qual', 'garage_area', 'mas_vnr_area', 'neighborhood_avg', 'ext_Fa', 'ext_Gd', 'ext_TA', 'base_Fa', 'base_Gd', 'base_TA', 'kitch_Fa', 'kitch_Gd', 'kitch_TA', 'bed_bath', 'gr_liv_area_log', 'built/remodel', 'only_full_bath', 'lot_area_log', 'year_remod/add']\n"
     ]
    }
   ],
   "source": [
    "print(features_5)"
   ]
  },
  {
   "cell_type": "markdown",
   "metadata": {},
   "source": [
    "Doing some more EDA to find more features to incorporate:"
   ]
  },
  {
   "cell_type": "code",
   "execution_count": 87,
   "metadata": {},
   "outputs": [
    {
     "name": "stdout",
     "output_type": "stream",
     "text": [
      "['Corner', 'CulDSac', 'FR2', 'FR3', 'Inside'] lot_config\n",
      "Corner     181918.831325\n",
      "CulDSac    233659.736000\n",
      "FR2        176473.928571\n",
      "FR3        213550.000000\n",
      "Inside     178822.085754\n",
      "Name: saleprice, dtype: float64\n"
     ]
    },
    {
     "data": {
      "text/plain": [
       "Text(0, 0.5, 'Average Home Price')"
      ]
     },
     "execution_count": 87,
     "metadata": {},
     "output_type": "execute_result"
    },
    {
     "data": {
      "image/png": "[encoded data removed]",
      "text/plain": [
       "<Figure size 432x288 with 1 Axes>"
      ]
     },
     "metadata": {
      "needs_background": "light"
     },
     "output_type": "display_data"
    }
   ],
   "source": [
    "x_lotc = sorted(set(ames['lot_config']))\n",
    "y_lotc = ames.groupby(ames['lot_config'])['saleprice'].mean()\n",
    "print(x_lotc, y_lotc)\n",
    "plt.bar(x_lotc, y_lotc)\n",
    "plt.title('Lot Config')\n",
    "plt.xlabel('Configuration')\n",
    "plt.ylabel('Average Home Price')\n"
   ]
  },
  {
   "cell_type": "markdown",
   "metadata": {},
   "source": [
    "This shows some variance in the average home price based on the configuration of the lot. This could be another category to dummy."
   ]
  },
  {
   "cell_type": "markdown",
   "metadata": {},
   "source": [
    "Now looking at what condition 1 and 2 mean:"
   ]
  },
  {
   "cell_type": "code",
   "execution_count": 88,
   "metadata": {},
   "outputs": [
    {
     "name": "stdout",
     "output_type": "stream",
     "text": [
      "['Artery', 'Feedr', 'Norm', 'PosA', 'PosN', 'RRAe', 'RRAn', 'RRNe', 'RRNn'] condition_1\n",
      "Artery    129441.911765\n",
      "Feedr     143138.163265\n",
      "Norm      186522.154118\n",
      "PosA      254733.333333\n",
      "PosN      254794.296296\n",
      "RRAe      141070.000000\n",
      "RRAn      167248.393939\n",
      "RRNe      129616.666667\n",
      "RRNn      198208.333333\n",
      "Name: saleprice, dtype: float64\n",
      "['Artery', 'Feedr', 'Norm', 'PosA', 'PosN', 'RRAe', 'RRAn', 'RRNn'] condition_2\n",
      "Artery    119050.000000\n",
      "Feedr     129181.818182\n",
      "Norm      182831.808346\n",
      "PosA      390666.666667\n",
      "PosN      395666.666667\n",
      "RRAe      190000.000000\n",
      "RRAn      136905.000000\n",
      "RRNn       96750.000000\n",
      "Name: saleprice, dtype: float64\n"
     ]
    },
    {
     "data": {
      "text/plain": [
       "Text(0, 0.5, 'Average Home Price')"
      ]
     },
     "execution_count": 88,
     "metadata": {},
     "output_type": "execute_result"
    },
    {
     "data": {
      "image/png": "[encoded data removed]",
      "text/plain": [
       "<Figure size 1152x288 with 2 Axes>"
      ]
     },
     "metadata": {
      "needs_background": "light"
     },
     "output_type": "display_data"
    }
   ],
   "source": [
    "plt.figure(figsize=(16,4))\n",
    "\n",
    "plt.subplot(1, 2, 1)\n",
    "x_cond1 = sorted(set(ames['condition_1']))\n",
    "y_cond1 = ames.groupby(ames['condition_1'])['saleprice'].mean()\n",
    "print(x_cond1, y_cond1)\n",
    "plt.bar(x_cond1, y_cond1)\n",
    "plt.title('Condition 1')\n",
    "plt.xlabel('Condition 1')\n",
    "plt.ylabel('Average Home Price')\n",
    "\n",
    "plt.subplot(1, 2, 2)\n",
    "x_cond2 = sorted(set(ames['condition_2']))\n",
    "y_cond2 = ames.groupby(ames['condition_2'])['saleprice'].mean()\n",
    "print(x_cond2, y_cond2)\n",
    "plt.bar(x_cond2, y_cond2)\n",
    "plt.title('Condition 2')\n",
    "plt.xlabel('Condition 2')\n",
    "plt.ylabel('Average Home Price')"
   ]
  },
  {
   "cell_type": "markdown",
   "metadata": {},
   "source": [
    "Condition 2 has two categories in particular that stick out and could help improve the model."
   ]
  },
  {
   "cell_type": "code",
   "execution_count": 89,
   "metadata": {},
   "outputs": [
    {
     "name": "stdout",
     "output_type": "stream",
     "text": [
      "['AsbShng', 'AsphShn', 'BrkComm', 'BrkFace', 'CBlock', 'CemntBd', 'HdBoard', 'ImStucc', 'MetalSd', 'Plywood', 'Stone', 'Stucco', 'VinylSd', 'Wd Sdng', 'WdShing'] exterior_1st\n",
      "AsbShng    107598.333333\n",
      "AsphShn     82375.000000\n",
      "BrkComm    131000.000000\n",
      "BrkFace    200424.586207\n",
      "CBlock     105000.000000\n",
      "CemntBd    244100.988372\n",
      "HdBoard    160762.470790\n",
      "ImStucc    262000.000000\n",
      "MetalSd    156240.447205\n",
      "Plywood    171277.448276\n",
      "Stone      258500.000000\n",
      "Stucco     142968.750000\n",
      "VinylSd    218940.352941\n",
      "Wd Sdng    144266.181132\n",
      "WdShing    155556.390244\n",
      "Name: saleprice, dtype: float64\n"
     ]
    },
    {
     "data": {
      "text/plain": [
       "Text(0, 0.5, 'Average Home Price')"
      ]
     },
     "execution_count": 89,
     "metadata": {},
     "output_type": "execute_result"
    },
    {
     "data": {
      "image/png": "[encoded data removed]",
      "text/plain": [
       "<Figure size 432x288 with 1 Axes>"
      ]
     },
     "metadata": {
      "needs_background": "light"
     },
     "output_type": "display_data"
    }
   ],
   "source": [
    "x_ext = sorted(set(ames['exterior_1st']))\n",
    "y_ext = ames.groupby(ames['exterior_1st'])['saleprice'].mean()\n",
    "print(x_ext, y_ext)\n",
    "plt.bar(x_ext, y_ext)\n",
    "plt.title('Exterior 1st')\n",
    "plt.xlabel('Exterior')\n",
    "plt.ylabel('Average Home Price')"
   ]
  },
  {
   "cell_type": "markdown",
   "metadata": {},
   "source": [
    "The plot above looks at the types of exterior on the house. There are several cateogires that jump out as having high average prices. Again, this could be useful in predicting the price."
   ]
  },
  {
   "cell_type": "code",
   "execution_count": 90,
   "metadata": {},
   "outputs": [
    {
     "name": "stdout",
     "output_type": "stream",
     "text": [
      "['BrkTil', 'CBlock', 'PConc', 'Stone', 'Wood'] foundation\n",
      "BrkTil    129722.714286\n",
      "CBlock    148855.992925\n",
      "PConc     228300.344134\n",
      "Stone     143235.200000\n",
      "Wood      173750.000000\n",
      "Name: saleprice, dtype: float64\n"
     ]
    },
    {
     "data": {
      "text/plain": [
       "Text(0, 0.5, 'Average Home Price')"
      ]
     },
     "execution_count": 90,
     "metadata": {},
     "output_type": "execute_result"
    },
    {
     "data": {
      "image/png": "[encoded data removed]",
      "text/plain": [
       "<Figure size 432x288 with 1 Axes>"
      ]
     },
     "metadata": {
      "needs_background": "light"
     },
     "output_type": "display_data"
    }
   ],
   "source": [
    "x_found = sorted(set(ames['foundation']))\n",
    "y_found = ames.groupby(ames['foundation'])['saleprice'].mean()\n",
    "print(x_found, y_found)\n",
    "plt.bar(x_found, y_found)\n",
    "plt.title('Foundation')\n",
    "plt.xlabel('Foundation')\n",
    "plt.ylabel('Average Home Price')"
   ]
  },
  {
   "cell_type": "markdown",
   "metadata": {},
   "source": [
    "Poured concrete has a higher average than all the other types of foundation. I'll include this feature in my next model."
   ]
  },
  {
   "cell_type": "code",
   "execution_count": 91,
   "metadata": {},
   "outputs": [
    {
     "name": "stdout",
     "output_type": "stream",
     "text": [
      "['GasA', 'GasW', 'Grav', 'OthW'] heating\n",
      "GasA    183592.420103\n",
      "GasW    151275.000000\n",
      "Grav     65180.000000\n",
      "OthW    125750.000000\n",
      "Name: saleprice, dtype: float64\n",
      "['N', 'Y'] central_air\n",
      "N    104845.563025\n",
      "Y    187930.504870\n",
      "Name: saleprice, dtype: float64\n",
      "['Ex', 'Fa', 'Gd', 'Po', 'TA'] heating_qc\n",
      "Ex    216346.633981\n",
      "Fa    123598.033898\n",
      "Gd    160812.528846\n",
      "Po     97000.000000\n",
      "TA    140559.164894\n",
      "Name: saleprice, dtype: float64\n"
     ]
    },
    {
     "data": {
      "text/plain": [
       "Text(0, 0.5, 'Average Home Price')"
      ]
     },
     "execution_count": 91,
     "metadata": {},
     "output_type": "execute_result"
    },
    {
     "data": {
      "image/png": "[encoded data removed]",
      "text/plain": [
       "<Figure size 1152x720 with 3 Axes>"
      ]
     },
     "metadata": {
      "needs_background": "light"
     },
     "output_type": "display_data"
    }
   ],
   "source": [
    "plt.figure(figsize=(16,10))\n",
    "\n",
    "plt.subplot(2, 2, 1)\n",
    "x_heat = sorted(set(ames['heating']))\n",
    "y_heat = ames.groupby(ames['heating'])['saleprice'].mean()\n",
    "print(x_heat, y_heat)\n",
    "plt.bar(x_heat, y_heat)\n",
    "plt.title('Heating')\n",
    "plt.xlabel('Heating')\n",
    "plt.ylabel('Average Home Price')\n",
    "\n",
    "plt.subplot(2, 2, 2)\n",
    "x_ca = sorted(set(ames['central_air']))\n",
    "y_ca = ames.groupby(ames['central_air'])['saleprice'].mean()\n",
    "print(x_ca, y_ca)\n",
    "plt.bar(x_ca, y_ca)\n",
    "plt.title('Central Air')\n",
    "plt.xlabel('Central Air')\n",
    "plt.ylabel('Average Home Price')\n",
    "\n",
    "plt.subplot(2, 2, 3)\n",
    "x_qc = sorted(set(ames['heating_qc']))\n",
    "y_qc = ames.groupby(ames['heating_qc'])['saleprice'].mean()\n",
    "print(x_qc, y_qc)\n",
    "plt.bar(x_qc, y_qc)\n",
    "plt.title('Heating QC')\n",
    "plt.xlabel('Heating Quality')\n",
    "plt.ylabel('Average Home Price')"
   ]
  },
  {
   "cell_type": "markdown",
   "metadata": {},
   "source": [
    "The plots above look at heating and central air. There seems to be a big difference in houses that do have central air vs those who don't as well as the quality of the heating system."
   ]
  },
  {
   "cell_type": "code",
   "execution_count": 92,
   "metadata": {},
   "outputs": [
    {
     "name": "stdout",
     "output_type": "stream",
     "text": [
      "['N', 'P', 'Y'] paved_drive\n",
      "N    108719.515385\n",
      "P    128733.891892\n",
      "Y    189375.280000\n",
      "Name: saleprice, dtype: float64\n"
     ]
    },
    {
     "data": {
      "text/plain": [
       "Text(0, 0.5, 'Average Home Price')"
      ]
     },
     "execution_count": 92,
     "metadata": {},
     "output_type": "execute_result"
    },
    {
     "data": {
      "image/png": "[encoded data removed]",
      "text/plain": [
       "<Figure size 432x288 with 1 Axes>"
      ]
     },
     "metadata": {
      "needs_background": "light"
     },
     "output_type": "display_data"
    }
   ],
   "source": [
    "\n",
    "x_drive = sorted(set(ames['paved_drive']))\n",
    "y_drive = ames.groupby(ames['paved_drive'])['saleprice'].mean()\n",
    "print(x_drive, y_drive)\n",
    "plt.bar(x_drive, y_drive)\n",
    "plt.title('Paved Driveway');\n",
    "plt.xlabel('Paved Driveway')\n",
    "plt.ylabel('Average Home Price')"
   ]
  },
  {
   "cell_type": "markdown",
   "metadata": {},
   "source": [
    "The graph above shows the distinction between having a paved driveway or not. Those who had one on average had a more expensive house."
   ]
  },
  {
   "cell_type": "markdown",
   "metadata": {},
   "source": [
    "Next, I'm going to look at the outdoor areas such as deck and porches."
   ]
  },
  {
   "cell_type": "code",
   "execution_count": 93,
   "metadata": {},
   "outputs": [],
   "source": [
    "ames['porch/deck'] = (np.log(1 + ames['wood_deck_sf'] + ames['open_porch_sf'] + ames['enclosed_porch'] + ames['3ssn_porch'] + ames['screen_porch']))**2"
   ]
  },
  {
   "cell_type": "code",
   "execution_count": 94,
   "metadata": {
    "scrolled": true
   },
   "outputs": [
    {
     "data": {
      "text/plain": [
       "<matplotlib.collections.PathCollection at 0x1a29dbc910>"
      ]
     },
     "execution_count": 94,
     "metadata": {},
     "output_type": "execute_result"
    },
    {
     "data": {
      "image/png": "[encoded data removed]",
      "text/plain": [
       "<Figure size 432x288 with 1 Axes>"
      ]
     },
     "metadata": {
      "needs_background": "light"
     },
     "output_type": "display_data"
    }
   ],
   "source": [
    "plt.scatter(ames['porch/deck'], ames['saleprice'])"
   ]
  },
  {
   "cell_type": "markdown",
   "metadata": {},
   "source": [
    "After running the plot above a few times, it looks like taking the natrual log of the porch/deck created somewhat of a correlation (although it is largely centered). For now, I'll move forward with this feature to see what impact it has."
   ]
  },
  {
   "cell_type": "markdown",
   "metadata": {},
   "source": [
    "For this next pass, I'm going to dummy quite a few columns but using different techniques. For Central Air, Heating, and Heating QC I'm just going to make straight up dummy columns. For Condition 2, Exterior 1st, Foundation, and MS Sub, I'm going to use the strategy I did with neighborhoods and dummy in one column based on the average price for that category:"
   ]
  },
  {
   "cell_type": "markdown",
   "metadata": {},
   "source": [
    "Converting Condition 2:"
   ]
  },
  {
   "cell_type": "code",
   "execution_count": 95,
   "metadata": {},
   "outputs": [
    {
     "name": "stdout",
     "output_type": "stream",
     "text": [
      "condition_2\n",
      "Artery    119050.000000\n",
      "Feedr     129181.818182\n",
      "Norm      182831.808346\n",
      "PosA      390666.666667\n",
      "PosN      395666.666667\n",
      "RRAe      190000.000000\n",
      "RRAn      136905.000000\n",
      "RRNn       96750.000000\n",
      "Name: saleprice, dtype: float64\n"
     ]
    }
   ],
   "source": [
    "cond2_avg = ames.groupby(ames['condition_2'])['saleprice'].mean()\n",
    "\n",
    "print(cond2_avg)"
   ]
  },
  {
   "cell_type": "code",
   "execution_count": 96,
   "metadata": {},
   "outputs": [],
   "source": [
    "condition2 = list(ames['condition_2'].unique())"
   ]
  },
  {
   "cell_type": "code",
   "execution_count": 97,
   "metadata": {},
   "outputs": [],
   "source": [
    "condition2 = sorted(condition2)"
   ]
  },
  {
   "cell_type": "code",
   "execution_count": 98,
   "metadata": {},
   "outputs": [],
   "source": [
    "cond_dict = {condition : round((avg/10_0000), 2) \n",
    "               for(condition, avg) in zip(condition2, cond2_avg)}"
   ]
  },
  {
   "cell_type": "code",
   "execution_count": 99,
   "metadata": {
    "scrolled": true
   },
   "outputs": [
    {
     "name": "stdout",
     "output_type": "stream",
     "text": [
      "{'Artery': 1.19, 'Feedr': 1.29, 'Norm': 1.83, 'PosA': 3.91, 'PosN': 3.96, 'RRAe': 1.9, 'RRAn': 1.37, 'RRNn': 0.97}\n"
     ]
    }
   ],
   "source": [
    "print(cond_dict)"
   ]
  },
  {
   "cell_type": "code",
   "execution_count": 100,
   "metadata": {},
   "outputs": [],
   "source": [
    "#Adapted from Daniel Kim's potato example\n",
    "\n",
    "ames['condition2_avg'] = ames['condition_2'].apply(lambda x: cond_dict[x])"
   ]
  },
  {
   "cell_type": "code",
   "execution_count": 101,
   "metadata": {},
   "outputs": [
    {
     "data": {
      "text/plain": [
       "<matplotlib.collections.PathCollection at 0x1a2a5b9890>"
      ]
     },
     "execution_count": 101,
     "metadata": {},
     "output_type": "execute_result"
    },
    {
     "data": {
      "image/png": "[encoded data removed]",
      "text/plain": [
       "<Figure size 432x288 with 1 Axes>"
      ]
     },
     "metadata": {
      "needs_background": "light"
     },
     "output_type": "display_data"
    }
   ],
   "source": [
    "plt.scatter(np.log(ames['condition2_avg']), ames['saleprice'])"
   ]
  },
  {
   "cell_type": "markdown",
   "metadata": {},
   "source": [
    "Conversting Exterior 1st:"
   ]
  },
  {
   "cell_type": "code",
   "execution_count": 102,
   "metadata": {},
   "outputs": [
    {
     "name": "stdout",
     "output_type": "stream",
     "text": [
      "exterior_1st\n",
      "AsbShng    107598.333333\n",
      "AsphShn     82375.000000\n",
      "BrkComm    131000.000000\n",
      "BrkFace    200424.586207\n",
      "CBlock     105000.000000\n",
      "CemntBd    244100.988372\n",
      "HdBoard    160762.470790\n",
      "ImStucc    262000.000000\n",
      "MetalSd    156240.447205\n",
      "Plywood    171277.448276\n",
      "Stone      258500.000000\n",
      "Stucco     142968.750000\n",
      "VinylSd    218940.352941\n",
      "Wd Sdng    144266.181132\n",
      "WdShing    155556.390244\n",
      "Name: saleprice, dtype: float64\n"
     ]
    }
   ],
   "source": [
    "ext1_avg = ames.groupby(ames['exterior_1st'])['saleprice'].mean()\n",
    "\n",
    "print(ext1_avg)"
   ]
  },
  {
   "cell_type": "code",
   "execution_count": 103,
   "metadata": {},
   "outputs": [],
   "source": [
    "exterior = list(ames['exterior_1st'].unique())\n",
    "exterior = sorted(exterior)"
   ]
  },
  {
   "cell_type": "code",
   "execution_count": 104,
   "metadata": {},
   "outputs": [
    {
     "name": "stdout",
     "output_type": "stream",
     "text": [
      "{'AsbShng': 1.08, 'AsphShn': 0.82, 'BrkComm': 1.31, 'BrkFace': 2.0, 'CBlock': 1.05, 'CemntBd': 2.44, 'HdBoard': 1.61, 'ImStucc': 2.62, 'MetalSd': 1.56, 'Plywood': 1.71, 'Stone': 2.58, 'Stucco': 1.43, 'VinylSd': 2.19, 'Wd Sdng': 1.44, 'WdShing': 1.56}\n"
     ]
    }
   ],
   "source": [
    "ext_dict = {ext : round((avg/10_0000), 2) \n",
    "               for(ext, avg) in zip(exterior, ext1_avg)}\n",
    "print(ext_dict)"
   ]
  },
  {
   "cell_type": "code",
   "execution_count": 105,
   "metadata": {},
   "outputs": [],
   "source": [
    "ames['exterior_avg'] = ames['exterior_1st'].apply(lambda x: ext_dict[x])"
   ]
  },
  {
   "cell_type": "markdown",
   "metadata": {},
   "source": [
    "Converting Foundation:"
   ]
  },
  {
   "cell_type": "code",
   "execution_count": 106,
   "metadata": {},
   "outputs": [
    {
     "name": "stdout",
     "output_type": "stream",
     "text": [
      "foundation\n",
      "BrkTil    129722.714286\n",
      "CBlock    148855.992925\n",
      "PConc     228300.344134\n",
      "Stone     143235.200000\n",
      "Wood      173750.000000\n",
      "Name: saleprice, dtype: float64\n"
     ]
    }
   ],
   "source": [
    "found_avg = ames.groupby(ames['foundation'])['saleprice'].mean()\n",
    "\n",
    "print(found_avg)"
   ]
  },
  {
   "cell_type": "code",
   "execution_count": 107,
   "metadata": {},
   "outputs": [],
   "source": [
    "found = list(ames['foundation'].unique())\n",
    "found = sorted(found)"
   ]
  },
  {
   "cell_type": "code",
   "execution_count": 108,
   "metadata": {},
   "outputs": [
    {
     "name": "stdout",
     "output_type": "stream",
     "text": [
      "{'BrkTil': 1.3, 'CBlock': 1.49, 'PConc': 2.28, 'Stone': 1.43, 'Wood': 1.74}\n"
     ]
    }
   ],
   "source": [
    "found_dict = {f : round((avg/10_0000), 2) \n",
    "               for(f, avg) in zip(found, found_avg)}\n",
    "print(found_dict)"
   ]
  },
  {
   "cell_type": "code",
   "execution_count": 109,
   "metadata": {},
   "outputs": [],
   "source": [
    "ames['foundation_avg'] = ames['foundation'].apply(lambda x: found_dict[x])"
   ]
  },
  {
   "cell_type": "code",
   "execution_count": 110,
   "metadata": {},
   "outputs": [
    {
     "data": {
      "text/plain": [
       "<matplotlib.collections.PathCollection at 0x1a2a6fb810>"
      ]
     },
     "execution_count": 110,
     "metadata": {},
     "output_type": "execute_result"
    },
    {
     "data": {
      "image/png": "[encoded data removed]",
      "text/plain": [
       "<Figure size 432x288 with 1 Axes>"
      ]
     },
     "metadata": {
      "needs_background": "light"
     },
     "output_type": "display_data"
    }
   ],
   "source": [
    "plt.scatter(ames['foundation_avg'], ames['saleprice'])"
   ]
  },
  {
   "cell_type": "markdown",
   "metadata": {},
   "source": [
    "Converting MS Subclass:"
   ]
  },
  {
   "cell_type": "code",
   "execution_count": 111,
   "metadata": {},
   "outputs": [
    {
     "name": "stdout",
     "output_type": "stream",
     "text": [
      "ms_subclass\n",
      "20     190648.312076\n",
      "30      96256.389474\n",
      "40     119125.000000\n",
      "45     116372.727273\n",
      "50     137840.635897\n",
      "60     239862.186352\n",
      "70     153636.272727\n",
      "75     204875.000000\n",
      "80     169617.705882\n",
      "85     152764.814815\n",
      "90     151622.745455\n",
      "120    211798.426357\n",
      "150    148400.000000\n",
      "160    138452.215909\n",
      "180    109672.727273\n",
      "190    126296.022727\n",
      "Name: saleprice, dtype: float64\n"
     ]
    }
   ],
   "source": [
    "ms_avg = ames.groupby(ames['ms_subclass'])['saleprice'].mean()\n",
    "\n",
    "print(ms_avg)"
   ]
  },
  {
   "cell_type": "code",
   "execution_count": 112,
   "metadata": {},
   "outputs": [],
   "source": [
    "ms_sub = list(ames['ms_subclass'].unique())\n",
    "ms_sub = sorted(ms_sub)"
   ]
  },
  {
   "cell_type": "code",
   "execution_count": 113,
   "metadata": {},
   "outputs": [
    {
     "name": "stdout",
     "output_type": "stream",
     "text": [
      "{20: 1.91, 30: 0.96, 40: 1.19, 45: 1.16, 50: 1.38, 60: 2.4, 70: 1.54, 75: 2.05, 80: 1.7, 85: 1.53, 90: 1.52, 120: 2.12, 150: 1.48, 160: 1.38, 180: 1.1, 190: 1.26}\n"
     ]
    }
   ],
   "source": [
    "ms_dict = {subclass : round((avg/10_0000), 2) \n",
    "               for(subclass, avg) in zip(ms_sub, ms_avg)}\n",
    "print(ms_dict)"
   ]
  },
  {
   "cell_type": "code",
   "execution_count": 114,
   "metadata": {},
   "outputs": [],
   "source": [
    "ames['ms_avg'] = ames['ms_subclass'].apply(lambda x: ms_dict[x])"
   ]
  },
  {
   "cell_type": "code",
   "execution_count": 115,
   "metadata": {},
   "outputs": [],
   "source": [
    "ames['ms_log'] = np.log(ames['ms_avg'])"
   ]
  },
  {
   "cell_type": "code",
   "execution_count": 116,
   "metadata": {},
   "outputs": [
    {
     "data": {
      "text/plain": [
       "<matplotlib.collections.PathCollection at 0x1a2a7d5590>"
      ]
     },
     "execution_count": 116,
     "metadata": {},
     "output_type": "execute_result"
    },
    {
     "data": {
      "image/png": "[encoded data removed]",
      "text/plain": [
       "<Figure size 432x288 with 1 Axes>"
      ]
     },
     "metadata": {
      "needs_background": "light"
     },
     "output_type": "display_data"
    }
   ],
   "source": [
    "plt.scatter(np.log(ames['ms_avg']), ames['saleprice'])"
   ]
  },
  {
   "cell_type": "markdown",
   "metadata": {},
   "source": [
    "Now creating the regular dummies:"
   ]
  },
  {
   "cell_type": "markdown",
   "metadata": {},
   "source": [
    "Central Air"
   ]
  },
  {
   "cell_type": "code",
   "execution_count": 117,
   "metadata": {},
   "outputs": [],
   "source": [
    "cent_air = pd.get_dummies(ames['central_air'], drop_first=True, prefix='CA')"
   ]
  },
  {
   "cell_type": "code",
   "execution_count": 118,
   "metadata": {},
   "outputs": [
    {
     "data": {
      "text/html": [
       "<div>\n",
       "<style scoped>\n",
       "    .dataframe tbody tr th:only-of-type {\n",
       "        vertical-align: middle;\n",
       "    }\n",
       "\n",
       "    .dataframe tbody tr th {\n",
       "        vertical-align: top;\n",
       "    }\n",
       "\n",
       "    .dataframe thead th {\n",
       "        text-align: right;\n",
       "    }\n",
       "</style>\n",
       "<table border=\"1\" class=\"dataframe\">\n",
       "  <thead>\n",
       "    <tr style=\"text-align: right;\">\n",
       "      <th></th>\n",
       "      <th>id</th>\n",
       "      <th>pid</th>\n",
       "      <th>ms_subclass</th>\n",
       "      <th>ms_zoning</th>\n",
       "      <th>lot_area</th>\n",
       "      <th>street</th>\n",
       "      <th>lot_shape</th>\n",
       "      <th>land_contour</th>\n",
       "      <th>utilities</th>\n",
       "      <th>lot_config</th>\n",
       "      <th>...</th>\n",
       "      <th>age_root</th>\n",
       "      <th>lot_area_log</th>\n",
       "      <th>only_full_bath</th>\n",
       "      <th>built/remodel</th>\n",
       "      <th>porch/deck</th>\n",
       "      <th>condition2_avg</th>\n",
       "      <th>exterior_avg</th>\n",
       "      <th>foundation_avg</th>\n",
       "      <th>ms_avg</th>\n",
       "      <th>ms_log</th>\n",
       "    </tr>\n",
       "  </thead>\n",
       "  <tbody>\n",
       "    <tr>\n",
       "      <th>0</th>\n",
       "      <td>109</td>\n",
       "      <td>533352170</td>\n",
       "      <td>60</td>\n",
       "      <td>RL</td>\n",
       "      <td>13517</td>\n",
       "      <td>Pave</td>\n",
       "      <td>IR1</td>\n",
       "      <td>Lvl</td>\n",
       "      <td>AllPub</td>\n",
       "      <td>CulDSac</td>\n",
       "      <td>...</td>\n",
       "      <td>3.637586</td>\n",
       "      <td>14067.809375</td>\n",
       "      <td>2.0</td>\n",
       "      <td>7943569400</td>\n",
       "      <td>14.490679</td>\n",
       "      <td>1.83</td>\n",
       "      <td>1.61</td>\n",
       "      <td>1.49</td>\n",
       "      <td>2.40</td>\n",
       "      <td>0.875469</td>\n",
       "    </tr>\n",
       "    <tr>\n",
       "      <th>1</th>\n",
       "      <td>544</td>\n",
       "      <td>531379050</td>\n",
       "      <td>60</td>\n",
       "      <td>RL</td>\n",
       "      <td>11492</td>\n",
       "      <td>Pave</td>\n",
       "      <td>IR1</td>\n",
       "      <td>Lvl</td>\n",
       "      <td>AllPub</td>\n",
       "      <td>CulDSac</td>\n",
       "      <td>...</td>\n",
       "      <td>2.890372</td>\n",
       "      <td>19839.440423</td>\n",
       "      <td>3.0</td>\n",
       "      <td>7960065964</td>\n",
       "      <td>18.640704</td>\n",
       "      <td>1.83</td>\n",
       "      <td>2.19</td>\n",
       "      <td>2.28</td>\n",
       "      <td>2.40</td>\n",
       "      <td>0.875469</td>\n",
       "    </tr>\n",
       "    <tr>\n",
       "      <th>2</th>\n",
       "      <td>153</td>\n",
       "      <td>535304180</td>\n",
       "      <td>20</td>\n",
       "      <td>RL</td>\n",
       "      <td>7922</td>\n",
       "      <td>Pave</td>\n",
       "      <td>Reg</td>\n",
       "      <td>Lvl</td>\n",
       "      <td>AllPub</td>\n",
       "      <td>Inside</td>\n",
       "      <td>...</td>\n",
       "      <td>4.110874</td>\n",
       "      <td>9489.110720</td>\n",
       "      <td>2.0</td>\n",
       "      <td>7866779697</td>\n",
       "      <td>15.763218</td>\n",
       "      <td>1.83</td>\n",
       "      <td>2.19</td>\n",
       "      <td>1.49</td>\n",
       "      <td>1.91</td>\n",
       "      <td>0.647103</td>\n",
       "    </tr>\n",
       "    <tr>\n",
       "      <th>3</th>\n",
       "      <td>318</td>\n",
       "      <td>916386060</td>\n",
       "      <td>60</td>\n",
       "      <td>RL</td>\n",
       "      <td>9802</td>\n",
       "      <td>Pave</td>\n",
       "      <td>Reg</td>\n",
       "      <td>Lvl</td>\n",
       "      <td>AllPub</td>\n",
       "      <td>Inside</td>\n",
       "      <td>...</td>\n",
       "      <td>2.079442</td>\n",
       "      <td>13270.853452</td>\n",
       "      <td>2.0</td>\n",
       "      <td>8080266294</td>\n",
       "      <td>21.299337</td>\n",
       "      <td>1.83</td>\n",
       "      <td>2.19</td>\n",
       "      <td>2.28</td>\n",
       "      <td>2.40</td>\n",
       "      <td>0.875469</td>\n",
       "    </tr>\n",
       "    <tr>\n",
       "      <th>4</th>\n",
       "      <td>255</td>\n",
       "      <td>906425045</td>\n",
       "      <td>50</td>\n",
       "      <td>RL</td>\n",
       "      <td>14235</td>\n",
       "      <td>Pave</td>\n",
       "      <td>IR1</td>\n",
       "      <td>Lvl</td>\n",
       "      <td>AllPub</td>\n",
       "      <td>Inside</td>\n",
       "      <td>...</td>\n",
       "      <td>4.736198</td>\n",
       "      <td>13819.198255</td>\n",
       "      <td>2.0</td>\n",
       "      <td>7546893100</td>\n",
       "      <td>16.763657</td>\n",
       "      <td>1.83</td>\n",
       "      <td>1.44</td>\n",
       "      <td>2.28</td>\n",
       "      <td>1.38</td>\n",
       "      <td>0.322083</td>\n",
       "    </tr>\n",
       "  </tbody>\n",
       "</table>\n",
       "<p>5 rows × 106 columns</p>\n",
       "</div>"
      ],
      "text/plain": [
       "    id        pid  ms_subclass ms_zoning  lot_area street lot_shape  \\\n",
       "0  109  533352170           60        RL     13517   Pave       IR1   \n",
       "1  544  531379050           60        RL     11492   Pave       IR1   \n",
       "2  153  535304180           20        RL      7922   Pave       Reg   \n",
       "3  318  916386060           60        RL      9802   Pave       Reg   \n",
       "4  255  906425045           50        RL     14235   Pave       IR1   \n",
       "\n",
       "  land_contour utilities lot_config  ...  age_root  lot_area_log  \\\n",
       "0          Lvl    AllPub    CulDSac  ...  3.637586  14067.809375   \n",
       "1          Lvl    AllPub    CulDSac  ...  2.890372  19839.440423   \n",
       "2          Lvl    AllPub     Inside  ...  4.110874   9489.110720   \n",
       "3          Lvl    AllPub     Inside  ...  2.079442  13270.853452   \n",
       "4          Lvl    AllPub     Inside  ...  4.736198  13819.198255   \n",
       "\n",
       "  only_full_bath built/remodel porch/deck condition2_avg  exterior_avg  \\\n",
       "0            2.0    7943569400  14.490679           1.83          1.61   \n",
       "1            3.0    7960065964  18.640704           1.83          2.19   \n",
       "2            2.0    7866779697  15.763218           1.83          2.19   \n",
       "3            2.0    8080266294  21.299337           1.83          2.19   \n",
       "4            2.0    7546893100  16.763657           1.83          1.44   \n",
       "\n",
       "   foundation_avg  ms_avg    ms_log  \n",
       "0            1.49    2.40  0.875469  \n",
       "1            2.28    2.40  0.875469  \n",
       "2            1.49    1.91  0.647103  \n",
       "3            2.28    2.40  0.875469  \n",
       "4            2.28    1.38  0.322083  \n",
       "\n",
       "[5 rows x 106 columns]"
      ]
     },
     "execution_count": 118,
     "metadata": {},
     "output_type": "execute_result"
    }
   ],
   "source": [
    "ames.head()"
   ]
  },
  {
   "cell_type": "markdown",
   "metadata": {},
   "source": [
    "Heating"
   ]
  },
  {
   "cell_type": "code",
   "execution_count": 119,
   "metadata": {},
   "outputs": [],
   "source": [
    "heat_dummy = pd.get_dummies(ames['heating'], drop_first=True, prefix='heat')"
   ]
  },
  {
   "cell_type": "markdown",
   "metadata": {},
   "source": [
    "Heating QC"
   ]
  },
  {
   "cell_type": "code",
   "execution_count": 120,
   "metadata": {},
   "outputs": [],
   "source": [
    "heat_qc = pd.get_dummies(ames['heating_qc'], drop_first=True, prefix='heatqc')"
   ]
  },
  {
   "cell_type": "code",
   "execution_count": 121,
   "metadata": {},
   "outputs": [],
   "source": [
    "drive = pd.get_dummies(ames['paved_drive'], drop_first=True, prefix='drive')"
   ]
  },
  {
   "cell_type": "code",
   "execution_count": 122,
   "metadata": {},
   "outputs": [],
   "source": [
    "ames = pd.concat([ames, cent_air, heat_dummy, heat_qc, drive], axis=1)"
   ]
  },
  {
   "cell_type": "markdown",
   "metadata": {},
   "source": [
    "Building Model #6:"
   ]
  },
  {
   "cell_type": "markdown",
   "metadata": {},
   "source": [
    "Setting the new features and splitting the data:"
   ]
  },
  {
   "cell_type": "code",
   "execution_count": 123,
   "metadata": {},
   "outputs": [],
   "source": [
    "features_6 = ['overall_qual',\n",
    " 'garage_area',\n",
    " 'mas_vnr_area',\n",
    " 'neighborhood_avg',\n",
    " 'ext_Fa',\n",
    " 'ext_Gd',\n",
    " 'ext_TA',\n",
    " 'base_Fa',\n",
    " 'base_Gd',\n",
    " 'base_TA',\n",
    " 'kitch_Fa',\n",
    " 'kitch_Gd',\n",
    " 'kitch_TA',\n",
    " 'bed_bath',\n",
    " 'gr_liv_area_log',\n",
    " 'built/remodel',\n",
    " 'only_full_bath',\n",
    " 'lot_area_log',\n",
    " 'year_remod/add',\n",
    " 'exterior_avg',\n",
    "'porch/deck',\n",
    " 'drive_Y',\n",
    " 'CA_Y',\n",
    " 'heat_Grav',\n",
    " 'heatqc_TA']"
   ]
  },
  {
   "cell_type": "code",
   "execution_count": 124,
   "metadata": {},
   "outputs": [],
   "source": [
    "X_6 = ames[features_6]\n",
    "y_6 = ames['saleprice']    \n",
    "X_6_train, X_6_test, y_6_train, y_6_test = train_test_split(X_6, y_6, random_state = 21)"
   ]
  },
  {
   "cell_type": "markdown",
   "metadata": {},
   "source": [
    "Taking the log of the target:"
   ]
  },
  {
   "cell_type": "code",
   "execution_count": 125,
   "metadata": {},
   "outputs": [],
   "source": [
    "y_6_train_log = np.log(y_6_train)\n",
    "y_6_test_log = np.log(y_6_test)"
   ]
  },
  {
   "cell_type": "markdown",
   "metadata": {},
   "source": [
    "Instantiating and fitting the model:"
   ]
  },
  {
   "cell_type": "code",
   "execution_count": 126,
   "metadata": {},
   "outputs": [],
   "source": [
    "model_6 = LinearRegression()"
   ]
  },
  {
   "cell_type": "code",
   "execution_count": 127,
   "metadata": {},
   "outputs": [
    {
     "data": {
      "text/plain": [
       "LinearRegression(copy_X=True, fit_intercept=True, n_jobs=None, normalize=False)"
      ]
     },
     "execution_count": 127,
     "metadata": {},
     "output_type": "execute_result"
    }
   ],
   "source": [
    "model_6.fit(X_6_train, y_6_train_log)"
   ]
  },
  {
   "cell_type": "markdown",
   "metadata": {},
   "source": [
    "Creating predictions and a plot for the predictions:"
   ]
  },
  {
   "cell_type": "code",
   "execution_count": 128,
   "metadata": {},
   "outputs": [],
   "source": [
    "y_pred_6_log = model_6.predict(X_6_train)\n",
    "y_pred_6 = np.exp(y_pred_6_log)"
   ]
  },
  {
   "cell_type": "code",
   "execution_count": 129,
   "metadata": {},
   "outputs": [
    {
     "data": {
      "text/plain": [
       "Text(0, 0.5, 'Actual Price')"
      ]
     },
     "execution_count": 129,
     "metadata": {},
     "output_type": "execute_result"
    },
    {
     "data": {
      "image/png": "[encoded data removed]",
      "text/plain": [
       "<Figure size 432x288 with 1 Axes>"
      ]
     },
     "metadata": {
      "needs_background": "light"
     },
     "output_type": "display_data"
    }
   ],
   "source": [
    "plt.scatter(y_pred_6, y_6_train)\n",
    "plt.title('Model 6: Predicted Price vs Actual Price')\n",
    "plt.xlabel('Predicted Price')\n",
    "plt.ylabel('Actual Price')"
   ]
  },
  {
   "cell_type": "markdown",
   "metadata": {},
   "source": [
    "Scoring the model:"
   ]
  },
  {
   "cell_type": "code",
   "execution_count": 130,
   "metadata": {},
   "outputs": [
    {
     "data": {
      "text/plain": [
       "'MSE: 555321236.4417259, RMSE: 23565.254856286316, MAE : 16183.696893799803'"
      ]
     },
     "execution_count": 130,
     "metadata": {},
     "output_type": "execute_result"
    }
   ],
   "source": [
    "find_metrics_2(X_6_train, y_6_train, X_6_test, y_6_test, model_6, y_pred_6)"
   ]
  },
  {
   "cell_type": "code",
   "execution_count": 131,
   "metadata": {},
   "outputs": [
    {
     "data": {
      "text/plain": [
       "0.8935133627322086"
      ]
     },
     "execution_count": 131,
     "metadata": {},
     "output_type": "execute_result"
    }
   ],
   "source": [
    "model_6.score(X_6_train, y_6_train_log)"
   ]
  },
  {
   "cell_type": "code",
   "execution_count": 132,
   "metadata": {},
   "outputs": [
    {
     "data": {
      "text/plain": [
       "0.8534327055546604"
      ]
     },
     "execution_count": 132,
     "metadata": {},
     "output_type": "execute_result"
    }
   ],
   "source": [
    "model_6.score(X_6_test, y_6_test_log)"
   ]
  },
  {
   "cell_type": "code",
   "execution_count": 133,
   "metadata": {},
   "outputs": [
    {
     "data": {
      "text/html": [
       "<table class=\"simpletable\">\n",
       "<caption>OLS Regression Results</caption>\n",
       "<tr>\n",
       "  <th>Dep. Variable:</th>        <td>saleprice</td>    <th>  R-squared:         </th> <td>   0.894</td> \n",
       "</tr>\n",
       "<tr>\n",
       "  <th>Model:</th>                   <td>OLS</td>       <th>  Adj. R-squared:    </th> <td>   0.893</td> \n",
       "</tr>\n",
       "<tr>\n",
       "  <th>Method:</th>             <td>Least Squares</td>  <th>  F-statistic:       </th> <td>   657.7</td> \n",
       "</tr>\n",
       "<tr>\n",
       "  <th>Date:</th>             <td>Fri, 10 Apr 2020</td> <th>  Prob (F-statistic):</th>  <td>  0.00</td>  \n",
       "</tr>\n",
       "<tr>\n",
       "  <th>Time:</th>                 <td>19:31:29</td>     <th>  Log-Likelihood:    </th> <td> -22761.</td> \n",
       "</tr>\n",
       "<tr>\n",
       "  <th>No. Observations:</th>      <td>  1967</td>      <th>  AIC:               </th> <td>4.557e+04</td>\n",
       "</tr>\n",
       "<tr>\n",
       "  <th>Df Residuals:</th>          <td>  1941</td>      <th>  BIC:               </th> <td>4.572e+04</td>\n",
       "</tr>\n",
       "<tr>\n",
       "  <th>Df Model:</th>              <td>    25</td>      <th>                     </th>     <td> </td>    \n",
       "</tr>\n",
       "<tr>\n",
       "  <th>Covariance Type:</th>      <td>nonrobust</td>    <th>                     </th>     <td> </td>    \n",
       "</tr>\n",
       "</table>\n",
       "<table class=\"simpletable\">\n",
       "<tr>\n",
       "          <td></td>            <th>coef</th>     <th>std err</th>      <th>t</th>      <th>P>|t|</th>  <th>[0.025</th>    <th>0.975]</th>  \n",
       "</tr>\n",
       "<tr>\n",
       "  <th>const</th>            <td> 8.265e+05</td> <td> 1.34e+05</td> <td>    6.147</td> <td> 0.000</td> <td> 5.63e+05</td> <td> 1.09e+06</td>\n",
       "</tr>\n",
       "<tr>\n",
       "  <th>overall_qual</th>     <td> 5.594e+04</td> <td> 4365.727</td> <td>   12.814</td> <td> 0.000</td> <td> 4.74e+04</td> <td> 6.45e+04</td>\n",
       "</tr>\n",
       "<tr>\n",
       "  <th>garage_area</th>      <td>   26.4870</td> <td>    3.710</td> <td>    7.139</td> <td> 0.000</td> <td>   19.211</td> <td>   33.763</td>\n",
       "</tr>\n",
       "<tr>\n",
       "  <th>mas_vnr_area</th>     <td>   24.3965</td> <td>    4.041</td> <td>    6.037</td> <td> 0.000</td> <td>   16.472</td> <td>   32.321</td>\n",
       "</tr>\n",
       "<tr>\n",
       "  <th>neighborhood_avg</th> <td> 1.673e+04</td> <td> 1697.104</td> <td>    9.856</td> <td> 0.000</td> <td> 1.34e+04</td> <td> 2.01e+04</td>\n",
       "</tr>\n",
       "<tr>\n",
       "  <th>ext_Fa</th>           <td>-4.263e+04</td> <td> 7447.743</td> <td>   -5.723</td> <td> 0.000</td> <td>-5.72e+04</td> <td> -2.8e+04</td>\n",
       "</tr>\n",
       "<tr>\n",
       "  <th>ext_Gd</th>           <td> -3.63e+04</td> <td> 3969.662</td> <td>   -9.145</td> <td> 0.000</td> <td>-4.41e+04</td> <td>-2.85e+04</td>\n",
       "</tr>\n",
       "<tr>\n",
       "  <th>ext_TA</th>           <td>-4.025e+04</td> <td> 4488.650</td> <td>   -8.966</td> <td> 0.000</td> <td> -4.9e+04</td> <td>-3.14e+04</td>\n",
       "</tr>\n",
       "<tr>\n",
       "  <th>base_Fa</th>          <td>-2.701e+04</td> <td> 4962.113</td> <td>   -5.444</td> <td> 0.000</td> <td>-3.67e+04</td> <td>-1.73e+04</td>\n",
       "</tr>\n",
       "<tr>\n",
       "  <th>base_Gd</th>          <td>-2.833e+04</td> <td> 2745.249</td> <td>  -10.321</td> <td> 0.000</td> <td>-3.37e+04</td> <td> -2.3e+04</td>\n",
       "</tr>\n",
       "<tr>\n",
       "  <th>base_TA</th>          <td>-2.306e+04</td> <td> 3361.349</td> <td>   -6.861</td> <td> 0.000</td> <td>-2.97e+04</td> <td>-1.65e+04</td>\n",
       "</tr>\n",
       "<tr>\n",
       "  <th>kitch_Fa</th>         <td>-3.029e+04</td> <td> 5507.717</td> <td>   -5.500</td> <td> 0.000</td> <td>-4.11e+04</td> <td>-1.95e+04</td>\n",
       "</tr>\n",
       "<tr>\n",
       "  <th>kitch_Gd</th>         <td>-2.736e+04</td> <td> 3057.381</td> <td>   -8.949</td> <td> 0.000</td> <td>-3.34e+04</td> <td>-2.14e+04</td>\n",
       "</tr>\n",
       "<tr>\n",
       "  <th>kitch_TA</th>         <td>-3.116e+04</td> <td> 3457.784</td> <td>   -9.010</td> <td> 0.000</td> <td>-3.79e+04</td> <td>-2.44e+04</td>\n",
       "</tr>\n",
       "<tr>\n",
       "  <th>bed_bath</th>         <td>-2922.9799</td> <td>  330.249</td> <td>   -8.851</td> <td> 0.000</td> <td>-3570.661</td> <td>-2275.299</td>\n",
       "</tr>\n",
       "<tr>\n",
       "  <th>gr_liv_area_log</th>  <td>-1.022e+05</td> <td> 7287.556</td> <td>  -14.025</td> <td> 0.000</td> <td>-1.16e+05</td> <td>-8.79e+04</td>\n",
       "</tr>\n",
       "<tr>\n",
       "  <th>built/remodel</th>    <td> 5.111e-05</td> <td> 1.05e-05</td> <td>    4.851</td> <td> 0.000</td> <td> 3.04e-05</td> <td> 7.18e-05</td>\n",
       "</tr>\n",
       "<tr>\n",
       "  <th>only_full_bath</th>   <td> 1.558e+04</td> <td> 1321.478</td> <td>   11.788</td> <td> 0.000</td> <td>  1.3e+04</td> <td> 1.82e+04</td>\n",
       "</tr>\n",
       "<tr>\n",
       "  <th>lot_area_log</th>     <td>   12.9725</td> <td>    0.500</td> <td>   25.960</td> <td> 0.000</td> <td>   11.992</td> <td>   13.953</td>\n",
       "</tr>\n",
       "<tr>\n",
       "  <th>year_remod/add</th>   <td> -291.9590</td> <td>   96.989</td> <td>   -3.010</td> <td> 0.003</td> <td> -482.172</td> <td> -101.746</td>\n",
       "</tr>\n",
       "<tr>\n",
       "  <th>exterior_avg</th>     <td> 6537.0720</td> <td> 2245.649</td> <td>    2.911</td> <td> 0.004</td> <td> 2132.935</td> <td> 1.09e+04</td>\n",
       "</tr>\n",
       "<tr>\n",
       "  <th>porch/deck</th>       <td>  252.4471</td> <td>   54.270</td> <td>    4.652</td> <td> 0.000</td> <td>  146.014</td> <td>  358.880</td>\n",
       "</tr>\n",
       "<tr>\n",
       "  <th>drive_Y</th>          <td> 9471.7205</td> <td> 2467.943</td> <td>    3.838</td> <td> 0.000</td> <td> 4631.624</td> <td> 1.43e+04</td>\n",
       "</tr>\n",
       "<tr>\n",
       "  <th>CA_Y</th>             <td> 8611.8745</td> <td> 2805.321</td> <td>    3.070</td> <td> 0.002</td> <td> 3110.116</td> <td> 1.41e+04</td>\n",
       "</tr>\n",
       "<tr>\n",
       "  <th>heat_Grav</th>        <td>-2.767e+04</td> <td> 1.21e+04</td> <td>   -2.288</td> <td> 0.022</td> <td>-5.14e+04</td> <td>-3955.769</td>\n",
       "</tr>\n",
       "<tr>\n",
       "  <th>heatqc_TA</th>        <td>-4208.1831</td> <td> 1509.323</td> <td>   -2.788</td> <td> 0.005</td> <td>-7168.248</td> <td>-1248.119</td>\n",
       "</tr>\n",
       "</table>\n",
       "<table class=\"simpletable\">\n",
       "<tr>\n",
       "  <th>Omnibus:</th>       <td>358.261</td> <th>  Durbin-Watson:     </th> <td>   2.002</td>\n",
       "</tr>\n",
       "<tr>\n",
       "  <th>Prob(Omnibus):</th> <td> 0.000</td>  <th>  Jarque-Bera (JB):  </th> <td>5489.038</td>\n",
       "</tr>\n",
       "<tr>\n",
       "  <th>Skew:</th>          <td> 0.381</td>  <th>  Prob(JB):          </th> <td>    0.00</td>\n",
       "</tr>\n",
       "<tr>\n",
       "  <th>Kurtosis:</th>      <td>11.148</td>  <th>  Cond. No.          </th> <td>1.79e+12</td>\n",
       "</tr>\n",
       "</table><br/><br/>Warnings:<br/>[1] Standard Errors assume that the covariance matrix of the errors is correctly specified.<br/>[2] The condition number is large, 1.79e+12. This might indicate that there are<br/>strong multicollinearity or other numerical problems."
      ],
      "text/plain": [
       "<class 'statsmodels.iolib.summary.Summary'>\n",
       "\"\"\"\n",
       "                            OLS Regression Results                            \n",
       "==============================================================================\n",
       "Dep. Variable:              saleprice   R-squared:                       0.894\n",
       "Model:                            OLS   Adj. R-squared:                  0.893\n",
       "Method:                 Least Squares   F-statistic:                     657.7\n",
       "Date:                Fri, 10 Apr 2020   Prob (F-statistic):               0.00\n",
       "Time:                        19:31:29   Log-Likelihood:                -22761.\n",
       "No. Observations:                1967   AIC:                         4.557e+04\n",
       "Df Residuals:                    1941   BIC:                         4.572e+04\n",
       "Df Model:                          25                                         \n",
       "Covariance Type:            nonrobust                                         \n",
       "====================================================================================\n",
       "                       coef    std err          t      P>|t|      [0.025      0.975]\n",
       "------------------------------------------------------------------------------------\n",
       "const             8.265e+05   1.34e+05      6.147      0.000    5.63e+05    1.09e+06\n",
       "overall_qual      5.594e+04   4365.727     12.814      0.000    4.74e+04    6.45e+04\n",
       "garage_area         26.4870      3.710      7.139      0.000      19.211      33.763\n",
       "mas_vnr_area        24.3965      4.041      6.037      0.000      16.472      32.321\n",
       "neighborhood_avg  1.673e+04   1697.104      9.856      0.000    1.34e+04    2.01e+04\n",
       "ext_Fa           -4.263e+04   7447.743     -5.723      0.000   -5.72e+04    -2.8e+04\n",
       "ext_Gd            -3.63e+04   3969.662     -9.145      0.000   -4.41e+04   -2.85e+04\n",
       "ext_TA           -4.025e+04   4488.650     -8.966      0.000    -4.9e+04   -3.14e+04\n",
       "base_Fa          -2.701e+04   4962.113     -5.444      0.000   -3.67e+04   -1.73e+04\n",
       "base_Gd          -2.833e+04   2745.249    -10.321      0.000   -3.37e+04    -2.3e+04\n",
       "base_TA          -2.306e+04   3361.349     -6.861      0.000   -2.97e+04   -1.65e+04\n",
       "kitch_Fa         -3.029e+04   5507.717     -5.500      0.000   -4.11e+04   -1.95e+04\n",
       "kitch_Gd         -2.736e+04   3057.381     -8.949      0.000   -3.34e+04   -2.14e+04\n",
       "kitch_TA         -3.116e+04   3457.784     -9.010      0.000   -3.79e+04   -2.44e+04\n",
       "bed_bath         -2922.9799    330.249     -8.851      0.000   -3570.661   -2275.299\n",
       "gr_liv_area_log  -1.022e+05   7287.556    -14.025      0.000   -1.16e+05   -8.79e+04\n",
       "built/remodel     5.111e-05   1.05e-05      4.851      0.000    3.04e-05    7.18e-05\n",
       "only_full_bath    1.558e+04   1321.478     11.788      0.000     1.3e+04    1.82e+04\n",
       "lot_area_log        12.9725      0.500     25.960      0.000      11.992      13.953\n",
       "year_remod/add    -291.9590     96.989     -3.010      0.003    -482.172    -101.746\n",
       "exterior_avg      6537.0720   2245.649      2.911      0.004    2132.935    1.09e+04\n",
       "porch/deck         252.4471     54.270      4.652      0.000     146.014     358.880\n",
       "drive_Y           9471.7205   2467.943      3.838      0.000    4631.624    1.43e+04\n",
       "CA_Y              8611.8745   2805.321      3.070      0.002    3110.116    1.41e+04\n",
       "heat_Grav        -2.767e+04   1.21e+04     -2.288      0.022   -5.14e+04   -3955.769\n",
       "heatqc_TA        -4208.1831   1509.323     -2.788      0.005   -7168.248   -1248.119\n",
       "==============================================================================\n",
       "Omnibus:                      358.261   Durbin-Watson:                   2.002\n",
       "Prob(Omnibus):                  0.000   Jarque-Bera (JB):             5489.038\n",
       "Skew:                           0.381   Prob(JB):                         0.00\n",
       "Kurtosis:                      11.148   Cond. No.                     1.79e+12\n",
       "==============================================================================\n",
       "\n",
       "Warnings:\n",
       "[1] Standard Errors assume that the covariance matrix of the errors is correctly specified.\n",
       "[2] The condition number is large, 1.79e+12. This might indicate that there are\n",
       "strong multicollinearity or other numerical problems.\n",
       "\"\"\""
      ]
     },
     "execution_count": 133,
     "metadata": {},
     "output_type": "execute_result"
    }
   ],
   "source": [
    "X_sm_3 = ames[features_6]\n",
    "y_sm_3 = ames['saleprice']  \n",
    "X_sm_3 = sm.add_constant(X_sm_3)\n",
    "model_sm_3 = sm.OLS(y_sm_3, X_sm_3).fit()\n",
    "model_sm_3.summary()"
   ]
  },
  {
   "cell_type": "markdown",
   "metadata": {},
   "source": [
    "Another improvement so pickeling to try on Kaggle:"
   ]
  },
  {
   "cell_type": "code",
   "execution_count": 134,
   "metadata": {},
   "outputs": [],
   "source": [
    "pickle.dump(model_6, open('../model/model_6.pkl', 'wb'))"
   ]
  },
  {
   "cell_type": "markdown",
   "metadata": {},
   "source": [
    "To give my test r2 score a boost, I'm going to try lasso with these features:"
   ]
  },
  {
   "cell_type": "markdown",
   "metadata": {},
   "source": [
    "Importing LASSO:"
   ]
  },
  {
   "cell_type": "code",
   "execution_count": 135,
   "metadata": {},
   "outputs": [],
   "source": [
    "from sklearn.linear_model import LassoCV"
   ]
  },
  {
   "cell_type": "markdown",
   "metadata": {},
   "source": [
    "Setting my features and splitting the data:"
   ]
  },
  {
   "cell_type": "code",
   "execution_count": 136,
   "metadata": {},
   "outputs": [],
   "source": [
    "X_6_L = ames[features_6]\n",
    "y_6_L = ames['saleprice']"
   ]
  },
  {
   "cell_type": "code",
   "execution_count": 137,
   "metadata": {},
   "outputs": [],
   "source": [
    "X_l_train, X_l_test, y_l_train, y_l_test = train_test_split(X_6_L, y_6_L, random_state = 21)"
   ]
  },
  {
   "cell_type": "markdown",
   "metadata": {},
   "source": [
    "To use LASSO, I'll need to scale my data:"
   ]
  },
  {
   "cell_type": "markdown",
   "metadata": {},
   "source": [
    "Instantiating and fitting the scaler:"
   ]
  },
  {
   "cell_type": "code",
   "execution_count": 138,
   "metadata": {},
   "outputs": [
    {
     "data": {
      "text/plain": [
       "StandardScaler(copy=True, with_mean=True, with_std=True)"
      ]
     },
     "execution_count": 138,
     "metadata": {},
     "output_type": "execute_result"
    }
   ],
   "source": [
    "ss = StandardScaler()\n",
    "ss.fit(X_l_train)"
   ]
  },
  {
   "cell_type": "markdown",
   "metadata": {},
   "source": [
    "Scaling the data:"
   ]
  },
  {
   "cell_type": "code",
   "execution_count": 139,
   "metadata": {},
   "outputs": [],
   "source": [
    "Z_train = ss.transform(X_l_train)\n",
    "Z_test = ss.transform(X_l_test)"
   ]
  },
  {
   "cell_type": "markdown",
   "metadata": {},
   "source": [
    "Setting the alphas, instantiating and fitting the model:"
   ]
  },
  {
   "cell_type": "code",
   "execution_count": 140,
   "metadata": {},
   "outputs": [],
   "source": [
    "alpha_l = np.logspace(-3, 3, 100)\n",
    "lasso_model = LassoCV(\n",
    "    alphas = alpha_l,\n",
    "    cv = 5\n",
    ")"
   ]
  },
  {
   "cell_type": "code",
   "execution_count": 141,
   "metadata": {},
   "outputs": [],
   "source": [
    "lasso_model.fit(Z_train, y_l_train);"
   ]
  },
  {
   "cell_type": "markdown",
   "metadata": {},
   "source": [
    "Creating predictions:"
   ]
  },
  {
   "cell_type": "code",
   "execution_count": 142,
   "metadata": {},
   "outputs": [],
   "source": [
    "predictions = lasso_model.predict(Z_train)"
   ]
  },
  {
   "cell_type": "markdown",
   "metadata": {},
   "source": [
    "Scoring the model:"
   ]
  },
  {
   "cell_type": "code",
   "execution_count": 143,
   "metadata": {},
   "outputs": [
    {
     "data": {
      "text/plain": [
       "'MSE: 629573690.5365498, RMSE: 25091.307071106316, MAE : 17393.777023225102'"
      ]
     },
     "execution_count": 143,
     "metadata": {},
     "output_type": "execute_result"
    }
   ],
   "source": [
    "find_metrics_2(X_l_train, y_l_train, X_l_test, y_l_test, lasso_model, predictions)"
   ]
  },
  {
   "cell_type": "code",
   "execution_count": 144,
   "metadata": {},
   "outputs": [
    {
     "name": "stdout",
     "output_type": "stream",
     "text": [
      "0.898136230834737\n",
      "0.8791049882093581\n"
     ]
    }
   ],
   "source": [
    "print(lasso_model.score(Z_train, y_l_train))\n",
    "print(lasso_model.score(Z_test, y_l_test))"
   ]
  },
  {
   "cell_type": "markdown",
   "metadata": {},
   "source": [
    "I'll also pickle this one to try it out on Kaggle:"
   ]
  },
  {
   "cell_type": "code",
   "execution_count": 145,
   "metadata": {},
   "outputs": [],
   "source": [
    "pickle.dump(lasso_model, open('../model/lasso_model_6.pkl', 'wb'))"
   ]
  },
  {
   "cell_type": "markdown",
   "metadata": {},
   "source": [
    "Pickling the scaler too..."
   ]
  },
  {
   "cell_type": "code",
   "execution_count": 146,
   "metadata": {},
   "outputs": [],
   "source": [
    "pickle.dump(ss, open('../assets/standard_scaler_6.pkl', 'wb'))"
   ]
  },
  {
   "cell_type": "markdown",
   "metadata": {},
   "source": [
    "## Model 7"
   ]
  },
  {
   "cell_type": "markdown",
   "metadata": {},
   "source": [
    "For my final model, I'm going to revisit some of the categories I created dummies for. Instead of creating separate columns I'm going to either assign it a value 1-5 if it's a quality or condition category or (similar to what I did with neighborhoods) assign it a value based on the average home price for that category:"
   ]
  },
  {
   "cell_type": "markdown",
   "metadata": {},
   "source": [
    "Creating dummy for kitchen quality:"
   ]
  },
  {
   "cell_type": "code",
   "execution_count": 147,
   "metadata": {},
   "outputs": [],
   "source": [
    "kitchens = list(ames['kitchen_qual'].unique())\n",
    "kitchens = sorted(kitchens)"
   ]
  },
  {
   "cell_type": "code",
   "execution_count": 148,
   "metadata": {},
   "outputs": [
    {
     "name": "stdout",
     "output_type": "stream",
     "text": [
      "['Ex', 'Fa', 'Gd', 'TA']\n"
     ]
    }
   ],
   "source": [
    "print(kitchens)"
   ]
  },
  {
   "cell_type": "code",
   "execution_count": 149,
   "metadata": {},
   "outputs": [],
   "source": [
    "kitchen_list = [5, 2, 4, 3]"
   ]
  },
  {
   "cell_type": "code",
   "execution_count": 150,
   "metadata": {},
   "outputs": [
    {
     "name": "stdout",
     "output_type": "stream",
     "text": [
      "{'Ex': 5, 'Fa': 2, 'Gd': 4, 'TA': 3}\n"
     ]
    }
   ],
   "source": [
    "kitchen_dict = {kitchen : num \n",
    "               for(kitchen, num) in zip(kitchens, kitchen_list)}\n",
    "print(kitchen_dict)"
   ]
  },
  {
   "cell_type": "code",
   "execution_count": 151,
   "metadata": {},
   "outputs": [],
   "source": [
    "#Adapted from Daniel Kim's potato example\n",
    "\n",
    "ames['kitchen_score'] = ames['kitchen_qual'].apply(lambda x: kitchen_dict[x])"
   ]
  },
  {
   "cell_type": "markdown",
   "metadata": {},
   "source": [
    "Creating dummy for basement quality:"
   ]
  },
  {
   "cell_type": "code",
   "execution_count": 152,
   "metadata": {},
   "outputs": [],
   "source": [
    "basements = list(ames['bsmt_qual'].unique())\n",
    "basements = sorted(basements)"
   ]
  },
  {
   "cell_type": "code",
   "execution_count": 153,
   "metadata": {},
   "outputs": [
    {
     "name": "stdout",
     "output_type": "stream",
     "text": [
      "['Ex', 'Fa', 'Gd', 'Po', 'TA']\n"
     ]
    }
   ],
   "source": [
    "print(basements)"
   ]
  },
  {
   "cell_type": "code",
   "execution_count": 154,
   "metadata": {},
   "outputs": [],
   "source": [
    "bsmt_list = [5, 2, 4, 1, 3]"
   ]
  },
  {
   "cell_type": "code",
   "execution_count": 155,
   "metadata": {},
   "outputs": [
    {
     "name": "stdout",
     "output_type": "stream",
     "text": [
      "{'Ex': 5, 'Fa': 2, 'Gd': 4, 'Po': 1, 'TA': 3}\n"
     ]
    }
   ],
   "source": [
    "bsmt_dict = {basement : num \n",
    "               for(basement, num) in zip(basements, bsmt_list)}\n",
    "print(bsmt_dict)"
   ]
  },
  {
   "cell_type": "code",
   "execution_count": 156,
   "metadata": {},
   "outputs": [],
   "source": [
    "ames['basement_score'] = ames['bsmt_qual'].apply(lambda x: bsmt_dict[x])"
   ]
  },
  {
   "cell_type": "markdown",
   "metadata": {},
   "source": [
    "Creating dummy for exterior quality:"
   ]
  },
  {
   "cell_type": "code",
   "execution_count": 157,
   "metadata": {},
   "outputs": [],
   "source": [
    "exts = list(ames['exter_qual'].unique())\n",
    "exts = sorted(exts)"
   ]
  },
  {
   "cell_type": "code",
   "execution_count": 158,
   "metadata": {},
   "outputs": [
    {
     "name": "stdout",
     "output_type": "stream",
     "text": [
      "['Ex', 'Fa', 'Gd', 'TA']\n"
     ]
    }
   ],
   "source": [
    "print(exts)"
   ]
  },
  {
   "cell_type": "code",
   "execution_count": 159,
   "metadata": {},
   "outputs": [],
   "source": [
    "ext_list = [5, 2, 4, 3]"
   ]
  },
  {
   "cell_type": "code",
   "execution_count": 160,
   "metadata": {},
   "outputs": [
    {
     "name": "stdout",
     "output_type": "stream",
     "text": [
      "{'Ex': 5, 'Fa': 2, 'Gd': 4, 'TA': 3}\n"
     ]
    }
   ],
   "source": [
    "ext_dict = {ext : num \n",
    "               for(ext, num) in zip(exts, ext_list)}\n",
    "print(ext_dict)"
   ]
  },
  {
   "cell_type": "code",
   "execution_count": 161,
   "metadata": {},
   "outputs": [],
   "source": [
    "ames['ext_score'] = ames['exter_qual'].apply(lambda x: ext_dict[x])"
   ]
  },
  {
   "cell_type": "markdown",
   "metadata": {},
   "source": [
    "Creating dummy for lot_config types:"
   ]
  },
  {
   "cell_type": "code",
   "execution_count": 162,
   "metadata": {},
   "outputs": [
    {
     "data": {
      "text/plain": [
       "lot_config\n",
       "FR2        176473.928571\n",
       "Inside     178822.085754\n",
       "Corner     181918.831325\n",
       "FR3        213550.000000\n",
       "CulDSac    233659.736000\n",
       "Name: saleprice, dtype: float64"
      ]
     },
     "execution_count": 162,
     "metadata": {},
     "output_type": "execute_result"
    }
   ],
   "source": [
    "ames.groupby('lot_config')['saleprice'].mean().sort_values()"
   ]
  },
  {
   "cell_type": "code",
   "execution_count": 163,
   "metadata": {},
   "outputs": [],
   "source": [
    "lot_dict = {'FR2':1.7, 'Inside': 1.7, 'Corner':1.8, 'FR3': 2.3, 'CulDSac':2.3 }\n",
    "ames['lot_config_score'] = ames['lot_config'].apply(lambda x: lot_dict[x])"
   ]
  },
  {
   "cell_type": "markdown",
   "metadata": {},
   "source": [
    "Creating dummy for utilities types:"
   ]
  },
  {
   "cell_type": "code",
   "execution_count": 164,
   "metadata": {},
   "outputs": [
    {
     "data": {
      "text/plain": [
       "utilities\n",
       "NoSeWa    137500.000000\n",
       "AllPub    182927.108342\n",
       "Name: saleprice, dtype: float64"
      ]
     },
     "execution_count": 164,
     "metadata": {},
     "output_type": "execute_result"
    }
   ],
   "source": [
    "ames.groupby('utilities')['saleprice'].mean().sort_values()"
   ]
  },
  {
   "cell_type": "code",
   "execution_count": 165,
   "metadata": {},
   "outputs": [],
   "source": [
    "uti_dict = {'NoSeWa':0, 'AllPub':1 }\n",
    "ames['utilities_score'] = ames['utilities'].apply(lambda x: uti_dict[x])"
   ]
  },
  {
   "cell_type": "markdown",
   "metadata": {},
   "source": [
    "Creating dummy for land contour types:"
   ]
  },
  {
   "cell_type": "code",
   "execution_count": 166,
   "metadata": {},
   "outputs": [
    {
     "data": {
      "text/plain": [
       "land_contour\n",
       "Bnk    143286.675676\n",
       "Lvl    180160.022612\n",
       "Low    210829.100000\n",
       "HLS    262294.488095\n",
       "Name: saleprice, dtype: float64"
      ]
     },
     "execution_count": 166,
     "metadata": {},
     "output_type": "execute_result"
    }
   ],
   "source": [
    "ames.groupby('land_contour')['saleprice'].mean().sort_values()"
   ]
  },
  {
   "cell_type": "code",
   "execution_count": 167,
   "metadata": {},
   "outputs": [],
   "source": [
    "land_dict = {'Bnk': 1.4, 'Lvl': 1.8, 'Low':2, 'HLS': 2.6 }\n",
    "ames['contour_score'] = ames['land_contour'].apply(lambda x: land_dict[x])"
   ]
  },
  {
   "cell_type": "markdown",
   "metadata": {},
   "source": [
    "Creating dummy for roof style types:"
   ]
  },
  {
   "cell_type": "code",
   "execution_count": 168,
   "metadata": {},
   "outputs": [
    {
     "data": {
      "text/plain": [
       "roof_style\n",
       "Gambrel    138208.333333\n",
       "Mansard    152642.857143\n",
       "Gable      172576.343042\n",
       "Flat       191613.076923\n",
       "Shed       208666.666667\n",
       "Hip        225575.645995\n",
       "Name: saleprice, dtype: float64"
      ]
     },
     "execution_count": 168,
     "metadata": {},
     "output_type": "execute_result"
    }
   ],
   "source": [
    "ames.groupby('roof_style')['saleprice'].mean().sort_values()"
   ]
  },
  {
   "cell_type": "code",
   "execution_count": 169,
   "metadata": {},
   "outputs": [],
   "source": [
    "roof_dict = {'Gambrel': 1.3, 'Mansard': 1.5, 'Gable': 1.7, 'Flat': 1.9, 'Shed': 2, 'Hip': 2.3}\n",
    "ames['roof_score'] = ames['roof_style'].apply(lambda x: roof_dict[x])"
   ]
  },
  {
   "cell_type": "markdown",
   "metadata": {},
   "source": [
    "Creating dummy for foundation types:"
   ]
  },
  {
   "cell_type": "code",
   "execution_count": 170,
   "metadata": {},
   "outputs": [
    {
     "data": {
      "text/plain": [
       "foundation\n",
       "BrkTil    129722.714286\n",
       "Stone     143235.200000\n",
       "CBlock    148855.992925\n",
       "Wood      173750.000000\n",
       "PConc     228300.344134\n",
       "Name: saleprice, dtype: float64"
      ]
     },
     "execution_count": 170,
     "metadata": {},
     "output_type": "execute_result"
    }
   ],
   "source": [
    "ames.groupby('foundation')['saleprice'].mean().sort_values()"
   ]
  },
  {
   "cell_type": "code",
   "execution_count": 171,
   "metadata": {},
   "outputs": [],
   "source": [
    "found_dict = {'BrkTil': 1.3, 'Stone': 1.4, 'CBlock': 1.4, 'Wood': 1.7, 'PConc': 2.3}\n",
    "ames['found_score'] = ames['foundation'].apply(lambda x: found_dict[x])"
   ]
  },
  {
   "cell_type": "markdown",
   "metadata": {},
   "source": [
    "Creating dummy for electrical types:"
   ]
  },
  {
   "cell_type": "code",
   "execution_count": 172,
   "metadata": {},
   "outputs": [
    {
     "data": {
      "text/plain": [
       "electrical\n",
       "Mix       67000.000000\n",
       "FuseP     83733.333333\n",
       "FuseF    108377.214286\n",
       "FuseA    125982.398438\n",
       "SBrkr    188493.617517\n",
       "Name: saleprice, dtype: float64"
      ]
     },
     "execution_count": 172,
     "metadata": {},
     "output_type": "execute_result"
    }
   ],
   "source": [
    "ames.groupby('electrical')['saleprice'].mean().sort_values()"
   ]
  },
  {
   "cell_type": "code",
   "execution_count": 173,
   "metadata": {},
   "outputs": [],
   "source": [
    "elc_dict = {'Mix': .5, 'FuseP': .5, 'FuseF': 1, 'FuseA': 1, 'SBrkr': 2}\n",
    "ames['elec_score'] = ames['electrical'].apply(lambda x: elc_dict[x])"
   ]
  },
  {
   "cell_type": "markdown",
   "metadata": {},
   "source": [
    "Creating dummy for street types:"
   ]
  },
  {
   "cell_type": "code",
   "execution_count": 174,
   "metadata": {},
   "outputs": [
    {
     "data": {
      "text/plain": [
       "street\n",
       "Grvl     91780.833333\n",
       "Pave    183182.819990\n",
       "Name: saleprice, dtype: float64"
      ]
     },
     "execution_count": 174,
     "metadata": {},
     "output_type": "execute_result"
    }
   ],
   "source": [
    "ames.groupby('street')['saleprice'].mean().sort_values()"
   ]
  },
  {
   "cell_type": "code",
   "execution_count": 175,
   "metadata": {},
   "outputs": [],
   "source": [
    "street_dict = {'Grvl': 0, 'Pave': 1}\n",
    "ames['street_score'] = ames['street'].apply(lambda x: street_dict[x])"
   ]
  },
  {
   "cell_type": "markdown",
   "metadata": {},
   "source": [
    "Creating dummy for condition_1 types:"
   ]
  },
  {
   "cell_type": "code",
   "execution_count": 176,
   "metadata": {},
   "outputs": [
    {
     "data": {
      "text/plain": [
       "condition_1\n",
       "Artery    129441.911765\n",
       "RRNe      129616.666667\n",
       "RRAe      141070.000000\n",
       "Feedr     143138.163265\n",
       "RRAn      167248.393939\n",
       "Norm      186522.154118\n",
       "RRNn      198208.333333\n",
       "PosA      254733.333333\n",
       "PosN      254794.296296\n",
       "Name: saleprice, dtype: float64"
      ]
     },
     "execution_count": 176,
     "metadata": {},
     "output_type": "execute_result"
    }
   ],
   "source": [
    "ames.groupby('condition_1')['saleprice'].mean().sort_values()"
   ]
  },
  {
   "cell_type": "markdown",
   "metadata": {},
   "source": [
    "Creating dummy for condition_2 types:"
   ]
  },
  {
   "cell_type": "code",
   "execution_count": 177,
   "metadata": {},
   "outputs": [
    {
     "data": {
      "text/plain": [
       "condition_2\n",
       "RRNn       96750.000000\n",
       "Artery    119050.000000\n",
       "Feedr     129181.818182\n",
       "RRAn      136905.000000\n",
       "Norm      182831.808346\n",
       "RRAe      190000.000000\n",
       "PosA      390666.666667\n",
       "PosN      395666.666667\n",
       "Name: saleprice, dtype: float64"
      ]
     },
     "execution_count": 177,
     "metadata": {},
     "output_type": "execute_result"
    }
   ],
   "source": [
    "ames.groupby('condition_2')['saleprice'].mean().sort_values()"
   ]
  },
  {
   "cell_type": "code",
   "execution_count": 178,
   "metadata": {},
   "outputs": [],
   "source": [
    "cond2_dict = {'RRNn': .9, 'Artery': 1.2, 'Feedr': 1.3, 'RRAn': 1.3, 'Norm': 1.8, 'RRAe': 1.9, 'PosA': 3.9, 'PosN': 3.9}\n",
    "ames['cond2_score'] = ames['condition_2'].apply(lambda x: cond2_dict[x])\n"
   ]
  },
  {
   "cell_type": "markdown",
   "metadata": {},
   "source": [
    "Creating dummy for masonry veneer types:"
   ]
  },
  {
   "cell_type": "code",
   "execution_count": 179,
   "metadata": {},
   "outputs": [
    {
     "data": {
      "text/plain": [
       "mas_vnr_type\n",
       "BrkCmn     149683.666667\n",
       "None       155725.528302\n",
       "BrkFace    212583.956661\n",
       "Stone      264820.602410\n",
       "Name: saleprice, dtype: float64"
      ]
     },
     "execution_count": 179,
     "metadata": {},
     "output_type": "execute_result"
    }
   ],
   "source": [
    "ames.groupby('mas_vnr_type')['saleprice'].mean().sort_values()"
   ]
  },
  {
   "cell_type": "code",
   "execution_count": 180,
   "metadata": {},
   "outputs": [],
   "source": [
    "mas_dict = {'BrkCmn': 1.5, 'None':1.5, 'BrkFace':2, 'Stone': 2.6}\n",
    "ames['mas_score'] = ames['mas_vnr_type'].apply(lambda x: mas_dict[x])"
   ]
  },
  {
   "cell_type": "markdown",
   "metadata": {},
   "source": [
    "Creating dummy for fireplaces:"
   ]
  },
  {
   "cell_type": "code",
   "execution_count": 181,
   "metadata": {},
   "outputs": [
    {
     "data": {
      "text/plain": [
       "fireplaces\n",
       "0    143693.221987\n",
       "1    215567.888889\n",
       "2    240414.014085\n",
       "3    249770.000000\n",
       "4    260000.000000\n",
       "Name: saleprice, dtype: float64"
      ]
     },
     "execution_count": 181,
     "metadata": {},
     "output_type": "execute_result"
    }
   ],
   "source": [
    "ames.groupby('fireplaces')['saleprice'].mean().sort_values()"
   ]
  },
  {
   "cell_type": "code",
   "execution_count": 182,
   "metadata": {},
   "outputs": [],
   "source": [
    "fire_dict = {0:0, 1:1, 2:1, 3:1, 4:1}\n",
    "ames['fire'] = ames['fireplaces'].apply(lambda x: fire_dict[x])"
   ]
  },
  {
   "cell_type": "markdown",
   "metadata": {},
   "source": [
    "Creating dummy for sale type types:"
   ]
  },
  {
   "cell_type": "code",
   "execution_count": 183,
   "metadata": {},
   "outputs": [
    {
     "data": {
      "text/plain": [
       "sale_type\n",
       "ConLw    124600.000000\n",
       "Oth      127497.750000\n",
       "COD      133696.693548\n",
       "ConLD    139302.333333\n",
       "WD       176620.115317\n",
       "CWD      186635.000000\n",
       "ConLI    207992.857143\n",
       "Con      241807.500000\n",
       "New      281726.801370\n",
       "Name: saleprice, dtype: float64"
      ]
     },
     "execution_count": 183,
     "metadata": {},
     "output_type": "execute_result"
    }
   ],
   "source": [
    "ames.groupby('sale_type')['saleprice'].mean().sort_values()"
   ]
  },
  {
   "cell_type": "code",
   "execution_count": 184,
   "metadata": {},
   "outputs": [],
   "source": [
    "saletype_dict = {'ConLw': 1.2, 'Oth': 1.2, 'COD': 1.3, 'ConLD': 1.4, \n",
    "                 'WD ': 1.7, 'CWD': 1.8, 'ConLI': 2, 'Con': 2.4, 'New': 2.8}\n",
    "ames['sale_score'] = ames['sale_type'].apply(lambda x: saletype_dict[x])\n",
    "\n",
    "\n"
   ]
  },
  {
   "cell_type": "markdown",
   "metadata": {},
   "source": [
    "Creating dummy for building types:"
   ]
  },
  {
   "cell_type": "code",
   "execution_count": 185,
   "metadata": {},
   "outputs": [
    {
     "data": {
      "text/plain": [
       "bldg_type\n",
       "2fmCon    125114.204545\n",
       "Twnhs     133100.000000\n",
       "Duplex    151622.745455\n",
       "1Fam      186138.407678\n",
       "TwnhsE    198043.620253\n",
       "Name: saleprice, dtype: float64"
      ]
     },
     "execution_count": 185,
     "metadata": {},
     "output_type": "execute_result"
    }
   ],
   "source": [
    "ames.groupby('bldg_type')['saleprice'].mean().sort_values()"
   ]
  },
  {
   "cell_type": "code",
   "execution_count": 186,
   "metadata": {},
   "outputs": [],
   "source": [
    "bldg_dict = {'2fmCon':1.2, 'Twnhs':1.3, 'Duplex': 1.5, '1Fam': 1.8, 'TwnhsE': 1.9}\n",
    "ames['bldg_score'] = ames['bldg_type'].apply(lambda x: bldg_dict[x])"
   ]
  },
  {
   "cell_type": "markdown",
   "metadata": {},
   "source": [
    "Building Model #7:"
   ]
  },
  {
   "cell_type": "code",
   "execution_count": 187,
   "metadata": {},
   "outputs": [],
   "source": [
    "features_7 = ['overall_qual',\n",
    " 'garage_area',\n",
    " 'mas_vnr_area',\n",
    " 'neighborhood_avg',\n",
    " 'bed_bath',\n",
    " 'gr_liv_area',\n",
    " 'built/remodel',\n",
    " 'lot_area_log',\n",
    "'porch/deck',\n",
    " 'kitchen_score',\n",
    "'basement_score',\n",
    "'ext_score',\n",
    "'bsmtfin_sf_1',\n",
    "'total_bsmt_sf',\n",
    "'overall_cond',      \n",
    "'lot_area',    \n",
    "'contour_score', \n",
    "'roof_score', \n",
    "'found_score',         \n",
    "'cond2_score',\n",
    "'fire',\n",
    "'sale_score']\n"
   ]
  },
  {
   "cell_type": "code",
   "execution_count": 188,
   "metadata": {},
   "outputs": [],
   "source": [
    "X_7 = ames[features_7]\n",
    "y_7 = ames['saleprice']"
   ]
  },
  {
   "cell_type": "code",
   "execution_count": 189,
   "metadata": {},
   "outputs": [],
   "source": [
    "X_7_train, X_7_test, y_7_train, y_7_test = train_test_split(X_7, y_7, random_state = 21)"
   ]
  },
  {
   "cell_type": "code",
   "execution_count": 190,
   "metadata": {},
   "outputs": [],
   "source": [
    "y_7_train_log = np.log(y_7_train)\n",
    "y_7_test_log = np.log(y_7_test)"
   ]
  },
  {
   "cell_type": "markdown",
   "metadata": {},
   "source": [
    "Instantiating and fitting the model:"
   ]
  },
  {
   "cell_type": "code",
   "execution_count": 191,
   "metadata": {},
   "outputs": [],
   "source": [
    "model_7 = LinearRegression()"
   ]
  },
  {
   "cell_type": "code",
   "execution_count": 192,
   "metadata": {},
   "outputs": [
    {
     "data": {
      "text/plain": [
       "LinearRegression(copy_X=True, fit_intercept=True, n_jobs=None, normalize=False)"
      ]
     },
     "execution_count": 192,
     "metadata": {},
     "output_type": "execute_result"
    }
   ],
   "source": [
    "model_7.fit(X_7_train, y_7_train_log)"
   ]
  },
  {
   "cell_type": "markdown",
   "metadata": {},
   "source": [
    "Creating predictions and visualizing the results:"
   ]
  },
  {
   "cell_type": "code",
   "execution_count": 193,
   "metadata": {},
   "outputs": [],
   "source": [
    "y_pred_7_log = model_7.predict(X_7_train)\n",
    "y_pred_7 = np.exp(y_pred_7_log)"
   ]
  },
  {
   "cell_type": "code",
   "execution_count": 194,
   "metadata": {},
   "outputs": [
    {
     "data": {
      "text/plain": [
       "Text(0, 0.5, 'Actual Price')"
      ]
     },
     "execution_count": 194,
     "metadata": {},
     "output_type": "execute_result"
    },
    {
     "data": {
      "image/png": "[encoded data removed]",
      "text/plain": [
       "<Figure size 432x288 with 1 Axes>"
      ]
     },
     "metadata": {
      "needs_background": "light"
     },
     "output_type": "display_data"
    }
   ],
   "source": [
    "plt.scatter(y_pred_7, y_7_train)\n",
    "plt.title('Model 7: Predicted Price vs Actual Price')\n",
    "plt.xlabel('Predicted Price')\n",
    "plt.ylabel('Actual Price')"
   ]
  },
  {
   "cell_type": "markdown",
   "metadata": {},
   "source": [
    "Score the model:"
   ]
  },
  {
   "cell_type": "code",
   "execution_count": 195,
   "metadata": {},
   "outputs": [
    {
     "data": {
      "text/plain": [
       "'MSE: 434523818.6174986, RMSE: 20845.23491394373, MAE : 14593.29179273477'"
      ]
     },
     "execution_count": 195,
     "metadata": {},
     "output_type": "execute_result"
    }
   ],
   "source": [
    "find_metrics_2(X_7_train, y_7_train, X_7_test, y_7_test, model_7, y_pred_7)"
   ]
  },
  {
   "cell_type": "code",
   "execution_count": 196,
   "metadata": {},
   "outputs": [
    {
     "data": {
      "text/plain": [
       "0.9089102564290833"
      ]
     },
     "execution_count": 196,
     "metadata": {},
     "output_type": "execute_result"
    }
   ],
   "source": [
    "model_7.score(X_7_train, y_7_train_log)"
   ]
  },
  {
   "cell_type": "code",
   "execution_count": 197,
   "metadata": {},
   "outputs": [
    {
     "data": {
      "text/plain": [
       "0.880691898266243"
      ]
     },
     "execution_count": 197,
     "metadata": {},
     "output_type": "execute_result"
    }
   ],
   "source": [
    "model_7.score(X_7_test, y_7_test_log)"
   ]
  },
  {
   "cell_type": "code",
   "execution_count": 198,
   "metadata": {},
   "outputs": [
    {
     "data": {
      "text/html": [
       "<table class=\"simpletable\">\n",
       "<caption>OLS Regression Results</caption>\n",
       "<tr>\n",
       "  <th>Dep. Variable:</th>        <td>saleprice</td>    <th>  R-squared:         </th> <td>   0.899</td> \n",
       "</tr>\n",
       "<tr>\n",
       "  <th>Model:</th>                   <td>OLS</td>       <th>  Adj. R-squared:    </th> <td>   0.898</td> \n",
       "</tr>\n",
       "<tr>\n",
       "  <th>Method:</th>             <td>Least Squares</td>  <th>  F-statistic:       </th> <td>   783.6</td> \n",
       "</tr>\n",
       "<tr>\n",
       "  <th>Date:</th>             <td>Fri, 10 Apr 2020</td> <th>  Prob (F-statistic):</th>  <td>  0.00</td>  \n",
       "</tr>\n",
       "<tr>\n",
       "  <th>Time:</th>                 <td>19:31:30</td>     <th>  Log-Likelihood:    </th> <td> -22721.</td> \n",
       "</tr>\n",
       "<tr>\n",
       "  <th>No. Observations:</th>      <td>  1967</td>      <th>  AIC:               </th> <td>4.549e+04</td>\n",
       "</tr>\n",
       "<tr>\n",
       "  <th>Df Residuals:</th>          <td>  1944</td>      <th>  BIC:               </th> <td>4.562e+04</td>\n",
       "</tr>\n",
       "<tr>\n",
       "  <th>Df Model:</th>              <td>    22</td>      <th>                     </th>     <td> </td>    \n",
       "</tr>\n",
       "<tr>\n",
       "  <th>Covariance Type:</th>      <td>nonrobust</td>    <th>                     </th>     <td> </td>    \n",
       "</tr>\n",
       "</table>\n",
       "<table class=\"simpletable\">\n",
       "<tr>\n",
       "          <td></td>            <th>coef</th>     <th>std err</th>      <th>t</th>      <th>P>|t|</th>  <th>[0.025</th>    <th>0.975]</th>  \n",
       "</tr>\n",
       "<tr>\n",
       "  <th>const</th>            <td>-3.344e+05</td> <td>    3e+04</td> <td>  -11.157</td> <td> 0.000</td> <td>-3.93e+05</td> <td>-2.76e+05</td>\n",
       "</tr>\n",
       "<tr>\n",
       "  <th>overall_qual</th>     <td> 3.447e+04</td> <td> 4260.526</td> <td>    8.090</td> <td> 0.000</td> <td> 2.61e+04</td> <td> 4.28e+04</td>\n",
       "</tr>\n",
       "<tr>\n",
       "  <th>garage_area</th>      <td>   19.3724</td> <td>    3.634</td> <td>    5.330</td> <td> 0.000</td> <td>   12.245</td> <td>   26.500</td>\n",
       "</tr>\n",
       "<tr>\n",
       "  <th>mas_vnr_area</th>     <td>   30.8492</td> <td>    3.925</td> <td>    7.860</td> <td> 0.000</td> <td>   23.152</td> <td>   38.546</td>\n",
       "</tr>\n",
       "<tr>\n",
       "  <th>neighborhood_avg</th> <td>  1.74e+04</td> <td> 1649.003</td> <td>   10.554</td> <td> 0.000</td> <td> 1.42e+04</td> <td> 2.06e+04</td>\n",
       "</tr>\n",
       "<tr>\n",
       "  <th>bed_bath</th>         <td> -655.2880</td> <td>  253.645</td> <td>   -2.583</td> <td> 0.010</td> <td>-1152.734</td> <td> -157.842</td>\n",
       "</tr>\n",
       "<tr>\n",
       "  <th>gr_liv_area</th>      <td>  -89.6462</td> <td>   13.714</td> <td>   -6.537</td> <td> 0.000</td> <td> -116.542</td> <td>  -62.750</td>\n",
       "</tr>\n",
       "<tr>\n",
       "  <th>built/remodel</th>    <td> 6.581e-06</td> <td> 4.22e-06</td> <td>    1.561</td> <td> 0.119</td> <td>-1.69e-06</td> <td> 1.48e-05</td>\n",
       "</tr>\n",
       "<tr>\n",
       "  <th>lot_area_log</th>     <td>   15.1498</td> <td>    1.443</td> <td>   10.500</td> <td> 0.000</td> <td>   12.320</td> <td>   17.979</td>\n",
       "</tr>\n",
       "<tr>\n",
       "  <th>porch/deck</th>       <td>  105.5903</td> <td>   52.945</td> <td>    1.994</td> <td> 0.046</td> <td>    1.755</td> <td>  209.425</td>\n",
       "</tr>\n",
       "<tr>\n",
       "  <th>kitchen_score</th>    <td> 9373.6477</td> <td> 1386.826</td> <td>    6.759</td> <td> 0.000</td> <td> 6653.824</td> <td> 1.21e+04</td>\n",
       "</tr>\n",
       "<tr>\n",
       "  <th>basement_score</th>   <td> 8825.1889</td> <td> 1418.230</td> <td>    6.223</td> <td> 0.000</td> <td> 6043.777</td> <td> 1.16e+04</td>\n",
       "</tr>\n",
       "<tr>\n",
       "  <th>ext_score</th>        <td> 1.308e+04</td> <td> 1742.505</td> <td>    7.505</td> <td> 0.000</td> <td> 9660.383</td> <td> 1.65e+04</td>\n",
       "</tr>\n",
       "<tr>\n",
       "  <th>bsmtfin_sf_1</th>     <td>   24.0941</td> <td>    1.609</td> <td>   14.973</td> <td> 0.000</td> <td>   20.938</td> <td>   27.250</td>\n",
       "</tr>\n",
       "<tr>\n",
       "  <th>total_bsmt_sf</th>    <td>   20.2654</td> <td>    2.120</td> <td>    9.560</td> <td> 0.000</td> <td>   16.108</td> <td>   24.423</td>\n",
       "</tr>\n",
       "<tr>\n",
       "  <th>overall_cond</th>     <td> 5184.7517</td> <td>  587.130</td> <td>    8.831</td> <td> 0.000</td> <td> 4033.281</td> <td> 6336.222</td>\n",
       "</tr>\n",
       "<tr>\n",
       "  <th>lot_area</th>         <td>   -0.4335</td> <td>    0.151</td> <td>   -2.862</td> <td> 0.004</td> <td>   -0.731</td> <td>   -0.136</td>\n",
       "</tr>\n",
       "<tr>\n",
       "  <th>contour_score</th>    <td> 1.875e+04</td> <td> 3220.564</td> <td>    5.821</td> <td> 0.000</td> <td> 1.24e+04</td> <td> 2.51e+04</td>\n",
       "</tr>\n",
       "<tr>\n",
       "  <th>roof_score</th>       <td> 1.132e+04</td> <td> 2560.032</td> <td>    4.421</td> <td> 0.000</td> <td> 6298.200</td> <td> 1.63e+04</td>\n",
       "</tr>\n",
       "<tr>\n",
       "  <th>found_score</th>      <td> 5238.5720</td> <td> 1991.421</td> <td>    2.631</td> <td> 0.009</td> <td> 1333.028</td> <td> 9144.116</td>\n",
       "</tr>\n",
       "<tr>\n",
       "  <th>cond2_score</th>      <td> 1.171e+04</td> <td> 4515.557</td> <td>    2.594</td> <td> 0.010</td> <td> 2857.955</td> <td> 2.06e+04</td>\n",
       "</tr>\n",
       "<tr>\n",
       "  <th>fire</th>             <td> 5073.2489</td> <td> 1361.246</td> <td>    3.727</td> <td> 0.000</td> <td> 2403.594</td> <td> 7742.904</td>\n",
       "</tr>\n",
       "<tr>\n",
       "  <th>sale_score</th>       <td> 1.952e+04</td> <td> 2097.400</td> <td>    9.309</td> <td> 0.000</td> <td> 1.54e+04</td> <td> 2.36e+04</td>\n",
       "</tr>\n",
       "</table>\n",
       "<table class=\"simpletable\">\n",
       "<tr>\n",
       "  <th>Omnibus:</th>       <td>433.634</td> <th>  Durbin-Watson:     </th> <td>   2.015</td>\n",
       "</tr>\n",
       "<tr>\n",
       "  <th>Prob(Omnibus):</th> <td> 0.000</td>  <th>  Jarque-Bera (JB):  </th> <td>5554.978</td>\n",
       "</tr>\n",
       "<tr>\n",
       "  <th>Skew:</th>          <td> 0.661</td>  <th>  Prob(JB):          </th> <td>    0.00</td>\n",
       "</tr>\n",
       "<tr>\n",
       "  <th>Kurtosis:</th>      <td>11.126</td>  <th>  Cond. No.          </th> <td>4.09e+11</td>\n",
       "</tr>\n",
       "</table><br/><br/>Warnings:<br/>[1] Standard Errors assume that the covariance matrix of the errors is correctly specified.<br/>[2] The condition number is large, 4.09e+11. This might indicate that there are<br/>strong multicollinearity or other numerical problems."
      ],
      "text/plain": [
       "<class 'statsmodels.iolib.summary.Summary'>\n",
       "\"\"\"\n",
       "                            OLS Regression Results                            \n",
       "==============================================================================\n",
       "Dep. Variable:              saleprice   R-squared:                       0.899\n",
       "Model:                            OLS   Adj. R-squared:                  0.898\n",
       "Method:                 Least Squares   F-statistic:                     783.6\n",
       "Date:                Fri, 10 Apr 2020   Prob (F-statistic):               0.00\n",
       "Time:                        19:31:30   Log-Likelihood:                -22721.\n",
       "No. Observations:                1967   AIC:                         4.549e+04\n",
       "Df Residuals:                    1944   BIC:                         4.562e+04\n",
       "Df Model:                          22                                         \n",
       "Covariance Type:            nonrobust                                         \n",
       "====================================================================================\n",
       "                       coef    std err          t      P>|t|      [0.025      0.975]\n",
       "------------------------------------------------------------------------------------\n",
       "const            -3.344e+05      3e+04    -11.157      0.000   -3.93e+05   -2.76e+05\n",
       "overall_qual      3.447e+04   4260.526      8.090      0.000    2.61e+04    4.28e+04\n",
       "garage_area         19.3724      3.634      5.330      0.000      12.245      26.500\n",
       "mas_vnr_area        30.8492      3.925      7.860      0.000      23.152      38.546\n",
       "neighborhood_avg   1.74e+04   1649.003     10.554      0.000    1.42e+04    2.06e+04\n",
       "bed_bath          -655.2880    253.645     -2.583      0.010   -1152.734    -157.842\n",
       "gr_liv_area        -89.6462     13.714     -6.537      0.000    -116.542     -62.750\n",
       "built/remodel     6.581e-06   4.22e-06      1.561      0.119   -1.69e-06    1.48e-05\n",
       "lot_area_log        15.1498      1.443     10.500      0.000      12.320      17.979\n",
       "porch/deck         105.5903     52.945      1.994      0.046       1.755     209.425\n",
       "kitchen_score     9373.6477   1386.826      6.759      0.000    6653.824    1.21e+04\n",
       "basement_score    8825.1889   1418.230      6.223      0.000    6043.777    1.16e+04\n",
       "ext_score         1.308e+04   1742.505      7.505      0.000    9660.383    1.65e+04\n",
       "bsmtfin_sf_1        24.0941      1.609     14.973      0.000      20.938      27.250\n",
       "total_bsmt_sf       20.2654      2.120      9.560      0.000      16.108      24.423\n",
       "overall_cond      5184.7517    587.130      8.831      0.000    4033.281    6336.222\n",
       "lot_area            -0.4335      0.151     -2.862      0.004      -0.731      -0.136\n",
       "contour_score     1.875e+04   3220.564      5.821      0.000    1.24e+04    2.51e+04\n",
       "roof_score        1.132e+04   2560.032      4.421      0.000    6298.200    1.63e+04\n",
       "found_score       5238.5720   1991.421      2.631      0.009    1333.028    9144.116\n",
       "cond2_score       1.171e+04   4515.557      2.594      0.010    2857.955    2.06e+04\n",
       "fire              5073.2489   1361.246      3.727      0.000    2403.594    7742.904\n",
       "sale_score        1.952e+04   2097.400      9.309      0.000    1.54e+04    2.36e+04\n",
       "==============================================================================\n",
       "Omnibus:                      433.634   Durbin-Watson:                   2.015\n",
       "Prob(Omnibus):                  0.000   Jarque-Bera (JB):             5554.978\n",
       "Skew:                           0.661   Prob(JB):                         0.00\n",
       "Kurtosis:                      11.126   Cond. No.                     4.09e+11\n",
       "==============================================================================\n",
       "\n",
       "Warnings:\n",
       "[1] Standard Errors assume that the covariance matrix of the errors is correctly specified.\n",
       "[2] The condition number is large, 4.09e+11. This might indicate that there are\n",
       "strong multicollinearity or other numerical problems.\n",
       "\"\"\""
      ]
     },
     "execution_count": 198,
     "metadata": {},
     "output_type": "execute_result"
    }
   ],
   "source": [
    "X_sm_4 = ames[features_7]\n",
    "y_sm_4 = ames['saleprice']  \n",
    "X_sm_4 = sm.add_constant(X_sm_4)\n",
    "model_sm_4 = sm.OLS(y_sm_4, X_sm_4).fit()\n",
    "model_sm_4.summary()"
   ]
  },
  {
   "cell_type": "markdown",
   "metadata": {},
   "source": [
    "This one is the best yet so pickling to try it out with the Kaggle data:"
   ]
  },
  {
   "cell_type": "code",
   "execution_count": 199,
   "metadata": {},
   "outputs": [],
   "source": [
    "pickle.dump(model_7, open('../model/linear_model_7.pkl', 'wb'))"
   ]
  }
 ],
 "metadata": {
  "kernelspec": {
   "display_name": "Python 3",
   "language": "python",
   "name": "python3"
  },
  "language_info": {
   "codemirror_mode": {
    "name": "ipython",
    "version": 3
   },
   "file_extension": ".py",
   "mimetype": "text/x-python",
   "name": "python",
   "nbconvert_exporter": "python",
   "pygments_lexer": "ipython3",
   "version": "3.7.6"
  }
 },
 "nbformat": 4,
 "nbformat_minor": 4
}
