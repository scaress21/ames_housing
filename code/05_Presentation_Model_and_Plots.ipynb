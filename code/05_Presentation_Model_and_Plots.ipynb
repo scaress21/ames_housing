{
 "cells": [
  {
   "cell_type": "markdown",
   "metadata": {},
   "source": [
    "# Ames Housing Data and Kaggle Challenge\n",
    "### Part 5: Presentation Model and Plots\n",
    "\n",
    "I wanted to focus my presentation on inference rather than prediction, however the model I've been using for Kaggle has grown to be quite complex. In this notebook, I will create a new model that is simpler and lends itself inference. I'll also conduct a bit more EDA and generate the plots for my presentation."
   ]
  },
  {
   "cell_type": "code",
   "execution_count": 1,
   "metadata": {},
   "outputs": [],
   "source": [
    "import pandas as pd\n",
    "import numpy as np\n",
    "import seaborn as sns\n",
    "from sklearn.model_selection import train_test_split, cross_val_score\n",
    "from sklearn.linear_model import LinearRegression\n",
    "from sklearn.preprocessing import StandardScaler, PolynomialFeatures\n",
    "import matplotlib.pyplot as plt\n",
    "from sklearn import metrics\n",
    "import pickle\n",
    "import statsmodels.api as sm"
   ]
  },
  {
   "cell_type": "markdown",
   "metadata": {},
   "source": [
    "Import my cleaned data:"
   ]
  },
  {
   "cell_type": "code",
   "execution_count": 2,
   "metadata": {},
   "outputs": [],
   "source": [
    "ames = pd.read_csv('../datasets/ames_housing_cleaned.csv')"
   ]
  },
  {
   "cell_type": "code",
   "execution_count": 3,
   "metadata": {},
   "outputs": [
    {
     "data": {
      "text/html": [
       "<div>\n",
       "<style scoped>\n",
       "    .dataframe tbody tr th:only-of-type {\n",
       "        vertical-align: middle;\n",
       "    }\n",
       "\n",
       "    .dataframe tbody tr th {\n",
       "        vertical-align: top;\n",
       "    }\n",
       "\n",
       "    .dataframe thead th {\n",
       "        text-align: right;\n",
       "    }\n",
       "</style>\n",
       "<table border=\"1\" class=\"dataframe\">\n",
       "  <thead>\n",
       "    <tr style=\"text-align: right;\">\n",
       "      <th></th>\n",
       "      <th>id</th>\n",
       "      <th>pid</th>\n",
       "      <th>ms_subclass</th>\n",
       "      <th>ms_zoning</th>\n",
       "      <th>lot_area</th>\n",
       "      <th>street</th>\n",
       "      <th>lot_shape</th>\n",
       "      <th>land_contour</th>\n",
       "      <th>utilities</th>\n",
       "      <th>lot_config</th>\n",
       "      <th>...</th>\n",
       "      <th>open_porch_sf</th>\n",
       "      <th>enclosed_porch</th>\n",
       "      <th>3ssn_porch</th>\n",
       "      <th>screen_porch</th>\n",
       "      <th>pool_area</th>\n",
       "      <th>misc_val</th>\n",
       "      <th>mo_sold</th>\n",
       "      <th>yr_sold</th>\n",
       "      <th>sale_type</th>\n",
       "      <th>saleprice</th>\n",
       "    </tr>\n",
       "  </thead>\n",
       "  <tbody>\n",
       "    <tr>\n",
       "      <th>0</th>\n",
       "      <td>109</td>\n",
       "      <td>533352170</td>\n",
       "      <td>60</td>\n",
       "      <td>RL</td>\n",
       "      <td>13517</td>\n",
       "      <td>Pave</td>\n",
       "      <td>IR1</td>\n",
       "      <td>Lvl</td>\n",
       "      <td>AllPub</td>\n",
       "      <td>CulDSac</td>\n",
       "      <td>...</td>\n",
       "      <td>44</td>\n",
       "      <td>0</td>\n",
       "      <td>0</td>\n",
       "      <td>0</td>\n",
       "      <td>0</td>\n",
       "      <td>0</td>\n",
       "      <td>3</td>\n",
       "      <td>2010</td>\n",
       "      <td>WD</td>\n",
       "      <td>130500</td>\n",
       "    </tr>\n",
       "    <tr>\n",
       "      <th>1</th>\n",
       "      <td>544</td>\n",
       "      <td>531379050</td>\n",
       "      <td>60</td>\n",
       "      <td>RL</td>\n",
       "      <td>11492</td>\n",
       "      <td>Pave</td>\n",
       "      <td>IR1</td>\n",
       "      <td>Lvl</td>\n",
       "      <td>AllPub</td>\n",
       "      <td>CulDSac</td>\n",
       "      <td>...</td>\n",
       "      <td>74</td>\n",
       "      <td>0</td>\n",
       "      <td>0</td>\n",
       "      <td>0</td>\n",
       "      <td>0</td>\n",
       "      <td>0</td>\n",
       "      <td>4</td>\n",
       "      <td>2009</td>\n",
       "      <td>WD</td>\n",
       "      <td>220000</td>\n",
       "    </tr>\n",
       "    <tr>\n",
       "      <th>2</th>\n",
       "      <td>153</td>\n",
       "      <td>535304180</td>\n",
       "      <td>20</td>\n",
       "      <td>RL</td>\n",
       "      <td>7922</td>\n",
       "      <td>Pave</td>\n",
       "      <td>Reg</td>\n",
       "      <td>Lvl</td>\n",
       "      <td>AllPub</td>\n",
       "      <td>Inside</td>\n",
       "      <td>...</td>\n",
       "      <td>52</td>\n",
       "      <td>0</td>\n",
       "      <td>0</td>\n",
       "      <td>0</td>\n",
       "      <td>0</td>\n",
       "      <td>0</td>\n",
       "      <td>1</td>\n",
       "      <td>2010</td>\n",
       "      <td>WD</td>\n",
       "      <td>109000</td>\n",
       "    </tr>\n",
       "    <tr>\n",
       "      <th>3</th>\n",
       "      <td>318</td>\n",
       "      <td>916386060</td>\n",
       "      <td>60</td>\n",
       "      <td>RL</td>\n",
       "      <td>9802</td>\n",
       "      <td>Pave</td>\n",
       "      <td>Reg</td>\n",
       "      <td>Lvl</td>\n",
       "      <td>AllPub</td>\n",
       "      <td>Inside</td>\n",
       "      <td>...</td>\n",
       "      <td>0</td>\n",
       "      <td>0</td>\n",
       "      <td>0</td>\n",
       "      <td>0</td>\n",
       "      <td>0</td>\n",
       "      <td>0</td>\n",
       "      <td>4</td>\n",
       "      <td>2010</td>\n",
       "      <td>WD</td>\n",
       "      <td>174000</td>\n",
       "    </tr>\n",
       "    <tr>\n",
       "      <th>4</th>\n",
       "      <td>255</td>\n",
       "      <td>906425045</td>\n",
       "      <td>50</td>\n",
       "      <td>RL</td>\n",
       "      <td>14235</td>\n",
       "      <td>Pave</td>\n",
       "      <td>IR1</td>\n",
       "      <td>Lvl</td>\n",
       "      <td>AllPub</td>\n",
       "      <td>Inside</td>\n",
       "      <td>...</td>\n",
       "      <td>59</td>\n",
       "      <td>0</td>\n",
       "      <td>0</td>\n",
       "      <td>0</td>\n",
       "      <td>0</td>\n",
       "      <td>0</td>\n",
       "      <td>3</td>\n",
       "      <td>2010</td>\n",
       "      <td>WD</td>\n",
       "      <td>138500</td>\n",
       "    </tr>\n",
       "  </tbody>\n",
       "</table>\n",
       "<p>5 rows × 70 columns</p>\n",
       "</div>"
      ],
      "text/plain": [
       "    id        pid  ms_subclass ms_zoning  lot_area street lot_shape  \\\n",
       "0  109  533352170           60        RL     13517   Pave       IR1   \n",
       "1  544  531379050           60        RL     11492   Pave       IR1   \n",
       "2  153  535304180           20        RL      7922   Pave       Reg   \n",
       "3  318  916386060           60        RL      9802   Pave       Reg   \n",
       "4  255  906425045           50        RL     14235   Pave       IR1   \n",
       "\n",
       "  land_contour utilities lot_config  ... open_porch_sf enclosed_porch  \\\n",
       "0          Lvl    AllPub    CulDSac  ...            44              0   \n",
       "1          Lvl    AllPub    CulDSac  ...            74              0   \n",
       "2          Lvl    AllPub     Inside  ...            52              0   \n",
       "3          Lvl    AllPub     Inside  ...             0              0   \n",
       "4          Lvl    AllPub     Inside  ...            59              0   \n",
       "\n",
       "  3ssn_porch screen_porch pool_area misc_val  mo_sold  yr_sold  sale_type  \\\n",
       "0          0            0         0        0        3     2010        WD    \n",
       "1          0            0         0        0        4     2009        WD    \n",
       "2          0            0         0        0        1     2010        WD    \n",
       "3          0            0         0        0        4     2010        WD    \n",
       "4          0            0         0        0        3     2010        WD    \n",
       "\n",
       "   saleprice  \n",
       "0     130500  \n",
       "1     220000  \n",
       "2     109000  \n",
       "3     174000  \n",
       "4     138500  \n",
       "\n",
       "[5 rows x 70 columns]"
      ]
     },
     "execution_count": 3,
     "metadata": {},
     "output_type": "execute_result"
    }
   ],
   "source": [
    "ames.head()"
   ]
  },
  {
   "cell_type": "markdown",
   "metadata": {},
   "source": [
    "Based on the modeling I had done previously for Kaggle, there are several features that I think are simple enough to explain and include here:\n",
    "- Overall Quality\n",
    "- Garage Area\n",
    "- Neighbordhood Average*\n",
    "- Lot Area\n",
    "- Kitchen Quality**\n",
    "- Basement Condition**\n",
    "- Exterior Quality**\n",
    "- Gr Living Area (Above Grade Sq Ft)\n",
    "- Year Built/Remodeled*\n",
    "- Porch/Deck*\n",
    "- Bed/Bath*\n",
    "- Paved Driveway**\n",
    "- Central Air**\n",
    "\n",
    "The features with one asterisk above are features that I engineered and those with two asterisks are dummied. I'll replicate those changes below:"
   ]
  },
  {
   "cell_type": "markdown",
   "metadata": {},
   "source": [
    "First, the features that I engineered:"
   ]
  },
  {
   "cell_type": "markdown",
   "metadata": {},
   "source": [
    "Perhaps the most complicated, this feature puts emphasis on the price of each neighborhood by assigning a dummy value based on the average home price in that area:"
   ]
  },
  {
   "cell_type": "code",
   "execution_count": 4,
   "metadata": {},
   "outputs": [
    {
     "name": "stdout",
     "output_type": "stream",
     "text": [
      "neighborhood\n",
      "Blmngtn    200417.681818\n",
      "Blueste    144566.666667\n",
      "BrDale     103371.052632\n",
      "BrkSide    128857.094595\n",
      "ClearCr    220684.615385\n",
      "CollgCr    202359.544944\n",
      "Crawfor    205976.600000\n",
      "Edwards    131576.503937\n",
      "Gilbert    188947.618182\n",
      "Greens     188666.666667\n",
      "GrnHill    330000.000000\n",
      "IDOTRR     104439.571429\n",
      "Landmrk    137000.000000\n",
      "MeadowV    100231.250000\n",
      "Mitchel    170645.512821\n",
      "NAmes      147701.682274\n",
      "NPkVill    140476.470588\n",
      "NWAmes     194619.022989\n",
      "NoRidge    316294.125000\n",
      "NridgHt    321783.966387\n",
      "OldTown    126439.158228\n",
      "SWISU      134758.875000\n",
      "Sawyer     138600.859813\n",
      "SawyerW    192210.750000\n",
      "Somerst    226654.567797\n",
      "StoneBr    329675.736842\n",
      "Timber     240492.872340\n",
      "Veenker    253570.588235\n",
      "Name: saleprice, dtype: float64\n"
     ]
    }
   ],
   "source": [
    "neighbor_avg = ames.groupby(ames['neighborhood'])['saleprice'].mean()\n",
    "print(neighbor_avg)"
   ]
  },
  {
   "cell_type": "code",
   "execution_count": 5,
   "metadata": {},
   "outputs": [],
   "source": [
    "neighborhoods = list(ames['neighborhood'].unique())\n",
    "neighborhoods = sorted(neighborhoods)"
   ]
  },
  {
   "cell_type": "code",
   "execution_count": 6,
   "metadata": {},
   "outputs": [
    {
     "name": "stdout",
     "output_type": "stream",
     "text": [
      "{'Blmngtn': 2.0, 'Blueste': 1.45, 'BrDale': 1.03, 'BrkSide': 1.29, 'ClearCr': 2.21, 'CollgCr': 2.02, 'Crawfor': 2.06, 'Edwards': 1.32, 'Gilbert': 1.89, 'Greens': 1.89, 'GrnHill': 3.3, 'IDOTRR': 1.04, 'Landmrk': 1.37, 'MeadowV': 1.0, 'Mitchel': 1.71, 'NAmes': 1.48, 'NPkVill': 1.4, 'NWAmes': 1.95, 'NoRidge': 3.16, 'NridgHt': 3.22, 'OldTown': 1.26, 'SWISU': 1.35, 'Sawyer': 1.39, 'SawyerW': 1.92, 'Somerst': 2.27, 'StoneBr': 3.3, 'Timber': 2.4, 'Veenker': 2.54}\n"
     ]
    }
   ],
   "source": [
    "neighb_dict = {neighborhood : round((avg/10_0000), 2) \n",
    "               for(neighborhood, avg) in zip(neighborhoods, neighbor_avg)}\n",
    "print(neighb_dict)"
   ]
  },
  {
   "cell_type": "code",
   "execution_count": 7,
   "metadata": {},
   "outputs": [],
   "source": [
    "#Adapted from Daniel Kim's potato example\n",
    "\n",
    "ames['neighborhood_avg'] = ames['neighborhood'].apply(lambda x: neighb_dict[x])"
   ]
  },
  {
   "cell_type": "markdown",
   "metadata": {},
   "source": [
    "The next feature I engineerd looks at the interaction between the year the home was built and year it was rmeodeled (if any):"
   ]
  },
  {
   "cell_type": "code",
   "execution_count": 8,
   "metadata": {},
   "outputs": [],
   "source": [
    "ames['built/remodel'] = ames['year_built'] * ames['year_remod/add']"
   ]
  },
  {
   "cell_type": "code",
   "execution_count": 9,
   "metadata": {},
   "outputs": [
    {
     "data": {
      "text/plain": [
       "<matplotlib.collections.PathCollection at 0x1a25193910>"
      ]
     },
     "execution_count": 9,
     "metadata": {},
     "output_type": "execute_result"
    },
    {
     "data": {
      "image/png": "[encoded data removed]",
      "text/plain": [
       "<Figure size 432x288 with 1 Axes>"
      ]
     },
     "metadata": {
      "needs_background": "light"
     },
     "output_type": "display_data"
    }
   ],
   "source": [
    "plt.scatter(ames['built/remodel'], ames['saleprice'])"
   ]
  },
  {
   "cell_type": "markdown",
   "metadata": {},
   "source": [
    "Next, I created a feature that summed up all the outdoor living space such as porches and decks:"
   ]
  },
  {
   "cell_type": "code",
   "execution_count": 10,
   "metadata": {},
   "outputs": [],
   "source": [
    "ames['porch/deck'] = ames['wood_deck_sf'] + ames['open_porch_sf'] + ames['enclosed_porch'] + ames['3ssn_porch'] + ames['screen_porch']\n"
   ]
  },
  {
   "cell_type": "code",
   "execution_count": 11,
   "metadata": {},
   "outputs": [
    {
     "data": {
      "text/plain": [
       "<matplotlib.collections.PathCollection at 0x1a30633690>"
      ]
     },
     "execution_count": 11,
     "metadata": {},
     "output_type": "execute_result"
    },
    {
     "data": {
      "image/png": "[encoded data removed]",
      "text/plain": [
       "<Figure size 432x288 with 1 Axes>"
      ]
     },
     "metadata": {
      "needs_background": "light"
     },
     "output_type": "display_data"
    }
   ],
   "source": [
    "plt.scatter(ames['porch/deck'], ames['saleprice'])"
   ]
  },
  {
   "cell_type": "markdown",
   "metadata": {},
   "source": [
    "The last feature I engineered was an interaction between beds and bathrooms:"
   ]
  },
  {
   "cell_type": "code",
   "execution_count": 12,
   "metadata": {},
   "outputs": [],
   "source": [
    "ames['total_bath'] = ames['bsmt_full_bath'] + (ames['bsmt_half_bath'] *.5) + ames['full_bath'] + (ames['half_bath'] *.5)"
   ]
  },
  {
   "cell_type": "code",
   "execution_count": 13,
   "metadata": {},
   "outputs": [],
   "source": [
    "ames['bed_bath'] = ames['bedroom_abvgr'] * ames['total_bath']"
   ]
  },
  {
   "cell_type": "markdown",
   "metadata": {},
   "source": [
    "Now onto dummying these columns: Kitchen Quality, Basement Condition, Exterior Quality. Since these are ordinal, I'm going to create a new column for each that has a value based on the score:\n",
    "- Excellent: 5\n",
    "- Good: 4\n",
    "- Typical/Average: 3\n",
    "- Fair: 2\n",
    "- Poor: 1"
   ]
  },
  {
   "cell_type": "code",
   "execution_count": 14,
   "metadata": {},
   "outputs": [],
   "source": [
    "kitchens = list(ames['kitchen_qual'].unique())\n",
    "kitchens = sorted(kitchens)"
   ]
  },
  {
   "cell_type": "code",
   "execution_count": 15,
   "metadata": {},
   "outputs": [
    {
     "name": "stdout",
     "output_type": "stream",
     "text": [
      "['Ex', 'Fa', 'Gd', 'TA']\n"
     ]
    }
   ],
   "source": [
    "print(kitchens)"
   ]
  },
  {
   "cell_type": "code",
   "execution_count": 16,
   "metadata": {},
   "outputs": [],
   "source": [
    "kitchen_list = [5, 2, 4, 3]"
   ]
  },
  {
   "cell_type": "code",
   "execution_count": 17,
   "metadata": {},
   "outputs": [
    {
     "name": "stdout",
     "output_type": "stream",
     "text": [
      "{'Ex': 5, 'Fa': 2, 'Gd': 4, 'TA': 3}\n"
     ]
    }
   ],
   "source": [
    "kitchen_dict = {kitchen : num \n",
    "               for(kitchen, num) in zip(kitchens, kitchen_list)}\n",
    "print(kitchen_dict)"
   ]
  },
  {
   "cell_type": "code",
   "execution_count": 18,
   "metadata": {},
   "outputs": [],
   "source": [
    "#Adapted from Daniel Kim's potato example\n",
    "\n",
    "ames['kitchen_score'] = ames['kitchen_qual'].apply(lambda x: kitchen_dict[x])"
   ]
  },
  {
   "cell_type": "code",
   "execution_count": 19,
   "metadata": {},
   "outputs": [],
   "source": [
    "basements = list(ames['bsmt_cond'].unique())\n",
    "basements = sorted(basements)"
   ]
  },
  {
   "cell_type": "code",
   "execution_count": 20,
   "metadata": {},
   "outputs": [
    {
     "name": "stdout",
     "output_type": "stream",
     "text": [
      "['Ex', 'Fa', 'Gd', 'Po', 'TA']\n"
     ]
    }
   ],
   "source": [
    "print(basements)"
   ]
  },
  {
   "cell_type": "code",
   "execution_count": 21,
   "metadata": {},
   "outputs": [],
   "source": [
    "bsmt_list = [5, 2, 4, 1, 3]"
   ]
  },
  {
   "cell_type": "code",
   "execution_count": 22,
   "metadata": {},
   "outputs": [
    {
     "name": "stdout",
     "output_type": "stream",
     "text": [
      "{'Ex': 5, 'Fa': 2, 'Gd': 4, 'Po': 1, 'TA': 3}\n"
     ]
    }
   ],
   "source": [
    "bsmt_dict = {basement : num \n",
    "               for(basement, num) in zip(basements, bsmt_list)}\n",
    "print(bsmt_dict)"
   ]
  },
  {
   "cell_type": "code",
   "execution_count": 23,
   "metadata": {},
   "outputs": [],
   "source": [
    "ames['basement_score'] = ames['bsmt_cond'].apply(lambda x: bsmt_dict[x])"
   ]
  },
  {
   "cell_type": "code",
   "execution_count": 24,
   "metadata": {},
   "outputs": [],
   "source": [
    "exts = list(ames['exter_qual'].unique())\n",
    "exts = sorted(exts)"
   ]
  },
  {
   "cell_type": "code",
   "execution_count": 25,
   "metadata": {},
   "outputs": [
    {
     "name": "stdout",
     "output_type": "stream",
     "text": [
      "['Ex', 'Fa', 'Gd', 'TA']\n"
     ]
    }
   ],
   "source": [
    "print(exts)"
   ]
  },
  {
   "cell_type": "code",
   "execution_count": 26,
   "metadata": {},
   "outputs": [],
   "source": [
    "ext_list = [5, 2, 4, 3]"
   ]
  },
  {
   "cell_type": "code",
   "execution_count": 27,
   "metadata": {},
   "outputs": [
    {
     "name": "stdout",
     "output_type": "stream",
     "text": [
      "{'Ex': 5, 'Fa': 2, 'Gd': 4, 'TA': 3}\n"
     ]
    }
   ],
   "source": [
    "ext_dict = {ext : num \n",
    "               for(ext, num) in zip(exts, ext_list)}\n",
    "print(ext_dict)"
   ]
  },
  {
   "cell_type": "code",
   "execution_count": 28,
   "metadata": {},
   "outputs": [],
   "source": [
    "ames['ext_score'] = ames['exter_qual'].apply(lambda x: ext_dict[x])"
   ]
  },
  {
   "cell_type": "markdown",
   "metadata": {},
   "source": [
    "For Paved Drive and Central Air, I'll just create separate dummy columns:"
   ]
  },
  {
   "cell_type": "code",
   "execution_count": 29,
   "metadata": {},
   "outputs": [],
   "source": [
    "drive = pd.get_dummies(ames['paved_drive'], drop_first=True, prefix='drive')"
   ]
  },
  {
   "cell_type": "code",
   "execution_count": 30,
   "metadata": {},
   "outputs": [],
   "source": [
    "cent_air = pd.get_dummies(ames['central_air'], drop_first=True, prefix='CA')"
   ]
  },
  {
   "cell_type": "markdown",
   "metadata": {},
   "source": [
    "Adding those dummy columns to my dataframe:"
   ]
  },
  {
   "cell_type": "code",
   "execution_count": 31,
   "metadata": {},
   "outputs": [],
   "source": [
    "ames = pd.concat([ames, cent_air, drive], axis=1)"
   ]
  },
  {
   "cell_type": "markdown",
   "metadata": {},
   "source": [
    "Now with all my features created I'll move on to making this much simpler model:"
   ]
  },
  {
   "cell_type": "code",
   "execution_count": 32,
   "metadata": {},
   "outputs": [],
   "source": [
    "features_simple = ['overall_qual', \n",
    "                   'garage_area', \n",
    "                   'neighborhood_avg', \n",
    "                   'lot_area', \n",
    "                  'gr_liv_area',\n",
    "                  'built/remodel',\n",
    "                  'porch/deck',\n",
    "                   'bed_bath',\n",
    "                   'kitchen_score',\n",
    "                   #'basement_score',\n",
    "                   'ext_score'\n",
    "                  ] + list(cent_air.columns) + list(drive.columns)\n"
   ]
  },
  {
   "cell_type": "code",
   "execution_count": 33,
   "metadata": {},
   "outputs": [
    {
     "data": {
      "text/plain": [
       "['overall_qual',\n",
       " 'garage_area',\n",
       " 'neighborhood_avg',\n",
       " 'lot_area',\n",
       " 'gr_liv_area',\n",
       " 'built/remodel',\n",
       " 'porch/deck',\n",
       " 'bed_bath',\n",
       " 'kitchen_score',\n",
       " 'ext_score',\n",
       " 'CA_Y',\n",
       " 'drive_P',\n",
       " 'drive_Y']"
      ]
     },
     "execution_count": 33,
     "metadata": {},
     "output_type": "execute_result"
    }
   ],
   "source": [
    "features_simple"
   ]
  },
  {
   "cell_type": "code",
   "execution_count": 34,
   "metadata": {},
   "outputs": [],
   "source": [
    "X_simp = ames[features_simple]\n",
    "y_simp = ames['saleprice']"
   ]
  },
  {
   "cell_type": "markdown",
   "metadata": {},
   "source": [
    "Train/test split my data:"
   ]
  },
  {
   "cell_type": "code",
   "execution_count": 35,
   "metadata": {},
   "outputs": [],
   "source": [
    "X_train, X_test, y_train, y_test = train_test_split(X_simp, y_simp, random_state = 21)"
   ]
  },
  {
   "cell_type": "markdown",
   "metadata": {},
   "source": [
    "Instantiating and fitting my model:"
   ]
  },
  {
   "cell_type": "code",
   "execution_count": 36,
   "metadata": {},
   "outputs": [],
   "source": [
    "simp_mlr = LinearRegression()"
   ]
  },
  {
   "cell_type": "code",
   "execution_count": 37,
   "metadata": {},
   "outputs": [
    {
     "data": {
      "text/plain": [
       "LinearRegression(copy_X=True, fit_intercept=True, n_jobs=None, normalize=False)"
      ]
     },
     "execution_count": 37,
     "metadata": {},
     "output_type": "execute_result"
    }
   ],
   "source": [
    "simp_mlr.fit(X_train, y_train)"
   ]
  },
  {
   "cell_type": "code",
   "execution_count": 38,
   "metadata": {},
   "outputs": [
    {
     "data": {
      "text/plain": [
       "0.8215982615391925"
      ]
     },
     "execution_count": 38,
     "metadata": {},
     "output_type": "execute_result"
    }
   ],
   "source": [
    "simp_mlr.score(X_train, y_train)"
   ]
  },
  {
   "cell_type": "code",
   "execution_count": 39,
   "metadata": {},
   "outputs": [
    {
     "data": {
      "text/plain": [
       "0.834498300668881"
      ]
     },
     "execution_count": 39,
     "metadata": {},
     "output_type": "execute_result"
    }
   ],
   "source": [
    "simp_mlr.score(X_test, y_test)"
   ]
  },
  {
   "cell_type": "code",
   "execution_count": 40,
   "metadata": {},
   "outputs": [
    {
     "data": {
      "text/plain": [
       "0.8136322878146192"
      ]
     },
     "execution_count": 40,
     "metadata": {},
     "output_type": "execute_result"
    }
   ],
   "source": [
    "cross_val_score(simp_mlr, X_train, y_train).mean()"
   ]
  },
  {
   "cell_type": "code",
   "execution_count": 41,
   "metadata": {},
   "outputs": [],
   "source": [
    "predictions = simp_mlr.predict(X_train)"
   ]
  },
  {
   "cell_type": "code",
   "execution_count": 42,
   "metadata": {},
   "outputs": [
    {
     "data": {
      "text/plain": [
       "33236.774837740384"
      ]
     },
     "execution_count": 42,
     "metadata": {},
     "output_type": "execute_result"
    }
   ],
   "source": [
    "(metrics.mean_squared_error(y_train, predictions))**.5"
   ]
  },
  {
   "cell_type": "markdown",
   "metadata": {},
   "source": [
    "This model is performing fairly well, well enough to draw some inferences so I'll pickle it:"
   ]
  },
  {
   "cell_type": "code",
   "execution_count": 43,
   "metadata": {},
   "outputs": [],
   "source": [
    "pickle.dump(simp_mlr, open('../model/presentation_model.pkl', 'wb'))"
   ]
  },
  {
   "cell_type": "markdown",
   "metadata": {},
   "source": [
    "In this next section, I'll be making the plot to add to my presentation:"
   ]
  },
  {
   "cell_type": "code",
   "execution_count": 44,
   "metadata": {},
   "outputs": [
    {
     "data": {
      "text/plain": [
       "count      1969.000000\n",
       "mean     182892.861859\n",
       "std       78938.334289\n",
       "min       12789.000000\n",
       "25%      130000.000000\n",
       "50%      163500.000000\n",
       "75%      214900.000000\n",
       "max      611657.000000\n",
       "Name: saleprice, dtype: float64"
      ]
     },
     "execution_count": 44,
     "metadata": {},
     "output_type": "execute_result"
    }
   ],
   "source": [
    "ames['saleprice'].describe()"
   ]
  },
  {
   "cell_type": "code",
   "execution_count": 45,
   "metadata": {},
   "outputs": [
    {
     "data": {
      "image/png": "[encoded data removed]",
      "text/plain": [
       "<Figure size 1152x432 with 2 Axes>"
      ]
     },
     "metadata": {
      "needs_background": "light"
     },
     "output_type": "display_data"
    }
   ],
   "source": [
    "plt.figure(figsize=(16,6))\n",
    "\n",
    "\n",
    "ax1 = plt.subplot(1, 2, 1)\n",
    "plt.hist(ames['overall_qual'], color='indianred', bins=10)\n",
    "plt.title('Overall Quality for All Homes', size=18)\n",
    "plt.xlabel('Quality of Home', size=12)\n",
    "plt.ylabel('# of Homes', size = 12)\n",
    "\n",
    "\n",
    "plt.subplot(1, 2, 2, )\n",
    "plt.hist(ames[ames['saleprice']>214900]['overall_qual'], color='lightcoral', bins=10, range = (1,11))\n",
    "plt.title('Overall Quality of Homes\\n in 75th Percentile for Price', size=18)\n",
    "plt.xlabel('Quality of Home', size=12)\n",
    "plt.ylabel('# of Homes', size = 12)\n",
    "plt.subplots_adjust(hspace=.4)\n",
    "\n",
    "plt.savefig('../plots/overall_quality_hist.png', dpi=235)"
   ]
  },
  {
   "cell_type": "markdown",
   "metadata": {},
   "source": [
    "The figure above shows the different distribution of quality of homes for all the houses in our dataset vs those in the top 75% of sale price. This shows that the average quality shifts up for the more expensive homes."
   ]
  },
  {
   "cell_type": "code",
   "execution_count": 46,
   "metadata": {},
   "outputs": [
    {
     "name": "stdout",
     "output_type": "stream",
     "text": [
      "overall_qual\n",
      "1      61000.000000\n",
      "2      45020.000000\n",
      "3      76022.619048\n",
      "4     109479.014085\n",
      "5     134988.059150\n",
      "6     162863.810379\n",
      "7     203525.840095\n",
      "8     271443.729167\n",
      "9     370197.376623\n",
      "10    415232.772727\n",
      "Name: saleprice, dtype: float64\n"
     ]
    },
    {
     "data": {
      "image/png": "[encoded data removed]",
      "text/plain": [
       "<Figure size 720x432 with 1 Axes>"
      ]
     },
     "metadata": {
      "needs_background": "light"
     },
     "output_type": "display_data"
    }
   ],
   "source": [
    "plt.figure(figsize=(10, 6))\n",
    "x_qual = sorted(ames['overall_qual'].unique())\n",
    "y_qual = ames.groupby('overall_qual')['saleprice'].mean()\n",
    "print(y_qual)\n",
    "plt.bar(x_qual, y_qual, color = 'darkorchid')\n",
    "plt.title('Average Price and Overall Quality', size = 18)\n",
    "plt.xlabel('Quality of Home', size=14)\n",
    "plt.ylabel('Average Price', size = 14)\n",
    "plt.savefig('../plots/overall_quality_bar.png', dpi=235)"
   ]
  },
  {
   "cell_type": "markdown",
   "metadata": {},
   "source": [
    "The barchart above shows that as quality increases, the average sale price of the home also increases."
   ]
  },
  {
   "cell_type": "code",
   "execution_count": 47,
   "metadata": {},
   "outputs": [
    {
     "name": "stdout",
     "output_type": "stream",
     "text": [
      "[kitchen_qual\n",
      "Ex    336499.643836\n",
      "Fa    107367.690476\n",
      "Gd    212072.396154\n",
      "TA    140920.264735\n",
      "Name: saleprice, dtype: float64]\n"
     ]
    },
    {
     "data": {
      "image/png": "[encoded data removed]",
      "text/plain": [
       "<Figure size 720x432 with 1 Axes>"
      ]
     },
     "metadata": {
      "needs_background": "light"
     },
     "output_type": "display_data"
    }
   ],
   "source": [
    "plt.figure(figsize=(10, 6))\n",
    "x_qual = ['Fair', 'Typical/Average', 'Good', 'Excellent']\n",
    "y = [107367, 140920, 212072, 336499]\n",
    "y_qual = [ames.groupby('kitchen_qual')['saleprice'].mean()]\n",
    "print(y_qual)\n",
    "plt.bar(x_qual, y, color = 'plum')\n",
    "plt.title('Average Price and Kitchen Quality', size = 18)\n",
    "plt.xlabel('Quality of Kitchen', size=14)\n",
    "plt.ylabel('Average Price', size = 14)\n",
    "plt.savefig('../plots/kitch_quality_bar.png', dpi=235)"
   ]
  },
  {
   "cell_type": "markdown",
   "metadata": {},
   "source": [
    "The barchart above shows that as kitchen quality increases (fair being the worst and excellent being the best), the average sale price of the home also increases."
   ]
  },
  {
   "cell_type": "code",
   "execution_count": 48,
   "metadata": {},
   "outputs": [
    {
     "name": "stdout",
     "output_type": "stream",
     "text": [
      "[exter_qual\n",
      "Ex    373328.562500\n",
      "Fa     98627.545455\n",
      "Gd    231064.853731\n",
      "TA    144750.628237\n",
      "Name: saleprice, dtype: float64]\n"
     ]
    },
    {
     "data": {
      "image/png": "[encoded data removed]",
      "text/plain": [
       "<Figure size 720x432 with 1 Axes>"
      ]
     },
     "metadata": {
      "needs_background": "light"
     },
     "output_type": "display_data"
    }
   ],
   "source": [
    "plt.figure(figsize=(10, 6))\n",
    "x_qual = ['Fair', 'Typical/Average', 'Good', 'Excellent']\n",
    "y = [98627, 144750, 231064, 373328 ]\n",
    "y_qual = [ames.groupby('exter_qual')['saleprice'].mean()]\n",
    "print(y_qual)\n",
    "plt.bar(x_qual, y, color = 'plum')\n",
    "plt.title('Average Price and Exterior Quality', size = 18)\n",
    "plt.xlabel('Quality of Exterior', size=14)\n",
    "plt.ylabel('Average Price', size = 14)\n",
    "plt.savefig('../plots/ext_quality_bar.png', dpi=235)"
   ]
  },
  {
   "cell_type": "markdown",
   "metadata": {},
   "source": [
    "The barchart above shows that as exterior quality increases (fair being the worst and excellent being the best), the average sale price of the home also increases."
   ]
  },
  {
   "cell_type": "markdown",
   "metadata": {},
   "source": [
    "Creating a new dataframe that just looks at the features I used so I can look at the correlations for these specific features:"
   ]
  },
  {
   "cell_type": "code",
   "execution_count": 49,
   "metadata": {},
   "outputs": [],
   "source": [
    "model_df = ames[features_simple + ['saleprice']]"
   ]
  },
  {
   "cell_type": "code",
   "execution_count": 50,
   "metadata": {},
   "outputs": [
    {
     "data": {
      "text/html": [
       "<div>\n",
       "<style scoped>\n",
       "    .dataframe tbody tr th:only-of-type {\n",
       "        vertical-align: middle;\n",
       "    }\n",
       "\n",
       "    .dataframe tbody tr th {\n",
       "        vertical-align: top;\n",
       "    }\n",
       "\n",
       "    .dataframe thead th {\n",
       "        text-align: right;\n",
       "    }\n",
       "</style>\n",
       "<table border=\"1\" class=\"dataframe\">\n",
       "  <thead>\n",
       "    <tr style=\"text-align: right;\">\n",
       "      <th></th>\n",
       "      <th>overall_qual</th>\n",
       "      <th>garage_area</th>\n",
       "      <th>neighborhood_avg</th>\n",
       "      <th>lot_area</th>\n",
       "      <th>gr_liv_area</th>\n",
       "      <th>built/remodel</th>\n",
       "      <th>porch/deck</th>\n",
       "      <th>bed_bath</th>\n",
       "      <th>kitchen_score</th>\n",
       "      <th>ext_score</th>\n",
       "      <th>CA_Y</th>\n",
       "      <th>drive_P</th>\n",
       "      <th>drive_Y</th>\n",
       "      <th>saleprice</th>\n",
       "    </tr>\n",
       "  </thead>\n",
       "  <tbody>\n",
       "    <tr>\n",
       "      <th>0</th>\n",
       "      <td>6</td>\n",
       "      <td>475.0</td>\n",
       "      <td>1.39</td>\n",
       "      <td>13517</td>\n",
       "      <td>1479</td>\n",
       "      <td>3961880</td>\n",
       "      <td>44</td>\n",
       "      <td>7.5</td>\n",
       "      <td>4</td>\n",
       "      <td>4</td>\n",
       "      <td>1</td>\n",
       "      <td>0</td>\n",
       "      <td>1</td>\n",
       "      <td>130500</td>\n",
       "    </tr>\n",
       "    <tr>\n",
       "      <th>1</th>\n",
       "      <td>7</td>\n",
       "      <td>559.0</td>\n",
       "      <td>1.92</td>\n",
       "      <td>11492</td>\n",
       "      <td>2122</td>\n",
       "      <td>3986012</td>\n",
       "      <td>74</td>\n",
       "      <td>14.0</td>\n",
       "      <td>4</td>\n",
       "      <td>4</td>\n",
       "      <td>1</td>\n",
       "      <td>0</td>\n",
       "      <td>1</td>\n",
       "      <td>220000</td>\n",
       "    </tr>\n",
       "    <tr>\n",
       "      <th>2</th>\n",
       "      <td>5</td>\n",
       "      <td>246.0</td>\n",
       "      <td>1.48</td>\n",
       "      <td>7922</td>\n",
       "      <td>1057</td>\n",
       "      <td>3919671</td>\n",
       "      <td>52</td>\n",
       "      <td>6.0</td>\n",
       "      <td>4</td>\n",
       "      <td>3</td>\n",
       "      <td>1</td>\n",
       "      <td>0</td>\n",
       "      <td>1</td>\n",
       "      <td>109000</td>\n",
       "    </tr>\n",
       "    <tr>\n",
       "      <th>3</th>\n",
       "      <td>5</td>\n",
       "      <td>400.0</td>\n",
       "      <td>2.40</td>\n",
       "      <td>9802</td>\n",
       "      <td>1444</td>\n",
       "      <td>4026042</td>\n",
       "      <td>100</td>\n",
       "      <td>7.5</td>\n",
       "      <td>3</td>\n",
       "      <td>3</td>\n",
       "      <td>1</td>\n",
       "      <td>0</td>\n",
       "      <td>1</td>\n",
       "      <td>174000</td>\n",
       "    </tr>\n",
       "    <tr>\n",
       "      <th>4</th>\n",
       "      <td>6</td>\n",
       "      <td>484.0</td>\n",
       "      <td>1.92</td>\n",
       "      <td>14235</td>\n",
       "      <td>1445</td>\n",
       "      <td>3786700</td>\n",
       "      <td>59</td>\n",
       "      <td>6.0</td>\n",
       "      <td>3</td>\n",
       "      <td>3</td>\n",
       "      <td>1</td>\n",
       "      <td>0</td>\n",
       "      <td>0</td>\n",
       "      <td>138500</td>\n",
       "    </tr>\n",
       "  </tbody>\n",
       "</table>\n",
       "</div>"
      ],
      "text/plain": [
       "   overall_qual  garage_area  neighborhood_avg  lot_area  gr_liv_area  \\\n",
       "0             6        475.0              1.39     13517         1479   \n",
       "1             7        559.0              1.92     11492         2122   \n",
       "2             5        246.0              1.48      7922         1057   \n",
       "3             5        400.0              2.40      9802         1444   \n",
       "4             6        484.0              1.92     14235         1445   \n",
       "\n",
       "   built/remodel  porch/deck  bed_bath  kitchen_score  ext_score  CA_Y  \\\n",
       "0        3961880          44       7.5              4          4     1   \n",
       "1        3986012          74      14.0              4          4     1   \n",
       "2        3919671          52       6.0              4          3     1   \n",
       "3        4026042         100       7.5              3          3     1   \n",
       "4        3786700          59       6.0              3          3     1   \n",
       "\n",
       "   drive_P  drive_Y  saleprice  \n",
       "0        0        1     130500  \n",
       "1        0        1     220000  \n",
       "2        0        1     109000  \n",
       "3        0        1     174000  \n",
       "4        0        0     138500  "
      ]
     },
     "execution_count": 50,
     "metadata": {},
     "output_type": "execute_result"
    }
   ],
   "source": [
    "model_df.head()"
   ]
  },
  {
   "cell_type": "code",
   "execution_count": 51,
   "metadata": {},
   "outputs": [],
   "source": [
    "corr_matrix = model_df.corr().sort_values('saleprice')"
   ]
  },
  {
   "cell_type": "code",
   "execution_count": 52,
   "metadata": {},
   "outputs": [
    {
     "data": {
      "text/plain": [
       "drive_P            -0.094971\n",
       "CA_Y                0.250823\n",
       "drive_Y             0.269017\n",
       "lot_area            0.308461\n",
       "porch/deck          0.401329\n",
       "bed_bath            0.491081\n",
       "built/remodel       0.615562\n",
       "garage_area         0.651016\n",
       "kitchen_score       0.686409\n",
       "gr_liv_area         0.700919\n",
       "ext_score           0.707184\n",
       "neighborhood_avg    0.758861\n",
       "overall_qual        0.797646\n",
       "saleprice           1.000000\n",
       "Name: saleprice, dtype: float64"
      ]
     },
     "execution_count": 52,
     "metadata": {},
     "output_type": "execute_result"
    }
   ],
   "source": [
    "corr_matrix['saleprice']"
   ]
  },
  {
   "cell_type": "code",
   "execution_count": 53,
   "metadata": {},
   "outputs": [
    {
     "name": "stdout",
     "output_type": "stream",
     "text": [
      "[exter_qual\n",
      "Ex    373328.562500\n",
      "Fa     98627.545455\n",
      "Gd    231064.853731\n",
      "TA    144750.628237\n",
      "Name: saleprice, dtype: float64]\n"
     ]
    },
    {
     "data": {
      "image/png": "[encoded data removed]",
      "text/plain": [
       "<Figure size 1152x432 with 1 Axes>"
      ]
     },
     "metadata": {
      "needs_background": "light"
     },
     "output_type": "display_data"
    }
   ],
   "source": [
    "plt.figure(figsize=(16, 6))\n",
    "x_qual = ['Bed/Baths','Built/Remodeled', 'Garage Area', \n",
    "          'Kitchen Quality', 'Livable Area SF', 'Exterior Quality', 'Neighborhood Average', 'Overall Quality']\n",
    "y = [0.491081, 0.615562, 0.651016, 0.686409, 0.700919, 0.707184,  0.758861, 0.797646 ]\n",
    "print(y_qual)\n",
    "plt.barh(x_qual, y, color = 'darkseagreen')\n",
    "plt.title('Feature Correlation with Price', size = 18)\n",
    "plt.xlabel('Correlation with Price', size=14)\n",
    "plt.ylabel('Feature', size = 14)\n",
    "plt.savefig('../plots/corr.png')"
   ]
  },
  {
   "cell_type": "markdown",
   "metadata": {},
   "source": [
    "In my presentation, I'm also going to do a demostration to show how the value of a particular house could increase by just changing the overall quality to 10. First, I'll need to find homes that are \"perfect\" in all categories so I can see what \"perfect\" looks like by looking up the homes on [Zillow](https://www.zillow.com/):"
   ]
  },
  {
   "cell_type": "code",
   "execution_count": 54,
   "metadata": {},
   "outputs": [
    {
     "data": {
      "text/html": [
       "<div>\n",
       "<style scoped>\n",
       "    .dataframe tbody tr th:only-of-type {\n",
       "        vertical-align: middle;\n",
       "    }\n",
       "\n",
       "    .dataframe tbody tr th {\n",
       "        vertical-align: top;\n",
       "    }\n",
       "\n",
       "    .dataframe thead th {\n",
       "        text-align: right;\n",
       "    }\n",
       "</style>\n",
       "<table border=\"1\" class=\"dataframe\">\n",
       "  <thead>\n",
       "    <tr style=\"text-align: right;\">\n",
       "      <th></th>\n",
       "      <th>id</th>\n",
       "      <th>pid</th>\n",
       "      <th>ms_subclass</th>\n",
       "      <th>ms_zoning</th>\n",
       "      <th>lot_area</th>\n",
       "      <th>street</th>\n",
       "      <th>lot_shape</th>\n",
       "      <th>land_contour</th>\n",
       "      <th>utilities</th>\n",
       "      <th>lot_config</th>\n",
       "      <th>...</th>\n",
       "      <th>built/remodel</th>\n",
       "      <th>porch/deck</th>\n",
       "      <th>total_bath</th>\n",
       "      <th>bed_bath</th>\n",
       "      <th>kitchen_score</th>\n",
       "      <th>basement_score</th>\n",
       "      <th>ext_score</th>\n",
       "      <th>CA_Y</th>\n",
       "      <th>drive_P</th>\n",
       "      <th>drive_Y</th>\n",
       "    </tr>\n",
       "  </thead>\n",
       "  <tbody>\n",
       "    <tr>\n",
       "      <th>132</th>\n",
       "      <td>2331</td>\n",
       "      <td>527210040</td>\n",
       "      <td>60</td>\n",
       "      <td>RL</td>\n",
       "      <td>18062</td>\n",
       "      <td>Pave</td>\n",
       "      <td>IR1</td>\n",
       "      <td>HLS</td>\n",
       "      <td>AllPub</td>\n",
       "      <td>CulDSac</td>\n",
       "      <td>...</td>\n",
       "      <td>4024036</td>\n",
       "      <td>238</td>\n",
       "      <td>3.5</td>\n",
       "      <td>17.5</td>\n",
       "      <td>5</td>\n",
       "      <td>3</td>\n",
       "      <td>5</td>\n",
       "      <td>1</td>\n",
       "      <td>0</td>\n",
       "      <td>1</td>\n",
       "    </tr>\n",
       "    <tr>\n",
       "      <th>191</th>\n",
       "      <td>448</td>\n",
       "      <td>528166060</td>\n",
       "      <td>20</td>\n",
       "      <td>RL</td>\n",
       "      <td>13472</td>\n",
       "      <td>Pave</td>\n",
       "      <td>Reg</td>\n",
       "      <td>Lvl</td>\n",
       "      <td>AllPub</td>\n",
       "      <td>Inside</td>\n",
       "      <td>...</td>\n",
       "      <td>4012009</td>\n",
       "      <td>353</td>\n",
       "      <td>2.0</td>\n",
       "      <td>6.0</td>\n",
       "      <td>5</td>\n",
       "      <td>3</td>\n",
       "      <td>5</td>\n",
       "      <td>1</td>\n",
       "      <td>0</td>\n",
       "      <td>1</td>\n",
       "    </tr>\n",
       "    <tr>\n",
       "      <th>193</th>\n",
       "      <td>524</td>\n",
       "      <td>528477050</td>\n",
       "      <td>60</td>\n",
       "      <td>FV</td>\n",
       "      <td>11003</td>\n",
       "      <td>Pave</td>\n",
       "      <td>Reg</td>\n",
       "      <td>Lvl</td>\n",
       "      <td>AllPub</td>\n",
       "      <td>Inside</td>\n",
       "      <td>...</td>\n",
       "      <td>4032064</td>\n",
       "      <td>220</td>\n",
       "      <td>3.5</td>\n",
       "      <td>10.5</td>\n",
       "      <td>5</td>\n",
       "      <td>3</td>\n",
       "      <td>5</td>\n",
       "      <td>1</td>\n",
       "      <td>0</td>\n",
       "      <td>1</td>\n",
       "    </tr>\n",
       "    <tr>\n",
       "      <th>319</th>\n",
       "      <td>1060</td>\n",
       "      <td>528118090</td>\n",
       "      <td>60</td>\n",
       "      <td>RL</td>\n",
       "      <td>12539</td>\n",
       "      <td>Pave</td>\n",
       "      <td>Reg</td>\n",
       "      <td>Lvl</td>\n",
       "      <td>AllPub</td>\n",
       "      <td>Inside</td>\n",
       "      <td>...</td>\n",
       "      <td>4022030</td>\n",
       "      <td>422</td>\n",
       "      <td>3.5</td>\n",
       "      <td>14.0</td>\n",
       "      <td>5</td>\n",
       "      <td>3</td>\n",
       "      <td>5</td>\n",
       "      <td>1</td>\n",
       "      <td>0</td>\n",
       "      <td>1</td>\n",
       "    </tr>\n",
       "    <tr>\n",
       "      <th>496</th>\n",
       "      <td>2276</td>\n",
       "      <td>921128030</td>\n",
       "      <td>20</td>\n",
       "      <td>RL</td>\n",
       "      <td>12633</td>\n",
       "      <td>Pave</td>\n",
       "      <td>IR1</td>\n",
       "      <td>HLS</td>\n",
       "      <td>AllPub</td>\n",
       "      <td>Inside</td>\n",
       "      <td>...</td>\n",
       "      <td>4026042</td>\n",
       "      <td>304</td>\n",
       "      <td>2.0</td>\n",
       "      <td>6.0</td>\n",
       "      <td>5</td>\n",
       "      <td>3</td>\n",
       "      <td>5</td>\n",
       "      <td>1</td>\n",
       "      <td>0</td>\n",
       "      <td>1</td>\n",
       "    </tr>\n",
       "    <tr>\n",
       "      <th>498</th>\n",
       "      <td>1178</td>\n",
       "      <td>533236090</td>\n",
       "      <td>160</td>\n",
       "      <td>FV</td>\n",
       "      <td>3951</td>\n",
       "      <td>Pave</td>\n",
       "      <td>IR1</td>\n",
       "      <td>Lvl</td>\n",
       "      <td>AllPub</td>\n",
       "      <td>Inside</td>\n",
       "      <td>...</td>\n",
       "      <td>3994002</td>\n",
       "      <td>184</td>\n",
       "      <td>3.5</td>\n",
       "      <td>7.0</td>\n",
       "      <td>5</td>\n",
       "      <td>3</td>\n",
       "      <td>5</td>\n",
       "      <td>1</td>\n",
       "      <td>0</td>\n",
       "      <td>1</td>\n",
       "    </tr>\n",
       "    <tr>\n",
       "      <th>508</th>\n",
       "      <td>432</td>\n",
       "      <td>528110010</td>\n",
       "      <td>60</td>\n",
       "      <td>RL</td>\n",
       "      <td>13478</td>\n",
       "      <td>Pave</td>\n",
       "      <td>IR1</td>\n",
       "      <td>Lvl</td>\n",
       "      <td>AllPub</td>\n",
       "      <td>Corner</td>\n",
       "      <td>...</td>\n",
       "      <td>4032064</td>\n",
       "      <td>656</td>\n",
       "      <td>3.5</td>\n",
       "      <td>10.5</td>\n",
       "      <td>5</td>\n",
       "      <td>3</td>\n",
       "      <td>5</td>\n",
       "      <td>1</td>\n",
       "      <td>0</td>\n",
       "      <td>1</td>\n",
       "    </tr>\n",
       "    <tr>\n",
       "      <th>597</th>\n",
       "      <td>421</td>\n",
       "      <td>528102040</td>\n",
       "      <td>20</td>\n",
       "      <td>RL</td>\n",
       "      <td>12456</td>\n",
       "      <td>Pave</td>\n",
       "      <td>Reg</td>\n",
       "      <td>Lvl</td>\n",
       "      <td>AllPub</td>\n",
       "      <td>FR2</td>\n",
       "      <td>...</td>\n",
       "      <td>4026042</td>\n",
       "      <td>264</td>\n",
       "      <td>3.0</td>\n",
       "      <td>9.0</td>\n",
       "      <td>5</td>\n",
       "      <td>3</td>\n",
       "      <td>5</td>\n",
       "      <td>1</td>\n",
       "      <td>0</td>\n",
       "      <td>1</td>\n",
       "    </tr>\n",
       "    <tr>\n",
       "      <th>598</th>\n",
       "      <td>457</td>\n",
       "      <td>528176030</td>\n",
       "      <td>20</td>\n",
       "      <td>RL</td>\n",
       "      <td>14836</td>\n",
       "      <td>Pave</td>\n",
       "      <td>IR1</td>\n",
       "      <td>HLS</td>\n",
       "      <td>AllPub</td>\n",
       "      <td>Inside</td>\n",
       "      <td>...</td>\n",
       "      <td>4018020</td>\n",
       "      <td>461</td>\n",
       "      <td>3.5</td>\n",
       "      <td>7.0</td>\n",
       "      <td>5</td>\n",
       "      <td>3</td>\n",
       "      <td>5</td>\n",
       "      <td>1</td>\n",
       "      <td>0</td>\n",
       "      <td>1</td>\n",
       "    </tr>\n",
       "    <tr>\n",
       "      <th>655</th>\n",
       "      <td>1053</td>\n",
       "      <td>528104050</td>\n",
       "      <td>20</td>\n",
       "      <td>RL</td>\n",
       "      <td>14803</td>\n",
       "      <td>Pave</td>\n",
       "      <td>Reg</td>\n",
       "      <td>Lvl</td>\n",
       "      <td>AllPub</td>\n",
       "      <td>Inside</td>\n",
       "      <td>...</td>\n",
       "      <td>4030056</td>\n",
       "      <td>233</td>\n",
       "      <td>3.0</td>\n",
       "      <td>6.0</td>\n",
       "      <td>5</td>\n",
       "      <td>3</td>\n",
       "      <td>5</td>\n",
       "      <td>1</td>\n",
       "      <td>0</td>\n",
       "      <td>1</td>\n",
       "    </tr>\n",
       "    <tr>\n",
       "      <th>767</th>\n",
       "      <td>1702</td>\n",
       "      <td>528118050</td>\n",
       "      <td>20</td>\n",
       "      <td>RL</td>\n",
       "      <td>17169</td>\n",
       "      <td>Pave</td>\n",
       "      <td>IR2</td>\n",
       "      <td>Lvl</td>\n",
       "      <td>AllPub</td>\n",
       "      <td>CulDSac</td>\n",
       "      <td>...</td>\n",
       "      <td>4028049</td>\n",
       "      <td>222</td>\n",
       "      <td>4.5</td>\n",
       "      <td>9.0</td>\n",
       "      <td>5</td>\n",
       "      <td>3</td>\n",
       "      <td>5</td>\n",
       "      <td>1</td>\n",
       "      <td>0</td>\n",
       "      <td>1</td>\n",
       "    </tr>\n",
       "    <tr>\n",
       "      <th>897</th>\n",
       "      <td>1643</td>\n",
       "      <td>527256040</td>\n",
       "      <td>20</td>\n",
       "      <td>RL</td>\n",
       "      <td>13870</td>\n",
       "      <td>Pave</td>\n",
       "      <td>IR1</td>\n",
       "      <td>HLS</td>\n",
       "      <td>AllPub</td>\n",
       "      <td>Inside</td>\n",
       "      <td>...</td>\n",
       "      <td>4026042</td>\n",
       "      <td>466</td>\n",
       "      <td>3.0</td>\n",
       "      <td>9.0</td>\n",
       "      <td>5</td>\n",
       "      <td>3</td>\n",
       "      <td>5</td>\n",
       "      <td>1</td>\n",
       "      <td>0</td>\n",
       "      <td>1</td>\n",
       "    </tr>\n",
       "    <tr>\n",
       "      <th>921</th>\n",
       "      <td>1499</td>\n",
       "      <td>908154235</td>\n",
       "      <td>60</td>\n",
       "      <td>RL</td>\n",
       "      <td>63887</td>\n",
       "      <td>Pave</td>\n",
       "      <td>IR3</td>\n",
       "      <td>Bnk</td>\n",
       "      <td>AllPub</td>\n",
       "      <td>Corner</td>\n",
       "      <td>...</td>\n",
       "      <td>4032064</td>\n",
       "      <td>506</td>\n",
       "      <td>4.5</td>\n",
       "      <td>13.5</td>\n",
       "      <td>5</td>\n",
       "      <td>3</td>\n",
       "      <td>5</td>\n",
       "      <td>1</td>\n",
       "      <td>0</td>\n",
       "      <td>1</td>\n",
       "    </tr>\n",
       "    <tr>\n",
       "      <th>947</th>\n",
       "      <td>1694</td>\n",
       "      <td>528106110</td>\n",
       "      <td>20</td>\n",
       "      <td>RL</td>\n",
       "      <td>15431</td>\n",
       "      <td>Pave</td>\n",
       "      <td>Reg</td>\n",
       "      <td>Lvl</td>\n",
       "      <td>AllPub</td>\n",
       "      <td>Inside</td>\n",
       "      <td>...</td>\n",
       "      <td>4022030</td>\n",
       "      <td>428</td>\n",
       "      <td>3.5</td>\n",
       "      <td>7.0</td>\n",
       "      <td>5</td>\n",
       "      <td>3</td>\n",
       "      <td>5</td>\n",
       "      <td>1</td>\n",
       "      <td>0</td>\n",
       "      <td>1</td>\n",
       "    </tr>\n",
       "    <tr>\n",
       "      <th>1038</th>\n",
       "      <td>1052</td>\n",
       "      <td>528102110</td>\n",
       "      <td>60</td>\n",
       "      <td>RL</td>\n",
       "      <td>12474</td>\n",
       "      <td>Pave</td>\n",
       "      <td>Reg</td>\n",
       "      <td>Lvl</td>\n",
       "      <td>AllPub</td>\n",
       "      <td>Inside</td>\n",
       "      <td>...</td>\n",
       "      <td>4030056</td>\n",
       "      <td>330</td>\n",
       "      <td>3.5</td>\n",
       "      <td>10.5</td>\n",
       "      <td>5</td>\n",
       "      <td>3</td>\n",
       "      <td>5</td>\n",
       "      <td>1</td>\n",
       "      <td>0</td>\n",
       "      <td>1</td>\n",
       "    </tr>\n",
       "    <tr>\n",
       "      <th>1072</th>\n",
       "      <td>1764</td>\n",
       "      <td>528327060</td>\n",
       "      <td>20</td>\n",
       "      <td>RL</td>\n",
       "      <td>11400</td>\n",
       "      <td>Pave</td>\n",
       "      <td>Reg</td>\n",
       "      <td>Lvl</td>\n",
       "      <td>AllPub</td>\n",
       "      <td>Inside</td>\n",
       "      <td>...</td>\n",
       "      <td>4006002</td>\n",
       "      <td>454</td>\n",
       "      <td>3.5</td>\n",
       "      <td>7.0</td>\n",
       "      <td>5</td>\n",
       "      <td>3</td>\n",
       "      <td>5</td>\n",
       "      <td>1</td>\n",
       "      <td>0</td>\n",
       "      <td>1</td>\n",
       "    </tr>\n",
       "    <tr>\n",
       "      <th>1116</th>\n",
       "      <td>424</td>\n",
       "      <td>528106020</td>\n",
       "      <td>20</td>\n",
       "      <td>RL</td>\n",
       "      <td>15431</td>\n",
       "      <td>Pave</td>\n",
       "      <td>Reg</td>\n",
       "      <td>Lvl</td>\n",
       "      <td>AllPub</td>\n",
       "      <td>Inside</td>\n",
       "      <td>...</td>\n",
       "      <td>4032064</td>\n",
       "      <td>242</td>\n",
       "      <td>3.0</td>\n",
       "      <td>6.0</td>\n",
       "      <td>5</td>\n",
       "      <td>3</td>\n",
       "      <td>5</td>\n",
       "      <td>1</td>\n",
       "      <td>0</td>\n",
       "      <td>1</td>\n",
       "    </tr>\n",
       "    <tr>\n",
       "      <th>1527</th>\n",
       "      <td>2335</td>\n",
       "      <td>527214060</td>\n",
       "      <td>60</td>\n",
       "      <td>RL</td>\n",
       "      <td>16052</td>\n",
       "      <td>Pave</td>\n",
       "      <td>IR1</td>\n",
       "      <td>Lvl</td>\n",
       "      <td>AllPub</td>\n",
       "      <td>CulDSac</td>\n",
       "      <td>...</td>\n",
       "      <td>4024036</td>\n",
       "      <td>250</td>\n",
       "      <td>3.5</td>\n",
       "      <td>14.0</td>\n",
       "      <td>5</td>\n",
       "      <td>3</td>\n",
       "      <td>5</td>\n",
       "      <td>1</td>\n",
       "      <td>0</td>\n",
       "      <td>1</td>\n",
       "    </tr>\n",
       "    <tr>\n",
       "      <th>1808</th>\n",
       "      <td>2181</td>\n",
       "      <td>908154195</td>\n",
       "      <td>20</td>\n",
       "      <td>RL</td>\n",
       "      <td>39290</td>\n",
       "      <td>Pave</td>\n",
       "      <td>IR1</td>\n",
       "      <td>Bnk</td>\n",
       "      <td>AllPub</td>\n",
       "      <td>Inside</td>\n",
       "      <td>...</td>\n",
       "      <td>4034072</td>\n",
       "      <td>1030</td>\n",
       "      <td>4.0</td>\n",
       "      <td>8.0</td>\n",
       "      <td>5</td>\n",
       "      <td>3</td>\n",
       "      <td>5</td>\n",
       "      <td>1</td>\n",
       "      <td>0</td>\n",
       "      <td>1</td>\n",
       "    </tr>\n",
       "  </tbody>\n",
       "</table>\n",
       "<p>19 rows × 81 columns</p>\n",
       "</div>"
      ],
      "text/plain": [
       "        id        pid  ms_subclass ms_zoning  lot_area street lot_shape  \\\n",
       "132   2331  527210040           60        RL     18062   Pave       IR1   \n",
       "191    448  528166060           20        RL     13472   Pave       Reg   \n",
       "193    524  528477050           60        FV     11003   Pave       Reg   \n",
       "319   1060  528118090           60        RL     12539   Pave       Reg   \n",
       "496   2276  921128030           20        RL     12633   Pave       IR1   \n",
       "498   1178  533236090          160        FV      3951   Pave       IR1   \n",
       "508    432  528110010           60        RL     13478   Pave       IR1   \n",
       "597    421  528102040           20        RL     12456   Pave       Reg   \n",
       "598    457  528176030           20        RL     14836   Pave       IR1   \n",
       "655   1053  528104050           20        RL     14803   Pave       Reg   \n",
       "767   1702  528118050           20        RL     17169   Pave       IR2   \n",
       "897   1643  527256040           20        RL     13870   Pave       IR1   \n",
       "921   1499  908154235           60        RL     63887   Pave       IR3   \n",
       "947   1694  528106110           20        RL     15431   Pave       Reg   \n",
       "1038  1052  528102110           60        RL     12474   Pave       Reg   \n",
       "1072  1764  528327060           20        RL     11400   Pave       Reg   \n",
       "1116   424  528106020           20        RL     15431   Pave       Reg   \n",
       "1527  2335  527214060           60        RL     16052   Pave       IR1   \n",
       "1808  2181  908154195           20        RL     39290   Pave       IR1   \n",
       "\n",
       "     land_contour utilities lot_config  ... built/remodel porch/deck  \\\n",
       "132           HLS    AllPub    CulDSac  ...       4024036        238   \n",
       "191           Lvl    AllPub     Inside  ...       4012009        353   \n",
       "193           Lvl    AllPub     Inside  ...       4032064        220   \n",
       "319           Lvl    AllPub     Inside  ...       4022030        422   \n",
       "496           HLS    AllPub     Inside  ...       4026042        304   \n",
       "498           Lvl    AllPub     Inside  ...       3994002        184   \n",
       "508           Lvl    AllPub     Corner  ...       4032064        656   \n",
       "597           Lvl    AllPub        FR2  ...       4026042        264   \n",
       "598           HLS    AllPub     Inside  ...       4018020        461   \n",
       "655           Lvl    AllPub     Inside  ...       4030056        233   \n",
       "767           Lvl    AllPub    CulDSac  ...       4028049        222   \n",
       "897           HLS    AllPub     Inside  ...       4026042        466   \n",
       "921           Bnk    AllPub     Corner  ...       4032064        506   \n",
       "947           Lvl    AllPub     Inside  ...       4022030        428   \n",
       "1038          Lvl    AllPub     Inside  ...       4030056        330   \n",
       "1072          Lvl    AllPub     Inside  ...       4006002        454   \n",
       "1116          Lvl    AllPub     Inside  ...       4032064        242   \n",
       "1527          Lvl    AllPub    CulDSac  ...       4024036        250   \n",
       "1808          Bnk    AllPub     Inside  ...       4034072       1030   \n",
       "\n",
       "     total_bath bed_bath kitchen_score basement_score  ext_score  CA_Y  \\\n",
       "132         3.5     17.5             5              3          5     1   \n",
       "191         2.0      6.0             5              3          5     1   \n",
       "193         3.5     10.5             5              3          5     1   \n",
       "319         3.5     14.0             5              3          5     1   \n",
       "496         2.0      6.0             5              3          5     1   \n",
       "498         3.5      7.0             5              3          5     1   \n",
       "508         3.5     10.5             5              3          5     1   \n",
       "597         3.0      9.0             5              3          5     1   \n",
       "598         3.5      7.0             5              3          5     1   \n",
       "655         3.0      6.0             5              3          5     1   \n",
       "767         4.5      9.0             5              3          5     1   \n",
       "897         3.0      9.0             5              3          5     1   \n",
       "921         4.5     13.5             5              3          5     1   \n",
       "947         3.5      7.0             5              3          5     1   \n",
       "1038        3.5     10.5             5              3          5     1   \n",
       "1072        3.5      7.0             5              3          5     1   \n",
       "1116        3.0      6.0             5              3          5     1   \n",
       "1527        3.5     14.0             5              3          5     1   \n",
       "1808        4.0      8.0             5              3          5     1   \n",
       "\n",
       "      drive_P  drive_Y  \n",
       "132         0        1  \n",
       "191         0        1  \n",
       "193         0        1  \n",
       "319         0        1  \n",
       "496         0        1  \n",
       "498         0        1  \n",
       "508         0        1  \n",
       "597         0        1  \n",
       "598         0        1  \n",
       "655         0        1  \n",
       "767         0        1  \n",
       "897         0        1  \n",
       "921         0        1  \n",
       "947         0        1  \n",
       "1038        0        1  \n",
       "1072        0        1  \n",
       "1116        0        1  \n",
       "1527        0        1  \n",
       "1808        0        1  \n",
       "\n",
       "[19 rows x 81 columns]"
      ]
     },
     "execution_count": 54,
     "metadata": {},
     "output_type": "execute_result"
    }
   ],
   "source": [
    "ames[(ames['overall_qual'] == 10) & (ames['kitchen_score'] == 5) & (ames['ext_score'] == 5)]"
   ]
  },
  {
   "cell_type": "markdown",
   "metadata": {},
   "source": [
    "Now I want to pinpoint some homes that are average or below average in quality and comprable to my example of the 1600 sq ft home from [Fixer Upper S2 Ep.10](https://magnolia.com/our-show/episode-10-the-raggedy-ranch/)."
   ]
  },
  {
   "cell_type": "code",
   "execution_count": 55,
   "metadata": {},
   "outputs": [
    {
     "data": {
      "text/plain": [
       "324     168000\n",
       "342      85000\n",
       "617      87500\n",
       "676     118000\n",
       "982      65000\n",
       "1021    133000\n",
       "1022    133500\n",
       "1053    108000\n",
       "1247     50000\n",
       "1343    125000\n",
       "1391    150000\n",
       "1467    115000\n",
       "1567    153000\n",
       "1881    127000\n",
       "Name: saleprice, dtype: int64"
      ]
     },
     "execution_count": 55,
     "metadata": {},
     "output_type": "execute_result"
    }
   ],
   "source": [
    "ames[(ames['gr_liv_area']<1650) & (ames['gr_liv_area']>1450) & (ames['overall_qual'] < 5)]['saleprice']\n",
    "\n"
   ]
  },
  {
   "cell_type": "markdown",
   "metadata": {},
   "source": [
    "These houses look like good candidates:"
   ]
  },
  {
   "cell_type": "code",
   "execution_count": 56,
   "metadata": {},
   "outputs": [],
   "source": [
    "demo = ames.loc[[1022, 1053, 1945], :]"
   ]
  },
  {
   "cell_type": "markdown",
   "metadata": {},
   "source": [
    "Changing the overall quality to see how it change the price:"
   ]
  },
  {
   "cell_type": "code",
   "execution_count": 57,
   "metadata": {},
   "outputs": [],
   "source": [
    "demo.loc[:,'overall_qual'] = 10"
   ]
  },
  {
   "cell_type": "markdown",
   "metadata": {},
   "source": [
    "Now I'll make predictions with this change on just these houses:"
   ]
  },
  {
   "cell_type": "code",
   "execution_count": 58,
   "metadata": {},
   "outputs": [],
   "source": [
    "X_demo = demo[features_simple]"
   ]
  },
  {
   "cell_type": "code",
   "execution_count": 59,
   "metadata": {},
   "outputs": [],
   "source": [
    "demo_pred = simp_mlr.predict(X_demo)"
   ]
  },
  {
   "cell_type": "code",
   "execution_count": 60,
   "metadata": {},
   "outputs": [],
   "source": [
    "demo['prediction'] = demo_pred"
   ]
  },
  {
   "cell_type": "markdown",
   "metadata": {},
   "source": [
    "Here we can see the price chance dramatically for all three houses:"
   ]
  },
  {
   "cell_type": "code",
   "execution_count": 61,
   "metadata": {
    "scrolled": true
   },
   "outputs": [
    {
     "data": {
      "text/html": [
       "<div>\n",
       "<style scoped>\n",
       "    .dataframe tbody tr th:only-of-type {\n",
       "        vertical-align: middle;\n",
       "    }\n",
       "\n",
       "    .dataframe tbody tr th {\n",
       "        vertical-align: top;\n",
       "    }\n",
       "\n",
       "    .dataframe thead th {\n",
       "        text-align: right;\n",
       "    }\n",
       "</style>\n",
       "<table border=\"1\" class=\"dataframe\">\n",
       "  <thead>\n",
       "    <tr style=\"text-align: right;\">\n",
       "      <th></th>\n",
       "      <th>saleprice</th>\n",
       "      <th>prediction</th>\n",
       "    </tr>\n",
       "  </thead>\n",
       "  <tbody>\n",
       "    <tr>\n",
       "      <th>1022</th>\n",
       "      <td>133500</td>\n",
       "      <td>209131.516021</td>\n",
       "    </tr>\n",
       "    <tr>\n",
       "      <th>1053</th>\n",
       "      <td>108000</td>\n",
       "      <td>191483.874487</td>\n",
       "    </tr>\n",
       "    <tr>\n",
       "      <th>1945</th>\n",
       "      <td>119000</td>\n",
       "      <td>189728.241585</td>\n",
       "    </tr>\n",
       "  </tbody>\n",
       "</table>\n",
       "</div>"
      ],
      "text/plain": [
       "      saleprice     prediction\n",
       "1022     133500  209131.516021\n",
       "1053     108000  191483.874487\n",
       "1945     119000  189728.241585"
      ]
     },
     "execution_count": 61,
     "metadata": {},
     "output_type": "execute_result"
    }
   ],
   "source": [
    "demo[['saleprice', 'prediction']]"
   ]
  },
  {
   "cell_type": "markdown",
   "metadata": {},
   "source": [
    "Finally, I want to make sure that my model was somewhat accurate in predicting the original price of the home:"
   ]
  },
  {
   "cell_type": "code",
   "execution_count": 62,
   "metadata": {},
   "outputs": [],
   "source": [
    "original_prediction = simp_mlr.predict(X_simp)"
   ]
  },
  {
   "cell_type": "code",
   "execution_count": 63,
   "metadata": {},
   "outputs": [],
   "source": [
    "ames['model_prediction'] = original_prediction"
   ]
  },
  {
   "cell_type": "code",
   "execution_count": 64,
   "metadata": {},
   "outputs": [
    {
     "data": {
      "text/plain": [
       "saleprice           119000\n",
       "model_prediction    122798\n",
       "overall_qual             5\n",
       "Name: 1945, dtype: object"
      ]
     },
     "execution_count": 64,
     "metadata": {},
     "output_type": "execute_result"
    }
   ],
   "source": [
    "ames.loc[1945, ['saleprice', 'model_prediction', 'overall_qual']]"
   ]
  },
  {
   "cell_type": "code",
   "execution_count": 65,
   "metadata": {},
   "outputs": [
    {
     "data": {
      "text/plain": [
       "saleprice              108000\n",
       "model_prediction       111167\n",
       "overall_qual                4\n",
       "gr_liv_area              1510\n",
       "pid                 905480210\n",
       "Name: 1053, dtype: object"
      ]
     },
     "execution_count": 65,
     "metadata": {},
     "output_type": "execute_result"
    }
   ],
   "source": [
    "ames.loc[1053, ['saleprice', 'model_prediction', 'overall_qual', 'gr_liv_area', 'pid']]"
   ]
  },
  {
   "cell_type": "markdown",
   "metadata": {},
   "source": [
    "These two houses were fairly accurate in the first prediction so I'll use these in my presention"
   ]
  }
 ],
 "metadata": {
  "kernelspec": {
   "display_name": "Python 3",
   "language": "python",
   "name": "python3"
  },
  "language_info": {
   "codemirror_mode": {
    "name": "ipython",
    "version": 3
   },
   "file_extension": ".py",
   "mimetype": "text/x-python",
   "name": "python",
   "nbconvert_exporter": "python",
   "pygments_lexer": "ipython3",
   "version": "3.7.6"
  }
 },
 "nbformat": 4,
 "nbformat_minor": 4
}
